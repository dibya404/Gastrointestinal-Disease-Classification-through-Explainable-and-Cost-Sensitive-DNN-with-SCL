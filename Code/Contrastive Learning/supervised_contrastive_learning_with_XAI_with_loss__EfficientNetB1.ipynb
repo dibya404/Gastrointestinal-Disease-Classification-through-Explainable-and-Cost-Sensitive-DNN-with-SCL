{
  "cells": [
    {
      "cell_type": "markdown",
      "metadata": {
        "id": "BZyrxLWAoH6N"
      },
      "source": [
        "#Supervised Contrastive Learning\n",
        "\n",
        "[Supervised Contrastive Learning](https://arxiv.org/abs/2004.11362)\n",
        "(Prannay Khosla et al.) is a training methodology that outperforms\n",
        "supervised training with crossentropy on classification tasks.\n",
        "\n",
        "Essentially, training an image classification model with Supervised Contrastive\n",
        "Learning is performed in two phases:\n",
        "\n",
        "1. Training an encoder to learn to produce vector representations of input images such\n",
        "that representations of images in the same class will be more similar compared to\n",
        "representations of images in different classes.\n",
        "2. Training a classifier on top of the frozen encoder.\n",
        "\n",
        "Implementation by G. M. Shahariar Shibli"
      ]
    },
    {
      "cell_type": "markdown",
      "source": [
        "#Version and GPU check"
      ],
      "metadata": {
        "id": "hkv3AUhy6ioC"
      }
    },
    {
      "cell_type": "code",
      "source": [
        "import tensorflow as tf\n",
        "print(tf.__version__)"
      ],
      "metadata": {
        "colab": {
          "base_uri": "https://localhost:8080/"
        },
        "id": "M9O4YCpZFNqh",
        "outputId": "08f25445-b995-4c57-eb84-fde216bf09ed"
      },
      "execution_count": null,
      "outputs": [
        {
          "output_type": "stream",
          "name": "stdout",
          "text": [
            "2.11.0\n"
          ]
        }
      ]
    },
    {
      "cell_type": "code",
      "source": [
        "!nvidia-smi"
      ],
      "metadata": {
        "colab": {
          "base_uri": "https://localhost:8080/"
        },
        "id": "tvua2c3vFTir",
        "outputId": "a38cb678-8ff5-4501-e2e2-86088d073f17"
      },
      "execution_count": null,
      "outputs": [
        {
          "output_type": "stream",
          "name": "stdout",
          "text": [
            "Thu Mar 23 06:25:09 2023       \n",
            "+-----------------------------------------------------------------------------+\n",
            "| NVIDIA-SMI 525.85.12    Driver Version: 525.85.12    CUDA Version: 12.0     |\n",
            "|-------------------------------+----------------------+----------------------+\n",
            "| GPU  Name        Persistence-M| Bus-Id        Disp.A | Volatile Uncorr. ECC |\n",
            "| Fan  Temp  Perf  Pwr:Usage/Cap|         Memory-Usage | GPU-Util  Compute M. |\n",
            "|                               |                      |               MIG M. |\n",
            "|===============================+======================+======================|\n",
            "|   0  Tesla T4            Off  | 00000000:00:04.0 Off |                    0 |\n",
            "| N/A   54C    P0    29W /  70W |      0MiB / 15360MiB |      0%      Default |\n",
            "|                               |                      |                  N/A |\n",
            "+-------------------------------+----------------------+----------------------+\n",
            "                                                                               \n",
            "+-----------------------------------------------------------------------------+\n",
            "| Processes:                                                                  |\n",
            "|  GPU   GI   CI        PID   Type   Process name                  GPU Memory |\n",
            "|        ID   ID                                                   Usage      |\n",
            "|=============================================================================|\n",
            "|  No running processes found                                                 |\n",
            "+-----------------------------------------------------------------------------+\n"
          ]
        }
      ]
    },
    {
      "cell_type": "markdown",
      "source": [
        "#Installation"
      ],
      "metadata": {
        "id": "X_QmWT2U6pkL"
      }
    },
    {
      "cell_type": "code",
      "source": [
        "%%capture\n",
        "!pip3 install tensorflow-addons\n",
        "!pip3 install tf_keras_vis"
      ],
      "metadata": {
        "id": "bv29vA5qoYeH"
      },
      "execution_count": null,
      "outputs": []
    },
    {
      "cell_type": "markdown",
      "source": [
        "#Imports"
      ],
      "metadata": {
        "id": "F1E5-EdS6rnu"
      }
    },
    {
      "cell_type": "code",
      "execution_count": null,
      "metadata": {
        "id": "2XCoB3mVoH6O"
      },
      "outputs": [],
      "source": [
        "import tensorflow as tf\n",
        "import tensorflow_addons as tfa\n",
        "from tensorflow.keras.layers import *\n",
        "from tensorflow.keras.models import *\n",
        "from tensorflow import keras\n",
        "\n",
        "import matplotlib.pyplot as plt\n",
        "from imutils import paths\n",
        "from tqdm import tqdm\n",
        "import numpy as np\n",
        "import cv2\n",
        "import datetime\n",
        "import glob\n",
        "import os\n",
        "\n",
        "# Random seed fixation\n",
        "tf.random.set_seed(666)\n",
        "np.random.seed(666)"
      ]
    },
    {
      "cell_type": "markdown",
      "source": [
        "#Configurations"
      ],
      "metadata": {
        "id": "u8nRZxtq60Fn"
      }
    },
    {
      "cell_type": "code",
      "source": [
        "BATCH_SIZE = 64\n",
        "EPOCHS = 50\n",
        "CROP_TO = 224\n",
        "\n",
        "num_classes = 23\n",
        "input_shape = (224, 224, 3)\n",
        "\n",
        "LR = 2e-5\n",
        "shuffler = 1024"
      ],
      "metadata": {
        "id": "8vio_SJ962oo"
      },
      "execution_count": null,
      "outputs": []
    },
    {
      "cell_type": "markdown",
      "source": [
        "#Data Augmentation"
      ],
      "metadata": {
        "id": "ylOgBX047OQl"
      }
    },
    {
      "cell_type": "code",
      "source": [
        "def flip_random_crop(image):\n",
        "    # With random crops we also apply horizontal flipping.\n",
        "    image = tf.image.random_flip_left_right(image)\n",
        "    image = tf.image.random_crop(image, (CROP_TO, CROP_TO, 3))\n",
        "    return image\n",
        "\n",
        "def color_jitter(x, strength=[0.4, 0.4, 0.4, 0.1]):\n",
        "    x = tf.image.random_brightness(x, max_delta=0.8 * strength[0])\n",
        "    x = tf.image.random_contrast(\n",
        "        x, lower=1 - 0.8 * strength[1], upper=1 + 0.8 * strength[1]\n",
        "    )\n",
        "    x = tf.image.random_saturation(\n",
        "        x, lower=1 - 0.8 * strength[2], upper=1 + 0.8 * strength[2]\n",
        "    )\n",
        "    x = tf.image.random_hue(x, max_delta=0.2 * strength[3])\n",
        "    # Affine transformations can disturb the natural range of\n",
        "    # RGB images, hence this is needed.\n",
        "    x = tf.clip_by_value(x, 0, 255)\n",
        "    return x\n",
        "\n",
        "def color_drop(x):\n",
        "    x = tf.image.rgb_to_grayscale(x)\n",
        "    x = tf.tile(x, [1, 1, 3])\n",
        "    return x\n",
        "\n",
        "\n",
        "def random_apply(func, x, p):\n",
        "    if tf.random.uniform([], minval=0, maxval=1) < p:\n",
        "        return func(x)\n",
        "    else:\n",
        "        return x\n",
        "\n",
        "\n",
        "def custom_augment(image, label):\n",
        "    # As discussed in the SimCLR paper, the series of augmentation\n",
        "    # transformations (except for random crops) need to be applied\n",
        "    # randomly to impose translational invariance.\n",
        "    image = flip_random_crop(image)\n",
        "    image = random_apply(color_jitter, image, p=0.8)\n",
        "    image = random_apply(color_drop, image, p=0.2)\n",
        "    return image, label"
      ],
      "metadata": {
        "id": "rBMfcAM2-7Wk"
      },
      "execution_count": null,
      "outputs": []
    },
    {
      "cell_type": "markdown",
      "metadata": {
        "id": "d-O64920oH6P"
      },
      "source": [
        "# Data Processing"
      ]
    },
    {
      "cell_type": "code",
      "source": [
        "from google.colab import drive\n",
        "drive.mount('/content/drive')"
      ],
      "metadata": {
        "colab": {
          "base_uri": "https://localhost:8080/"
        },
        "id": "j14PfbgOImJi",
        "outputId": "13effb1e-b75d-4e61-cacc-45df0123ca36"
      },
      "execution_count": null,
      "outputs": [
        {
          "output_type": "stream",
          "name": "stdout",
          "text": [
            "Mounted at /content/drive\n"
          ]
        }
      ]
    },
    {
      "cell_type": "code",
      "source": [
        "cecum = glob.glob('/content/drive/MyDrive/ML/Classification/LOw/cecum/*.*')\n",
        "ileum = glob.glob('/content/drive/MyDrive/ML/Classification/LOw/ileum/*.*')\n",
        "retroflex_rectum = glob.glob('/content/drive/MyDrive/ML/Classification/LOw/retroflex_rectum/*.*')\n",
        "hemorrhoids = glob.glob('/content/drive/MyDrive/ML/Classification/LOw/hemorrhoids/*.*')\n",
        "polyps = glob.glob('/content/drive/MyDrive/ML/Classification/LOw/polyps/*.*')\n",
        "ulcerative_colitis_grade_0_1 = glob.glob('/content/drive/MyDrive/ML/Classification/LOw/ulcerative-colitis-grade-0-1/*.*')\n",
        "ulcerative_colitis_grade_1 = glob.glob('/content/drive/MyDrive/ML/Classification/LOw/ulcerative-colitis-grade-1/*.*')\n",
        "ulcerative_colitis_grade_1_2 = glob.glob('/content/drive/MyDrive/ML/Classification/LOw/ulcerative-colitis-grade-1-2/*.*')\n",
        "ulcerative_colitis_grade_2 = glob.glob('/content/drive/MyDrive/ML/Classification/LOw/ulcerative-colitis-grade-2/*.*')\n",
        "ulcerative_colitis_grade_2_3 = glob.glob('/content/drive/MyDrive/ML/Classification/LOw/ulcerative-colitis-grade-2-3/*.*')\n",
        "ulcerative_colitis_grade_3 = glob.glob('/content/drive/MyDrive/ML/Classification/LOw/ulcerative-colitis-grade-3/*.*')\n",
        "bbps_0_1 = glob.glob('/content/drive/MyDrive/ML/Classification/LOw/bbps-0-1/*.*')\n",
        "bbps_2_3 = glob.glob('/content/drive/MyDrive/ML/Classification/LOw/bbps-2-3/*.*')\n",
        "impacted_stool = glob.glob('/content/drive/MyDrive/ML/Classification/LOw/impacted-stool/*.*')\n",
        "dyed_lifted_polyps = glob.glob('/content/drive/MyDrive/ML/Classification/LOw/dyed-lifted-polyps/*.*')\n",
        "dyed_resection_margins = glob.glob('/content/drive/MyDrive/ML/Classification/LOw/dyed-resection-margins/*.*')\n",
        "pylorus = glob.glob('/content/drive/MyDrive/ML/Classification/LOw/pylorus/*.*')\n",
        "retroflex_stomach = glob.glob('/content/drive/MyDrive/ML/Classification/LOw/retroflex_stomach/*.*')\n",
        "z_line = glob.glob('/content/drive/MyDrive/ML/Classification/LOw/z_line/*.*')\n",
        "barretts = glob.glob('/content/drive/MyDrive/ML/Classification/LOw/barretts/*.*')\n",
        "barretts_short_segment = glob.glob('/content/drive/MyDrive/ML/Classification/LOw/barretts-short-segment/*.*')\n",
        "esophagitis_a = glob.glob('/content/drive/MyDrive/ML/Classification/LOw/esophagitis-a/*.*')\n",
        "esophagitis_b_d = glob.glob('/content/drive/MyDrive/ML/Classification/LOw/esophagitis-b-d/*.*')"
      ],
      "metadata": {
        "id": "WxwSEV77InMI"
      },
      "execution_count": null,
      "outputs": []
    },
    {
      "cell_type": "code",
      "source": [
        "dataset = {0 :cecum, 1:ileum, 2:retroflex_rectum, 3:hemorrhoids, 4:polyps,5:ulcerative_colitis_grade_0_1,6:ulcerative_colitis_grade_1,7:ulcerative_colitis_grade_1_2,8:ulcerative_colitis_grade_2,9:ulcerative_colitis_grade_2_3,10:ulcerative_colitis_grade_3,11:bbps_0_1 ,12:bbps_2_3,13:impacted_stool,14:dyed_lifted_polyps,15:dyed_resection_margins,16:pylorus,17:retroflex_stomach,18:z_line,19:barretts,20:barretts_short_segment,21:esophagitis_a ,22:esophagitis_b_d }"
      ],
      "metadata": {
        "id": "9Lq9HE1i9lRV"
      },
      "execution_count": null,
      "outputs": []
    },
    {
      "cell_type": "code",
      "source": [
        "def combineDataAndLabel(width, height, dataset):\n",
        "\n",
        "  data = []\n",
        "  labels = []\n",
        "  count = 0\n",
        "\n",
        "  for cls in dataset:\n",
        "      print(f\"\\n\\nconverting {cls} \\n\\n\")\n",
        "      for i in dataset[cls]:\n",
        "          print(f\"\\nconverting image:  {i}\")\n",
        "          image=tf.keras.preprocessing.image.load_img(i, color_mode='rgb',\n",
        "          target_size= (width,height))\n",
        "          image=np.array(image)\n",
        "          data.append(image)\n",
        "          count=count+1\n",
        "          labels.append(cls)\n",
        "      print(f\"\\n\\processed {count} images \\n\\n\")\n",
        "\n",
        "\n",
        "  # for i in cecum:\n",
        "  #     image=tf.keras.preprocessing.image.load_img(i, color_mode='rgb',\n",
        "  #     target_size= (width,height))\n",
        "  #     image=np.array(image)\n",
        "  #     data.append(image)\n",
        "  #     labels.append(0)\n",
        "\n",
        "  # for i in ileum:\n",
        "  #     image=tf.keras.preprocessing.image.load_img(i, color_mode='rgb',\n",
        "  #     target_size= (width,height))\n",
        "  #     image=np.array(image)\n",
        "  #     data.append(image)\n",
        "  #     labels.append(1)\n",
        "  # for i in pylorus:\n",
        "  #     image=tf.keras.preprocessing.image.load_img(i, color_mode='rgb',\n",
        "  #     target_size= (width,height))\n",
        "  #     image=np.array(image)\n",
        "  #     data.append(image)\n",
        "  #     labels.append(2)\n",
        "  # for i in retroflex_rectum:\n",
        "  #     image=tf.keras.preprocessing.image.load_img(i, color_mode='rgb',\n",
        "  #     target_size= (width,height))\n",
        "  #     image=np.array(image)\n",
        "  #     data.append(image)\n",
        "  #     labels.append(3)\n",
        "  # for i in retroflex_stomach:\n",
        "  #     image=tf.keras.preprocessing.image.load_img(i, color_mode='rgb',\n",
        "  #     target_size= (width,height))\n",
        "  #     image=np.array(image)\n",
        "  #     data.append(image)\n",
        "  #     labels.append(4)\n",
        "  # for i in z_line:\n",
        "  #     image=tf.keras.preprocessing.image.load_img(i, color_mode='rgb',\n",
        "  #     target_size= (width,height))\n",
        "  #     image=np.array(image)\n",
        "  #     data.append(image)\n",
        "  #     labels.append(5)\n",
        "\n",
        "  data = np.array(data)\n",
        "  labels = np.array(labels)\n",
        "\n",
        "  print(f\"\\n\\nSaving to drive\\n\\n\")\n",
        "  np.save('/content/drive/MyDrive/ML/combinedData_224', data)\n",
        "  np.save('/content/drive/MyDrive/ML/combinedLabels_224', labels)\n",
        "  print(f\"\\n\\nSaved\")\n",
        "\n",
        "  return data, labels\n"
      ],
      "metadata": {
        "id": "1bpOqAg2IsDz"
      },
      "execution_count": null,
      "outputs": []
    },
    {
      "cell_type": "code",
      "source": [
        "import os\n",
        "data = []\n",
        "labels = []\n",
        "if(os.path.isfile(\"/content/drive/MyDrive/ML/combinedData_224.npy\") and os.path.isfile(\"/content/drive/MyDrive/ML/combinedLabels_224.npy\")):\n",
        "  data = np.load(\"/content/drive/MyDrive/ML/combinedData_224.npy\")\n",
        "  labels = np.load(\"/content/drive/MyDrive/ML/combinedLabels_224.npy\")\n",
        "else:\n",
        "  data, labels = combineDataAndLabel(224,224,dataset)\n"
      ],
      "metadata": {
        "id": "_uYeX5ev9upF"
      },
      "execution_count": null,
      "outputs": []
    },
    {
      "cell_type": "code",
      "source": [
        "from sklearn.model_selection import train_test_split\n",
        "x_train, x_test, y_train, y_test = train_test_split(data, labels, test_size=0.2,\n",
        "                                                random_state=42,stratify = labels)"
      ],
      "metadata": {
        "id": "hHNOuE_09w7J"
      },
      "execution_count": null,
      "outputs": []
    },
    {
      "cell_type": "code",
      "execution_count": null,
      "metadata": {
        "id": "D0Kzh5jRoH6P",
        "outputId": "1009b160-bbea-4ac7-ab1a-45a4ef76b8f4",
        "colab": {
          "base_uri": "https://localhost:8080/"
        }
      },
      "outputs": [
        {
          "output_type": "stream",
          "name": "stdout",
          "text": [
            "x_train shape: (8529, 224, 224, 3) - y_train shape: (8529,)\n",
            "x_test shape: (2133, 224, 224, 3) - y_test shape: (2133,)\n"
          ]
        }
      ],
      "source": [
        "# Load data\n",
        "#(x_train, y_train), (x_test, y_test) = keras.datasets.cifar10.load_data()\n",
        "\n",
        "# Display shapes of train and test datasets\n",
        "print(f\"x_train shape: {x_train.shape} - y_train shape: {y_train.shape}\")\n",
        "print(f\"x_test shape: {x_test.shape} - y_test shape: {y_test.shape}\")\n"
      ]
    },
    {
      "cell_type": "code",
      "source": [
        "#contrastive training\n",
        "train_ds = tf.data.Dataset.from_tensor_slices((x_train, y_train))\n",
        "train_ds = (train_ds.shuffle(shuffler).map(custom_augment).batch(BATCH_SIZE))\n",
        "\n",
        "#cross-entropy training\n",
        "train_ds2 = tf.data.Dataset.from_tensor_slices((x_train, y_train)).shuffle(shuffler).batch(BATCH_SIZE)\n",
        "test_ds = tf.data.Dataset.from_tensor_slices((x_test, y_test)).shuffle(shuffler).batch(BATCH_SIZE)"
      ],
      "metadata": {
        "id": "8MmJS7Z0l1SE"
      },
      "execution_count": null,
      "outputs": []
    },
    {
      "cell_type": "markdown",
      "metadata": {
        "id": "oAW2SWEIoH6Q"
      },
      "source": [
        "#Contrastive Loss Functions\n",
        "\n",
        "Max Margin Loss, N pairs loss, Triplet loss, NT-XENT loss"
      ]
    },
    {
      "cell_type": "code",
      "source": [
        "def pdist_euclidean(A):\n",
        "    # Euclidean pdist\n",
        "    # https://stackoverflow.com/questions/37009647/compute-pairwise-distance-in-a-batch-without-replicating-tensor-in-tensorflow\n",
        "    r = tf.reduce_sum(A*A, 1)\n",
        "\n",
        "    # turn r into column vector\n",
        "    r = tf.reshape(r, [-1, 1])\n",
        "    D = r - 2*tf.matmul(A, tf.transpose(A)) + tf.transpose(r)\n",
        "    return tf.sqrt(D)\n",
        "\n",
        "\n",
        "#def square_to_vec(D):\n",
        "   #'''Convert a squared form pdist matrix to vector form.\n",
        "    #'''\n",
        " #   n = D.shape[0]\n",
        "  #  triu_idx = np.triu_indices(n, k=1)\n",
        "   # d_vec = tf.gather_nd(D, list(zip(triu_idx[0], triu_idx[1])))\n",
        "    #return d_vec\n",
        "def square_to_vec(D):\n",
        "    with tf.name_scope(\"square_to_vec\"):\n",
        "        n = D.shape[0]\n",
        "        triu_idx = np.triu_indices(n, k=1)\n",
        "        triu_idx_int = np.array(triu_idx).astype(np.int32)\n",
        "        d_vec = tf.gather_nd(D, list(zip(triu_idx_int[0], triu_idx_int[1])))\n",
        "        return d_vec\n",
        "\n",
        "\n",
        "def get_contrast_batch_labels(y):\n",
        "    '''\n",
        "    Make contrast labels by taking all the pairwise in y\n",
        "    y: tensor with shape: (batch_size, )\n",
        "    returns:\n",
        "        tensor with shape: (batch_size * (batch_size-1) // 2, )\n",
        "    '''\n",
        "    y_col_vec = tf.reshape(tf.cast(y, tf.float32), [-1, 1])\n",
        "    D_y = pdist_euclidean(y_col_vec)\n",
        "    d_y = square_to_vec(D_y)\n",
        "    y_contrasts = tf.cast(d_y == 0, tf.int32)\n",
        "    return y_contrasts\n",
        "\n",
        "\n",
        "def get_contrast_batch_labels_regression(y):\n",
        "    '''\n",
        "    Make contrast labels for regression by taking all the pairwise in y\n",
        "    y: tensor with shape: (batch_size, )\n",
        "    returns:\n",
        "        tensor with shape: (batch_size * (batch_size-1) // 2, )\n",
        "    '''\n",
        "    raise NotImplementedError\n",
        "\n",
        "\n",
        "def max_margin_contrastive_loss(z, y, margin=1.0, metric='euclidean'):\n",
        "    '''\n",
        "    Wrapper for the maximum margin contrastive loss (Hadsell et al. 2006)\n",
        "    `tfa.losses.contrastive_loss`\n",
        "    Args:\n",
        "        z: hidden vector of shape [bsz, n_features].\n",
        "        y: ground truth of shape [bsz].\n",
        "        metric: one of ('euclidean', 'cosine')\n",
        "    '''\n",
        "    # compute pair-wise distance matrix\n",
        "    if metric == 'euclidean':\n",
        "        D = pdist_euclidean(z)\n",
        "    elif metric == 'cosine':\n",
        "        D = 1 - tf.matmul(z, z, transpose_a=False, transpose_b=True)\n",
        "    # convert squareform matrix to vector form\n",
        "    d_vec = square_to_vec(D)\n",
        "    # make contrastive labels\n",
        "    y_contrasts = get_contrast_batch_labels(y)\n",
        "    loss = tfa.losses.contrastive_loss(y_contrasts, d_vec, margin=margin)\n",
        "    # exploding/varnishing gradients on large batch?\n",
        "    return tf.reduce_mean(loss)\n",
        "\n",
        "\n",
        "def multiclass_npairs_loss(z, y):\n",
        "    '''\n",
        "    Wrapper for the multiclass N-pair loss (Sohn 2016)\n",
        "    `tfa.losses.npairs_loss`\n",
        "    Args:\n",
        "        z: hidden vector of shape [bsz, n_features].\n",
        "        y: ground truth of shape [bsz].\n",
        "    '''\n",
        "    # cosine similarity matrix\n",
        "    S = tf.matmul(z, z, transpose_a=False, transpose_b=True)\n",
        "    loss = tfa.losses.npairs_loss(y, S)\n",
        "    return loss\n",
        "\n",
        "\n",
        "def triplet_loss(z, y, margin=1.0, kind='hard'):\n",
        "    '''\n",
        "    Wrapper for the triplet losses\n",
        "    `tfa.losses.triplet_hard_loss` and `tfa.losses.triplet_semihard_loss`\n",
        "    Args:\n",
        "        z: hidden vector of shape [bsz, n_features], assumes it is l2-normalized.\n",
        "        y: ground truth of shape [bsz].\n",
        "    '''\n",
        "    if kind == 'hard':\n",
        "        loss = tfa.losses.triplet_hard_loss(y, z, margin=margin, soft=False)\n",
        "    elif kind == 'soft':\n",
        "        loss = tfa.losses.triplet_hard_loss(y, z, margin=margin, soft=True)\n",
        "    elif kind == 'semihard':\n",
        "        loss = tfa.losses.triplet_semihard_loss(y, z, margin=margin)\n",
        "    return loss\n",
        "\n",
        "\n",
        "def supervised_nt_xent_loss(z, y, temperature=0.5, base_temperature=0.07):\n",
        "    '''\n",
        "    Supervised normalized temperature-scaled cross entropy loss.\n",
        "    A variant of Multi-class N-pair Loss from (Sohn 2016)\n",
        "    Later used in SimCLR (Chen et al. 2020, Khosla et al. 2020).\n",
        "    Implementation modified from:\n",
        "        - https://github.com/google-research/simclr/blob/master/objective.py\n",
        "        - https://github.com/HobbitLong/SupContrast/blob/master/losses.py\n",
        "    Args:\n",
        "        z: hidden vector of shape [bsz, n_features].\n",
        "        y: ground truth of shape [bsz].\n",
        "    '''\n",
        "    batch_size = tf.shape(z)[0]\n",
        "    contrast_count = 1\n",
        "    anchor_count = contrast_count\n",
        "    y = tf.expand_dims(y, -1)\n",
        "\n",
        "    # mask: contrastive mask of shape [bsz, bsz], mask_{i,j}=1 if sample j\n",
        "    #     has the same class as sample i. Can be asymmetric.\n",
        "    mask = tf.cast(tf.equal(y, tf.transpose(y)), tf.float32)\n",
        "    anchor_dot_contrast = tf.divide(\n",
        "        tf.matmul(z, tf.transpose(z)),\n",
        "        temperature\n",
        "    )\n",
        "    # # for numerical stability\n",
        "    logits_max = tf.reduce_max(anchor_dot_contrast, axis=1, keepdims=True)\n",
        "    logits = anchor_dot_contrast - logits_max\n",
        "    # # tile mask\n",
        "    logits_mask = tf.ones_like(mask) - tf.eye(batch_size)\n",
        "    mask = mask * logits_mask\n",
        "    # compute log_prob\n",
        "    exp_logits = tf.exp(logits) * logits_mask\n",
        "    log_prob = logits - \\\n",
        "        tf.math.log(tf.reduce_sum(exp_logits, axis=1, keepdims=True))\n",
        "\n",
        "    # compute mean of log-likelihood over positive\n",
        "    # this may introduce NaNs due to zero division,\n",
        "    # when a class only has one example in the batch\n",
        "    mask_sum = tf.reduce_sum(mask, axis=1)\n",
        "    mean_log_prob_pos = tf.reduce_sum(\n",
        "        mask * log_prob, axis=1)[mask_sum > 0] / mask_sum[mask_sum > 0]\n",
        "\n",
        "    # loss\n",
        "    loss = -(temperature / base_temperature) * mean_log_prob_pos\n",
        "    # loss = tf.reduce_mean(tf.reshape(loss, [anchor_count, batch_size]))\n",
        "    loss = tf.reduce_mean(loss)\n",
        "    return loss"
      ],
      "metadata": {
        "id": "03Qec3VnjkHh"
      },
      "execution_count": null,
      "outputs": []
    },
    {
      "cell_type": "markdown",
      "source": [
        "#Encoder with Contrastive Learning"
      ],
      "metadata": {
        "id": "Qjh5OtMt7913"
      }
    },
    {
      "cell_type": "code",
      "source": [
        "#Layer Batch Normalization\n",
        "class UnitNormLayer(tf.keras.layers.Layer):\n",
        "    '''Normalize vectors (euclidean norm) in batch to unit hypersphere.\n",
        "    '''\n",
        "\n",
        "    def __init__(self):\n",
        "        super(UnitNormLayer, self).__init__()\n",
        "\n",
        "    def call(self, input_tensor):\n",
        "        norm = tf.norm(input_tensor, axis=1)\n",
        "        return input_tensor / tf.reshape(norm, [-1, 1])"
      ],
      "metadata": {
        "id": "y26x2Yaan0jq"
      },
      "execution_count": null,
      "outputs": []
    },
    {
      "cell_type": "code",
      "source": [
        "# Encoder Architecture\n",
        "def get_resnet_simclr(hidden_1, hidden_2, hidden_3):\n",
        "    base_model = tf.keras.applications.EfficientNetB1(include_top=False, weights=None, input_shape=input_shape)\n",
        "    base_model.trainable = True\n",
        "    h = base_model.output\n",
        "    h = GlobalAveragePooling2D()(h)\n",
        "\n",
        "    projection_1 = Dense(hidden_1)(h)\n",
        "    projection_1 = Activation(\"relu\")(projection_1)\n",
        "    projection_2 = Dense(hidden_2)(projection_1)\n",
        "    projection_2 = Activation(\"relu\")(projection_2)\n",
        "    projection_3 = Dense(hidden_3)(projection_2)\n",
        "\n",
        "    normalized_embed = UnitNormLayer()(projection_3)\n",
        "\n",
        "    resnet_simclr = Model(base_model.inputs, normalized_embed)\n",
        "\n",
        "    return resnet_simclr"
      ],
      "metadata": {
        "id": "NzQEEp7BHgu4"
      },
      "execution_count": null,
      "outputs": []
    },
    {
      "cell_type": "code",
      "source": [
        "encoder_optimizer = tf.keras.optimizers.Adam(learning_rate=LR)\n",
        "model = get_resnet_simclr(512, 256, 128)"
      ],
      "metadata": {
        "id": "oabd9buOlSoI"
      },
      "execution_count": null,
      "outputs": []
    },
    {
      "cell_type": "code",
      "source": [
        "model.summary()"
      ],
      "metadata": {
        "id": "FgsWo9gL8lc3",
        "colab": {
          "base_uri": "https://localhost:8080/"
        },
        "outputId": "7731d2a4-8eb3-42f1-d47d-57d8a0152950"
      },
      "execution_count": null,
      "outputs": [
        {
          "output_type": "stream",
          "name": "stdout",
          "text": [
            "Model: \"model\"\n",
            "__________________________________________________________________________________________________\n",
            " Layer (type)                   Output Shape         Param #     Connected to                     \n",
            "==================================================================================================\n",
            " input_1 (InputLayer)           [(None, 224, 224, 3  0           []                               \n",
            "                                )]                                                                \n",
            "                                                                                                  \n",
            " rescaling (Rescaling)          (None, 224, 224, 3)  0           ['input_1[0][0]']                \n",
            "                                                                                                  \n",
            " normalization (Normalization)  (None, 224, 224, 3)  7           ['rescaling[0][0]']              \n",
            "                                                                                                  \n",
            " stem_conv_pad (ZeroPadding2D)  (None, 225, 225, 3)  0           ['normalization[0][0]']          \n",
            "                                                                                                  \n",
            " stem_conv (Conv2D)             (None, 112, 112, 32  864         ['stem_conv_pad[0][0]']          \n",
            "                                )                                                                 \n",
            "                                                                                                  \n",
            " stem_bn (BatchNormalization)   (None, 112, 112, 32  128         ['stem_conv[0][0]']              \n",
            "                                )                                                                 \n",
            "                                                                                                  \n",
            " stem_activation (Activation)   (None, 112, 112, 32  0           ['stem_bn[0][0]']                \n",
            "                                )                                                                 \n",
            "                                                                                                  \n",
            " block1a_dwconv (DepthwiseConv2  (None, 112, 112, 32  288        ['stem_activation[0][0]']        \n",
            " D)                             )                                                                 \n",
            "                                                                                                  \n",
            " block1a_bn (BatchNormalization  (None, 112, 112, 32  128        ['block1a_dwconv[0][0]']         \n",
            " )                              )                                                                 \n",
            "                                                                                                  \n",
            " block1a_activation (Activation  (None, 112, 112, 32  0          ['block1a_bn[0][0]']             \n",
            " )                              )                                                                 \n",
            "                                                                                                  \n",
            " block1a_se_squeeze (GlobalAver  (None, 32)          0           ['block1a_activation[0][0]']     \n",
            " agePooling2D)                                                                                    \n",
            "                                                                                                  \n",
            " block1a_se_reshape (Reshape)   (None, 1, 1, 32)     0           ['block1a_se_squeeze[0][0]']     \n",
            "                                                                                                  \n",
            " block1a_se_reduce (Conv2D)     (None, 1, 1, 8)      264         ['block1a_se_reshape[0][0]']     \n",
            "                                                                                                  \n",
            " block1a_se_expand (Conv2D)     (None, 1, 1, 32)     288         ['block1a_se_reduce[0][0]']      \n",
            "                                                                                                  \n",
            " block1a_se_excite (Multiply)   (None, 112, 112, 32  0           ['block1a_activation[0][0]',     \n",
            "                                )                                 'block1a_se_expand[0][0]']      \n",
            "                                                                                                  \n",
            " block1a_project_conv (Conv2D)  (None, 112, 112, 16  512         ['block1a_se_excite[0][0]']      \n",
            "                                )                                                                 \n",
            "                                                                                                  \n",
            " block1a_project_bn (BatchNorma  (None, 112, 112, 16  64         ['block1a_project_conv[0][0]']   \n",
            " lization)                      )                                                                 \n",
            "                                                                                                  \n",
            " block1b_dwconv (DepthwiseConv2  (None, 112, 112, 16  144        ['block1a_project_bn[0][0]']     \n",
            " D)                             )                                                                 \n",
            "                                                                                                  \n",
            " block1b_bn (BatchNormalization  (None, 112, 112, 16  64         ['block1b_dwconv[0][0]']         \n",
            " )                              )                                                                 \n",
            "                                                                                                  \n",
            " block1b_activation (Activation  (None, 112, 112, 16  0          ['block1b_bn[0][0]']             \n",
            " )                              )                                                                 \n",
            "                                                                                                  \n",
            " block1b_se_squeeze (GlobalAver  (None, 16)          0           ['block1b_activation[0][0]']     \n",
            " agePooling2D)                                                                                    \n",
            "                                                                                                  \n",
            " block1b_se_reshape (Reshape)   (None, 1, 1, 16)     0           ['block1b_se_squeeze[0][0]']     \n",
            "                                                                                                  \n",
            " block1b_se_reduce (Conv2D)     (None, 1, 1, 4)      68          ['block1b_se_reshape[0][0]']     \n",
            "                                                                                                  \n",
            " block1b_se_expand (Conv2D)     (None, 1, 1, 16)     80          ['block1b_se_reduce[0][0]']      \n",
            "                                                                                                  \n",
            " block1b_se_excite (Multiply)   (None, 112, 112, 16  0           ['block1b_activation[0][0]',     \n",
            "                                )                                 'block1b_se_expand[0][0]']      \n",
            "                                                                                                  \n",
            " block1b_project_conv (Conv2D)  (None, 112, 112, 16  256         ['block1b_se_excite[0][0]']      \n",
            "                                )                                                                 \n",
            "                                                                                                  \n",
            " block1b_project_bn (BatchNorma  (None, 112, 112, 16  64         ['block1b_project_conv[0][0]']   \n",
            " lization)                      )                                                                 \n",
            "                                                                                                  \n",
            " block1b_drop (Dropout)         (None, 112, 112, 16  0           ['block1b_project_bn[0][0]']     \n",
            "                                )                                                                 \n",
            "                                                                                                  \n",
            " block1b_add (Add)              (None, 112, 112, 16  0           ['block1b_drop[0][0]',           \n",
            "                                )                                 'block1a_project_bn[0][0]']     \n",
            "                                                                                                  \n",
            " block2a_expand_conv (Conv2D)   (None, 112, 112, 96  1536        ['block1b_add[0][0]']            \n",
            "                                )                                                                 \n",
            "                                                                                                  \n",
            " block2a_expand_bn (BatchNormal  (None, 112, 112, 96  384        ['block2a_expand_conv[0][0]']    \n",
            " ization)                       )                                                                 \n",
            "                                                                                                  \n",
            " block2a_expand_activation (Act  (None, 112, 112, 96  0          ['block2a_expand_bn[0][0]']      \n",
            " ivation)                       )                                                                 \n",
            "                                                                                                  \n",
            " block2a_dwconv_pad (ZeroPaddin  (None, 113, 113, 96  0          ['block2a_expand_activation[0][0]\n",
            " g2D)                           )                                ']                               \n",
            "                                                                                                  \n",
            " block2a_dwconv (DepthwiseConv2  (None, 56, 56, 96)  864         ['block2a_dwconv_pad[0][0]']     \n",
            " D)                                                                                               \n",
            "                                                                                                  \n",
            " block2a_bn (BatchNormalization  (None, 56, 56, 96)  384         ['block2a_dwconv[0][0]']         \n",
            " )                                                                                                \n",
            "                                                                                                  \n",
            " block2a_activation (Activation  (None, 56, 56, 96)  0           ['block2a_bn[0][0]']             \n",
            " )                                                                                                \n",
            "                                                                                                  \n",
            " block2a_se_squeeze (GlobalAver  (None, 96)          0           ['block2a_activation[0][0]']     \n",
            " agePooling2D)                                                                                    \n",
            "                                                                                                  \n",
            " block2a_se_reshape (Reshape)   (None, 1, 1, 96)     0           ['block2a_se_squeeze[0][0]']     \n",
            "                                                                                                  \n",
            " block2a_se_reduce (Conv2D)     (None, 1, 1, 4)      388         ['block2a_se_reshape[0][0]']     \n",
            "                                                                                                  \n",
            " block2a_se_expand (Conv2D)     (None, 1, 1, 96)     480         ['block2a_se_reduce[0][0]']      \n",
            "                                                                                                  \n",
            " block2a_se_excite (Multiply)   (None, 56, 56, 96)   0           ['block2a_activation[0][0]',     \n",
            "                                                                  'block2a_se_expand[0][0]']      \n",
            "                                                                                                  \n",
            " block2a_project_conv (Conv2D)  (None, 56, 56, 24)   2304        ['block2a_se_excite[0][0]']      \n",
            "                                                                                                  \n",
            " block2a_project_bn (BatchNorma  (None, 56, 56, 24)  96          ['block2a_project_conv[0][0]']   \n",
            " lization)                                                                                        \n",
            "                                                                                                  \n",
            " block2b_expand_conv (Conv2D)   (None, 56, 56, 144)  3456        ['block2a_project_bn[0][0]']     \n",
            "                                                                                                  \n",
            " block2b_expand_bn (BatchNormal  (None, 56, 56, 144)  576        ['block2b_expand_conv[0][0]']    \n",
            " ization)                                                                                         \n",
            "                                                                                                  \n",
            " block2b_expand_activation (Act  (None, 56, 56, 144)  0          ['block2b_expand_bn[0][0]']      \n",
            " ivation)                                                                                         \n",
            "                                                                                                  \n",
            " block2b_dwconv (DepthwiseConv2  (None, 56, 56, 144)  1296       ['block2b_expand_activation[0][0]\n",
            " D)                                                              ']                               \n",
            "                                                                                                  \n",
            " block2b_bn (BatchNormalization  (None, 56, 56, 144)  576        ['block2b_dwconv[0][0]']         \n",
            " )                                                                                                \n",
            "                                                                                                  \n",
            " block2b_activation (Activation  (None, 56, 56, 144)  0          ['block2b_bn[0][0]']             \n",
            " )                                                                                                \n",
            "                                                                                                  \n",
            " block2b_se_squeeze (GlobalAver  (None, 144)         0           ['block2b_activation[0][0]']     \n",
            " agePooling2D)                                                                                    \n",
            "                                                                                                  \n",
            " block2b_se_reshape (Reshape)   (None, 1, 1, 144)    0           ['block2b_se_squeeze[0][0]']     \n",
            "                                                                                                  \n",
            " block2b_se_reduce (Conv2D)     (None, 1, 1, 6)      870         ['block2b_se_reshape[0][0]']     \n",
            "                                                                                                  \n",
            " block2b_se_expand (Conv2D)     (None, 1, 1, 144)    1008        ['block2b_se_reduce[0][0]']      \n",
            "                                                                                                  \n",
            " block2b_se_excite (Multiply)   (None, 56, 56, 144)  0           ['block2b_activation[0][0]',     \n",
            "                                                                  'block2b_se_expand[0][0]']      \n",
            "                                                                                                  \n",
            " block2b_project_conv (Conv2D)  (None, 56, 56, 24)   3456        ['block2b_se_excite[0][0]']      \n",
            "                                                                                                  \n",
            " block2b_project_bn (BatchNorma  (None, 56, 56, 24)  96          ['block2b_project_conv[0][0]']   \n",
            " lization)                                                                                        \n",
            "                                                                                                  \n",
            " block2b_drop (Dropout)         (None, 56, 56, 24)   0           ['block2b_project_bn[0][0]']     \n",
            "                                                                                                  \n",
            " block2b_add (Add)              (None, 56, 56, 24)   0           ['block2b_drop[0][0]',           \n",
            "                                                                  'block2a_project_bn[0][0]']     \n",
            "                                                                                                  \n",
            " block2c_expand_conv (Conv2D)   (None, 56, 56, 144)  3456        ['block2b_add[0][0]']            \n",
            "                                                                                                  \n",
            " block2c_expand_bn (BatchNormal  (None, 56, 56, 144)  576        ['block2c_expand_conv[0][0]']    \n",
            " ization)                                                                                         \n",
            "                                                                                                  \n",
            " block2c_expand_activation (Act  (None, 56, 56, 144)  0          ['block2c_expand_bn[0][0]']      \n",
            " ivation)                                                                                         \n",
            "                                                                                                  \n",
            " block2c_dwconv (DepthwiseConv2  (None, 56, 56, 144)  1296       ['block2c_expand_activation[0][0]\n",
            " D)                                                              ']                               \n",
            "                                                                                                  \n",
            " block2c_bn (BatchNormalization  (None, 56, 56, 144)  576        ['block2c_dwconv[0][0]']         \n",
            " )                                                                                                \n",
            "                                                                                                  \n",
            " block2c_activation (Activation  (None, 56, 56, 144)  0          ['block2c_bn[0][0]']             \n",
            " )                                                                                                \n",
            "                                                                                                  \n",
            " block2c_se_squeeze (GlobalAver  (None, 144)         0           ['block2c_activation[0][0]']     \n",
            " agePooling2D)                                                                                    \n",
            "                                                                                                  \n",
            " block2c_se_reshape (Reshape)   (None, 1, 1, 144)    0           ['block2c_se_squeeze[0][0]']     \n",
            "                                                                                                  \n",
            " block2c_se_reduce (Conv2D)     (None, 1, 1, 6)      870         ['block2c_se_reshape[0][0]']     \n",
            "                                                                                                  \n",
            " block2c_se_expand (Conv2D)     (None, 1, 1, 144)    1008        ['block2c_se_reduce[0][0]']      \n",
            "                                                                                                  \n",
            " block2c_se_excite (Multiply)   (None, 56, 56, 144)  0           ['block2c_activation[0][0]',     \n",
            "                                                                  'block2c_se_expand[0][0]']      \n",
            "                                                                                                  \n",
            " block2c_project_conv (Conv2D)  (None, 56, 56, 24)   3456        ['block2c_se_excite[0][0]']      \n",
            "                                                                                                  \n",
            " block2c_project_bn (BatchNorma  (None, 56, 56, 24)  96          ['block2c_project_conv[0][0]']   \n",
            " lization)                                                                                        \n",
            "                                                                                                  \n",
            " block2c_drop (Dropout)         (None, 56, 56, 24)   0           ['block2c_project_bn[0][0]']     \n",
            "                                                                                                  \n",
            " block2c_add (Add)              (None, 56, 56, 24)   0           ['block2c_drop[0][0]',           \n",
            "                                                                  'block2b_add[0][0]']            \n",
            "                                                                                                  \n",
            " block3a_expand_conv (Conv2D)   (None, 56, 56, 144)  3456        ['block2c_add[0][0]']            \n",
            "                                                                                                  \n",
            " block3a_expand_bn (BatchNormal  (None, 56, 56, 144)  576        ['block3a_expand_conv[0][0]']    \n",
            " ization)                                                                                         \n",
            "                                                                                                  \n",
            " block3a_expand_activation (Act  (None, 56, 56, 144)  0          ['block3a_expand_bn[0][0]']      \n",
            " ivation)                                                                                         \n",
            "                                                                                                  \n",
            " block3a_dwconv_pad (ZeroPaddin  (None, 59, 59, 144)  0          ['block3a_expand_activation[0][0]\n",
            " g2D)                                                            ']                               \n",
            "                                                                                                  \n",
            " block3a_dwconv (DepthwiseConv2  (None, 28, 28, 144)  3600       ['block3a_dwconv_pad[0][0]']     \n",
            " D)                                                                                               \n",
            "                                                                                                  \n",
            " block3a_bn (BatchNormalization  (None, 28, 28, 144)  576        ['block3a_dwconv[0][0]']         \n",
            " )                                                                                                \n",
            "                                                                                                  \n",
            " block3a_activation (Activation  (None, 28, 28, 144)  0          ['block3a_bn[0][0]']             \n",
            " )                                                                                                \n",
            "                                                                                                  \n",
            " block3a_se_squeeze (GlobalAver  (None, 144)         0           ['block3a_activation[0][0]']     \n",
            " agePooling2D)                                                                                    \n",
            "                                                                                                  \n",
            " block3a_se_reshape (Reshape)   (None, 1, 1, 144)    0           ['block3a_se_squeeze[0][0]']     \n",
            "                                                                                                  \n",
            " block3a_se_reduce (Conv2D)     (None, 1, 1, 6)      870         ['block3a_se_reshape[0][0]']     \n",
            "                                                                                                  \n",
            " block3a_se_expand (Conv2D)     (None, 1, 1, 144)    1008        ['block3a_se_reduce[0][0]']      \n",
            "                                                                                                  \n",
            " block3a_se_excite (Multiply)   (None, 28, 28, 144)  0           ['block3a_activation[0][0]',     \n",
            "                                                                  'block3a_se_expand[0][0]']      \n",
            "                                                                                                  \n",
            " block3a_project_conv (Conv2D)  (None, 28, 28, 40)   5760        ['block3a_se_excite[0][0]']      \n",
            "                                                                                                  \n",
            " block3a_project_bn (BatchNorma  (None, 28, 28, 40)  160         ['block3a_project_conv[0][0]']   \n",
            " lization)                                                                                        \n",
            "                                                                                                  \n",
            " block3b_expand_conv (Conv2D)   (None, 28, 28, 240)  9600        ['block3a_project_bn[0][0]']     \n",
            "                                                                                                  \n",
            " block3b_expand_bn (BatchNormal  (None, 28, 28, 240)  960        ['block3b_expand_conv[0][0]']    \n",
            " ization)                                                                                         \n",
            "                                                                                                  \n",
            " block3b_expand_activation (Act  (None, 28, 28, 240)  0          ['block3b_expand_bn[0][0]']      \n",
            " ivation)                                                                                         \n",
            "                                                                                                  \n",
            " block3b_dwconv (DepthwiseConv2  (None, 28, 28, 240)  6000       ['block3b_expand_activation[0][0]\n",
            " D)                                                              ']                               \n",
            "                                                                                                  \n",
            " block3b_bn (BatchNormalization  (None, 28, 28, 240)  960        ['block3b_dwconv[0][0]']         \n",
            " )                                                                                                \n",
            "                                                                                                  \n",
            " block3b_activation (Activation  (None, 28, 28, 240)  0          ['block3b_bn[0][0]']             \n",
            " )                                                                                                \n",
            "                                                                                                  \n",
            " block3b_se_squeeze (GlobalAver  (None, 240)         0           ['block3b_activation[0][0]']     \n",
            " agePooling2D)                                                                                    \n",
            "                                                                                                  \n",
            " block3b_se_reshape (Reshape)   (None, 1, 1, 240)    0           ['block3b_se_squeeze[0][0]']     \n",
            "                                                                                                  \n",
            " block3b_se_reduce (Conv2D)     (None, 1, 1, 10)     2410        ['block3b_se_reshape[0][0]']     \n",
            "                                                                                                  \n",
            " block3b_se_expand (Conv2D)     (None, 1, 1, 240)    2640        ['block3b_se_reduce[0][0]']      \n",
            "                                                                                                  \n",
            " block3b_se_excite (Multiply)   (None, 28, 28, 240)  0           ['block3b_activation[0][0]',     \n",
            "                                                                  'block3b_se_expand[0][0]']      \n",
            "                                                                                                  \n",
            " block3b_project_conv (Conv2D)  (None, 28, 28, 40)   9600        ['block3b_se_excite[0][0]']      \n",
            "                                                                                                  \n",
            " block3b_project_bn (BatchNorma  (None, 28, 28, 40)  160         ['block3b_project_conv[0][0]']   \n",
            " lization)                                                                                        \n",
            "                                                                                                  \n",
            " block3b_drop (Dropout)         (None, 28, 28, 40)   0           ['block3b_project_bn[0][0]']     \n",
            "                                                                                                  \n",
            " block3b_add (Add)              (None, 28, 28, 40)   0           ['block3b_drop[0][0]',           \n",
            "                                                                  'block3a_project_bn[0][0]']     \n",
            "                                                                                                  \n",
            " block3c_expand_conv (Conv2D)   (None, 28, 28, 240)  9600        ['block3b_add[0][0]']            \n",
            "                                                                                                  \n",
            " block3c_expand_bn (BatchNormal  (None, 28, 28, 240)  960        ['block3c_expand_conv[0][0]']    \n",
            " ization)                                                                                         \n",
            "                                                                                                  \n",
            " block3c_expand_activation (Act  (None, 28, 28, 240)  0          ['block3c_expand_bn[0][0]']      \n",
            " ivation)                                                                                         \n",
            "                                                                                                  \n",
            " block3c_dwconv (DepthwiseConv2  (None, 28, 28, 240)  6000       ['block3c_expand_activation[0][0]\n",
            " D)                                                              ']                               \n",
            "                                                                                                  \n",
            " block3c_bn (BatchNormalization  (None, 28, 28, 240)  960        ['block3c_dwconv[0][0]']         \n",
            " )                                                                                                \n",
            "                                                                                                  \n",
            " block3c_activation (Activation  (None, 28, 28, 240)  0          ['block3c_bn[0][0]']             \n",
            " )                                                                                                \n",
            "                                                                                                  \n",
            " block3c_se_squeeze (GlobalAver  (None, 240)         0           ['block3c_activation[0][0]']     \n",
            " agePooling2D)                                                                                    \n",
            "                                                                                                  \n",
            " block3c_se_reshape (Reshape)   (None, 1, 1, 240)    0           ['block3c_se_squeeze[0][0]']     \n",
            "                                                                                                  \n",
            " block3c_se_reduce (Conv2D)     (None, 1, 1, 10)     2410        ['block3c_se_reshape[0][0]']     \n",
            "                                                                                                  \n",
            " block3c_se_expand (Conv2D)     (None, 1, 1, 240)    2640        ['block3c_se_reduce[0][0]']      \n",
            "                                                                                                  \n",
            " block3c_se_excite (Multiply)   (None, 28, 28, 240)  0           ['block3c_activation[0][0]',     \n",
            "                                                                  'block3c_se_expand[0][0]']      \n",
            "                                                                                                  \n",
            " block3c_project_conv (Conv2D)  (None, 28, 28, 40)   9600        ['block3c_se_excite[0][0]']      \n",
            "                                                                                                  \n",
            " block3c_project_bn (BatchNorma  (None, 28, 28, 40)  160         ['block3c_project_conv[0][0]']   \n",
            " lization)                                                                                        \n",
            "                                                                                                  \n",
            " block3c_drop (Dropout)         (None, 28, 28, 40)   0           ['block3c_project_bn[0][0]']     \n",
            "                                                                                                  \n",
            " block3c_add (Add)              (None, 28, 28, 40)   0           ['block3c_drop[0][0]',           \n",
            "                                                                  'block3b_add[0][0]']            \n",
            "                                                                                                  \n",
            " block4a_expand_conv (Conv2D)   (None, 28, 28, 240)  9600        ['block3c_add[0][0]']            \n",
            "                                                                                                  \n",
            " block4a_expand_bn (BatchNormal  (None, 28, 28, 240)  960        ['block4a_expand_conv[0][0]']    \n",
            " ization)                                                                                         \n",
            "                                                                                                  \n",
            " block4a_expand_activation (Act  (None, 28, 28, 240)  0          ['block4a_expand_bn[0][0]']      \n",
            " ivation)                                                                                         \n",
            "                                                                                                  \n",
            " block4a_dwconv_pad (ZeroPaddin  (None, 29, 29, 240)  0          ['block4a_expand_activation[0][0]\n",
            " g2D)                                                            ']                               \n",
            "                                                                                                  \n",
            " block4a_dwconv (DepthwiseConv2  (None, 14, 14, 240)  2160       ['block4a_dwconv_pad[0][0]']     \n",
            " D)                                                                                               \n",
            "                                                                                                  \n",
            " block4a_bn (BatchNormalization  (None, 14, 14, 240)  960        ['block4a_dwconv[0][0]']         \n",
            " )                                                                                                \n",
            "                                                                                                  \n",
            " block4a_activation (Activation  (None, 14, 14, 240)  0          ['block4a_bn[0][0]']             \n",
            " )                                                                                                \n",
            "                                                                                                  \n",
            " block4a_se_squeeze (GlobalAver  (None, 240)         0           ['block4a_activation[0][0]']     \n",
            " agePooling2D)                                                                                    \n",
            "                                                                                                  \n",
            " block4a_se_reshape (Reshape)   (None, 1, 1, 240)    0           ['block4a_se_squeeze[0][0]']     \n",
            "                                                                                                  \n",
            " block4a_se_reduce (Conv2D)     (None, 1, 1, 10)     2410        ['block4a_se_reshape[0][0]']     \n",
            "                                                                                                  \n",
            " block4a_se_expand (Conv2D)     (None, 1, 1, 240)    2640        ['block4a_se_reduce[0][0]']      \n",
            "                                                                                                  \n",
            " block4a_se_excite (Multiply)   (None, 14, 14, 240)  0           ['block4a_activation[0][0]',     \n",
            "                                                                  'block4a_se_expand[0][0]']      \n",
            "                                                                                                  \n",
            " block4a_project_conv (Conv2D)  (None, 14, 14, 80)   19200       ['block4a_se_excite[0][0]']      \n",
            "                                                                                                  \n",
            " block4a_project_bn (BatchNorma  (None, 14, 14, 80)  320         ['block4a_project_conv[0][0]']   \n",
            " lization)                                                                                        \n",
            "                                                                                                  \n",
            " block4b_expand_conv (Conv2D)   (None, 14, 14, 480)  38400       ['block4a_project_bn[0][0]']     \n",
            "                                                                                                  \n",
            " block4b_expand_bn (BatchNormal  (None, 14, 14, 480)  1920       ['block4b_expand_conv[0][0]']    \n",
            " ization)                                                                                         \n",
            "                                                                                                  \n",
            " block4b_expand_activation (Act  (None, 14, 14, 480)  0          ['block4b_expand_bn[0][0]']      \n",
            " ivation)                                                                                         \n",
            "                                                                                                  \n",
            " block4b_dwconv (DepthwiseConv2  (None, 14, 14, 480)  4320       ['block4b_expand_activation[0][0]\n",
            " D)                                                              ']                               \n",
            "                                                                                                  \n",
            " block4b_bn (BatchNormalization  (None, 14, 14, 480)  1920       ['block4b_dwconv[0][0]']         \n",
            " )                                                                                                \n",
            "                                                                                                  \n",
            " block4b_activation (Activation  (None, 14, 14, 480)  0          ['block4b_bn[0][0]']             \n",
            " )                                                                                                \n",
            "                                                                                                  \n",
            " block4b_se_squeeze (GlobalAver  (None, 480)         0           ['block4b_activation[0][0]']     \n",
            " agePooling2D)                                                                                    \n",
            "                                                                                                  \n",
            " block4b_se_reshape (Reshape)   (None, 1, 1, 480)    0           ['block4b_se_squeeze[0][0]']     \n",
            "                                                                                                  \n",
            " block4b_se_reduce (Conv2D)     (None, 1, 1, 20)     9620        ['block4b_se_reshape[0][0]']     \n",
            "                                                                                                  \n",
            " block4b_se_expand (Conv2D)     (None, 1, 1, 480)    10080       ['block4b_se_reduce[0][0]']      \n",
            "                                                                                                  \n",
            " block4b_se_excite (Multiply)   (None, 14, 14, 480)  0           ['block4b_activation[0][0]',     \n",
            "                                                                  'block4b_se_expand[0][0]']      \n",
            "                                                                                                  \n",
            " block4b_project_conv (Conv2D)  (None, 14, 14, 80)   38400       ['block4b_se_excite[0][0]']      \n",
            "                                                                                                  \n",
            " block4b_project_bn (BatchNorma  (None, 14, 14, 80)  320         ['block4b_project_conv[0][0]']   \n",
            " lization)                                                                                        \n",
            "                                                                                                  \n",
            " block4b_drop (Dropout)         (None, 14, 14, 80)   0           ['block4b_project_bn[0][0]']     \n",
            "                                                                                                  \n",
            " block4b_add (Add)              (None, 14, 14, 80)   0           ['block4b_drop[0][0]',           \n",
            "                                                                  'block4a_project_bn[0][0]']     \n",
            "                                                                                                  \n",
            " block4c_expand_conv (Conv2D)   (None, 14, 14, 480)  38400       ['block4b_add[0][0]']            \n",
            "                                                                                                  \n",
            " block4c_expand_bn (BatchNormal  (None, 14, 14, 480)  1920       ['block4c_expand_conv[0][0]']    \n",
            " ization)                                                                                         \n",
            "                                                                                                  \n",
            " block4c_expand_activation (Act  (None, 14, 14, 480)  0          ['block4c_expand_bn[0][0]']      \n",
            " ivation)                                                                                         \n",
            "                                                                                                  \n",
            " block4c_dwconv (DepthwiseConv2  (None, 14, 14, 480)  4320       ['block4c_expand_activation[0][0]\n",
            " D)                                                              ']                               \n",
            "                                                                                                  \n",
            " block4c_bn (BatchNormalization  (None, 14, 14, 480)  1920       ['block4c_dwconv[0][0]']         \n",
            " )                                                                                                \n",
            "                                                                                                  \n",
            " block4c_activation (Activation  (None, 14, 14, 480)  0          ['block4c_bn[0][0]']             \n",
            " )                                                                                                \n",
            "                                                                                                  \n",
            " block4c_se_squeeze (GlobalAver  (None, 480)         0           ['block4c_activation[0][0]']     \n",
            " agePooling2D)                                                                                    \n",
            "                                                                                                  \n",
            " block4c_se_reshape (Reshape)   (None, 1, 1, 480)    0           ['block4c_se_squeeze[0][0]']     \n",
            "                                                                                                  \n",
            " block4c_se_reduce (Conv2D)     (None, 1, 1, 20)     9620        ['block4c_se_reshape[0][0]']     \n",
            "                                                                                                  \n",
            " block4c_se_expand (Conv2D)     (None, 1, 1, 480)    10080       ['block4c_se_reduce[0][0]']      \n",
            "                                                                                                  \n",
            " block4c_se_excite (Multiply)   (None, 14, 14, 480)  0           ['block4c_activation[0][0]',     \n",
            "                                                                  'block4c_se_expand[0][0]']      \n",
            "                                                                                                  \n",
            " block4c_project_conv (Conv2D)  (None, 14, 14, 80)   38400       ['block4c_se_excite[0][0]']      \n",
            "                                                                                                  \n",
            " block4c_project_bn (BatchNorma  (None, 14, 14, 80)  320         ['block4c_project_conv[0][0]']   \n",
            " lization)                                                                                        \n",
            "                                                                                                  \n",
            " block4c_drop (Dropout)         (None, 14, 14, 80)   0           ['block4c_project_bn[0][0]']     \n",
            "                                                                                                  \n",
            " block4c_add (Add)              (None, 14, 14, 80)   0           ['block4c_drop[0][0]',           \n",
            "                                                                  'block4b_add[0][0]']            \n",
            "                                                                                                  \n",
            " block4d_expand_conv (Conv2D)   (None, 14, 14, 480)  38400       ['block4c_add[0][0]']            \n",
            "                                                                                                  \n",
            " block4d_expand_bn (BatchNormal  (None, 14, 14, 480)  1920       ['block4d_expand_conv[0][0]']    \n",
            " ization)                                                                                         \n",
            "                                                                                                  \n",
            " block4d_expand_activation (Act  (None, 14, 14, 480)  0          ['block4d_expand_bn[0][0]']      \n",
            " ivation)                                                                                         \n",
            "                                                                                                  \n",
            " block4d_dwconv (DepthwiseConv2  (None, 14, 14, 480)  4320       ['block4d_expand_activation[0][0]\n",
            " D)                                                              ']                               \n",
            "                                                                                                  \n",
            " block4d_bn (BatchNormalization  (None, 14, 14, 480)  1920       ['block4d_dwconv[0][0]']         \n",
            " )                                                                                                \n",
            "                                                                                                  \n",
            " block4d_activation (Activation  (None, 14, 14, 480)  0          ['block4d_bn[0][0]']             \n",
            " )                                                                                                \n",
            "                                                                                                  \n",
            " block4d_se_squeeze (GlobalAver  (None, 480)         0           ['block4d_activation[0][0]']     \n",
            " agePooling2D)                                                                                    \n",
            "                                                                                                  \n",
            " block4d_se_reshape (Reshape)   (None, 1, 1, 480)    0           ['block4d_se_squeeze[0][0]']     \n",
            "                                                                                                  \n",
            " block4d_se_reduce (Conv2D)     (None, 1, 1, 20)     9620        ['block4d_se_reshape[0][0]']     \n",
            "                                                                                                  \n",
            " block4d_se_expand (Conv2D)     (None, 1, 1, 480)    10080       ['block4d_se_reduce[0][0]']      \n",
            "                                                                                                  \n",
            " block4d_se_excite (Multiply)   (None, 14, 14, 480)  0           ['block4d_activation[0][0]',     \n",
            "                                                                  'block4d_se_expand[0][0]']      \n",
            "                                                                                                  \n",
            " block4d_project_conv (Conv2D)  (None, 14, 14, 80)   38400       ['block4d_se_excite[0][0]']      \n",
            "                                                                                                  \n",
            " block4d_project_bn (BatchNorma  (None, 14, 14, 80)  320         ['block4d_project_conv[0][0]']   \n",
            " lization)                                                                                        \n",
            "                                                                                                  \n",
            " block4d_drop (Dropout)         (None, 14, 14, 80)   0           ['block4d_project_bn[0][0]']     \n",
            "                                                                                                  \n",
            " block4d_add (Add)              (None, 14, 14, 80)   0           ['block4d_drop[0][0]',           \n",
            "                                                                  'block4c_add[0][0]']            \n",
            "                                                                                                  \n",
            " block5a_expand_conv (Conv2D)   (None, 14, 14, 480)  38400       ['block4d_add[0][0]']            \n",
            "                                                                                                  \n",
            " block5a_expand_bn (BatchNormal  (None, 14, 14, 480)  1920       ['block5a_expand_conv[0][0]']    \n",
            " ization)                                                                                         \n",
            "                                                                                                  \n",
            " block5a_expand_activation (Act  (None, 14, 14, 480)  0          ['block5a_expand_bn[0][0]']      \n",
            " ivation)                                                                                         \n",
            "                                                                                                  \n",
            " block5a_dwconv (DepthwiseConv2  (None, 14, 14, 480)  12000      ['block5a_expand_activation[0][0]\n",
            " D)                                                              ']                               \n",
            "                                                                                                  \n",
            " block5a_bn (BatchNormalization  (None, 14, 14, 480)  1920       ['block5a_dwconv[0][0]']         \n",
            " )                                                                                                \n",
            "                                                                                                  \n",
            " block5a_activation (Activation  (None, 14, 14, 480)  0          ['block5a_bn[0][0]']             \n",
            " )                                                                                                \n",
            "                                                                                                  \n",
            " block5a_se_squeeze (GlobalAver  (None, 480)         0           ['block5a_activation[0][0]']     \n",
            " agePooling2D)                                                                                    \n",
            "                                                                                                  \n",
            " block5a_se_reshape (Reshape)   (None, 1, 1, 480)    0           ['block5a_se_squeeze[0][0]']     \n",
            "                                                                                                  \n",
            " block5a_se_reduce (Conv2D)     (None, 1, 1, 20)     9620        ['block5a_se_reshape[0][0]']     \n",
            "                                                                                                  \n",
            " block5a_se_expand (Conv2D)     (None, 1, 1, 480)    10080       ['block5a_se_reduce[0][0]']      \n",
            "                                                                                                  \n",
            " block5a_se_excite (Multiply)   (None, 14, 14, 480)  0           ['block5a_activation[0][0]',     \n",
            "                                                                  'block5a_se_expand[0][0]']      \n",
            "                                                                                                  \n",
            " block5a_project_conv (Conv2D)  (None, 14, 14, 112)  53760       ['block5a_se_excite[0][0]']      \n",
            "                                                                                                  \n",
            " block5a_project_bn (BatchNorma  (None, 14, 14, 112)  448        ['block5a_project_conv[0][0]']   \n",
            " lization)                                                                                        \n",
            "                                                                                                  \n",
            " block5b_expand_conv (Conv2D)   (None, 14, 14, 672)  75264       ['block5a_project_bn[0][0]']     \n",
            "                                                                                                  \n",
            " block5b_expand_bn (BatchNormal  (None, 14, 14, 672)  2688       ['block5b_expand_conv[0][0]']    \n",
            " ization)                                                                                         \n",
            "                                                                                                  \n",
            " block5b_expand_activation (Act  (None, 14, 14, 672)  0          ['block5b_expand_bn[0][0]']      \n",
            " ivation)                                                                                         \n",
            "                                                                                                  \n",
            " block5b_dwconv (DepthwiseConv2  (None, 14, 14, 672)  16800      ['block5b_expand_activation[0][0]\n",
            " D)                                                              ']                               \n",
            "                                                                                                  \n",
            " block5b_bn (BatchNormalization  (None, 14, 14, 672)  2688       ['block5b_dwconv[0][0]']         \n",
            " )                                                                                                \n",
            "                                                                                                  \n",
            " block5b_activation (Activation  (None, 14, 14, 672)  0          ['block5b_bn[0][0]']             \n",
            " )                                                                                                \n",
            "                                                                                                  \n",
            " block5b_se_squeeze (GlobalAver  (None, 672)         0           ['block5b_activation[0][0]']     \n",
            " agePooling2D)                                                                                    \n",
            "                                                                                                  \n",
            " block5b_se_reshape (Reshape)   (None, 1, 1, 672)    0           ['block5b_se_squeeze[0][0]']     \n",
            "                                                                                                  \n",
            " block5b_se_reduce (Conv2D)     (None, 1, 1, 28)     18844       ['block5b_se_reshape[0][0]']     \n",
            "                                                                                                  \n",
            " block5b_se_expand (Conv2D)     (None, 1, 1, 672)    19488       ['block5b_se_reduce[0][0]']      \n",
            "                                                                                                  \n",
            " block5b_se_excite (Multiply)   (None, 14, 14, 672)  0           ['block5b_activation[0][0]',     \n",
            "                                                                  'block5b_se_expand[0][0]']      \n",
            "                                                                                                  \n",
            " block5b_project_conv (Conv2D)  (None, 14, 14, 112)  75264       ['block5b_se_excite[0][0]']      \n",
            "                                                                                                  \n",
            " block5b_project_bn (BatchNorma  (None, 14, 14, 112)  448        ['block5b_project_conv[0][0]']   \n",
            " lization)                                                                                        \n",
            "                                                                                                  \n",
            " block5b_drop (Dropout)         (None, 14, 14, 112)  0           ['block5b_project_bn[0][0]']     \n",
            "                                                                                                  \n",
            " block5b_add (Add)              (None, 14, 14, 112)  0           ['block5b_drop[0][0]',           \n",
            "                                                                  'block5a_project_bn[0][0]']     \n",
            "                                                                                                  \n",
            " block5c_expand_conv (Conv2D)   (None, 14, 14, 672)  75264       ['block5b_add[0][0]']            \n",
            "                                                                                                  \n",
            " block5c_expand_bn (BatchNormal  (None, 14, 14, 672)  2688       ['block5c_expand_conv[0][0]']    \n",
            " ization)                                                                                         \n",
            "                                                                                                  \n",
            " block5c_expand_activation (Act  (None, 14, 14, 672)  0          ['block5c_expand_bn[0][0]']      \n",
            " ivation)                                                                                         \n",
            "                                                                                                  \n",
            " block5c_dwconv (DepthwiseConv2  (None, 14, 14, 672)  16800      ['block5c_expand_activation[0][0]\n",
            " D)                                                              ']                               \n",
            "                                                                                                  \n",
            " block5c_bn (BatchNormalization  (None, 14, 14, 672)  2688       ['block5c_dwconv[0][0]']         \n",
            " )                                                                                                \n",
            "                                                                                                  \n",
            " block5c_activation (Activation  (None, 14, 14, 672)  0          ['block5c_bn[0][0]']             \n",
            " )                                                                                                \n",
            "                                                                                                  \n",
            " block5c_se_squeeze (GlobalAver  (None, 672)         0           ['block5c_activation[0][0]']     \n",
            " agePooling2D)                                                                                    \n",
            "                                                                                                  \n",
            " block5c_se_reshape (Reshape)   (None, 1, 1, 672)    0           ['block5c_se_squeeze[0][0]']     \n",
            "                                                                                                  \n",
            " block5c_se_reduce (Conv2D)     (None, 1, 1, 28)     18844       ['block5c_se_reshape[0][0]']     \n",
            "                                                                                                  \n",
            " block5c_se_expand (Conv2D)     (None, 1, 1, 672)    19488       ['block5c_se_reduce[0][0]']      \n",
            "                                                                                                  \n",
            " block5c_se_excite (Multiply)   (None, 14, 14, 672)  0           ['block5c_activation[0][0]',     \n",
            "                                                                  'block5c_se_expand[0][0]']      \n",
            "                                                                                                  \n",
            " block5c_project_conv (Conv2D)  (None, 14, 14, 112)  75264       ['block5c_se_excite[0][0]']      \n",
            "                                                                                                  \n",
            " block5c_project_bn (BatchNorma  (None, 14, 14, 112)  448        ['block5c_project_conv[0][0]']   \n",
            " lization)                                                                                        \n",
            "                                                                                                  \n",
            " block5c_drop (Dropout)         (None, 14, 14, 112)  0           ['block5c_project_bn[0][0]']     \n",
            "                                                                                                  \n",
            " block5c_add (Add)              (None, 14, 14, 112)  0           ['block5c_drop[0][0]',           \n",
            "                                                                  'block5b_add[0][0]']            \n",
            "                                                                                                  \n",
            " block5d_expand_conv (Conv2D)   (None, 14, 14, 672)  75264       ['block5c_add[0][0]']            \n",
            "                                                                                                  \n",
            " block5d_expand_bn (BatchNormal  (None, 14, 14, 672)  2688       ['block5d_expand_conv[0][0]']    \n",
            " ization)                                                                                         \n",
            "                                                                                                  \n",
            " block5d_expand_activation (Act  (None, 14, 14, 672)  0          ['block5d_expand_bn[0][0]']      \n",
            " ivation)                                                                                         \n",
            "                                                                                                  \n",
            " block5d_dwconv (DepthwiseConv2  (None, 14, 14, 672)  16800      ['block5d_expand_activation[0][0]\n",
            " D)                                                              ']                               \n",
            "                                                                                                  \n",
            " block5d_bn (BatchNormalization  (None, 14, 14, 672)  2688       ['block5d_dwconv[0][0]']         \n",
            " )                                                                                                \n",
            "                                                                                                  \n",
            " block5d_activation (Activation  (None, 14, 14, 672)  0          ['block5d_bn[0][0]']             \n",
            " )                                                                                                \n",
            "                                                                                                  \n",
            " block5d_se_squeeze (GlobalAver  (None, 672)         0           ['block5d_activation[0][0]']     \n",
            " agePooling2D)                                                                                    \n",
            "                                                                                                  \n",
            " block5d_se_reshape (Reshape)   (None, 1, 1, 672)    0           ['block5d_se_squeeze[0][0]']     \n",
            "                                                                                                  \n",
            " block5d_se_reduce (Conv2D)     (None, 1, 1, 28)     18844       ['block5d_se_reshape[0][0]']     \n",
            "                                                                                                  \n",
            " block5d_se_expand (Conv2D)     (None, 1, 1, 672)    19488       ['block5d_se_reduce[0][0]']      \n",
            "                                                                                                  \n",
            " block5d_se_excite (Multiply)   (None, 14, 14, 672)  0           ['block5d_activation[0][0]',     \n",
            "                                                                  'block5d_se_expand[0][0]']      \n",
            "                                                                                                  \n",
            " block5d_project_conv (Conv2D)  (None, 14, 14, 112)  75264       ['block5d_se_excite[0][0]']      \n",
            "                                                                                                  \n",
            " block5d_project_bn (BatchNorma  (None, 14, 14, 112)  448        ['block5d_project_conv[0][0]']   \n",
            " lization)                                                                                        \n",
            "                                                                                                  \n",
            " block5d_drop (Dropout)         (None, 14, 14, 112)  0           ['block5d_project_bn[0][0]']     \n",
            "                                                                                                  \n",
            " block5d_add (Add)              (None, 14, 14, 112)  0           ['block5d_drop[0][0]',           \n",
            "                                                                  'block5c_add[0][0]']            \n",
            "                                                                                                  \n",
            " block6a_expand_conv (Conv2D)   (None, 14, 14, 672)  75264       ['block5d_add[0][0]']            \n",
            "                                                                                                  \n",
            " block6a_expand_bn (BatchNormal  (None, 14, 14, 672)  2688       ['block6a_expand_conv[0][0]']    \n",
            " ization)                                                                                         \n",
            "                                                                                                  \n",
            " block6a_expand_activation (Act  (None, 14, 14, 672)  0          ['block6a_expand_bn[0][0]']      \n",
            " ivation)                                                                                         \n",
            "                                                                                                  \n",
            " block6a_dwconv_pad (ZeroPaddin  (None, 17, 17, 672)  0          ['block6a_expand_activation[0][0]\n",
            " g2D)                                                            ']                               \n",
            "                                                                                                  \n",
            " block6a_dwconv (DepthwiseConv2  (None, 7, 7, 672)   16800       ['block6a_dwconv_pad[0][0]']     \n",
            " D)                                                                                               \n",
            "                                                                                                  \n",
            " block6a_bn (BatchNormalization  (None, 7, 7, 672)   2688        ['block6a_dwconv[0][0]']         \n",
            " )                                                                                                \n",
            "                                                                                                  \n",
            " block6a_activation (Activation  (None, 7, 7, 672)   0           ['block6a_bn[0][0]']             \n",
            " )                                                                                                \n",
            "                                                                                                  \n",
            " block6a_se_squeeze (GlobalAver  (None, 672)         0           ['block6a_activation[0][0]']     \n",
            " agePooling2D)                                                                                    \n",
            "                                                                                                  \n",
            " block6a_se_reshape (Reshape)   (None, 1, 1, 672)    0           ['block6a_se_squeeze[0][0]']     \n",
            "                                                                                                  \n",
            " block6a_se_reduce (Conv2D)     (None, 1, 1, 28)     18844       ['block6a_se_reshape[0][0]']     \n",
            "                                                                                                  \n",
            " block6a_se_expand (Conv2D)     (None, 1, 1, 672)    19488       ['block6a_se_reduce[0][0]']      \n",
            "                                                                                                  \n",
            " block6a_se_excite (Multiply)   (None, 7, 7, 672)    0           ['block6a_activation[0][0]',     \n",
            "                                                                  'block6a_se_expand[0][0]']      \n",
            "                                                                                                  \n",
            " block6a_project_conv (Conv2D)  (None, 7, 7, 192)    129024      ['block6a_se_excite[0][0]']      \n",
            "                                                                                                  \n",
            " block6a_project_bn (BatchNorma  (None, 7, 7, 192)   768         ['block6a_project_conv[0][0]']   \n",
            " lization)                                                                                        \n",
            "                                                                                                  \n",
            " block6b_expand_conv (Conv2D)   (None, 7, 7, 1152)   221184      ['block6a_project_bn[0][0]']     \n",
            "                                                                                                  \n",
            " block6b_expand_bn (BatchNormal  (None, 7, 7, 1152)  4608        ['block6b_expand_conv[0][0]']    \n",
            " ization)                                                                                         \n",
            "                                                                                                  \n",
            " block6b_expand_activation (Act  (None, 7, 7, 1152)  0           ['block6b_expand_bn[0][0]']      \n",
            " ivation)                                                                                         \n",
            "                                                                                                  \n",
            " block6b_dwconv (DepthwiseConv2  (None, 7, 7, 1152)  28800       ['block6b_expand_activation[0][0]\n",
            " D)                                                              ']                               \n",
            "                                                                                                  \n",
            " block6b_bn (BatchNormalization  (None, 7, 7, 1152)  4608        ['block6b_dwconv[0][0]']         \n",
            " )                                                                                                \n",
            "                                                                                                  \n",
            " block6b_activation (Activation  (None, 7, 7, 1152)  0           ['block6b_bn[0][0]']             \n",
            " )                                                                                                \n",
            "                                                                                                  \n",
            " block6b_se_squeeze (GlobalAver  (None, 1152)        0           ['block6b_activation[0][0]']     \n",
            " agePooling2D)                                                                                    \n",
            "                                                                                                  \n",
            " block6b_se_reshape (Reshape)   (None, 1, 1, 1152)   0           ['block6b_se_squeeze[0][0]']     \n",
            "                                                                                                  \n",
            " block6b_se_reduce (Conv2D)     (None, 1, 1, 48)     55344       ['block6b_se_reshape[0][0]']     \n",
            "                                                                                                  \n",
            " block6b_se_expand (Conv2D)     (None, 1, 1, 1152)   56448       ['block6b_se_reduce[0][0]']      \n",
            "                                                                                                  \n",
            " block6b_se_excite (Multiply)   (None, 7, 7, 1152)   0           ['block6b_activation[0][0]',     \n",
            "                                                                  'block6b_se_expand[0][0]']      \n",
            "                                                                                                  \n",
            " block6b_project_conv (Conv2D)  (None, 7, 7, 192)    221184      ['block6b_se_excite[0][0]']      \n",
            "                                                                                                  \n",
            " block6b_project_bn (BatchNorma  (None, 7, 7, 192)   768         ['block6b_project_conv[0][0]']   \n",
            " lization)                                                                                        \n",
            "                                                                                                  \n",
            " block6b_drop (Dropout)         (None, 7, 7, 192)    0           ['block6b_project_bn[0][0]']     \n",
            "                                                                                                  \n",
            " block6b_add (Add)              (None, 7, 7, 192)    0           ['block6b_drop[0][0]',           \n",
            "                                                                  'block6a_project_bn[0][0]']     \n",
            "                                                                                                  \n",
            " block6c_expand_conv (Conv2D)   (None, 7, 7, 1152)   221184      ['block6b_add[0][0]']            \n",
            "                                                                                                  \n",
            " block6c_expand_bn (BatchNormal  (None, 7, 7, 1152)  4608        ['block6c_expand_conv[0][0]']    \n",
            " ization)                                                                                         \n",
            "                                                                                                  \n",
            " block6c_expand_activation (Act  (None, 7, 7, 1152)  0           ['block6c_expand_bn[0][0]']      \n",
            " ivation)                                                                                         \n",
            "                                                                                                  \n",
            " block6c_dwconv (DepthwiseConv2  (None, 7, 7, 1152)  28800       ['block6c_expand_activation[0][0]\n",
            " D)                                                              ']                               \n",
            "                                                                                                  \n",
            " block6c_bn (BatchNormalization  (None, 7, 7, 1152)  4608        ['block6c_dwconv[0][0]']         \n",
            " )                                                                                                \n",
            "                                                                                                  \n",
            " block6c_activation (Activation  (None, 7, 7, 1152)  0           ['block6c_bn[0][0]']             \n",
            " )                                                                                                \n",
            "                                                                                                  \n",
            " block6c_se_squeeze (GlobalAver  (None, 1152)        0           ['block6c_activation[0][0]']     \n",
            " agePooling2D)                                                                                    \n",
            "                                                                                                  \n",
            " block6c_se_reshape (Reshape)   (None, 1, 1, 1152)   0           ['block6c_se_squeeze[0][0]']     \n",
            "                                                                                                  \n",
            " block6c_se_reduce (Conv2D)     (None, 1, 1, 48)     55344       ['block6c_se_reshape[0][0]']     \n",
            "                                                                                                  \n",
            " block6c_se_expand (Conv2D)     (None, 1, 1, 1152)   56448       ['block6c_se_reduce[0][0]']      \n",
            "                                                                                                  \n",
            " block6c_se_excite (Multiply)   (None, 7, 7, 1152)   0           ['block6c_activation[0][0]',     \n",
            "                                                                  'block6c_se_expand[0][0]']      \n",
            "                                                                                                  \n",
            " block6c_project_conv (Conv2D)  (None, 7, 7, 192)    221184      ['block6c_se_excite[0][0]']      \n",
            "                                                                                                  \n",
            " block6c_project_bn (BatchNorma  (None, 7, 7, 192)   768         ['block6c_project_conv[0][0]']   \n",
            " lization)                                                                                        \n",
            "                                                                                                  \n",
            " block6c_drop (Dropout)         (None, 7, 7, 192)    0           ['block6c_project_bn[0][0]']     \n",
            "                                                                                                  \n",
            " block6c_add (Add)              (None, 7, 7, 192)    0           ['block6c_drop[0][0]',           \n",
            "                                                                  'block6b_add[0][0]']            \n",
            "                                                                                                  \n",
            " block6d_expand_conv (Conv2D)   (None, 7, 7, 1152)   221184      ['block6c_add[0][0]']            \n",
            "                                                                                                  \n",
            " block6d_expand_bn (BatchNormal  (None, 7, 7, 1152)  4608        ['block6d_expand_conv[0][0]']    \n",
            " ization)                                                                                         \n",
            "                                                                                                  \n",
            " block6d_expand_activation (Act  (None, 7, 7, 1152)  0           ['block6d_expand_bn[0][0]']      \n",
            " ivation)                                                                                         \n",
            "                                                                                                  \n",
            " block6d_dwconv (DepthwiseConv2  (None, 7, 7, 1152)  28800       ['block6d_expand_activation[0][0]\n",
            " D)                                                              ']                               \n",
            "                                                                                                  \n",
            " block6d_bn (BatchNormalization  (None, 7, 7, 1152)  4608        ['block6d_dwconv[0][0]']         \n",
            " )                                                                                                \n",
            "                                                                                                  \n",
            " block6d_activation (Activation  (None, 7, 7, 1152)  0           ['block6d_bn[0][0]']             \n",
            " )                                                                                                \n",
            "                                                                                                  \n",
            " block6d_se_squeeze (GlobalAver  (None, 1152)        0           ['block6d_activation[0][0]']     \n",
            " agePooling2D)                                                                                    \n",
            "                                                                                                  \n",
            " block6d_se_reshape (Reshape)   (None, 1, 1, 1152)   0           ['block6d_se_squeeze[0][0]']     \n",
            "                                                                                                  \n",
            " block6d_se_reduce (Conv2D)     (None, 1, 1, 48)     55344       ['block6d_se_reshape[0][0]']     \n",
            "                                                                                                  \n",
            " block6d_se_expand (Conv2D)     (None, 1, 1, 1152)   56448       ['block6d_se_reduce[0][0]']      \n",
            "                                                                                                  \n",
            " block6d_se_excite (Multiply)   (None, 7, 7, 1152)   0           ['block6d_activation[0][0]',     \n",
            "                                                                  'block6d_se_expand[0][0]']      \n",
            "                                                                                                  \n",
            " block6d_project_conv (Conv2D)  (None, 7, 7, 192)    221184      ['block6d_se_excite[0][0]']      \n",
            "                                                                                                  \n",
            " block6d_project_bn (BatchNorma  (None, 7, 7, 192)   768         ['block6d_project_conv[0][0]']   \n",
            " lization)                                                                                        \n",
            "                                                                                                  \n",
            " block6d_drop (Dropout)         (None, 7, 7, 192)    0           ['block6d_project_bn[0][0]']     \n",
            "                                                                                                  \n",
            " block6d_add (Add)              (None, 7, 7, 192)    0           ['block6d_drop[0][0]',           \n",
            "                                                                  'block6c_add[0][0]']            \n",
            "                                                                                                  \n",
            " block6e_expand_conv (Conv2D)   (None, 7, 7, 1152)   221184      ['block6d_add[0][0]']            \n",
            "                                                                                                  \n",
            " block6e_expand_bn (BatchNormal  (None, 7, 7, 1152)  4608        ['block6e_expand_conv[0][0]']    \n",
            " ization)                                                                                         \n",
            "                                                                                                  \n",
            " block6e_expand_activation (Act  (None, 7, 7, 1152)  0           ['block6e_expand_bn[0][0]']      \n",
            " ivation)                                                                                         \n",
            "                                                                                                  \n",
            " block6e_dwconv (DepthwiseConv2  (None, 7, 7, 1152)  28800       ['block6e_expand_activation[0][0]\n",
            " D)                                                              ']                               \n",
            "                                                                                                  \n",
            " block6e_bn (BatchNormalization  (None, 7, 7, 1152)  4608        ['block6e_dwconv[0][0]']         \n",
            " )                                                                                                \n",
            "                                                                                                  \n",
            " block6e_activation (Activation  (None, 7, 7, 1152)  0           ['block6e_bn[0][0]']             \n",
            " )                                                                                                \n",
            "                                                                                                  \n",
            " block6e_se_squeeze (GlobalAver  (None, 1152)        0           ['block6e_activation[0][0]']     \n",
            " agePooling2D)                                                                                    \n",
            "                                                                                                  \n",
            " block6e_se_reshape (Reshape)   (None, 1, 1, 1152)   0           ['block6e_se_squeeze[0][0]']     \n",
            "                                                                                                  \n",
            " block6e_se_reduce (Conv2D)     (None, 1, 1, 48)     55344       ['block6e_se_reshape[0][0]']     \n",
            "                                                                                                  \n",
            " block6e_se_expand (Conv2D)     (None, 1, 1, 1152)   56448       ['block6e_se_reduce[0][0]']      \n",
            "                                                                                                  \n",
            " block6e_se_excite (Multiply)   (None, 7, 7, 1152)   0           ['block6e_activation[0][0]',     \n",
            "                                                                  'block6e_se_expand[0][0]']      \n",
            "                                                                                                  \n",
            " block6e_project_conv (Conv2D)  (None, 7, 7, 192)    221184      ['block6e_se_excite[0][0]']      \n",
            "                                                                                                  \n",
            " block6e_project_bn (BatchNorma  (None, 7, 7, 192)   768         ['block6e_project_conv[0][0]']   \n",
            " lization)                                                                                        \n",
            "                                                                                                  \n",
            " block6e_drop (Dropout)         (None, 7, 7, 192)    0           ['block6e_project_bn[0][0]']     \n",
            "                                                                                                  \n",
            " block6e_add (Add)              (None, 7, 7, 192)    0           ['block6e_drop[0][0]',           \n",
            "                                                                  'block6d_add[0][0]']            \n",
            "                                                                                                  \n",
            " block7a_expand_conv (Conv2D)   (None, 7, 7, 1152)   221184      ['block6e_add[0][0]']            \n",
            "                                                                                                  \n",
            " block7a_expand_bn (BatchNormal  (None, 7, 7, 1152)  4608        ['block7a_expand_conv[0][0]']    \n",
            " ization)                                                                                         \n",
            "                                                                                                  \n",
            " block7a_expand_activation (Act  (None, 7, 7, 1152)  0           ['block7a_expand_bn[0][0]']      \n",
            " ivation)                                                                                         \n",
            "                                                                                                  \n",
            " block7a_dwconv (DepthwiseConv2  (None, 7, 7, 1152)  10368       ['block7a_expand_activation[0][0]\n",
            " D)                                                              ']                               \n",
            "                                                                                                  \n",
            " block7a_bn (BatchNormalization  (None, 7, 7, 1152)  4608        ['block7a_dwconv[0][0]']         \n",
            " )                                                                                                \n",
            "                                                                                                  \n",
            " block7a_activation (Activation  (None, 7, 7, 1152)  0           ['block7a_bn[0][0]']             \n",
            " )                                                                                                \n",
            "                                                                                                  \n",
            " block7a_se_squeeze (GlobalAver  (None, 1152)        0           ['block7a_activation[0][0]']     \n",
            " agePooling2D)                                                                                    \n",
            "                                                                                                  \n",
            " block7a_se_reshape (Reshape)   (None, 1, 1, 1152)   0           ['block7a_se_squeeze[0][0]']     \n",
            "                                                                                                  \n",
            " block7a_se_reduce (Conv2D)     (None, 1, 1, 48)     55344       ['block7a_se_reshape[0][0]']     \n",
            "                                                                                                  \n",
            " block7a_se_expand (Conv2D)     (None, 1, 1, 1152)   56448       ['block7a_se_reduce[0][0]']      \n",
            "                                                                                                  \n",
            " block7a_se_excite (Multiply)   (None, 7, 7, 1152)   0           ['block7a_activation[0][0]',     \n",
            "                                                                  'block7a_se_expand[0][0]']      \n",
            "                                                                                                  \n",
            " block7a_project_conv (Conv2D)  (None, 7, 7, 320)    368640      ['block7a_se_excite[0][0]']      \n",
            "                                                                                                  \n",
            " block7a_project_bn (BatchNorma  (None, 7, 7, 320)   1280        ['block7a_project_conv[0][0]']   \n",
            " lization)                                                                                        \n",
            "                                                                                                  \n",
            " block7b_expand_conv (Conv2D)   (None, 7, 7, 1920)   614400      ['block7a_project_bn[0][0]']     \n",
            "                                                                                                  \n",
            " block7b_expand_bn (BatchNormal  (None, 7, 7, 1920)  7680        ['block7b_expand_conv[0][0]']    \n",
            " ization)                                                                                         \n",
            "                                                                                                  \n",
            " block7b_expand_activation (Act  (None, 7, 7, 1920)  0           ['block7b_expand_bn[0][0]']      \n",
            " ivation)                                                                                         \n",
            "                                                                                                  \n",
            " block7b_dwconv (DepthwiseConv2  (None, 7, 7, 1920)  17280       ['block7b_expand_activation[0][0]\n",
            " D)                                                              ']                               \n",
            "                                                                                                  \n",
            " block7b_bn (BatchNormalization  (None, 7, 7, 1920)  7680        ['block7b_dwconv[0][0]']         \n",
            " )                                                                                                \n",
            "                                                                                                  \n",
            " block7b_activation (Activation  (None, 7, 7, 1920)  0           ['block7b_bn[0][0]']             \n",
            " )                                                                                                \n",
            "                                                                                                  \n",
            " block7b_se_squeeze (GlobalAver  (None, 1920)        0           ['block7b_activation[0][0]']     \n",
            " agePooling2D)                                                                                    \n",
            "                                                                                                  \n",
            " block7b_se_reshape (Reshape)   (None, 1, 1, 1920)   0           ['block7b_se_squeeze[0][0]']     \n",
            "                                                                                                  \n",
            " block7b_se_reduce (Conv2D)     (None, 1, 1, 80)     153680      ['block7b_se_reshape[0][0]']     \n",
            "                                                                                                  \n",
            " block7b_se_expand (Conv2D)     (None, 1, 1, 1920)   155520      ['block7b_se_reduce[0][0]']      \n",
            "                                                                                                  \n",
            " block7b_se_excite (Multiply)   (None, 7, 7, 1920)   0           ['block7b_activation[0][0]',     \n",
            "                                                                  'block7b_se_expand[0][0]']      \n",
            "                                                                                                  \n",
            " block7b_project_conv (Conv2D)  (None, 7, 7, 320)    614400      ['block7b_se_excite[0][0]']      \n",
            "                                                                                                  \n",
            " block7b_project_bn (BatchNorma  (None, 7, 7, 320)   1280        ['block7b_project_conv[0][0]']   \n",
            " lization)                                                                                        \n",
            "                                                                                                  \n",
            " block7b_drop (Dropout)         (None, 7, 7, 320)    0           ['block7b_project_bn[0][0]']     \n",
            "                                                                                                  \n",
            " block7b_add (Add)              (None, 7, 7, 320)    0           ['block7b_drop[0][0]',           \n",
            "                                                                  'block7a_project_bn[0][0]']     \n",
            "                                                                                                  \n",
            " top_conv (Conv2D)              (None, 7, 7, 1280)   409600      ['block7b_add[0][0]']            \n",
            "                                                                                                  \n",
            " top_bn (BatchNormalization)    (None, 7, 7, 1280)   5120        ['top_conv[0][0]']               \n",
            "                                                                                                  \n",
            " top_activation (Activation)    (None, 7, 7, 1280)   0           ['top_bn[0][0]']                 \n",
            "                                                                                                  \n",
            " global_average_pooling2d (Glob  (None, 1280)        0           ['top_activation[0][0]']         \n",
            " alAveragePooling2D)                                                                              \n",
            "                                                                                                  \n",
            " dense (Dense)                  (None, 512)          655872      ['global_average_pooling2d[0][0]'\n",
            "                                                                 ]                                \n",
            "                                                                                                  \n",
            " activation (Activation)        (None, 512)          0           ['dense[0][0]']                  \n",
            "                                                                                                  \n",
            " dense_1 (Dense)                (None, 256)          131328      ['activation[0][0]']             \n",
            "                                                                                                  \n",
            " activation_1 (Activation)      (None, 256)          0           ['dense_1[0][0]']                \n",
            "                                                                                                  \n",
            " dense_2 (Dense)                (None, 128)          32896       ['activation_1[0][0]']           \n",
            "                                                                                                  \n",
            " unit_norm_layer (UnitNormLayer  (None, 128)         0           ['dense_2[0][0]']                \n",
            " )                                                                                                \n",
            "                                                                                                  \n",
            "==================================================================================================\n",
            "Total params: 7,395,335\n",
            "Trainable params: 7,333,280\n",
            "Non-trainable params: 62,055\n",
            "__________________________________________________________________________________________________\n"
          ]
        }
      ]
    },
    {
      "cell_type": "code",
      "source": [
        "train_loss_cl = tf.keras.metrics.Mean(name='train_loss')\n",
        "test_loss_cl = tf.keras.metrics.Mean(name='test_loss')"
      ],
      "metadata": {
        "id": "W6btxiJGkbf5"
      },
      "execution_count": null,
      "outputs": []
    },
    {
      "cell_type": "code",
      "source": [
        "@tf.function\n",
        "\n",
        "def train_step_contrastive(x, y):\n",
        "    '''\n",
        "    x: data tensor, shape: (batch_size, data_dim)\n",
        "    y: data labels, shape: (batch_size, )\n",
        "    '''\n",
        "    with tf.GradientTape() as tape:\n",
        "        r = model(x, training=True)\n",
        "        loss = max_margin_contrastive_loss(r, y, margin=1.0, metric='euclidean')\n",
        "\n",
        "    gradients = tape.gradient(loss, model.trainable_variables)\n",
        "    encoder_optimizer.apply_gradients(zip(gradients, model.trainable_variables))\n",
        "    train_loss_cl(loss)"
      ],
      "metadata": {
        "id": "yqS9oQ8mJ_ln"
      },
      "execution_count": null,
      "outputs": []
    },
    {
      "cell_type": "code",
      "source": [
        "@tf.function\n",
        "def test_step_contrastive(x, y):\n",
        "    r = model(x, training=False)\n",
        "    t_loss = max_margin_contrastive_loss(r, y, margin=1.0, metric='euclidean')\n",
        "    test_loss_cl(t_loss)"
      ],
      "metadata": {
        "id": "soF8eeKBku4_"
      },
      "execution_count": null,
      "outputs": []
    },
    {
      "cell_type": "code",
      "source": [
        "#Encoder training\n",
        "train_loss_dict = {}\n",
        "test_loss_dict = {}\n",
        "\n",
        "for epoch in range(EPOCHS):\n",
        "    # Reset the metrics at the start of the next epoch\n",
        "    train_loss_cl.reset_states()\n",
        "    test_loss_cl.reset_states()\n",
        "\n",
        "    for x, y in tqdm(train_ds):\n",
        "        train_step_contrastive(x, y)\n",
        "\n",
        "    for x_te, y_te in test_ds:\n",
        "        test_step_contrastive(x_te, y_te)\n",
        "\n",
        "    template = 'Epoch {}, Training Loss: {}, Test Loss: {}'\n",
        "    print(template.format(epoch + 1,train_loss_cl.result(),test_loss_cl.result()))\n",
        "    train_loss_dict[epoch] = train_loss_cl.result().numpy()*100\n",
        "    test_loss_dict[epoch] = test_loss_cl.result().numpy()*100"
      ],
      "metadata": {
        "colab": {
          "base_uri": "https://localhost:8080/"
        },
        "id": "EImXicWRk9CH",
        "outputId": "3ee49aec-1409-4326-8375-bb2e6292b555"
      },
      "execution_count": null,
      "outputs": [
        {
          "output_type": "stream",
          "name": "stderr",
          "text": [
            "100%|██████████| 134/134 [02:59<00:00,  1.34s/it]\n"
          ]
        },
        {
          "output_type": "stream",
          "name": "stdout",
          "text": [
            "Epoch 1, Training Loss: 0.08681413531303406, Test Loss: 0.9134268760681152\n"
          ]
        },
        {
          "output_type": "stream",
          "name": "stderr",
          "text": [
            "100%|██████████| 134/134 [01:32<00:00,  1.45it/s]\n"
          ]
        },
        {
          "output_type": "stream",
          "name": "stdout",
          "text": [
            "Epoch 2, Training Loss: 0.07807908952236176, Test Loss: 0.8367859721183777\n"
          ]
        },
        {
          "output_type": "stream",
          "name": "stderr",
          "text": [
            "100%|██████████| 134/134 [01:32<00:00,  1.45it/s]\n"
          ]
        },
        {
          "output_type": "stream",
          "name": "stdout",
          "text": [
            "Epoch 3, Training Loss: 0.07742534577846527, Test Loss: 0.6557139754295349\n"
          ]
        },
        {
          "output_type": "stream",
          "name": "stderr",
          "text": [
            "100%|██████████| 134/134 [01:32<00:00,  1.45it/s]\n"
          ]
        },
        {
          "output_type": "stream",
          "name": "stdout",
          "text": [
            "Epoch 4, Training Loss: 0.07646869122982025, Test Loss: 0.30102989077568054\n"
          ]
        },
        {
          "output_type": "stream",
          "name": "stderr",
          "text": [
            "100%|██████████| 134/134 [01:32<00:00,  1.45it/s]\n"
          ]
        },
        {
          "output_type": "stream",
          "name": "stdout",
          "text": [
            "Epoch 5, Training Loss: 0.0759657695889473, Test Loss: 0.12080938369035721\n"
          ]
        },
        {
          "output_type": "stream",
          "name": "stderr",
          "text": [
            "100%|██████████| 134/134 [01:32<00:00,  1.45it/s]\n"
          ]
        },
        {
          "output_type": "stream",
          "name": "stdout",
          "text": [
            "Epoch 6, Training Loss: 0.0748303085565567, Test Loss: 0.09674783796072006\n"
          ]
        },
        {
          "output_type": "stream",
          "name": "stderr",
          "text": [
            "100%|██████████| 134/134 [01:32<00:00,  1.45it/s]\n"
          ]
        },
        {
          "output_type": "stream",
          "name": "stdout",
          "text": [
            "Epoch 7, Training Loss: 0.07429932802915573, Test Loss: 0.08964961767196655\n"
          ]
        },
        {
          "output_type": "stream",
          "name": "stderr",
          "text": [
            "100%|██████████| 134/134 [01:32<00:00,  1.45it/s]\n"
          ]
        },
        {
          "output_type": "stream",
          "name": "stdout",
          "text": [
            "Epoch 8, Training Loss: 0.07285965234041214, Test Loss: 0.0914207398891449\n"
          ]
        },
        {
          "output_type": "stream",
          "name": "stderr",
          "text": [
            "100%|██████████| 134/134 [01:32<00:00,  1.45it/s]\n"
          ]
        },
        {
          "output_type": "stream",
          "name": "stdout",
          "text": [
            "Epoch 9, Training Loss: 0.07334424555301666, Test Loss: 0.07992959022521973\n"
          ]
        },
        {
          "output_type": "stream",
          "name": "stderr",
          "text": [
            "100%|██████████| 134/134 [01:32<00:00,  1.45it/s]\n"
          ]
        },
        {
          "output_type": "stream",
          "name": "stdout",
          "text": [
            "Epoch 10, Training Loss: 0.07147318869829178, Test Loss: 0.08100947737693787\n"
          ]
        },
        {
          "output_type": "stream",
          "name": "stderr",
          "text": [
            "100%|██████████| 134/134 [01:32<00:00,  1.45it/s]\n"
          ]
        },
        {
          "output_type": "stream",
          "name": "stdout",
          "text": [
            "Epoch 11, Training Loss: 0.0712776780128479, Test Loss: 0.08114621788263321\n"
          ]
        },
        {
          "output_type": "stream",
          "name": "stderr",
          "text": [
            "100%|██████████| 134/134 [01:32<00:00,  1.45it/s]\n"
          ]
        },
        {
          "output_type": "stream",
          "name": "stdout",
          "text": [
            "Epoch 12, Training Loss: 0.07100895047187805, Test Loss: 0.0814419612288475\n"
          ]
        },
        {
          "output_type": "stream",
          "name": "stderr",
          "text": [
            "100%|██████████| 134/134 [01:32<00:00,  1.45it/s]\n"
          ]
        },
        {
          "output_type": "stream",
          "name": "stdout",
          "text": [
            "Epoch 13, Training Loss: 0.06897597759962082, Test Loss: 0.07773648947477341\n"
          ]
        },
        {
          "output_type": "stream",
          "name": "stderr",
          "text": [
            "100%|██████████| 134/134 [01:32<00:00,  1.45it/s]\n"
          ]
        },
        {
          "output_type": "stream",
          "name": "stdout",
          "text": [
            "Epoch 14, Training Loss: 0.06958185136318207, Test Loss: 0.07664532959461212\n"
          ]
        },
        {
          "output_type": "stream",
          "name": "stderr",
          "text": [
            "100%|██████████| 134/134 [01:32<00:00,  1.45it/s]\n"
          ]
        },
        {
          "output_type": "stream",
          "name": "stdout",
          "text": [
            "Epoch 15, Training Loss: 0.06949382275342941, Test Loss: 0.07644183933734894\n"
          ]
        },
        {
          "output_type": "stream",
          "name": "stderr",
          "text": [
            "100%|██████████| 134/134 [01:32<00:00,  1.45it/s]\n"
          ]
        },
        {
          "output_type": "stream",
          "name": "stdout",
          "text": [
            "Epoch 16, Training Loss: 0.06878120452165604, Test Loss: 0.0749569684267044\n"
          ]
        },
        {
          "output_type": "stream",
          "name": "stderr",
          "text": [
            "100%|██████████| 134/134 [01:32<00:00,  1.45it/s]\n"
          ]
        },
        {
          "output_type": "stream",
          "name": "stdout",
          "text": [
            "Epoch 17, Training Loss: 0.06781206279993057, Test Loss: 0.07621254771947861\n"
          ]
        },
        {
          "output_type": "stream",
          "name": "stderr",
          "text": [
            "100%|██████████| 134/134 [01:32<00:00,  1.45it/s]\n"
          ]
        },
        {
          "output_type": "stream",
          "name": "stdout",
          "text": [
            "Epoch 18, Training Loss: 0.0684194564819336, Test Loss: 0.07587935775518417\n"
          ]
        },
        {
          "output_type": "stream",
          "name": "stderr",
          "text": [
            "100%|██████████| 134/134 [01:32<00:00,  1.45it/s]\n"
          ]
        },
        {
          "output_type": "stream",
          "name": "stdout",
          "text": [
            "Epoch 19, Training Loss: 0.06814711540937424, Test Loss: 0.07865326851606369\n"
          ]
        },
        {
          "output_type": "stream",
          "name": "stderr",
          "text": [
            "100%|██████████| 134/134 [01:32<00:00,  1.45it/s]\n"
          ]
        },
        {
          "output_type": "stream",
          "name": "stdout",
          "text": [
            "Epoch 20, Training Loss: 0.06624925136566162, Test Loss: 0.07486842572689056\n"
          ]
        },
        {
          "output_type": "stream",
          "name": "stderr",
          "text": [
            "100%|██████████| 134/134 [01:32<00:00,  1.45it/s]\n"
          ]
        },
        {
          "output_type": "stream",
          "name": "stdout",
          "text": [
            "Epoch 21, Training Loss: 0.06667020916938782, Test Loss: 0.07477100938558578\n"
          ]
        },
        {
          "output_type": "stream",
          "name": "stderr",
          "text": [
            "100%|██████████| 134/134 [02:21<00:00,  1.06s/it]\n"
          ]
        },
        {
          "output_type": "stream",
          "name": "stdout",
          "text": [
            "Epoch 22, Training Loss: 0.06627139449119568, Test Loss: 0.07349842041730881\n"
          ]
        },
        {
          "output_type": "stream",
          "name": "stderr",
          "text": [
            "100%|██████████| 134/134 [01:32<00:00,  1.45it/s]\n"
          ]
        },
        {
          "output_type": "stream",
          "name": "stdout",
          "text": [
            "Epoch 23, Training Loss: 0.06655637174844742, Test Loss: 0.07248939573764801\n"
          ]
        },
        {
          "output_type": "stream",
          "name": "stderr",
          "text": [
            "100%|██████████| 134/134 [01:32<00:00,  1.45it/s]\n"
          ]
        },
        {
          "output_type": "stream",
          "name": "stdout",
          "text": [
            "Epoch 24, Training Loss: 0.06660062819719315, Test Loss: 0.07392159104347229\n"
          ]
        },
        {
          "output_type": "stream",
          "name": "stderr",
          "text": [
            "100%|██████████| 134/134 [02:21<00:00,  1.06s/it]\n"
          ]
        },
        {
          "output_type": "stream",
          "name": "stdout",
          "text": [
            "Epoch 25, Training Loss: 0.06624539941549301, Test Loss: 0.0745915099978447\n"
          ]
        },
        {
          "output_type": "stream",
          "name": "stderr",
          "text": [
            "100%|██████████| 134/134 [01:32<00:00,  1.45it/s]\n"
          ]
        },
        {
          "output_type": "stream",
          "name": "stdout",
          "text": [
            "Epoch 26, Training Loss: 0.06538862735033035, Test Loss: 0.07231836766004562\n"
          ]
        },
        {
          "output_type": "stream",
          "name": "stderr",
          "text": [
            "100%|██████████| 134/134 [01:32<00:00,  1.45it/s]\n"
          ]
        },
        {
          "output_type": "stream",
          "name": "stdout",
          "text": [
            "Epoch 27, Training Loss: 0.06636877357959747, Test Loss: 0.0703970342874527\n"
          ]
        },
        {
          "output_type": "stream",
          "name": "stderr",
          "text": [
            "100%|██████████| 134/134 [01:32<00:00,  1.45it/s]\n"
          ]
        },
        {
          "output_type": "stream",
          "name": "stdout",
          "text": [
            "Epoch 28, Training Loss: 0.06556650996208191, Test Loss: 0.06866196542978287\n"
          ]
        },
        {
          "output_type": "stream",
          "name": "stderr",
          "text": [
            "100%|██████████| 134/134 [01:32<00:00,  1.45it/s]\n"
          ]
        },
        {
          "output_type": "stream",
          "name": "stdout",
          "text": [
            "Epoch 29, Training Loss: 0.06474147737026215, Test Loss: 0.06737226247787476\n"
          ]
        },
        {
          "output_type": "stream",
          "name": "stderr",
          "text": [
            "100%|██████████| 134/134 [01:32<00:00,  1.45it/s]\n"
          ]
        },
        {
          "output_type": "stream",
          "name": "stdout",
          "text": [
            "Epoch 30, Training Loss: 0.06535635888576508, Test Loss: 0.06801947206258774\n"
          ]
        },
        {
          "output_type": "stream",
          "name": "stderr",
          "text": [
            "100%|██████████| 134/134 [01:32<00:00,  1.45it/s]\n"
          ]
        },
        {
          "output_type": "stream",
          "name": "stdout",
          "text": [
            "Epoch 31, Training Loss: 0.06484253704547882, Test Loss: 0.06591492146253586\n"
          ]
        },
        {
          "output_type": "stream",
          "name": "stderr",
          "text": [
            "100%|██████████| 134/134 [01:32<00:00,  1.45it/s]\n"
          ]
        },
        {
          "output_type": "stream",
          "name": "stdout",
          "text": [
            "Epoch 32, Training Loss: 0.06447078287601471, Test Loss: 0.0675908699631691\n"
          ]
        },
        {
          "output_type": "stream",
          "name": "stderr",
          "text": [
            "100%|██████████| 134/134 [01:32<00:00,  1.45it/s]\n"
          ]
        },
        {
          "output_type": "stream",
          "name": "stdout",
          "text": [
            "Epoch 33, Training Loss: 0.06468730419874191, Test Loss: 0.06778363883495331\n"
          ]
        },
        {
          "output_type": "stream",
          "name": "stderr",
          "text": [
            "100%|██████████| 134/134 [01:32<00:00,  1.45it/s]\n"
          ]
        },
        {
          "output_type": "stream",
          "name": "stdout",
          "text": [
            "Epoch 34, Training Loss: 0.06357624381780624, Test Loss: 0.06612002849578857\n"
          ]
        },
        {
          "output_type": "stream",
          "name": "stderr",
          "text": [
            "100%|██████████| 134/134 [01:32<00:00,  1.45it/s]\n"
          ]
        },
        {
          "output_type": "stream",
          "name": "stdout",
          "text": [
            "Epoch 35, Training Loss: 0.0634276419878006, Test Loss: 0.06586714833974838\n"
          ]
        },
        {
          "output_type": "stream",
          "name": "stderr",
          "text": [
            "100%|██████████| 134/134 [02:21<00:00,  1.06s/it]\n"
          ]
        },
        {
          "output_type": "stream",
          "name": "stdout",
          "text": [
            "Epoch 36, Training Loss: 0.06346452236175537, Test Loss: 0.06514782458543777\n"
          ]
        },
        {
          "output_type": "stream",
          "name": "stderr",
          "text": [
            "100%|██████████| 134/134 [01:32<00:00,  1.45it/s]\n"
          ]
        },
        {
          "output_type": "stream",
          "name": "stdout",
          "text": [
            "Epoch 37, Training Loss: 0.06325090676546097, Test Loss: 0.06449005752801895\n"
          ]
        },
        {
          "output_type": "stream",
          "name": "stderr",
          "text": [
            "100%|██████████| 134/134 [01:32<00:00,  1.45it/s]\n"
          ]
        },
        {
          "output_type": "stream",
          "name": "stdout",
          "text": [
            "Epoch 38, Training Loss: 0.062296655029058456, Test Loss: 0.06259459257125854\n"
          ]
        },
        {
          "output_type": "stream",
          "name": "stderr",
          "text": [
            "100%|██████████| 134/134 [01:32<00:00,  1.45it/s]\n"
          ]
        },
        {
          "output_type": "stream",
          "name": "stdout",
          "text": [
            "Epoch 39, Training Loss: 0.06357621401548386, Test Loss: 0.06066647544503212\n"
          ]
        },
        {
          "output_type": "stream",
          "name": "stderr",
          "text": [
            "100%|██████████| 134/134 [01:32<00:00,  1.45it/s]\n"
          ]
        },
        {
          "output_type": "stream",
          "name": "stdout",
          "text": [
            "Epoch 40, Training Loss: 0.062316831201314926, Test Loss: 0.06271610409021378\n"
          ]
        },
        {
          "output_type": "stream",
          "name": "stderr",
          "text": [
            "100%|██████████| 134/134 [01:32<00:00,  1.45it/s]\n"
          ]
        },
        {
          "output_type": "stream",
          "name": "stdout",
          "text": [
            "Epoch 41, Training Loss: 0.06234045699238777, Test Loss: 0.06170318275690079\n"
          ]
        },
        {
          "output_type": "stream",
          "name": "stderr",
          "text": [
            "100%|██████████| 134/134 [01:32<00:00,  1.45it/s]\n"
          ]
        },
        {
          "output_type": "stream",
          "name": "stdout",
          "text": [
            "Epoch 42, Training Loss: 0.061830490827560425, Test Loss: 0.061185527592897415\n"
          ]
        },
        {
          "output_type": "stream",
          "name": "stderr",
          "text": [
            "100%|██████████| 134/134 [01:32<00:00,  1.45it/s]\n"
          ]
        },
        {
          "output_type": "stream",
          "name": "stdout",
          "text": [
            "Epoch 43, Training Loss: 0.06240545213222504, Test Loss: 0.05768788233399391\n"
          ]
        },
        {
          "output_type": "stream",
          "name": "stderr",
          "text": [
            "100%|██████████| 134/134 [01:32<00:00,  1.45it/s]\n"
          ]
        },
        {
          "output_type": "stream",
          "name": "stdout",
          "text": [
            "Epoch 44, Training Loss: 0.06192430108785629, Test Loss: 0.059002835303545\n"
          ]
        },
        {
          "output_type": "stream",
          "name": "stderr",
          "text": [
            "100%|██████████| 134/134 [01:32<00:00,  1.45it/s]\n"
          ]
        },
        {
          "output_type": "stream",
          "name": "stdout",
          "text": [
            "Epoch 45, Training Loss: 0.06229083985090256, Test Loss: 0.05705641955137253\n"
          ]
        },
        {
          "output_type": "stream",
          "name": "stderr",
          "text": [
            "100%|██████████| 134/134 [01:32<00:00,  1.45it/s]\n"
          ]
        },
        {
          "output_type": "stream",
          "name": "stdout",
          "text": [
            "Epoch 46, Training Loss: 0.06096278503537178, Test Loss: 0.05681401863694191\n"
          ]
        },
        {
          "output_type": "stream",
          "name": "stderr",
          "text": [
            "100%|██████████| 134/134 [01:32<00:00,  1.45it/s]\n"
          ]
        },
        {
          "output_type": "stream",
          "name": "stdout",
          "text": [
            "Epoch 47, Training Loss: 0.06144677475094795, Test Loss: 0.05782810226082802\n"
          ]
        },
        {
          "output_type": "stream",
          "name": "stderr",
          "text": [
            "100%|██████████| 134/134 [01:32<00:00,  1.45it/s]\n"
          ]
        },
        {
          "output_type": "stream",
          "name": "stdout",
          "text": [
            "Epoch 48, Training Loss: 0.06143631786108017, Test Loss: 0.056770049035549164\n"
          ]
        },
        {
          "output_type": "stream",
          "name": "stderr",
          "text": [
            "100%|██████████| 134/134 [01:32<00:00,  1.45it/s]\n"
          ]
        },
        {
          "output_type": "stream",
          "name": "stdout",
          "text": [
            "Epoch 49, Training Loss: 0.06122954189777374, Test Loss: 0.057139698415994644\n"
          ]
        },
        {
          "output_type": "stream",
          "name": "stderr",
          "text": [
            "100%|██████████| 134/134 [01:32<00:00,  1.45it/s]\n"
          ]
        },
        {
          "output_type": "stream",
          "name": "stdout",
          "text": [
            "Epoch 50, Training Loss: 0.060246843844652176, Test Loss: 0.055072080343961716\n"
          ]
        }
      ]
    },
    {
      "cell_type": "code",
      "source": [
        "from pickle import load, dump\n",
        "from matplotlib.pylab import plt\n",
        "from numpy import arange"
      ],
      "metadata": {
        "id": "PAcKhSit-Fz5"
      },
      "execution_count": null,
      "outputs": []
    },
    {
      "cell_type": "code",
      "source": [
        "# Save the training loss values\n",
        "with open('/content/drive/MyDrive/ML/train_loss_EfficientNetB1.pkl', 'wb') as file:\n",
        "    dump(train_loss_dict, file)\n",
        "\n",
        "# Save the validation loss values\n",
        "with open('/content/drive/MyDrive/ML/test_loss_EfficientNetB1.pkl', 'wb') as file:\n",
        "    dump(test_loss_dict, file)"
      ],
      "metadata": {
        "id": "HjelGGs_-IWK"
      },
      "execution_count": null,
      "outputs": []
    },
    {
      "cell_type": "code",
      "source": [
        "# Load the training and validation loss dictionaries\n",
        "train_loss = load(open('/content/drive/MyDrive/ML/train_loss_EfficientNetB1.pkl', 'rb'))\n",
        "test_loss = load(open('/content/drive/MyDrive/ML/test_loss_EfficientNetB1.pkl', 'rb'))\n",
        "\n",
        "# Retrieve each dictionary's values\n",
        "train_values = train_loss.values()\n",
        "test_values = test_loss.values()\n",
        "\n",
        "# Generate a sequence of integers to represent the epoch numbers\n",
        "epochs = range(50)\n",
        "\n",
        "# Plot and label the training and validation loss values\n",
        "plt.plot(epochs, np.array(list(train_values)).astype(float), label='Training Loss')\n",
        "plt.plot(epochs, np.array(list(test_values)).astype(float), label='Test Loss')\n",
        "\n",
        "# Add in a title and axes labels\n",
        "plt.title('Training and Test Loss')\n",
        "plt.xlabel('Epochs')\n",
        "plt.ylabel('Loss')\n",
        "\n",
        "# Set the tick locations\n",
        "plt.xticks(arange(0, 50, 4))\n",
        "\n",
        "# Display the plot\n",
        "plt.legend(loc='best')\n",
        "plt.show()"
      ],
      "metadata": {
        "id": "B_AcQtLS-LUS",
        "colab": {
          "base_uri": "https://localhost:8080/",
          "height": 295
        },
        "outputId": "50f33ea9-87e5-4089-e94d-019eb3dafde4"
      },
      "execution_count": null,
      "outputs": [
        {
          "output_type": "display_data",
          "data": {
            "text/plain": [
              "<Figure size 432x288 with 1 Axes>"
            ],
            "image/png": "[encoded data removed]"
          },
          "metadata": {
            "needs_background": "light"
          }
        }
      ]
    },
    {
      "cell_type": "code",
      "source": [
        "#model save\n",
        "dir = '/content/drive/MyDrive/Colab Notebooks/'\n",
        "filename =os.path.join( dir, datetime.datetime.now().strftime(\"%Y%m%d-%H%M%S\") + \"EfficientNetB1_simclr.h5\")  ##set your path then model name: /content/resnet.h5\n",
        "print(filename)\n"
      ],
      "metadata": {
        "colab": {
          "base_uri": "https://localhost:8080/"
        },
        "id": "Fo5AUDyDsRtW",
        "outputId": "da9dd117-fbf5-4bd7-8eb6-0834cb10e90f"
      },
      "execution_count": null,
      "outputs": [
        {
          "output_type": "stream",
          "name": "stdout",
          "text": [
            "/content/drive/MyDrive/Colab Notebooks/20230306-050021EfficientNetB1_simclr.h5\n"
          ]
        }
      ]
    },
    {
      "cell_type": "code",
      "source": [
        "\n",
        "model.save_weights(filename)"
      ],
      "metadata": {
        "id": "pEUMre1r82_w"
      },
      "execution_count": null,
      "outputs": []
    },
    {
      "cell_type": "markdown",
      "source": [
        "#Classifier with frozen Encoder"
      ],
      "metadata": {
        "id": "qUiavvvX_NtV"
      }
    },
    {
      "cell_type": "code",
      "source": [
        "new_model = get_resnet_simclr(512, 256, 128)\n",
        "new_model.load_weights(\"/content/drive/MyDrive/Colab Notebooks/20230306-050021EfficientNetB1_simclr.h5\")"
      ],
      "metadata": {
        "id": "0iU4OjgNs0MV"
      },
      "execution_count": null,
      "outputs": []
    },
    {
      "cell_type": "code",
      "source": [
        "classifier_optimizer = tf.keras.optimizers.Adam(learning_rate=LR)"
      ],
      "metadata": {
        "id": "rFytwjqDuZ1m"
      },
      "execution_count": null,
      "outputs": []
    },
    {
      "cell_type": "code",
      "source": [
        "def Classifier_Network():\n",
        "    '''For stage 2, simply a softmax on top of the Encoder.\n",
        "    '''\n",
        "    contrast_model = new_model\n",
        "    contrast_model.trainable = False\n",
        "    embedd = contrast_model.output\n",
        "    features = Dropout(0.5)(embedd)\n",
        "    features = Dense(64, activation=\"relu\")(features)\n",
        "    features = Dropout(0.5)(features)\n",
        "    outputs  = Dense(num_classes, activation=\"softmax\")(features)\n",
        "\n",
        "    classifier_model = Model(contrast_model.inputs, outputs)\n",
        "\n",
        "    return classifier_model"
      ],
      "metadata": {
        "id": "u9SzVuULs_8V"
      },
      "execution_count": null,
      "outputs": []
    },
    {
      "cell_type": "code",
      "source": [
        "classifier = Classifier_Network()"
      ],
      "metadata": {
        "id": "tdMomlMGtovG"
      },
      "execution_count": null,
      "outputs": []
    },
    {
      "cell_type": "code",
      "source": [
        "classifier.summary()"
      ],
      "metadata": {
        "colab": {
          "base_uri": "https://localhost:8080/"
        },
        "id": "Zit13o3O0deV",
        "outputId": "c2cd513d-71bd-4fbc-ed18-ac9c0c275e0d"
      },
      "execution_count": null,
      "outputs": [
        {
          "output_type": "stream",
          "name": "stdout",
          "text": [
            "Model: \"model_2\"\n",
            "__________________________________________________________________________________________________\n",
            " Layer (type)                   Output Shape         Param #     Connected to                     \n",
            "==================================================================================================\n",
            " input_2 (InputLayer)           [(None, 224, 224, 3  0           []                               \n",
            "                                )]                                                                \n",
            "                                                                                                  \n",
            " rescaling_1 (Rescaling)        (None, 224, 224, 3)  0           ['input_2[0][0]']                \n",
            "                                                                                                  \n",
            " normalization_1 (Normalization  (None, 224, 224, 3)  7          ['rescaling_1[0][0]']            \n",
            " )                                                                                                \n",
            "                                                                                                  \n",
            " stem_conv_pad (ZeroPadding2D)  (None, 225, 225, 3)  0           ['normalization_1[0][0]']        \n",
            "                                                                                                  \n",
            " stem_conv (Conv2D)             (None, 112, 112, 32  864         ['stem_conv_pad[0][0]']          \n",
            "                                )                                                                 \n",
            "                                                                                                  \n",
            " stem_bn (BatchNormalization)   (None, 112, 112, 32  128         ['stem_conv[0][0]']              \n",
            "                                )                                                                 \n",
            "                                                                                                  \n",
            " stem_activation (Activation)   (None, 112, 112, 32  0           ['stem_bn[0][0]']                \n",
            "                                )                                                                 \n",
            "                                                                                                  \n",
            " block1a_dwconv (DepthwiseConv2  (None, 112, 112, 32  288        ['stem_activation[0][0]']        \n",
            " D)                             )                                                                 \n",
            "                                                                                                  \n",
            " block1a_bn (BatchNormalization  (None, 112, 112, 32  128        ['block1a_dwconv[0][0]']         \n",
            " )                              )                                                                 \n",
            "                                                                                                  \n",
            " block1a_activation (Activation  (None, 112, 112, 32  0          ['block1a_bn[0][0]']             \n",
            " )                              )                                                                 \n",
            "                                                                                                  \n",
            " block1a_se_squeeze (GlobalAver  (None, 32)          0           ['block1a_activation[0][0]']     \n",
            " agePooling2D)                                                                                    \n",
            "                                                                                                  \n",
            " block1a_se_reshape (Reshape)   (None, 1, 1, 32)     0           ['block1a_se_squeeze[0][0]']     \n",
            "                                                                                                  \n",
            " block1a_se_reduce (Conv2D)     (None, 1, 1, 8)      264         ['block1a_se_reshape[0][0]']     \n",
            "                                                                                                  \n",
            " block1a_se_expand (Conv2D)     (None, 1, 1, 32)     288         ['block1a_se_reduce[0][0]']      \n",
            "                                                                                                  \n",
            " block1a_se_excite (Multiply)   (None, 112, 112, 32  0           ['block1a_activation[0][0]',     \n",
            "                                )                                 'block1a_se_expand[0][0]']      \n",
            "                                                                                                  \n",
            " block1a_project_conv (Conv2D)  (None, 112, 112, 16  512         ['block1a_se_excite[0][0]']      \n",
            "                                )                                                                 \n",
            "                                                                                                  \n",
            " block1a_project_bn (BatchNorma  (None, 112, 112, 16  64         ['block1a_project_conv[0][0]']   \n",
            " lization)                      )                                                                 \n",
            "                                                                                                  \n",
            " block1b_dwconv (DepthwiseConv2  (None, 112, 112, 16  144        ['block1a_project_bn[0][0]']     \n",
            " D)                             )                                                                 \n",
            "                                                                                                  \n",
            " block1b_bn (BatchNormalization  (None, 112, 112, 16  64         ['block1b_dwconv[0][0]']         \n",
            " )                              )                                                                 \n",
            "                                                                                                  \n",
            " block1b_activation (Activation  (None, 112, 112, 16  0          ['block1b_bn[0][0]']             \n",
            " )                              )                                                                 \n",
            "                                                                                                  \n",
            " block1b_se_squeeze (GlobalAver  (None, 16)          0           ['block1b_activation[0][0]']     \n",
            " agePooling2D)                                                                                    \n",
            "                                                                                                  \n",
            " block1b_se_reshape (Reshape)   (None, 1, 1, 16)     0           ['block1b_se_squeeze[0][0]']     \n",
            "                                                                                                  \n",
            " block1b_se_reduce (Conv2D)     (None, 1, 1, 4)      68          ['block1b_se_reshape[0][0]']     \n",
            "                                                                                                  \n",
            " block1b_se_expand (Conv2D)     (None, 1, 1, 16)     80          ['block1b_se_reduce[0][0]']      \n",
            "                                                                                                  \n",
            " block1b_se_excite (Multiply)   (None, 112, 112, 16  0           ['block1b_activation[0][0]',     \n",
            "                                )                                 'block1b_se_expand[0][0]']      \n",
            "                                                                                                  \n",
            " block1b_project_conv (Conv2D)  (None, 112, 112, 16  256         ['block1b_se_excite[0][0]']      \n",
            "                                )                                                                 \n",
            "                                                                                                  \n",
            " block1b_project_bn (BatchNorma  (None, 112, 112, 16  64         ['block1b_project_conv[0][0]']   \n",
            " lization)                      )                                                                 \n",
            "                                                                                                  \n",
            " block1b_drop (Dropout)         (None, 112, 112, 16  0           ['block1b_project_bn[0][0]']     \n",
            "                                )                                                                 \n",
            "                                                                                                  \n",
            " block1b_add (Add)              (None, 112, 112, 16  0           ['block1b_drop[0][0]',           \n",
            "                                )                                 'block1a_project_bn[0][0]']     \n",
            "                                                                                                  \n",
            " block2a_expand_conv (Conv2D)   (None, 112, 112, 96  1536        ['block1b_add[0][0]']            \n",
            "                                )                                                                 \n",
            "                                                                                                  \n",
            " block2a_expand_bn (BatchNormal  (None, 112, 112, 96  384        ['block2a_expand_conv[0][0]']    \n",
            " ization)                       )                                                                 \n",
            "                                                                                                  \n",
            " block2a_expand_activation (Act  (None, 112, 112, 96  0          ['block2a_expand_bn[0][0]']      \n",
            " ivation)                       )                                                                 \n",
            "                                                                                                  \n",
            " block2a_dwconv_pad (ZeroPaddin  (None, 113, 113, 96  0          ['block2a_expand_activation[0][0]\n",
            " g2D)                           )                                ']                               \n",
            "                                                                                                  \n",
            " block2a_dwconv (DepthwiseConv2  (None, 56, 56, 96)  864         ['block2a_dwconv_pad[0][0]']     \n",
            " D)                                                                                               \n",
            "                                                                                                  \n",
            " block2a_bn (BatchNormalization  (None, 56, 56, 96)  384         ['block2a_dwconv[0][0]']         \n",
            " )                                                                                                \n",
            "                                                                                                  \n",
            " block2a_activation (Activation  (None, 56, 56, 96)  0           ['block2a_bn[0][0]']             \n",
            " )                                                                                                \n",
            "                                                                                                  \n",
            " block2a_se_squeeze (GlobalAver  (None, 96)          0           ['block2a_activation[0][0]']     \n",
            " agePooling2D)                                                                                    \n",
            "                                                                                                  \n",
            " block2a_se_reshape (Reshape)   (None, 1, 1, 96)     0           ['block2a_se_squeeze[0][0]']     \n",
            "                                                                                                  \n",
            " block2a_se_reduce (Conv2D)     (None, 1, 1, 4)      388         ['block2a_se_reshape[0][0]']     \n",
            "                                                                                                  \n",
            " block2a_se_expand (Conv2D)     (None, 1, 1, 96)     480         ['block2a_se_reduce[0][0]']      \n",
            "                                                                                                  \n",
            " block2a_se_excite (Multiply)   (None, 56, 56, 96)   0           ['block2a_activation[0][0]',     \n",
            "                                                                  'block2a_se_expand[0][0]']      \n",
            "                                                                                                  \n",
            " block2a_project_conv (Conv2D)  (None, 56, 56, 24)   2304        ['block2a_se_excite[0][0]']      \n",
            "                                                                                                  \n",
            " block2a_project_bn (BatchNorma  (None, 56, 56, 24)  96          ['block2a_project_conv[0][0]']   \n",
            " lization)                                                                                        \n",
            "                                                                                                  \n",
            " block2b_expand_conv (Conv2D)   (None, 56, 56, 144)  3456        ['block2a_project_bn[0][0]']     \n",
            "                                                                                                  \n",
            " block2b_expand_bn (BatchNormal  (None, 56, 56, 144)  576        ['block2b_expand_conv[0][0]']    \n",
            " ization)                                                                                         \n",
            "                                                                                                  \n",
            " block2b_expand_activation (Act  (None, 56, 56, 144)  0          ['block2b_expand_bn[0][0]']      \n",
            " ivation)                                                                                         \n",
            "                                                                                                  \n",
            " block2b_dwconv (DepthwiseConv2  (None, 56, 56, 144)  1296       ['block2b_expand_activation[0][0]\n",
            " D)                                                              ']                               \n",
            "                                                                                                  \n",
            " block2b_bn (BatchNormalization  (None, 56, 56, 144)  576        ['block2b_dwconv[0][0]']         \n",
            " )                                                                                                \n",
            "                                                                                                  \n",
            " block2b_activation (Activation  (None, 56, 56, 144)  0          ['block2b_bn[0][0]']             \n",
            " )                                                                                                \n",
            "                                                                                                  \n",
            " block2b_se_squeeze (GlobalAver  (None, 144)         0           ['block2b_activation[0][0]']     \n",
            " agePooling2D)                                                                                    \n",
            "                                                                                                  \n",
            " block2b_se_reshape (Reshape)   (None, 1, 1, 144)    0           ['block2b_se_squeeze[0][0]']     \n",
            "                                                                                                  \n",
            " block2b_se_reduce (Conv2D)     (None, 1, 1, 6)      870         ['block2b_se_reshape[0][0]']     \n",
            "                                                                                                  \n",
            " block2b_se_expand (Conv2D)     (None, 1, 1, 144)    1008        ['block2b_se_reduce[0][0]']      \n",
            "                                                                                                  \n",
            " block2b_se_excite (Multiply)   (None, 56, 56, 144)  0           ['block2b_activation[0][0]',     \n",
            "                                                                  'block2b_se_expand[0][0]']      \n",
            "                                                                                                  \n",
            " block2b_project_conv (Conv2D)  (None, 56, 56, 24)   3456        ['block2b_se_excite[0][0]']      \n",
            "                                                                                                  \n",
            " block2b_project_bn (BatchNorma  (None, 56, 56, 24)  96          ['block2b_project_conv[0][0]']   \n",
            " lization)                                                                                        \n",
            "                                                                                                  \n",
            " block2b_drop (Dropout)         (None, 56, 56, 24)   0           ['block2b_project_bn[0][0]']     \n",
            "                                                                                                  \n",
            " block2b_add (Add)              (None, 56, 56, 24)   0           ['block2b_drop[0][0]',           \n",
            "                                                                  'block2a_project_bn[0][0]']     \n",
            "                                                                                                  \n",
            " block2c_expand_conv (Conv2D)   (None, 56, 56, 144)  3456        ['block2b_add[0][0]']            \n",
            "                                                                                                  \n",
            " block2c_expand_bn (BatchNormal  (None, 56, 56, 144)  576        ['block2c_expand_conv[0][0]']    \n",
            " ization)                                                                                         \n",
            "                                                                                                  \n",
            " block2c_expand_activation (Act  (None, 56, 56, 144)  0          ['block2c_expand_bn[0][0]']      \n",
            " ivation)                                                                                         \n",
            "                                                                                                  \n",
            " block2c_dwconv (DepthwiseConv2  (None, 56, 56, 144)  1296       ['block2c_expand_activation[0][0]\n",
            " D)                                                              ']                               \n",
            "                                                                                                  \n",
            " block2c_bn (BatchNormalization  (None, 56, 56, 144)  576        ['block2c_dwconv[0][0]']         \n",
            " )                                                                                                \n",
            "                                                                                                  \n",
            " block2c_activation (Activation  (None, 56, 56, 144)  0          ['block2c_bn[0][0]']             \n",
            " )                                                                                                \n",
            "                                                                                                  \n",
            " block2c_se_squeeze (GlobalAver  (None, 144)         0           ['block2c_activation[0][0]']     \n",
            " agePooling2D)                                                                                    \n",
            "                                                                                                  \n",
            " block2c_se_reshape (Reshape)   (None, 1, 1, 144)    0           ['block2c_se_squeeze[0][0]']     \n",
            "                                                                                                  \n",
            " block2c_se_reduce (Conv2D)     (None, 1, 1, 6)      870         ['block2c_se_reshape[0][0]']     \n",
            "                                                                                                  \n",
            " block2c_se_expand (Conv2D)     (None, 1, 1, 144)    1008        ['block2c_se_reduce[0][0]']      \n",
            "                                                                                                  \n",
            " block2c_se_excite (Multiply)   (None, 56, 56, 144)  0           ['block2c_activation[0][0]',     \n",
            "                                                                  'block2c_se_expand[0][0]']      \n",
            "                                                                                                  \n",
            " block2c_project_conv (Conv2D)  (None, 56, 56, 24)   3456        ['block2c_se_excite[0][0]']      \n",
            "                                                                                                  \n",
            " block2c_project_bn (BatchNorma  (None, 56, 56, 24)  96          ['block2c_project_conv[0][0]']   \n",
            " lization)                                                                                        \n",
            "                                                                                                  \n",
            " block2c_drop (Dropout)         (None, 56, 56, 24)   0           ['block2c_project_bn[0][0]']     \n",
            "                                                                                                  \n",
            " block2c_add (Add)              (None, 56, 56, 24)   0           ['block2c_drop[0][0]',           \n",
            "                                                                  'block2b_add[0][0]']            \n",
            "                                                                                                  \n",
            " block3a_expand_conv (Conv2D)   (None, 56, 56, 144)  3456        ['block2c_add[0][0]']            \n",
            "                                                                                                  \n",
            " block3a_expand_bn (BatchNormal  (None, 56, 56, 144)  576        ['block3a_expand_conv[0][0]']    \n",
            " ization)                                                                                         \n",
            "                                                                                                  \n",
            " block3a_expand_activation (Act  (None, 56, 56, 144)  0          ['block3a_expand_bn[0][0]']      \n",
            " ivation)                                                                                         \n",
            "                                                                                                  \n",
            " block3a_dwconv_pad (ZeroPaddin  (None, 59, 59, 144)  0          ['block3a_expand_activation[0][0]\n",
            " g2D)                                                            ']                               \n",
            "                                                                                                  \n",
            " block3a_dwconv (DepthwiseConv2  (None, 28, 28, 144)  3600       ['block3a_dwconv_pad[0][0]']     \n",
            " D)                                                                                               \n",
            "                                                                                                  \n",
            " block3a_bn (BatchNormalization  (None, 28, 28, 144)  576        ['block3a_dwconv[0][0]']         \n",
            " )                                                                                                \n",
            "                                                                                                  \n",
            " block3a_activation (Activation  (None, 28, 28, 144)  0          ['block3a_bn[0][0]']             \n",
            " )                                                                                                \n",
            "                                                                                                  \n",
            " block3a_se_squeeze (GlobalAver  (None, 144)         0           ['block3a_activation[0][0]']     \n",
            " agePooling2D)                                                                                    \n",
            "                                                                                                  \n",
            " block3a_se_reshape (Reshape)   (None, 1, 1, 144)    0           ['block3a_se_squeeze[0][0]']     \n",
            "                                                                                                  \n",
            " block3a_se_reduce (Conv2D)     (None, 1, 1, 6)      870         ['block3a_se_reshape[0][0]']     \n",
            "                                                                                                  \n",
            " block3a_se_expand (Conv2D)     (None, 1, 1, 144)    1008        ['block3a_se_reduce[0][0]']      \n",
            "                                                                                                  \n",
            " block3a_se_excite (Multiply)   (None, 28, 28, 144)  0           ['block3a_activation[0][0]',     \n",
            "                                                                  'block3a_se_expand[0][0]']      \n",
            "                                                                                                  \n",
            " block3a_project_conv (Conv2D)  (None, 28, 28, 40)   5760        ['block3a_se_excite[0][0]']      \n",
            "                                                                                                  \n",
            " block3a_project_bn (BatchNorma  (None, 28, 28, 40)  160         ['block3a_project_conv[0][0]']   \n",
            " lization)                                                                                        \n",
            "                                                                                                  \n",
            " block3b_expand_conv (Conv2D)   (None, 28, 28, 240)  9600        ['block3a_project_bn[0][0]']     \n",
            "                                                                                                  \n",
            " block3b_expand_bn (BatchNormal  (None, 28, 28, 240)  960        ['block3b_expand_conv[0][0]']    \n",
            " ization)                                                                                         \n",
            "                                                                                                  \n",
            " block3b_expand_activation (Act  (None, 28, 28, 240)  0          ['block3b_expand_bn[0][0]']      \n",
            " ivation)                                                                                         \n",
            "                                                                                                  \n",
            " block3b_dwconv (DepthwiseConv2  (None, 28, 28, 240)  6000       ['block3b_expand_activation[0][0]\n",
            " D)                                                              ']                               \n",
            "                                                                                                  \n",
            " block3b_bn (BatchNormalization  (None, 28, 28, 240)  960        ['block3b_dwconv[0][0]']         \n",
            " )                                                                                                \n",
            "                                                                                                  \n",
            " block3b_activation (Activation  (None, 28, 28, 240)  0          ['block3b_bn[0][0]']             \n",
            " )                                                                                                \n",
            "                                                                                                  \n",
            " block3b_se_squeeze (GlobalAver  (None, 240)         0           ['block3b_activation[0][0]']     \n",
            " agePooling2D)                                                                                    \n",
            "                                                                                                  \n",
            " block3b_se_reshape (Reshape)   (None, 1, 1, 240)    0           ['block3b_se_squeeze[0][0]']     \n",
            "                                                                                                  \n",
            " block3b_se_reduce (Conv2D)     (None, 1, 1, 10)     2410        ['block3b_se_reshape[0][0]']     \n",
            "                                                                                                  \n",
            " block3b_se_expand (Conv2D)     (None, 1, 1, 240)    2640        ['block3b_se_reduce[0][0]']      \n",
            "                                                                                                  \n",
            " block3b_se_excite (Multiply)   (None, 28, 28, 240)  0           ['block3b_activation[0][0]',     \n",
            "                                                                  'block3b_se_expand[0][0]']      \n",
            "                                                                                                  \n",
            " block3b_project_conv (Conv2D)  (None, 28, 28, 40)   9600        ['block3b_se_excite[0][0]']      \n",
            "                                                                                                  \n",
            " block3b_project_bn (BatchNorma  (None, 28, 28, 40)  160         ['block3b_project_conv[0][0]']   \n",
            " lization)                                                                                        \n",
            "                                                                                                  \n",
            " block3b_drop (Dropout)         (None, 28, 28, 40)   0           ['block3b_project_bn[0][0]']     \n",
            "                                                                                                  \n",
            " block3b_add (Add)              (None, 28, 28, 40)   0           ['block3b_drop[0][0]',           \n",
            "                                                                  'block3a_project_bn[0][0]']     \n",
            "                                                                                                  \n",
            " block3c_expand_conv (Conv2D)   (None, 28, 28, 240)  9600        ['block3b_add[0][0]']            \n",
            "                                                                                                  \n",
            " block3c_expand_bn (BatchNormal  (None, 28, 28, 240)  960        ['block3c_expand_conv[0][0]']    \n",
            " ization)                                                                                         \n",
            "                                                                                                  \n",
            " block3c_expand_activation (Act  (None, 28, 28, 240)  0          ['block3c_expand_bn[0][0]']      \n",
            " ivation)                                                                                         \n",
            "                                                                                                  \n",
            " block3c_dwconv (DepthwiseConv2  (None, 28, 28, 240)  6000       ['block3c_expand_activation[0][0]\n",
            " D)                                                              ']                               \n",
            "                                                                                                  \n",
            " block3c_bn (BatchNormalization  (None, 28, 28, 240)  960        ['block3c_dwconv[0][0]']         \n",
            " )                                                                                                \n",
            "                                                                                                  \n",
            " block3c_activation (Activation  (None, 28, 28, 240)  0          ['block3c_bn[0][0]']             \n",
            " )                                                                                                \n",
            "                                                                                                  \n",
            " block3c_se_squeeze (GlobalAver  (None, 240)         0           ['block3c_activation[0][0]']     \n",
            " agePooling2D)                                                                                    \n",
            "                                                                                                  \n",
            " block3c_se_reshape (Reshape)   (None, 1, 1, 240)    0           ['block3c_se_squeeze[0][0]']     \n",
            "                                                                                                  \n",
            " block3c_se_reduce (Conv2D)     (None, 1, 1, 10)     2410        ['block3c_se_reshape[0][0]']     \n",
            "                                                                                                  \n",
            " block3c_se_expand (Conv2D)     (None, 1, 1, 240)    2640        ['block3c_se_reduce[0][0]']      \n",
            "                                                                                                  \n",
            " block3c_se_excite (Multiply)   (None, 28, 28, 240)  0           ['block3c_activation[0][0]',     \n",
            "                                                                  'block3c_se_expand[0][0]']      \n",
            "                                                                                                  \n",
            " block3c_project_conv (Conv2D)  (None, 28, 28, 40)   9600        ['block3c_se_excite[0][0]']      \n",
            "                                                                                                  \n",
            " block3c_project_bn (BatchNorma  (None, 28, 28, 40)  160         ['block3c_project_conv[0][0]']   \n",
            " lization)                                                                                        \n",
            "                                                                                                  \n",
            " block3c_drop (Dropout)         (None, 28, 28, 40)   0           ['block3c_project_bn[0][0]']     \n",
            "                                                                                                  \n",
            " block3c_add (Add)              (None, 28, 28, 40)   0           ['block3c_drop[0][0]',           \n",
            "                                                                  'block3b_add[0][0]']            \n",
            "                                                                                                  \n",
            " block4a_expand_conv (Conv2D)   (None, 28, 28, 240)  9600        ['block3c_add[0][0]']            \n",
            "                                                                                                  \n",
            " block4a_expand_bn (BatchNormal  (None, 28, 28, 240)  960        ['block4a_expand_conv[0][0]']    \n",
            " ization)                                                                                         \n",
            "                                                                                                  \n",
            " block4a_expand_activation (Act  (None, 28, 28, 240)  0          ['block4a_expand_bn[0][0]']      \n",
            " ivation)                                                                                         \n",
            "                                                                                                  \n",
            " block4a_dwconv_pad (ZeroPaddin  (None, 29, 29, 240)  0          ['block4a_expand_activation[0][0]\n",
            " g2D)                                                            ']                               \n",
            "                                                                                                  \n",
            " block4a_dwconv (DepthwiseConv2  (None, 14, 14, 240)  2160       ['block4a_dwconv_pad[0][0]']     \n",
            " D)                                                                                               \n",
            "                                                                                                  \n",
            " block4a_bn (BatchNormalization  (None, 14, 14, 240)  960        ['block4a_dwconv[0][0]']         \n",
            " )                                                                                                \n",
            "                                                                                                  \n",
            " block4a_activation (Activation  (None, 14, 14, 240)  0          ['block4a_bn[0][0]']             \n",
            " )                                                                                                \n",
            "                                                                                                  \n",
            " block4a_se_squeeze (GlobalAver  (None, 240)         0           ['block4a_activation[0][0]']     \n",
            " agePooling2D)                                                                                    \n",
            "                                                                                                  \n",
            " block4a_se_reshape (Reshape)   (None, 1, 1, 240)    0           ['block4a_se_squeeze[0][0]']     \n",
            "                                                                                                  \n",
            " block4a_se_reduce (Conv2D)     (None, 1, 1, 10)     2410        ['block4a_se_reshape[0][0]']     \n",
            "                                                                                                  \n",
            " block4a_se_expand (Conv2D)     (None, 1, 1, 240)    2640        ['block4a_se_reduce[0][0]']      \n",
            "                                                                                                  \n",
            " block4a_se_excite (Multiply)   (None, 14, 14, 240)  0           ['block4a_activation[0][0]',     \n",
            "                                                                  'block4a_se_expand[0][0]']      \n",
            "                                                                                                  \n",
            " block4a_project_conv (Conv2D)  (None, 14, 14, 80)   19200       ['block4a_se_excite[0][0]']      \n",
            "                                                                                                  \n",
            " block4a_project_bn (BatchNorma  (None, 14, 14, 80)  320         ['block4a_project_conv[0][0]']   \n",
            " lization)                                                                                        \n",
            "                                                                                                  \n",
            " block4b_expand_conv (Conv2D)   (None, 14, 14, 480)  38400       ['block4a_project_bn[0][0]']     \n",
            "                                                                                                  \n",
            " block4b_expand_bn (BatchNormal  (None, 14, 14, 480)  1920       ['block4b_expand_conv[0][0]']    \n",
            " ization)                                                                                         \n",
            "                                                                                                  \n",
            " block4b_expand_activation (Act  (None, 14, 14, 480)  0          ['block4b_expand_bn[0][0]']      \n",
            " ivation)                                                                                         \n",
            "                                                                                                  \n",
            " block4b_dwconv (DepthwiseConv2  (None, 14, 14, 480)  4320       ['block4b_expand_activation[0][0]\n",
            " D)                                                              ']                               \n",
            "                                                                                                  \n",
            " block4b_bn (BatchNormalization  (None, 14, 14, 480)  1920       ['block4b_dwconv[0][0]']         \n",
            " )                                                                                                \n",
            "                                                                                                  \n",
            " block4b_activation (Activation  (None, 14, 14, 480)  0          ['block4b_bn[0][0]']             \n",
            " )                                                                                                \n",
            "                                                                                                  \n",
            " block4b_se_squeeze (GlobalAver  (None, 480)         0           ['block4b_activation[0][0]']     \n",
            " agePooling2D)                                                                                    \n",
            "                                                                                                  \n",
            " block4b_se_reshape (Reshape)   (None, 1, 1, 480)    0           ['block4b_se_squeeze[0][0]']     \n",
            "                                                                                                  \n",
            " block4b_se_reduce (Conv2D)     (None, 1, 1, 20)     9620        ['block4b_se_reshape[0][0]']     \n",
            "                                                                                                  \n",
            " block4b_se_expand (Conv2D)     (None, 1, 1, 480)    10080       ['block4b_se_reduce[0][0]']      \n",
            "                                                                                                  \n",
            " block4b_se_excite (Multiply)   (None, 14, 14, 480)  0           ['block4b_activation[0][0]',     \n",
            "                                                                  'block4b_se_expand[0][0]']      \n",
            "                                                                                                  \n",
            " block4b_project_conv (Conv2D)  (None, 14, 14, 80)   38400       ['block4b_se_excite[0][0]']      \n",
            "                                                                                                  \n",
            " block4b_project_bn (BatchNorma  (None, 14, 14, 80)  320         ['block4b_project_conv[0][0]']   \n",
            " lization)                                                                                        \n",
            "                                                                                                  \n",
            " block4b_drop (Dropout)         (None, 14, 14, 80)   0           ['block4b_project_bn[0][0]']     \n",
            "                                                                                                  \n",
            " block4b_add (Add)              (None, 14, 14, 80)   0           ['block4b_drop[0][0]',           \n",
            "                                                                  'block4a_project_bn[0][0]']     \n",
            "                                                                                                  \n",
            " block4c_expand_conv (Conv2D)   (None, 14, 14, 480)  38400       ['block4b_add[0][0]']            \n",
            "                                                                                                  \n",
            " block4c_expand_bn (BatchNormal  (None, 14, 14, 480)  1920       ['block4c_expand_conv[0][0]']    \n",
            " ization)                                                                                         \n",
            "                                                                                                  \n",
            " block4c_expand_activation (Act  (None, 14, 14, 480)  0          ['block4c_expand_bn[0][0]']      \n",
            " ivation)                                                                                         \n",
            "                                                                                                  \n",
            " block4c_dwconv (DepthwiseConv2  (None, 14, 14, 480)  4320       ['block4c_expand_activation[0][0]\n",
            " D)                                                              ']                               \n",
            "                                                                                                  \n",
            " block4c_bn (BatchNormalization  (None, 14, 14, 480)  1920       ['block4c_dwconv[0][0]']         \n",
            " )                                                                                                \n",
            "                                                                                                  \n",
            " block4c_activation (Activation  (None, 14, 14, 480)  0          ['block4c_bn[0][0]']             \n",
            " )                                                                                                \n",
            "                                                                                                  \n",
            " block4c_se_squeeze (GlobalAver  (None, 480)         0           ['block4c_activation[0][0]']     \n",
            " agePooling2D)                                                                                    \n",
            "                                                                                                  \n",
            " block4c_se_reshape (Reshape)   (None, 1, 1, 480)    0           ['block4c_se_squeeze[0][0]']     \n",
            "                                                                                                  \n",
            " block4c_se_reduce (Conv2D)     (None, 1, 1, 20)     9620        ['block4c_se_reshape[0][0]']     \n",
            "                                                                                                  \n",
            " block4c_se_expand (Conv2D)     (None, 1, 1, 480)    10080       ['block4c_se_reduce[0][0]']      \n",
            "                                                                                                  \n",
            " block4c_se_excite (Multiply)   (None, 14, 14, 480)  0           ['block4c_activation[0][0]',     \n",
            "                                                                  'block4c_se_expand[0][0]']      \n",
            "                                                                                                  \n",
            " block4c_project_conv (Conv2D)  (None, 14, 14, 80)   38400       ['block4c_se_excite[0][0]']      \n",
            "                                                                                                  \n",
            " block4c_project_bn (BatchNorma  (None, 14, 14, 80)  320         ['block4c_project_conv[0][0]']   \n",
            " lization)                                                                                        \n",
            "                                                                                                  \n",
            " block4c_drop (Dropout)         (None, 14, 14, 80)   0           ['block4c_project_bn[0][0]']     \n",
            "                                                                                                  \n",
            " block4c_add (Add)              (None, 14, 14, 80)   0           ['block4c_drop[0][0]',           \n",
            "                                                                  'block4b_add[0][0]']            \n",
            "                                                                                                  \n",
            " block4d_expand_conv (Conv2D)   (None, 14, 14, 480)  38400       ['block4c_add[0][0]']            \n",
            "                                                                                                  \n",
            " block4d_expand_bn (BatchNormal  (None, 14, 14, 480)  1920       ['block4d_expand_conv[0][0]']    \n",
            " ization)                                                                                         \n",
            "                                                                                                  \n",
            " block4d_expand_activation (Act  (None, 14, 14, 480)  0          ['block4d_expand_bn[0][0]']      \n",
            " ivation)                                                                                         \n",
            "                                                                                                  \n",
            " block4d_dwconv (DepthwiseConv2  (None, 14, 14, 480)  4320       ['block4d_expand_activation[0][0]\n",
            " D)                                                              ']                               \n",
            "                                                                                                  \n",
            " block4d_bn (BatchNormalization  (None, 14, 14, 480)  1920       ['block4d_dwconv[0][0]']         \n",
            " )                                                                                                \n",
            "                                                                                                  \n",
            " block4d_activation (Activation  (None, 14, 14, 480)  0          ['block4d_bn[0][0]']             \n",
            " )                                                                                                \n",
            "                                                                                                  \n",
            " block4d_se_squeeze (GlobalAver  (None, 480)         0           ['block4d_activation[0][0]']     \n",
            " agePooling2D)                                                                                    \n",
            "                                                                                                  \n",
            " block4d_se_reshape (Reshape)   (None, 1, 1, 480)    0           ['block4d_se_squeeze[0][0]']     \n",
            "                                                                                                  \n",
            " block4d_se_reduce (Conv2D)     (None, 1, 1, 20)     9620        ['block4d_se_reshape[0][0]']     \n",
            "                                                                                                  \n",
            " block4d_se_expand (Conv2D)     (None, 1, 1, 480)    10080       ['block4d_se_reduce[0][0]']      \n",
            "                                                                                                  \n",
            " block4d_se_excite (Multiply)   (None, 14, 14, 480)  0           ['block4d_activation[0][0]',     \n",
            "                                                                  'block4d_se_expand[0][0]']      \n",
            "                                                                                                  \n",
            " block4d_project_conv (Conv2D)  (None, 14, 14, 80)   38400       ['block4d_se_excite[0][0]']      \n",
            "                                                                                                  \n",
            " block4d_project_bn (BatchNorma  (None, 14, 14, 80)  320         ['block4d_project_conv[0][0]']   \n",
            " lization)                                                                                        \n",
            "                                                                                                  \n",
            " block4d_drop (Dropout)         (None, 14, 14, 80)   0           ['block4d_project_bn[0][0]']     \n",
            "                                                                                                  \n",
            " block4d_add (Add)              (None, 14, 14, 80)   0           ['block4d_drop[0][0]',           \n",
            "                                                                  'block4c_add[0][0]']            \n",
            "                                                                                                  \n",
            " block5a_expand_conv (Conv2D)   (None, 14, 14, 480)  38400       ['block4d_add[0][0]']            \n",
            "                                                                                                  \n",
            " block5a_expand_bn (BatchNormal  (None, 14, 14, 480)  1920       ['block5a_expand_conv[0][0]']    \n",
            " ization)                                                                                         \n",
            "                                                                                                  \n",
            " block5a_expand_activation (Act  (None, 14, 14, 480)  0          ['block5a_expand_bn[0][0]']      \n",
            " ivation)                                                                                         \n",
            "                                                                                                  \n",
            " block5a_dwconv (DepthwiseConv2  (None, 14, 14, 480)  12000      ['block5a_expand_activation[0][0]\n",
            " D)                                                              ']                               \n",
            "                                                                                                  \n",
            " block5a_bn (BatchNormalization  (None, 14, 14, 480)  1920       ['block5a_dwconv[0][0]']         \n",
            " )                                                                                                \n",
            "                                                                                                  \n",
            " block5a_activation (Activation  (None, 14, 14, 480)  0          ['block5a_bn[0][0]']             \n",
            " )                                                                                                \n",
            "                                                                                                  \n",
            " block5a_se_squeeze (GlobalAver  (None, 480)         0           ['block5a_activation[0][0]']     \n",
            " agePooling2D)                                                                                    \n",
            "                                                                                                  \n",
            " block5a_se_reshape (Reshape)   (None, 1, 1, 480)    0           ['block5a_se_squeeze[0][0]']     \n",
            "                                                                                                  \n",
            " block5a_se_reduce (Conv2D)     (None, 1, 1, 20)     9620        ['block5a_se_reshape[0][0]']     \n",
            "                                                                                                  \n",
            " block5a_se_expand (Conv2D)     (None, 1, 1, 480)    10080       ['block5a_se_reduce[0][0]']      \n",
            "                                                                                                  \n",
            " block5a_se_excite (Multiply)   (None, 14, 14, 480)  0           ['block5a_activation[0][0]',     \n",
            "                                                                  'block5a_se_expand[0][0]']      \n",
            "                                                                                                  \n",
            " block5a_project_conv (Conv2D)  (None, 14, 14, 112)  53760       ['block5a_se_excite[0][0]']      \n",
            "                                                                                                  \n",
            " block5a_project_bn (BatchNorma  (None, 14, 14, 112)  448        ['block5a_project_conv[0][0]']   \n",
            " lization)                                                                                        \n",
            "                                                                                                  \n",
            " block5b_expand_conv (Conv2D)   (None, 14, 14, 672)  75264       ['block5a_project_bn[0][0]']     \n",
            "                                                                                                  \n",
            " block5b_expand_bn (BatchNormal  (None, 14, 14, 672)  2688       ['block5b_expand_conv[0][0]']    \n",
            " ization)                                                                                         \n",
            "                                                                                                  \n",
            " block5b_expand_activation (Act  (None, 14, 14, 672)  0          ['block5b_expand_bn[0][0]']      \n",
            " ivation)                                                                                         \n",
            "                                                                                                  \n",
            " block5b_dwconv (DepthwiseConv2  (None, 14, 14, 672)  16800      ['block5b_expand_activation[0][0]\n",
            " D)                                                              ']                               \n",
            "                                                                                                  \n",
            " block5b_bn (BatchNormalization  (None, 14, 14, 672)  2688       ['block5b_dwconv[0][0]']         \n",
            " )                                                                                                \n",
            "                                                                                                  \n",
            " block5b_activation (Activation  (None, 14, 14, 672)  0          ['block5b_bn[0][0]']             \n",
            " )                                                                                                \n",
            "                                                                                                  \n",
            " block5b_se_squeeze (GlobalAver  (None, 672)         0           ['block5b_activation[0][0]']     \n",
            " agePooling2D)                                                                                    \n",
            "                                                                                                  \n",
            " block5b_se_reshape (Reshape)   (None, 1, 1, 672)    0           ['block5b_se_squeeze[0][0]']     \n",
            "                                                                                                  \n",
            " block5b_se_reduce (Conv2D)     (None, 1, 1, 28)     18844       ['block5b_se_reshape[0][0]']     \n",
            "                                                                                                  \n",
            " block5b_se_expand (Conv2D)     (None, 1, 1, 672)    19488       ['block5b_se_reduce[0][0]']      \n",
            "                                                                                                  \n",
            " block5b_se_excite (Multiply)   (None, 14, 14, 672)  0           ['block5b_activation[0][0]',     \n",
            "                                                                  'block5b_se_expand[0][0]']      \n",
            "                                                                                                  \n",
            " block5b_project_conv (Conv2D)  (None, 14, 14, 112)  75264       ['block5b_se_excite[0][0]']      \n",
            "                                                                                                  \n",
            " block5b_project_bn (BatchNorma  (None, 14, 14, 112)  448        ['block5b_project_conv[0][0]']   \n",
            " lization)                                                                                        \n",
            "                                                                                                  \n",
            " block5b_drop (Dropout)         (None, 14, 14, 112)  0           ['block5b_project_bn[0][0]']     \n",
            "                                                                                                  \n",
            " block5b_add (Add)              (None, 14, 14, 112)  0           ['block5b_drop[0][0]',           \n",
            "                                                                  'block5a_project_bn[0][0]']     \n",
            "                                                                                                  \n",
            " block5c_expand_conv (Conv2D)   (None, 14, 14, 672)  75264       ['block5b_add[0][0]']            \n",
            "                                                                                                  \n",
            " block5c_expand_bn (BatchNormal  (None, 14, 14, 672)  2688       ['block5c_expand_conv[0][0]']    \n",
            " ization)                                                                                         \n",
            "                                                                                                  \n",
            " block5c_expand_activation (Act  (None, 14, 14, 672)  0          ['block5c_expand_bn[0][0]']      \n",
            " ivation)                                                                                         \n",
            "                                                                                                  \n",
            " block5c_dwconv (DepthwiseConv2  (None, 14, 14, 672)  16800      ['block5c_expand_activation[0][0]\n",
            " D)                                                              ']                               \n",
            "                                                                                                  \n",
            " block5c_bn (BatchNormalization  (None, 14, 14, 672)  2688       ['block5c_dwconv[0][0]']         \n",
            " )                                                                                                \n",
            "                                                                                                  \n",
            " block5c_activation (Activation  (None, 14, 14, 672)  0          ['block5c_bn[0][0]']             \n",
            " )                                                                                                \n",
            "                                                                                                  \n",
            " block5c_se_squeeze (GlobalAver  (None, 672)         0           ['block5c_activation[0][0]']     \n",
            " agePooling2D)                                                                                    \n",
            "                                                                                                  \n",
            " block5c_se_reshape (Reshape)   (None, 1, 1, 672)    0           ['block5c_se_squeeze[0][0]']     \n",
            "                                                                                                  \n",
            " block5c_se_reduce (Conv2D)     (None, 1, 1, 28)     18844       ['block5c_se_reshape[0][0]']     \n",
            "                                                                                                  \n",
            " block5c_se_expand (Conv2D)     (None, 1, 1, 672)    19488       ['block5c_se_reduce[0][0]']      \n",
            "                                                                                                  \n",
            " block5c_se_excite (Multiply)   (None, 14, 14, 672)  0           ['block5c_activation[0][0]',     \n",
            "                                                                  'block5c_se_expand[0][0]']      \n",
            "                                                                                                  \n",
            " block5c_project_conv (Conv2D)  (None, 14, 14, 112)  75264       ['block5c_se_excite[0][0]']      \n",
            "                                                                                                  \n",
            " block5c_project_bn (BatchNorma  (None, 14, 14, 112)  448        ['block5c_project_conv[0][0]']   \n",
            " lization)                                                                                        \n",
            "                                                                                                  \n",
            " block5c_drop (Dropout)         (None, 14, 14, 112)  0           ['block5c_project_bn[0][0]']     \n",
            "                                                                                                  \n",
            " block5c_add (Add)              (None, 14, 14, 112)  0           ['block5c_drop[0][0]',           \n",
            "                                                                  'block5b_add[0][0]']            \n",
            "                                                                                                  \n",
            " block5d_expand_conv (Conv2D)   (None, 14, 14, 672)  75264       ['block5c_add[0][0]']            \n",
            "                                                                                                  \n",
            " block5d_expand_bn (BatchNormal  (None, 14, 14, 672)  2688       ['block5d_expand_conv[0][0]']    \n",
            " ization)                                                                                         \n",
            "                                                                                                  \n",
            " block5d_expand_activation (Act  (None, 14, 14, 672)  0          ['block5d_expand_bn[0][0]']      \n",
            " ivation)                                                                                         \n",
            "                                                                                                  \n",
            " block5d_dwconv (DepthwiseConv2  (None, 14, 14, 672)  16800      ['block5d_expand_activation[0][0]\n",
            " D)                                                              ']                               \n",
            "                                                                                                  \n",
            " block5d_bn (BatchNormalization  (None, 14, 14, 672)  2688       ['block5d_dwconv[0][0]']         \n",
            " )                                                                                                \n",
            "                                                                                                  \n",
            " block5d_activation (Activation  (None, 14, 14, 672)  0          ['block5d_bn[0][0]']             \n",
            " )                                                                                                \n",
            "                                                                                                  \n",
            " block5d_se_squeeze (GlobalAver  (None, 672)         0           ['block5d_activation[0][0]']     \n",
            " agePooling2D)                                                                                    \n",
            "                                                                                                  \n",
            " block5d_se_reshape (Reshape)   (None, 1, 1, 672)    0           ['block5d_se_squeeze[0][0]']     \n",
            "                                                                                                  \n",
            " block5d_se_reduce (Conv2D)     (None, 1, 1, 28)     18844       ['block5d_se_reshape[0][0]']     \n",
            "                                                                                                  \n",
            " block5d_se_expand (Conv2D)     (None, 1, 1, 672)    19488       ['block5d_se_reduce[0][0]']      \n",
            "                                                                                                  \n",
            " block5d_se_excite (Multiply)   (None, 14, 14, 672)  0           ['block5d_activation[0][0]',     \n",
            "                                                                  'block5d_se_expand[0][0]']      \n",
            "                                                                                                  \n",
            " block5d_project_conv (Conv2D)  (None, 14, 14, 112)  75264       ['block5d_se_excite[0][0]']      \n",
            "                                                                                                  \n",
            " block5d_project_bn (BatchNorma  (None, 14, 14, 112)  448        ['block5d_project_conv[0][0]']   \n",
            " lization)                                                                                        \n",
            "                                                                                                  \n",
            " block5d_drop (Dropout)         (None, 14, 14, 112)  0           ['block5d_project_bn[0][0]']     \n",
            "                                                                                                  \n",
            " block5d_add (Add)              (None, 14, 14, 112)  0           ['block5d_drop[0][0]',           \n",
            "                                                                  'block5c_add[0][0]']            \n",
            "                                                                                                  \n",
            " block6a_expand_conv (Conv2D)   (None, 14, 14, 672)  75264       ['block5d_add[0][0]']            \n",
            "                                                                                                  \n",
            " block6a_expand_bn (BatchNormal  (None, 14, 14, 672)  2688       ['block6a_expand_conv[0][0]']    \n",
            " ization)                                                                                         \n",
            "                                                                                                  \n",
            " block6a_expand_activation (Act  (None, 14, 14, 672)  0          ['block6a_expand_bn[0][0]']      \n",
            " ivation)                                                                                         \n",
            "                                                                                                  \n",
            " block6a_dwconv_pad (ZeroPaddin  (None, 17, 17, 672)  0          ['block6a_expand_activation[0][0]\n",
            " g2D)                                                            ']                               \n",
            "                                                                                                  \n",
            " block6a_dwconv (DepthwiseConv2  (None, 7, 7, 672)   16800       ['block6a_dwconv_pad[0][0]']     \n",
            " D)                                                                                               \n",
            "                                                                                                  \n",
            " block6a_bn (BatchNormalization  (None, 7, 7, 672)   2688        ['block6a_dwconv[0][0]']         \n",
            " )                                                                                                \n",
            "                                                                                                  \n",
            " block6a_activation (Activation  (None, 7, 7, 672)   0           ['block6a_bn[0][0]']             \n",
            " )                                                                                                \n",
            "                                                                                                  \n",
            " block6a_se_squeeze (GlobalAver  (None, 672)         0           ['block6a_activation[0][0]']     \n",
            " agePooling2D)                                                                                    \n",
            "                                                                                                  \n",
            " block6a_se_reshape (Reshape)   (None, 1, 1, 672)    0           ['block6a_se_squeeze[0][0]']     \n",
            "                                                                                                  \n",
            " block6a_se_reduce (Conv2D)     (None, 1, 1, 28)     18844       ['block6a_se_reshape[0][0]']     \n",
            "                                                                                                  \n",
            " block6a_se_expand (Conv2D)     (None, 1, 1, 672)    19488       ['block6a_se_reduce[0][0]']      \n",
            "                                                                                                  \n",
            " block6a_se_excite (Multiply)   (None, 7, 7, 672)    0           ['block6a_activation[0][0]',     \n",
            "                                                                  'block6a_se_expand[0][0]']      \n",
            "                                                                                                  \n",
            " block6a_project_conv (Conv2D)  (None, 7, 7, 192)    129024      ['block6a_se_excite[0][0]']      \n",
            "                                                                                                  \n",
            " block6a_project_bn (BatchNorma  (None, 7, 7, 192)   768         ['block6a_project_conv[0][0]']   \n",
            " lization)                                                                                        \n",
            "                                                                                                  \n",
            " block6b_expand_conv (Conv2D)   (None, 7, 7, 1152)   221184      ['block6a_project_bn[0][0]']     \n",
            "                                                                                                  \n",
            " block6b_expand_bn (BatchNormal  (None, 7, 7, 1152)  4608        ['block6b_expand_conv[0][0]']    \n",
            " ization)                                                                                         \n",
            "                                                                                                  \n",
            " block6b_expand_activation (Act  (None, 7, 7, 1152)  0           ['block6b_expand_bn[0][0]']      \n",
            " ivation)                                                                                         \n",
            "                                                                                                  \n",
            " block6b_dwconv (DepthwiseConv2  (None, 7, 7, 1152)  28800       ['block6b_expand_activation[0][0]\n",
            " D)                                                              ']                               \n",
            "                                                                                                  \n",
            " block6b_bn (BatchNormalization  (None, 7, 7, 1152)  4608        ['block6b_dwconv[0][0]']         \n",
            " )                                                                                                \n",
            "                                                                                                  \n",
            " block6b_activation (Activation  (None, 7, 7, 1152)  0           ['block6b_bn[0][0]']             \n",
            " )                                                                                                \n",
            "                                                                                                  \n",
            " block6b_se_squeeze (GlobalAver  (None, 1152)        0           ['block6b_activation[0][0]']     \n",
            " agePooling2D)                                                                                    \n",
            "                                                                                                  \n",
            " block6b_se_reshape (Reshape)   (None, 1, 1, 1152)   0           ['block6b_se_squeeze[0][0]']     \n",
            "                                                                                                  \n",
            " block6b_se_reduce (Conv2D)     (None, 1, 1, 48)     55344       ['block6b_se_reshape[0][0]']     \n",
            "                                                                                                  \n",
            " block6b_se_expand (Conv2D)     (None, 1, 1, 1152)   56448       ['block6b_se_reduce[0][0]']      \n",
            "                                                                                                  \n",
            " block6b_se_excite (Multiply)   (None, 7, 7, 1152)   0           ['block6b_activation[0][0]',     \n",
            "                                                                  'block6b_se_expand[0][0]']      \n",
            "                                                                                                  \n",
            " block6b_project_conv (Conv2D)  (None, 7, 7, 192)    221184      ['block6b_se_excite[0][0]']      \n",
            "                                                                                                  \n",
            " block6b_project_bn (BatchNorma  (None, 7, 7, 192)   768         ['block6b_project_conv[0][0]']   \n",
            " lization)                                                                                        \n",
            "                                                                                                  \n",
            " block6b_drop (Dropout)         (None, 7, 7, 192)    0           ['block6b_project_bn[0][0]']     \n",
            "                                                                                                  \n",
            " block6b_add (Add)              (None, 7, 7, 192)    0           ['block6b_drop[0][0]',           \n",
            "                                                                  'block6a_project_bn[0][0]']     \n",
            "                                                                                                  \n",
            " block6c_expand_conv (Conv2D)   (None, 7, 7, 1152)   221184      ['block6b_add[0][0]']            \n",
            "                                                                                                  \n",
            " block6c_expand_bn (BatchNormal  (None, 7, 7, 1152)  4608        ['block6c_expand_conv[0][0]']    \n",
            " ization)                                                                                         \n",
            "                                                                                                  \n",
            " block6c_expand_activation (Act  (None, 7, 7, 1152)  0           ['block6c_expand_bn[0][0]']      \n",
            " ivation)                                                                                         \n",
            "                                                                                                  \n",
            " block6c_dwconv (DepthwiseConv2  (None, 7, 7, 1152)  28800       ['block6c_expand_activation[0][0]\n",
            " D)                                                              ']                               \n",
            "                                                                                                  \n",
            " block6c_bn (BatchNormalization  (None, 7, 7, 1152)  4608        ['block6c_dwconv[0][0]']         \n",
            " )                                                                                                \n",
            "                                                                                                  \n",
            " block6c_activation (Activation  (None, 7, 7, 1152)  0           ['block6c_bn[0][0]']             \n",
            " )                                                                                                \n",
            "                                                                                                  \n",
            " block6c_se_squeeze (GlobalAver  (None, 1152)        0           ['block6c_activation[0][0]']     \n",
            " agePooling2D)                                                                                    \n",
            "                                                                                                  \n",
            " block6c_se_reshape (Reshape)   (None, 1, 1, 1152)   0           ['block6c_se_squeeze[0][0]']     \n",
            "                                                                                                  \n",
            " block6c_se_reduce (Conv2D)     (None, 1, 1, 48)     55344       ['block6c_se_reshape[0][0]']     \n",
            "                                                                                                  \n",
            " block6c_se_expand (Conv2D)     (None, 1, 1, 1152)   56448       ['block6c_se_reduce[0][0]']      \n",
            "                                                                                                  \n",
            " block6c_se_excite (Multiply)   (None, 7, 7, 1152)   0           ['block6c_activation[0][0]',     \n",
            "                                                                  'block6c_se_expand[0][0]']      \n",
            "                                                                                                  \n",
            " block6c_project_conv (Conv2D)  (None, 7, 7, 192)    221184      ['block6c_se_excite[0][0]']      \n",
            "                                                                                                  \n",
            " block6c_project_bn (BatchNorma  (None, 7, 7, 192)   768         ['block6c_project_conv[0][0]']   \n",
            " lization)                                                                                        \n",
            "                                                                                                  \n",
            " block6c_drop (Dropout)         (None, 7, 7, 192)    0           ['block6c_project_bn[0][0]']     \n",
            "                                                                                                  \n",
            " block6c_add (Add)              (None, 7, 7, 192)    0           ['block6c_drop[0][0]',           \n",
            "                                                                  'block6b_add[0][0]']            \n",
            "                                                                                                  \n",
            " block6d_expand_conv (Conv2D)   (None, 7, 7, 1152)   221184      ['block6c_add[0][0]']            \n",
            "                                                                                                  \n",
            " block6d_expand_bn (BatchNormal  (None, 7, 7, 1152)  4608        ['block6d_expand_conv[0][0]']    \n",
            " ization)                                                                                         \n",
            "                                                                                                  \n",
            " block6d_expand_activation (Act  (None, 7, 7, 1152)  0           ['block6d_expand_bn[0][0]']      \n",
            " ivation)                                                                                         \n",
            "                                                                                                  \n",
            " block6d_dwconv (DepthwiseConv2  (None, 7, 7, 1152)  28800       ['block6d_expand_activation[0][0]\n",
            " D)                                                              ']                               \n",
            "                                                                                                  \n",
            " block6d_bn (BatchNormalization  (None, 7, 7, 1152)  4608        ['block6d_dwconv[0][0]']         \n",
            " )                                                                                                \n",
            "                                                                                                  \n",
            " block6d_activation (Activation  (None, 7, 7, 1152)  0           ['block6d_bn[0][0]']             \n",
            " )                                                                                                \n",
            "                                                                                                  \n",
            " block6d_se_squeeze (GlobalAver  (None, 1152)        0           ['block6d_activation[0][0]']     \n",
            " agePooling2D)                                                                                    \n",
            "                                                                                                  \n",
            " block6d_se_reshape (Reshape)   (None, 1, 1, 1152)   0           ['block6d_se_squeeze[0][0]']     \n",
            "                                                                                                  \n",
            " block6d_se_reduce (Conv2D)     (None, 1, 1, 48)     55344       ['block6d_se_reshape[0][0]']     \n",
            "                                                                                                  \n",
            " block6d_se_expand (Conv2D)     (None, 1, 1, 1152)   56448       ['block6d_se_reduce[0][0]']      \n",
            "                                                                                                  \n",
            " block6d_se_excite (Multiply)   (None, 7, 7, 1152)   0           ['block6d_activation[0][0]',     \n",
            "                                                                  'block6d_se_expand[0][0]']      \n",
            "                                                                                                  \n",
            " block6d_project_conv (Conv2D)  (None, 7, 7, 192)    221184      ['block6d_se_excite[0][0]']      \n",
            "                                                                                                  \n",
            " block6d_project_bn (BatchNorma  (None, 7, 7, 192)   768         ['block6d_project_conv[0][0]']   \n",
            " lization)                                                                                        \n",
            "                                                                                                  \n",
            " block6d_drop (Dropout)         (None, 7, 7, 192)    0           ['block6d_project_bn[0][0]']     \n",
            "                                                                                                  \n",
            " block6d_add (Add)              (None, 7, 7, 192)    0           ['block6d_drop[0][0]',           \n",
            "                                                                  'block6c_add[0][0]']            \n",
            "                                                                                                  \n",
            " block6e_expand_conv (Conv2D)   (None, 7, 7, 1152)   221184      ['block6d_add[0][0]']            \n",
            "                                                                                                  \n",
            " block6e_expand_bn (BatchNormal  (None, 7, 7, 1152)  4608        ['block6e_expand_conv[0][0]']    \n",
            " ization)                                                                                         \n",
            "                                                                                                  \n",
            " block6e_expand_activation (Act  (None, 7, 7, 1152)  0           ['block6e_expand_bn[0][0]']      \n",
            " ivation)                                                                                         \n",
            "                                                                                                  \n",
            " block6e_dwconv (DepthwiseConv2  (None, 7, 7, 1152)  28800       ['block6e_expand_activation[0][0]\n",
            " D)                                                              ']                               \n",
            "                                                                                                  \n",
            " block6e_bn (BatchNormalization  (None, 7, 7, 1152)  4608        ['block6e_dwconv[0][0]']         \n",
            " )                                                                                                \n",
            "                                                                                                  \n",
            " block6e_activation (Activation  (None, 7, 7, 1152)  0           ['block6e_bn[0][0]']             \n",
            " )                                                                                                \n",
            "                                                                                                  \n",
            " block6e_se_squeeze (GlobalAver  (None, 1152)        0           ['block6e_activation[0][0]']     \n",
            " agePooling2D)                                                                                    \n",
            "                                                                                                  \n",
            " block6e_se_reshape (Reshape)   (None, 1, 1, 1152)   0           ['block6e_se_squeeze[0][0]']     \n",
            "                                                                                                  \n",
            " block6e_se_reduce (Conv2D)     (None, 1, 1, 48)     55344       ['block6e_se_reshape[0][0]']     \n",
            "                                                                                                  \n",
            " block6e_se_expand (Conv2D)     (None, 1, 1, 1152)   56448       ['block6e_se_reduce[0][0]']      \n",
            "                                                                                                  \n",
            " block6e_se_excite (Multiply)   (None, 7, 7, 1152)   0           ['block6e_activation[0][0]',     \n",
            "                                                                  'block6e_se_expand[0][0]']      \n",
            "                                                                                                  \n",
            " block6e_project_conv (Conv2D)  (None, 7, 7, 192)    221184      ['block6e_se_excite[0][0]']      \n",
            "                                                                                                  \n",
            " block6e_project_bn (BatchNorma  (None, 7, 7, 192)   768         ['block6e_project_conv[0][0]']   \n",
            " lization)                                                                                        \n",
            "                                                                                                  \n",
            " block6e_drop (Dropout)         (None, 7, 7, 192)    0           ['block6e_project_bn[0][0]']     \n",
            "                                                                                                  \n",
            " block6e_add (Add)              (None, 7, 7, 192)    0           ['block6e_drop[0][0]',           \n",
            "                                                                  'block6d_add[0][0]']            \n",
            "                                                                                                  \n",
            " block7a_expand_conv (Conv2D)   (None, 7, 7, 1152)   221184      ['block6e_add[0][0]']            \n",
            "                                                                                                  \n",
            " block7a_expand_bn (BatchNormal  (None, 7, 7, 1152)  4608        ['block7a_expand_conv[0][0]']    \n",
            " ization)                                                                                         \n",
            "                                                                                                  \n",
            " block7a_expand_activation (Act  (None, 7, 7, 1152)  0           ['block7a_expand_bn[0][0]']      \n",
            " ivation)                                                                                         \n",
            "                                                                                                  \n",
            " block7a_dwconv (DepthwiseConv2  (None, 7, 7, 1152)  10368       ['block7a_expand_activation[0][0]\n",
            " D)                                                              ']                               \n",
            "                                                                                                  \n",
            " block7a_bn (BatchNormalization  (None, 7, 7, 1152)  4608        ['block7a_dwconv[0][0]']         \n",
            " )                                                                                                \n",
            "                                                                                                  \n",
            " block7a_activation (Activation  (None, 7, 7, 1152)  0           ['block7a_bn[0][0]']             \n",
            " )                                                                                                \n",
            "                                                                                                  \n",
            " block7a_se_squeeze (GlobalAver  (None, 1152)        0           ['block7a_activation[0][0]']     \n",
            " agePooling2D)                                                                                    \n",
            "                                                                                                  \n",
            " block7a_se_reshape (Reshape)   (None, 1, 1, 1152)   0           ['block7a_se_squeeze[0][0]']     \n",
            "                                                                                                  \n",
            " block7a_se_reduce (Conv2D)     (None, 1, 1, 48)     55344       ['block7a_se_reshape[0][0]']     \n",
            "                                                                                                  \n",
            " block7a_se_expand (Conv2D)     (None, 1, 1, 1152)   56448       ['block7a_se_reduce[0][0]']      \n",
            "                                                                                                  \n",
            " block7a_se_excite (Multiply)   (None, 7, 7, 1152)   0           ['block7a_activation[0][0]',     \n",
            "                                                                  'block7a_se_expand[0][0]']      \n",
            "                                                                                                  \n",
            " block7a_project_conv (Conv2D)  (None, 7, 7, 320)    368640      ['block7a_se_excite[0][0]']      \n",
            "                                                                                                  \n",
            " block7a_project_bn (BatchNorma  (None, 7, 7, 320)   1280        ['block7a_project_conv[0][0]']   \n",
            " lization)                                                                                        \n",
            "                                                                                                  \n",
            " block7b_expand_conv (Conv2D)   (None, 7, 7, 1920)   614400      ['block7a_project_bn[0][0]']     \n",
            "                                                                                                  \n",
            " block7b_expand_bn (BatchNormal  (None, 7, 7, 1920)  7680        ['block7b_expand_conv[0][0]']    \n",
            " ization)                                                                                         \n",
            "                                                                                                  \n",
            " block7b_expand_activation (Act  (None, 7, 7, 1920)  0           ['block7b_expand_bn[0][0]']      \n",
            " ivation)                                                                                         \n",
            "                                                                                                  \n",
            " block7b_dwconv (DepthwiseConv2  (None, 7, 7, 1920)  17280       ['block7b_expand_activation[0][0]\n",
            " D)                                                              ']                               \n",
            "                                                                                                  \n",
            " block7b_bn (BatchNormalization  (None, 7, 7, 1920)  7680        ['block7b_dwconv[0][0]']         \n",
            " )                                                                                                \n",
            "                                                                                                  \n",
            " block7b_activation (Activation  (None, 7, 7, 1920)  0           ['block7b_bn[0][0]']             \n",
            " )                                                                                                \n",
            "                                                                                                  \n",
            " block7b_se_squeeze (GlobalAver  (None, 1920)        0           ['block7b_activation[0][0]']     \n",
            " agePooling2D)                                                                                    \n",
            "                                                                                                  \n",
            " block7b_se_reshape (Reshape)   (None, 1, 1, 1920)   0           ['block7b_se_squeeze[0][0]']     \n",
            "                                                                                                  \n",
            " block7b_se_reduce (Conv2D)     (None, 1, 1, 80)     153680      ['block7b_se_reshape[0][0]']     \n",
            "                                                                                                  \n",
            " block7b_se_expand (Conv2D)     (None, 1, 1, 1920)   155520      ['block7b_se_reduce[0][0]']      \n",
            "                                                                                                  \n",
            " block7b_se_excite (Multiply)   (None, 7, 7, 1920)   0           ['block7b_activation[0][0]',     \n",
            "                                                                  'block7b_se_expand[0][0]']      \n",
            "                                                                                                  \n",
            " block7b_project_conv (Conv2D)  (None, 7, 7, 320)    614400      ['block7b_se_excite[0][0]']      \n",
            "                                                                                                  \n",
            " block7b_project_bn (BatchNorma  (None, 7, 7, 320)   1280        ['block7b_project_conv[0][0]']   \n",
            " lization)                                                                                        \n",
            "                                                                                                  \n",
            " block7b_drop (Dropout)         (None, 7, 7, 320)    0           ['block7b_project_bn[0][0]']     \n",
            "                                                                                                  \n",
            " block7b_add (Add)              (None, 7, 7, 320)    0           ['block7b_drop[0][0]',           \n",
            "                                                                  'block7a_project_bn[0][0]']     \n",
            "                                                                                                  \n",
            " top_conv (Conv2D)              (None, 7, 7, 1280)   409600      ['block7b_add[0][0]']            \n",
            "                                                                                                  \n",
            " top_bn (BatchNormalization)    (None, 7, 7, 1280)   5120        ['top_conv[0][0]']               \n",
            "                                                                                                  \n",
            " top_activation (Activation)    (None, 7, 7, 1280)   0           ['top_bn[0][0]']                 \n",
            "                                                                                                  \n",
            " global_average_pooling2d_1 (Gl  (None, 1280)        0           ['top_activation[0][0]']         \n",
            " obalAveragePooling2D)                                                                            \n",
            "                                                                                                  \n",
            " dense_3 (Dense)                (None, 512)          655872      ['global_average_pooling2d_1[0][0\n",
            "                                                                 ]']                              \n",
            "                                                                                                  \n",
            " activation_2 (Activation)      (None, 512)          0           ['dense_3[0][0]']                \n",
            "                                                                                                  \n",
            " dense_4 (Dense)                (None, 256)          131328      ['activation_2[0][0]']           \n",
            "                                                                                                  \n",
            " activation_3 (Activation)      (None, 256)          0           ['dense_4[0][0]']                \n",
            "                                                                                                  \n",
            " dense_5 (Dense)                (None, 128)          32896       ['activation_3[0][0]']           \n",
            "                                                                                                  \n",
            " unit_norm_layer_1 (UnitNormLay  (None, 128)         0           ['dense_5[0][0]']                \n",
            " er)                                                                                              \n",
            "                                                                                                  \n",
            " dropout (Dropout)              (None, 128)          0           ['unit_norm_layer_1[0][0]']      \n",
            "                                                                                                  \n",
            " dense_6 (Dense)                (None, 64)           8256        ['dropout[0][0]']                \n",
            "                                                                                                  \n",
            " dropout_1 (Dropout)            (None, 64)           0           ['dense_6[0][0]']                \n",
            "                                                                                                  \n",
            " dense_7 (Dense)                (None, 23)           1495        ['dropout_1[0][0]']              \n",
            "                                                                                                  \n",
            "==================================================================================================\n",
            "Total params: 7,405,086\n",
            "Trainable params: 9,751\n",
            "Non-trainable params: 7,395,335\n",
            "__________________________________________________________________________________________________\n"
          ]
        }
      ]
    },
    {
      "cell_type": "code",
      "source": [
        "train_loss = tf.keras.metrics.Mean(name='train_loss')\n",
        "train_acc = tf.keras.metrics.SparseCategoricalAccuracy(name='train_ACC')\n",
        "\n",
        "test_loss = tf.keras.metrics.Mean(name='test_loss')\n",
        "test_acc = tf.keras.metrics.SparseCategoricalAccuracy(name='test_ACC')"
      ],
      "metadata": {
        "id": "WBqc_xfFtACx"
      },
      "execution_count": null,
      "outputs": []
    },
    {
      "cell_type": "code",
      "source": [
        "cce_loss_obj = tf.keras.losses.SparseCategoricalCrossentropy(from_logits=False)"
      ],
      "metadata": {
        "id": "e7csu74ntuq3"
      },
      "execution_count": null,
      "outputs": []
    },
    {
      "cell_type": "code",
      "source": [
        "sample_weight = tf.random.uniform((tf.shape(y_train)[0], 1),\n",
        "                                    minval=0,\n",
        "                                    maxval=1,\n",
        "                                    dtype=tf.float32)\n",
        "sample_weight"
      ],
      "metadata": {
        "colab": {
          "base_uri": "https://localhost:8080/"
        },
        "id": "0doaSW5MJh83",
        "outputId": "70e16e5d-85f5-48d1-ebfc-0f45670e121e"
      },
      "execution_count": null,
      "outputs": [
        {
          "output_type": "execute_result",
          "data": {
            "text/plain": [
              "<tf.Tensor: shape=(8529, 1), dtype=float32, numpy=\n",
              "array([[0.7861433 ],\n",
              "       [0.49920297],\n",
              "       [0.29927063],\n",
              "       ...,\n",
              "       [0.05716491],\n",
              "       [0.14451802],\n",
              "       [0.6533736 ]], dtype=float32)>"
            ]
          },
          "metadata": {},
          "execution_count": 31
        }
      ]
    },
    {
      "cell_type": "code",
      "source": [
        "@tf.function\n",
        "# train step for the 2nd stage\n",
        "def train_step(x, y,sample_weight):\n",
        "    '''\n",
        "    x: data tensor, shape: (batch_size, data_dim)\n",
        "    y: data labels, shape: (batch_size, )\n",
        "    '''\n",
        "    with tf.GradientTape() as tape:\n",
        "        y_preds = classifier(x, training=True)\n",
        "        loss = cce_loss_obj(y, y_preds,sample_weight = sample_weight)\n",
        "\n",
        "    # freeze the encoder, only train the softmax layer\n",
        "    gradients = tape.gradient(loss,\n",
        "                              classifier.trainable_variables)\n",
        "    classifier_optimizer.apply_gradients(zip(gradients,\n",
        "                                  classifier.trainable_variables))\n",
        "\n",
        "    train_loss(loss)\n",
        "    train_acc(y, y_preds)"
      ],
      "metadata": {
        "id": "OGG-FUjOtzIV"
      },
      "execution_count": null,
      "outputs": []
    },
    {
      "cell_type": "code",
      "source": [
        "@tf.function\n",
        "def test_step(x, y):\n",
        "    y_preds = classifier(x, training=False)\n",
        "    t_loss = cce_loss_obj(y, y_preds)\n",
        "    test_loss(t_loss)\n",
        "    test_acc(y, y_preds)"
      ],
      "metadata": {
        "id": "t07WobfvtzvX"
      },
      "execution_count": null,
      "outputs": []
    },
    {
      "cell_type": "code",
      "source": [
        "#classifier training\n",
        "train_loss_dict_classifier = {}\n",
        "test_loss_dict_classifier = {}\n",
        "train_acc_dict = {}\n",
        "test_acc_dict = {}\n",
        "\n",
        "for epoch in range(220):\n",
        "    # Reset the metrics at the start of the next epoch\n",
        "    train_loss.reset_states()\n",
        "    train_acc.reset_states()\n",
        "    test_loss.reset_states()\n",
        "    test_acc.reset_states()\n",
        "\n",
        "\n",
        "    for x, y in tqdm(train_ds2):\n",
        "        #print(x.shape,y.shape)\n",
        "        sample_weight = tf.random.uniform((tf.shape(x)[0], 1),\n",
        "                                    minval=0,\n",
        "                                    maxval=1,\n",
        "                                    dtype=tf.float32)\n",
        "        train_step(x, y,sample_weight)\n",
        "\n",
        "    for x_te, y_te in test_ds:\n",
        "        test_step(x_te, y_te)\n",
        "\n",
        "    template = 'Epoch {}, Train Loss: {}, Train Acc: {}, Test Loss: {}, Test Acc: {}'\n",
        "    print(template.format(epoch + 1,train_loss.result(), train_acc.result() * 100,test_loss.result(),test_acc.result() * 100))\n",
        "    train_loss_dict_classifier[epoch] = train_loss.result().numpy()\n",
        "    test_loss_dict_classifier[epoch] = test_loss.result().numpy()\n",
        "    train_acc_dict[epoch] = train_acc.result().numpy()*100\n",
        "    test_acc_dict[epoch] = test_acc.result().numpy()*100"
      ],
      "metadata": {
        "colab": {
          "base_uri": "https://localhost:8080/"
        },
        "id": "yJ6eg-hNt14-",
        "outputId": "fcbeee87-48cc-4ac7-bd97-26d816b7e993"
      },
      "execution_count": null,
      "outputs": [
        {
          "output_type": "stream",
          "name": "stderr",
          "text": [
            "100%|██████████| 134/134 [01:23<00:00,  1.61it/s]\n"
          ]
        },
        {
          "output_type": "stream",
          "name": "stdout",
          "text": [
            "Epoch 1, Train Loss: 1.5573207139968872, Train Acc: 5.792003631591797, Test Loss: 3.1079673767089844, Test Acc: 6.751054763793945\n"
          ]
        },
        {
          "output_type": "stream",
          "name": "stderr",
          "text": [
            "100%|██████████| 134/134 [00:20<00:00,  6.55it/s]\n"
          ]
        },
        {
          "output_type": "stream",
          "name": "stdout",
          "text": [
            "Epoch 2, Train Loss: 1.5533784627914429, Train Acc: 7.08172082901001, Test Loss: 3.087186574935913, Test Acc: 13.033286094665527\n"
          ]
        },
        {
          "output_type": "stream",
          "name": "stderr",
          "text": [
            "100%|██████████| 134/134 [00:20<00:00,  6.49it/s]\n"
          ]
        },
        {
          "output_type": "stream",
          "name": "stdout",
          "text": [
            "Epoch 3, Train Loss: 1.5441349744796753, Train Acc: 7.996248245239258, Test Loss: 3.0652272701263428, Test Acc: 18.940458297729492\n"
          ]
        },
        {
          "output_type": "stream",
          "name": "stderr",
          "text": [
            "100%|██████████| 134/134 [00:20<00:00,  6.62it/s]\n"
          ]
        },
        {
          "output_type": "stream",
          "name": "stdout",
          "text": [
            "Epoch 4, Train Loss: 1.5412527322769165, Train Acc: 9.332863807678223, Test Loss: 3.042262315750122, Test Acc: 24.238161087036133\n"
          ]
        },
        {
          "output_type": "stream",
          "name": "stderr",
          "text": [
            "100%|██████████| 134/134 [00:20<00:00,  6.55it/s]\n"
          ]
        },
        {
          "output_type": "stream",
          "name": "stdout",
          "text": [
            "Epoch 5, Train Loss: 1.5145782232284546, Train Acc: 11.595731735229492, Test Loss: 3.0184807777404785, Test Acc: 28.316923141479492\n"
          ]
        },
        {
          "output_type": "stream",
          "name": "stderr",
          "text": [
            "100%|██████████| 134/134 [00:20<00:00,  6.55it/s]\n"
          ]
        },
        {
          "output_type": "stream",
          "name": "stdout",
          "text": [
            "Epoch 6, Train Loss: 1.5091209411621094, Train Acc: 12.475085258483887, Test Loss: 2.9965171813964844, Test Acc: 31.78621482849121\n"
          ]
        },
        {
          "output_type": "stream",
          "name": "stderr",
          "text": [
            "100%|██████████| 134/134 [00:20<00:00,  6.55it/s]\n"
          ]
        },
        {
          "output_type": "stream",
          "name": "stdout",
          "text": [
            "Epoch 7, Train Loss: 1.4988683462142944, Train Acc: 13.190291404724121, Test Loss: 2.969724655151367, Test Acc: 34.974212646484375\n"
          ]
        },
        {
          "output_type": "stream",
          "name": "stderr",
          "text": [
            "100%|██████████| 134/134 [00:20<00:00,  6.55it/s]\n"
          ]
        },
        {
          "output_type": "stream",
          "name": "stdout",
          "text": [
            "Epoch 8, Train Loss: 1.492741346359253, Train Acc: 14.679328918457031, Test Loss: 2.945010185241699, Test Acc: 40.881385803222656\n"
          ]
        },
        {
          "output_type": "stream",
          "name": "stderr",
          "text": [
            "100%|██████████| 134/134 [00:20<00:00,  6.55it/s]\n"
          ]
        },
        {
          "output_type": "stream",
          "name": "stdout",
          "text": [
            "Epoch 9, Train Loss: 1.4782129526138306, Train Acc: 15.851799964904785, Test Loss: 2.918102264404297, Test Acc: 42.944210052490234\n"
          ]
        },
        {
          "output_type": "stream",
          "name": "stderr",
          "text": [
            "100%|██████████| 134/134 [00:20<00:00,  6.60it/s]\n"
          ]
        },
        {
          "output_type": "stream",
          "name": "stdout",
          "text": [
            "Epoch 10, Train Loss: 1.483520269393921, Train Acc: 17.10634422302246, Test Loss: 2.88972806930542, Test Acc: 43.741207122802734\n"
          ]
        },
        {
          "output_type": "stream",
          "name": "stderr",
          "text": [
            "100%|██████████| 134/134 [00:20<00:00,  6.62it/s]\n"
          ]
        },
        {
          "output_type": "stream",
          "name": "stdout",
          "text": [
            "Epoch 11, Train Loss: 1.4458847045898438, Train Acc: 19.357486724853516, Test Loss: 2.8618569374084473, Test Acc: 44.49132537841797\n"
          ]
        },
        {
          "output_type": "stream",
          "name": "stderr",
          "text": [
            "100%|██████████| 134/134 [00:20<00:00,  6.55it/s]\n"
          ]
        },
        {
          "output_type": "stream",
          "name": "stdout",
          "text": [
            "Epoch 12, Train Loss: 1.4489569664001465, Train Acc: 20.06096839904785, Test Loss: 2.832202434539795, Test Acc: 44.5382080078125\n"
          ]
        },
        {
          "output_type": "stream",
          "name": "stderr",
          "text": [
            "100%|██████████| 134/134 [00:20<00:00,  6.63it/s]\n"
          ]
        },
        {
          "output_type": "stream",
          "name": "stdout",
          "text": [
            "Epoch 13, Train Loss: 1.435990571975708, Train Acc: 21.02239418029785, Test Loss: 2.8030343055725098, Test Acc: 44.58509063720703\n"
          ]
        },
        {
          "output_type": "stream",
          "name": "stderr",
          "text": [
            "100%|██████████| 134/134 [00:20<00:00,  6.55it/s]\n"
          ]
        },
        {
          "output_type": "stream",
          "name": "stdout",
          "text": [
            "Epoch 14, Train Loss: 1.428529977798462, Train Acc: 21.866573333740234, Test Loss: 2.774359941482544, Test Acc: 44.86638641357422\n"
          ]
        },
        {
          "output_type": "stream",
          "name": "stderr",
          "text": [
            "100%|██████████| 134/134 [00:20<00:00,  6.55it/s]\n"
          ]
        },
        {
          "output_type": "stream",
          "name": "stdout",
          "text": [
            "Epoch 15, Train Loss: 1.417894721031189, Train Acc: 22.347286224365234, Test Loss: 2.741107702255249, Test Acc: 45.19456100463867\n"
          ]
        },
        {
          "output_type": "stream",
          "name": "stderr",
          "text": [
            "100%|██████████| 134/134 [00:20<00:00,  6.55it/s]\n"
          ]
        },
        {
          "output_type": "stream",
          "name": "stdout",
          "text": [
            "Epoch 16, Train Loss: 1.388686180114746, Train Acc: 23.590105056762695, Test Loss: 2.7146224975585938, Test Acc: 45.05391311645508\n"
          ]
        },
        {
          "output_type": "stream",
          "name": "stderr",
          "text": [
            "100%|██████████| 134/134 [00:20<00:00,  6.62it/s]\n"
          ]
        },
        {
          "output_type": "stream",
          "name": "stdout",
          "text": [
            "Epoch 17, Train Loss: 1.3858842849731445, Train Acc: 24.59842872619629, Test Loss: 2.680868148803711, Test Acc: 45.10079574584961\n"
          ]
        },
        {
          "output_type": "stream",
          "name": "stderr",
          "text": [
            "100%|██████████| 134/134 [00:20<00:00,  6.63it/s]\n"
          ]
        },
        {
          "output_type": "stream",
          "name": "stdout",
          "text": [
            "Epoch 18, Train Loss: 1.3639540672302246, Train Acc: 25.325361251831055, Test Loss: 2.6518971920013428, Test Acc: 45.288326263427734\n"
          ]
        },
        {
          "output_type": "stream",
          "name": "stderr",
          "text": [
            "100%|██████████| 134/134 [00:20<00:00,  6.63it/s]\n"
          ]
        },
        {
          "output_type": "stream",
          "name": "stdout",
          "text": [
            "Epoch 19, Train Loss: 1.3575204610824585, Train Acc: 26.251611709594727, Test Loss: 2.621455430984497, Test Acc: 45.569618225097656\n"
          ]
        },
        {
          "output_type": "stream",
          "name": "stderr",
          "text": [
            "100%|██████████| 134/134 [00:20<00:00,  6.63it/s]\n"
          ]
        },
        {
          "output_type": "stream",
          "name": "stdout",
          "text": [
            "Epoch 20, Train Loss: 1.3450586795806885, Train Acc: 26.61507797241211, Test Loss: 2.5890989303588867, Test Acc: 45.850914001464844\n"
          ]
        },
        {
          "output_type": "stream",
          "name": "stderr",
          "text": [
            "100%|██████████| 134/134 [00:20<00:00,  6.61it/s]\n"
          ]
        },
        {
          "output_type": "stream",
          "name": "stdout",
          "text": [
            "Epoch 21, Train Loss: 1.3284339904785156, Train Acc: 26.333683013916016, Test Loss: 2.557966947555542, Test Acc: 45.75714874267578\n"
          ]
        },
        {
          "output_type": "stream",
          "name": "stderr",
          "text": [
            "100%|██████████| 134/134 [00:20<00:00,  6.55it/s]\n"
          ]
        },
        {
          "output_type": "stream",
          "name": "stdout",
          "text": [
            "Epoch 22, Train Loss: 1.325447916984558, Train Acc: 28.174463272094727, Test Loss: 2.5272834300994873, Test Acc: 45.80403137207031\n"
          ]
        },
        {
          "output_type": "stream",
          "name": "stderr",
          "text": [
            "100%|██████████| 134/134 [00:20<00:00,  6.61it/s]\n"
          ]
        },
        {
          "output_type": "stream",
          "name": "stdout",
          "text": [
            "Epoch 23, Train Loss: 1.3220529556274414, Train Acc: 28.338607788085938, Test Loss: 2.4983274936676025, Test Acc: 45.75714874267578\n"
          ]
        },
        {
          "output_type": "stream",
          "name": "stderr",
          "text": [
            "100%|██████████| 134/134 [00:20<00:00,  6.61it/s]\n"
          ]
        },
        {
          "output_type": "stream",
          "name": "stdout",
          "text": [
            "Epoch 24, Train Loss: 1.2899322509765625, Train Acc: 28.491029739379883, Test Loss: 2.4689443111419678, Test Acc: 45.99156188964844\n"
          ]
        },
        {
          "output_type": "stream",
          "name": "stderr",
          "text": [
            "100%|██████████| 134/134 [00:20<00:00,  6.55it/s]\n"
          ]
        },
        {
          "output_type": "stream",
          "name": "stdout",
          "text": [
            "Epoch 25, Train Loss: 1.283921241760254, Train Acc: 30.57802963256836, Test Loss: 2.44209361076355, Test Acc: 45.850914001464844\n"
          ]
        },
        {
          "output_type": "stream",
          "name": "stderr",
          "text": [
            "100%|██████████| 134/134 [00:20<00:00,  6.63it/s]\n"
          ]
        },
        {
          "output_type": "stream",
          "name": "stdout",
          "text": [
            "Epoch 26, Train Loss: 1.258270502090454, Train Acc: 29.95661735534668, Test Loss: 2.4140889644622803, Test Acc: 45.850914001464844\n"
          ]
        },
        {
          "output_type": "stream",
          "name": "stderr",
          "text": [
            "100%|██████████| 134/134 [00:20<00:00,  6.55it/s]\n"
          ]
        },
        {
          "output_type": "stream",
          "name": "stdout",
          "text": [
            "Epoch 27, Train Loss: 1.2697802782058716, Train Acc: 31.738773345947266, Test Loss: 2.3851349353790283, Test Acc: 45.944679260253906\n"
          ]
        },
        {
          "output_type": "stream",
          "name": "stderr",
          "text": [
            "100%|██████████| 134/134 [00:20<00:00,  6.55it/s]\n"
          ]
        },
        {
          "output_type": "stream",
          "name": "stdout",
          "text": [
            "Epoch 28, Train Loss: 1.2434511184692383, Train Acc: 31.738773345947266, Test Loss: 2.354433536529541, Test Acc: 46.36661911010742\n"
          ]
        },
        {
          "output_type": "stream",
          "name": "stderr",
          "text": [
            "100%|██████████| 134/134 [00:20<00:00,  6.61it/s]\n"
          ]
        },
        {
          "output_type": "stream",
          "name": "stdout",
          "text": [
            "Epoch 29, Train Loss: 1.234791874885559, Train Acc: 31.551179885864258, Test Loss: 2.3296170234680176, Test Acc: 46.507266998291016\n"
          ]
        },
        {
          "output_type": "stream",
          "name": "stderr",
          "text": [
            "100%|██████████| 134/134 [00:20<00:00,  6.55it/s]\n"
          ]
        },
        {
          "output_type": "stream",
          "name": "stdout",
          "text": [
            "Epoch 30, Train Loss: 1.2295222282409668, Train Acc: 31.70359992980957, Test Loss: 2.3077287673950195, Test Acc: 46.647911071777344\n"
          ]
        },
        {
          "output_type": "stream",
          "name": "stderr",
          "text": [
            "100%|██████████| 134/134 [00:20<00:00,  6.61it/s]\n"
          ]
        },
        {
          "output_type": "stream",
          "name": "stdout",
          "text": [
            "Epoch 31, Train Loss: 1.1998029947280884, Train Acc: 32.817447662353516, Test Loss: 2.2779555320739746, Test Acc: 46.69479751586914\n"
          ]
        },
        {
          "output_type": "stream",
          "name": "stderr",
          "text": [
            "100%|██████████| 134/134 [00:20<00:00,  6.55it/s]\n"
          ]
        },
        {
          "output_type": "stream",
          "name": "stdout",
          "text": [
            "Epoch 32, Train Loss: 1.2162373065948486, Train Acc: 33.22780990600586, Test Loss: 2.254647731781006, Test Acc: 46.7885627746582\n"
          ]
        },
        {
          "output_type": "stream",
          "name": "stderr",
          "text": [
            "100%|██████████| 134/134 [00:20<00:00,  6.62it/s]\n"
          ]
        },
        {
          "output_type": "stream",
          "name": "stdout",
          "text": [
            "Epoch 33, Train Loss: 1.187973976135254, Train Acc: 33.837493896484375, Test Loss: 2.2282309532165527, Test Acc: 46.7885627746582\n"
          ]
        },
        {
          "output_type": "stream",
          "name": "stderr",
          "text": [
            "100%|██████████| 134/134 [00:20<00:00,  6.55it/s]\n"
          ]
        },
        {
          "output_type": "stream",
          "name": "stdout",
          "text": [
            "Epoch 34, Train Loss: 1.1817866563796997, Train Acc: 33.696800231933594, Test Loss: 2.2033112049102783, Test Acc: 47.116737365722656\n"
          ]
        },
        {
          "output_type": "stream",
          "name": "stderr",
          "text": [
            "100%|██████████| 134/134 [00:20<00:00,  6.55it/s]\n"
          ]
        },
        {
          "output_type": "stream",
          "name": "stdout",
          "text": [
            "Epoch 35, Train Loss: 1.1730743646621704, Train Acc: 35.42033004760742, Test Loss: 2.1809561252593994, Test Acc: 47.069854736328125\n"
          ]
        },
        {
          "output_type": "stream",
          "name": "stderr",
          "text": [
            "100%|██████████| 134/134 [00:20<00:00,  6.55it/s]\n"
          ]
        },
        {
          "output_type": "stream",
          "name": "stdout",
          "text": [
            "Epoch 36, Train Loss: 1.165425181388855, Train Acc: 34.5878791809082, Test Loss: 2.154694080352783, Test Acc: 46.97608947753906\n"
          ]
        },
        {
          "output_type": "stream",
          "name": "stderr",
          "text": [
            "100%|██████████| 134/134 [00:20<00:00,  6.62it/s]\n"
          ]
        },
        {
          "output_type": "stream",
          "name": "stdout",
          "text": [
            "Epoch 37, Train Loss: 1.1480191946029663, Train Acc: 35.71344757080078, Test Loss: 2.1368584632873535, Test Acc: 47.116737365722656\n"
          ]
        },
        {
          "output_type": "stream",
          "name": "stderr",
          "text": [
            "100%|██████████| 134/134 [00:20<00:00,  6.62it/s]\n"
          ]
        },
        {
          "output_type": "stream",
          "name": "stdout",
          "text": [
            "Epoch 38, Train Loss: 1.1473562717437744, Train Acc: 35.174110412597656, Test Loss: 2.1219637393951416, Test Acc: 47.116737365722656\n"
          ]
        },
        {
          "output_type": "stream",
          "name": "stderr",
          "text": [
            "100%|██████████| 134/134 [00:20<00:00,  6.65it/s]\n"
          ]
        },
        {
          "output_type": "stream",
          "name": "stdout",
          "text": [
            "Epoch 39, Train Loss: 1.1473826169967651, Train Acc: 34.8575439453125, Test Loss: 2.096318244934082, Test Acc: 47.25738525390625\n"
          ]
        },
        {
          "output_type": "stream",
          "name": "stderr",
          "text": [
            "100%|██████████| 134/134 [00:20<00:00,  6.65it/s]\n"
          ]
        },
        {
          "output_type": "stream",
          "name": "stdout",
          "text": [
            "Epoch 40, Train Loss: 1.119417667388916, Train Acc: 36.370033264160156, Test Loss: 2.0763285160064697, Test Acc: 47.39802932739258\n"
          ]
        },
        {
          "output_type": "stream",
          "name": "stderr",
          "text": [
            "100%|██████████| 134/134 [00:20<00:00,  6.62it/s]\n"
          ]
        },
        {
          "output_type": "stream",
          "name": "stdout",
          "text": [
            "Epoch 41, Train Loss: 1.1260125637054443, Train Acc: 35.78379821777344, Test Loss: 2.0485036373138428, Test Acc: 47.49179458618164\n"
          ]
        },
        {
          "output_type": "stream",
          "name": "stderr",
          "text": [
            "100%|██████████| 134/134 [00:20<00:00,  6.55it/s]\n"
          ]
        },
        {
          "output_type": "stream",
          "name": "stdout",
          "text": [
            "Epoch 42, Train Loss: 1.1091251373291016, Train Acc: 36.55762481689453, Test Loss: 2.03179669380188, Test Acc: 47.632442474365234\n"
          ]
        },
        {
          "output_type": "stream",
          "name": "stderr",
          "text": [
            "100%|██████████| 134/134 [00:20<00:00,  6.55it/s]\n"
          ]
        },
        {
          "output_type": "stream",
          "name": "stdout",
          "text": [
            "Epoch 43, Train Loss: 1.1102782487869263, Train Acc: 36.28795623779297, Test Loss: 2.0119948387145996, Test Acc: 47.632442474365234\n"
          ]
        },
        {
          "output_type": "stream",
          "name": "stderr",
          "text": [
            "100%|██████████| 134/134 [00:20<00:00,  6.55it/s]\n"
          ]
        },
        {
          "output_type": "stream",
          "name": "stdout",
          "text": [
            "Epoch 44, Train Loss: 1.1099116802215576, Train Acc: 37.29628372192383, Test Loss: 1.9964747428894043, Test Acc: 47.81997299194336\n"
          ]
        },
        {
          "output_type": "stream",
          "name": "stderr",
          "text": [
            "100%|██████████| 134/134 [00:20<00:00,  6.62it/s]\n"
          ]
        },
        {
          "output_type": "stream",
          "name": "stdout",
          "text": [
            "Epoch 45, Train Loss: 1.0997453927993774, Train Acc: 36.592803955078125, Test Loss: 1.9828633069992065, Test Acc: 48.00749969482422\n"
          ]
        },
        {
          "output_type": "stream",
          "name": "stderr",
          "text": [
            "100%|██████████| 134/134 [00:20<00:00,  6.55it/s]\n"
          ]
        },
        {
          "output_type": "stream",
          "name": "stdout",
          "text": [
            "Epoch 46, Train Loss: 1.0865594148635864, Train Acc: 37.33145523071289, Test Loss: 1.9674290418624878, Test Acc: 47.913734436035156\n"
          ]
        },
        {
          "output_type": "stream",
          "name": "stderr",
          "text": [
            "100%|██████████| 134/134 [00:20<00:00,  6.55it/s]\n"
          ]
        },
        {
          "output_type": "stream",
          "name": "stdout",
          "text": [
            "Epoch 47, Train Loss: 1.0733469724655151, Train Acc: 38.15218734741211, Test Loss: 1.9458247423171997, Test Acc: 48.05438232421875\n"
          ]
        },
        {
          "output_type": "stream",
          "name": "stderr",
          "text": [
            "100%|██████████| 134/134 [00:20<00:00,  6.63it/s]\n"
          ]
        },
        {
          "output_type": "stream",
          "name": "stdout",
          "text": [
            "Epoch 48, Train Loss: 1.083165168762207, Train Acc: 38.33978271484375, Test Loss: 1.9295682907104492, Test Acc: 47.96061706542969\n"
          ]
        },
        {
          "output_type": "stream",
          "name": "stderr",
          "text": [
            "100%|██████████| 134/134 [00:20<00:00,  6.55it/s]\n"
          ]
        },
        {
          "output_type": "stream",
          "name": "stdout",
          "text": [
            "Epoch 49, Train Loss: 1.0579428672790527, Train Acc: 38.093563079833984, Test Loss: 1.9145853519439697, Test Acc: 48.10126876831055\n"
          ]
        },
        {
          "output_type": "stream",
          "name": "stderr",
          "text": [
            "100%|██████████| 134/134 [00:20<00:00,  6.55it/s]\n"
          ]
        },
        {
          "output_type": "stream",
          "name": "stdout",
          "text": [
            "Epoch 50, Train Loss: 1.0519083738327026, Train Acc: 37.694923400878906, Test Loss: 1.9028778076171875, Test Acc: 48.476322174072266\n"
          ]
        },
        {
          "output_type": "stream",
          "name": "stderr",
          "text": [
            "100%|██████████| 134/134 [00:20<00:00,  6.55it/s]\n"
          ]
        },
        {
          "output_type": "stream",
          "name": "stdout",
          "text": [
            "Epoch 51, Train Loss: 1.0657482147216797, Train Acc: 38.56254959106445, Test Loss: 1.8821645975112915, Test Acc: 48.616973876953125\n"
          ]
        },
        {
          "output_type": "stream",
          "name": "stderr",
          "text": [
            "100%|██████████| 134/134 [00:20<00:00,  6.62it/s]\n"
          ]
        },
        {
          "output_type": "stream",
          "name": "stdout",
          "text": [
            "Epoch 52, Train Loss: 1.0251023769378662, Train Acc: 38.656349182128906, Test Loss: 1.8705787658691406, Test Acc: 48.71073532104492\n"
          ]
        },
        {
          "output_type": "stream",
          "name": "stderr",
          "text": [
            "100%|██████████| 134/134 [00:20<00:00,  6.62it/s]\n"
          ]
        },
        {
          "output_type": "stream",
          "name": "stdout",
          "text": [
            "Epoch 53, Train Loss: 1.0298978090286255, Train Acc: 38.58599853515625, Test Loss: 1.8541734218597412, Test Acc: 48.663856506347656\n"
          ]
        },
        {
          "output_type": "stream",
          "name": "stderr",
          "text": [
            "100%|██████████| 134/134 [00:20<00:00,  6.55it/s]\n"
          ]
        },
        {
          "output_type": "stream",
          "name": "stdout",
          "text": [
            "Epoch 54, Train Loss: 1.0314253568649292, Train Acc: 38.773597717285156, Test Loss: 1.840659260749817, Test Acc: 48.663856506347656\n"
          ]
        },
        {
          "output_type": "stream",
          "name": "stderr",
          "text": [
            "100%|██████████| 134/134 [00:20<00:00,  6.55it/s]\n"
          ]
        },
        {
          "output_type": "stream",
          "name": "stdout",
          "text": [
            "Epoch 55, Train Loss: 1.0235562324523926, Train Acc: 39.28948211669922, Test Loss: 1.8299351930618286, Test Acc: 48.75761795043945\n"
          ]
        },
        {
          "output_type": "stream",
          "name": "stderr",
          "text": [
            "100%|██████████| 134/134 [00:20<00:00,  6.55it/s]\n"
          ]
        },
        {
          "output_type": "stream",
          "name": "stdout",
          "text": [
            "Epoch 56, Train Loss: 1.025646448135376, Train Acc: 39.4419059753418, Test Loss: 1.8187954425811768, Test Acc: 48.804500579833984\n"
          ]
        },
        {
          "output_type": "stream",
          "name": "stderr",
          "text": [
            "100%|██████████| 134/134 [00:20<00:00,  6.61it/s]\n"
          ]
        },
        {
          "output_type": "stream",
          "name": "stdout",
          "text": [
            "Epoch 57, Train Loss: 1.0086277723312378, Train Acc: 40.6495475769043, Test Loss: 1.8058111667633057, Test Acc: 48.94514846801758\n"
          ]
        },
        {
          "output_type": "stream",
          "name": "stderr",
          "text": [
            "100%|██████████| 134/134 [00:20<00:00,  6.62it/s]\n"
          ]
        },
        {
          "output_type": "stream",
          "name": "stdout",
          "text": [
            "Epoch 58, Train Loss: 1.0252628326416016, Train Acc: 39.828819274902344, Test Loss: 1.7994303703308105, Test Acc: 48.992027282714844\n"
          ]
        },
        {
          "output_type": "stream",
          "name": "stderr",
          "text": [
            "100%|██████████| 134/134 [00:20<00:00,  6.63it/s]\n"
          ]
        },
        {
          "output_type": "stream",
          "name": "stdout",
          "text": [
            "Epoch 59, Train Loss: 1.0085370540618896, Train Acc: 38.97291564941406, Test Loss: 1.7683342695236206, Test Acc: 49.1326789855957\n"
          ]
        },
        {
          "output_type": "stream",
          "name": "stderr",
          "text": [
            "100%|██████████| 134/134 [00:20<00:00,  6.64it/s]\n"
          ]
        },
        {
          "output_type": "stream",
          "name": "stdout",
          "text": [
            "Epoch 60, Train Loss: 1.0046508312225342, Train Acc: 39.59432601928711, Test Loss: 1.770142674446106, Test Acc: 48.992027282714844\n"
          ]
        },
        {
          "output_type": "stream",
          "name": "stderr",
          "text": [
            "100%|██████████| 134/134 [00:20<00:00,  6.55it/s]\n"
          ]
        },
        {
          "output_type": "stream",
          "name": "stdout",
          "text": [
            "Epoch 61, Train Loss: 0.9935754537582397, Train Acc: 40.50885009765625, Test Loss: 1.7584084272384644, Test Acc: 49.038909912109375\n"
          ]
        },
        {
          "output_type": "stream",
          "name": "stderr",
          "text": [
            "100%|██████████| 134/134 [00:20<00:00,  6.63it/s]\n"
          ]
        },
        {
          "output_type": "stream",
          "name": "stdout",
          "text": [
            "Epoch 62, Train Loss: 0.9929521679878235, Train Acc: 40.35643005371094, Test Loss: 1.742469310760498, Test Acc: 48.94514846801758\n"
          ]
        },
        {
          "output_type": "stream",
          "name": "stderr",
          "text": [
            "100%|██████████| 134/134 [00:20<00:00,  6.55it/s]\n"
          ]
        },
        {
          "output_type": "stream",
          "name": "stdout",
          "text": [
            "Epoch 63, Train Loss: 0.9844918251037598, Train Acc: 41.036460876464844, Test Loss: 1.728703498840332, Test Acc: 49.038909912109375\n"
          ]
        },
        {
          "output_type": "stream",
          "name": "stderr",
          "text": [
            "100%|██████████| 134/134 [00:20<00:00,  6.55it/s]\n"
          ]
        },
        {
          "output_type": "stream",
          "name": "stdout",
          "text": [
            "Epoch 64, Train Loss: 0.9836838245391846, Train Acc: 40.6260986328125, Test Loss: 1.724769949913025, Test Acc: 49.2264404296875\n"
          ]
        },
        {
          "output_type": "stream",
          "name": "stderr",
          "text": [
            "100%|██████████| 134/134 [00:20<00:00,  6.63it/s]\n"
          ]
        },
        {
          "output_type": "stream",
          "name": "stdout",
          "text": [
            "Epoch 65, Train Loss: 0.9794280529022217, Train Acc: 40.77852249145508, Test Loss: 1.7166837453842163, Test Acc: 49.367088317871094\n"
          ]
        },
        {
          "output_type": "stream",
          "name": "stderr",
          "text": [
            "100%|██████████| 134/134 [00:20<00:00,  6.63it/s]\n"
          ]
        },
        {
          "output_type": "stream",
          "name": "stdout",
          "text": [
            "Epoch 66, Train Loss: 0.9654932618141174, Train Acc: 39.946067810058594, Test Loss: 1.69723379611969, Test Acc: 49.460853576660156\n"
          ]
        },
        {
          "output_type": "stream",
          "name": "stderr",
          "text": [
            "100%|██████████| 134/134 [00:20<00:00,  6.64it/s]\n"
          ]
        },
        {
          "output_type": "stream",
          "name": "stdout",
          "text": [
            "Epoch 67, Train Loss: 0.9551335573196411, Train Acc: 40.21573257446289, Test Loss: 1.6970922946929932, Test Acc: 49.55461883544922\n"
          ]
        },
        {
          "output_type": "stream",
          "name": "stderr",
          "text": [
            "100%|██████████| 134/134 [00:20<00:00,  6.55it/s]\n"
          ]
        },
        {
          "output_type": "stream",
          "name": "stdout",
          "text": [
            "Epoch 68, Train Loss: 0.976150631904602, Train Acc: 40.579200744628906, Test Loss: 1.674465298652649, Test Acc: 49.69526672363281\n"
          ]
        },
        {
          "output_type": "stream",
          "name": "stderr",
          "text": [
            "100%|██████████| 134/134 [00:20<00:00,  6.55it/s]\n"
          ]
        },
        {
          "output_type": "stream",
          "name": "stdout",
          "text": [
            "Epoch 69, Train Loss: 0.9600821137428284, Train Acc: 41.24750900268555, Test Loss: 1.6764200925827026, Test Acc: 49.74214553833008\n"
          ]
        },
        {
          "output_type": "stream",
          "name": "stderr",
          "text": [
            "100%|██████████| 134/134 [00:20<00:00,  6.55it/s]\n"
          ]
        },
        {
          "output_type": "stream",
          "name": "stdout",
          "text": [
            "Epoch 70, Train Loss: 0.9514055252075195, Train Acc: 41.165435791015625, Test Loss: 1.6697547435760498, Test Acc: 49.83591079711914\n"
          ]
        },
        {
          "output_type": "stream",
          "name": "stderr",
          "text": [
            "100%|██████████| 134/134 [00:20<00:00,  6.63it/s]\n"
          ]
        },
        {
          "output_type": "stream",
          "name": "stdout",
          "text": [
            "Epoch 71, Train Loss: 0.9464665055274963, Train Acc: 41.09508514404297, Test Loss: 1.6502034664154053, Test Acc: 49.83591079711914\n"
          ]
        },
        {
          "output_type": "stream",
          "name": "stderr",
          "text": [
            "100%|██████████| 134/134 [00:20<00:00,  6.63it/s]\n"
          ]
        },
        {
          "output_type": "stream",
          "name": "stdout",
          "text": [
            "Epoch 72, Train Loss: 0.9474537968635559, Train Acc: 41.18888473510742, Test Loss: 1.6507940292358398, Test Acc: 49.9296760559082\n"
          ]
        },
        {
          "output_type": "stream",
          "name": "stderr",
          "text": [
            "100%|██████████| 134/134 [00:20<00:00,  6.55it/s]\n"
          ]
        },
        {
          "output_type": "stream",
          "name": "stdout",
          "text": [
            "Epoch 73, Train Loss: 0.9425990581512451, Train Acc: 41.66959762573242, Test Loss: 1.6371127367019653, Test Acc: 49.9296760559082\n"
          ]
        },
        {
          "output_type": "stream",
          "name": "stderr",
          "text": [
            "100%|██████████| 134/134 [00:20<00:00,  6.65it/s]\n"
          ]
        },
        {
          "output_type": "stream",
          "name": "stdout",
          "text": [
            "Epoch 74, Train Loss: 0.9361745715141296, Train Acc: 42.0682373046875, Test Loss: 1.6302728652954102, Test Acc: 49.976558685302734\n"
          ]
        },
        {
          "output_type": "stream",
          "name": "stderr",
          "text": [
            "100%|██████████| 134/134 [00:20<00:00,  6.65it/s]\n"
          ]
        },
        {
          "output_type": "stream",
          "name": "stdout",
          "text": [
            "Epoch 75, Train Loss: 0.9509198069572449, Train Acc: 41.62269973754883, Test Loss: 1.6182866096496582, Test Acc: 50.07032012939453\n"
          ]
        },
        {
          "output_type": "stream",
          "name": "stderr",
          "text": [
            "100%|██████████| 134/134 [00:20<00:00,  6.63it/s]\n"
          ]
        },
        {
          "output_type": "stream",
          "name": "stdout",
          "text": [
            "Epoch 76, Train Loss: 0.9390187859535217, Train Acc: 40.790245056152344, Test Loss: 1.626357078552246, Test Acc: 50.11720657348633\n"
          ]
        },
        {
          "output_type": "stream",
          "name": "stderr",
          "text": [
            "100%|██████████| 134/134 [00:20<00:00,  6.55it/s]\n"
          ]
        },
        {
          "output_type": "stream",
          "name": "stdout",
          "text": [
            "Epoch 77, Train Loss: 0.9229013323783875, Train Acc: 41.388206481933594, Test Loss: 1.6102527379989624, Test Acc: 50.30473327636719\n"
          ]
        },
        {
          "output_type": "stream",
          "name": "stderr",
          "text": [
            "100%|██████████| 134/134 [00:20<00:00,  6.55it/s]\n"
          ]
        },
        {
          "output_type": "stream",
          "name": "stdout",
          "text": [
            "Epoch 78, Train Loss: 0.9197582602500916, Train Acc: 42.15031051635742, Test Loss: 1.6023778915405273, Test Acc: 50.30473327636719\n"
          ]
        },
        {
          "output_type": "stream",
          "name": "stderr",
          "text": [
            "100%|██████████| 134/134 [00:20<00:00,  6.63it/s]\n"
          ]
        },
        {
          "output_type": "stream",
          "name": "stdout",
          "text": [
            "Epoch 79, Train Loss: 0.9162964820861816, Train Acc: 42.09169006347656, Test Loss: 1.602472186088562, Test Acc: 50.30473327636719\n"
          ]
        },
        {
          "output_type": "stream",
          "name": "stderr",
          "text": [
            "100%|██████████| 134/134 [00:20<00:00,  6.64it/s]\n"
          ]
        },
        {
          "output_type": "stream",
          "name": "stdout",
          "text": [
            "Epoch 80, Train Loss: 0.9326286315917969, Train Acc: 41.39992904663086, Test Loss: 1.588505506515503, Test Acc: 50.30473327636719\n"
          ]
        },
        {
          "output_type": "stream",
          "name": "stderr",
          "text": [
            "100%|██████████| 134/134 [00:20<00:00,  6.55it/s]\n"
          ]
        },
        {
          "output_type": "stream",
          "name": "stdout",
          "text": [
            "Epoch 81, Train Loss: 0.9204956293106079, Train Acc: 41.68132400512695, Test Loss: 1.5744662284851074, Test Acc: 50.351619720458984\n"
          ]
        },
        {
          "output_type": "stream",
          "name": "stderr",
          "text": [
            "100%|██████████| 134/134 [00:20<00:00,  6.64it/s]\n"
          ]
        },
        {
          "output_type": "stream",
          "name": "stdout",
          "text": [
            "Epoch 82, Train Loss: 0.9247128963470459, Train Acc: 41.92753982543945, Test Loss: 1.587066888809204, Test Acc: 50.39849853515625\n"
          ]
        },
        {
          "output_type": "stream",
          "name": "stderr",
          "text": [
            "100%|██████████| 134/134 [00:20<00:00,  6.54it/s]\n"
          ]
        },
        {
          "output_type": "stream",
          "name": "stdout",
          "text": [
            "Epoch 83, Train Loss: 0.9098444581031799, Train Acc: 41.904090881347656, Test Loss: 1.5730024576187134, Test Acc: 50.351619720458984\n"
          ]
        },
        {
          "output_type": "stream",
          "name": "stderr",
          "text": [
            "100%|██████████| 134/134 [00:20<00:00,  6.63it/s]\n"
          ]
        },
        {
          "output_type": "stream",
          "name": "stdout",
          "text": [
            "Epoch 84, Train Loss: 0.8947086334228516, Train Acc: 42.17375946044922, Test Loss: 1.5617034435272217, Test Acc: 50.49226379394531\n"
          ]
        },
        {
          "output_type": "stream",
          "name": "stderr",
          "text": [
            "100%|██████████| 134/134 [00:20<00:00,  6.55it/s]\n"
          ]
        },
        {
          "output_type": "stream",
          "name": "stdout",
          "text": [
            "Epoch 85, Train Loss: 0.9072080254554749, Train Acc: 41.950992584228516, Test Loss: 1.568001627922058, Test Acc: 50.44538497924805\n"
          ]
        },
        {
          "output_type": "stream",
          "name": "stderr",
          "text": [
            "100%|██████████| 134/134 [00:20<00:00,  6.63it/s]\n"
          ]
        },
        {
          "output_type": "stream",
          "name": "stdout",
          "text": [
            "Epoch 86, Train Loss: 0.9130768775939941, Train Acc: 42.70137405395508, Test Loss: 1.5524075031280518, Test Acc: 50.539146423339844\n"
          ]
        },
        {
          "output_type": "stream",
          "name": "stderr",
          "text": [
            "100%|██████████| 134/134 [00:20<00:00,  6.65it/s]\n"
          ]
        },
        {
          "output_type": "stream",
          "name": "stdout",
          "text": [
            "Epoch 87, Train Loss: 0.8931536078453064, Train Acc: 42.232383728027344, Test Loss: 1.5504179000854492, Test Acc: 50.539146423339844\n"
          ]
        },
        {
          "output_type": "stream",
          "name": "stderr",
          "text": [
            "100%|██████████| 134/134 [00:20<00:00,  6.55it/s]\n"
          ]
        },
        {
          "output_type": "stream",
          "name": "stdout",
          "text": [
            "Epoch 88, Train Loss: 0.9080252051353455, Train Acc: 42.349632263183594, Test Loss: 1.553125023841858, Test Acc: 50.539146423339844\n"
          ]
        },
        {
          "output_type": "stream",
          "name": "stderr",
          "text": [
            "100%|██████████| 134/134 [00:20<00:00,  6.55it/s]\n"
          ]
        },
        {
          "output_type": "stream",
          "name": "stdout",
          "text": [
            "Epoch 89, Train Loss: 0.9112876057624817, Train Acc: 42.63102340698242, Test Loss: 1.5344370603561401, Test Acc: 50.58602523803711\n"
          ]
        },
        {
          "output_type": "stream",
          "name": "stderr",
          "text": [
            "100%|██████████| 134/134 [00:20<00:00,  6.55it/s]\n"
          ]
        },
        {
          "output_type": "stream",
          "name": "stdout",
          "text": [
            "Epoch 90, Train Loss: 0.9099282026290894, Train Acc: 42.783443450927734, Test Loss: 1.5314728021621704, Test Acc: 50.58602523803711\n"
          ]
        },
        {
          "output_type": "stream",
          "name": "stderr",
          "text": [
            "100%|██████████| 134/134 [00:20<00:00,  6.55it/s]\n"
          ]
        },
        {
          "output_type": "stream",
          "name": "stdout",
          "text": [
            "Epoch 91, Train Loss: 0.8894540667533875, Train Acc: 43.40485382080078, Test Loss: 1.5208463668823242, Test Acc: 50.632911682128906\n"
          ]
        },
        {
          "output_type": "stream",
          "name": "stderr",
          "text": [
            "100%|██████████| 134/134 [00:20<00:00,  6.55it/s]\n"
          ]
        },
        {
          "output_type": "stream",
          "name": "stdout",
          "text": [
            "Epoch 92, Train Loss: 0.8961339592933655, Train Acc: 42.595848083496094, Test Loss: 1.5366920232772827, Test Acc: 50.539146423339844\n"
          ]
        },
        {
          "output_type": "stream",
          "name": "stderr",
          "text": [
            "100%|██████████| 134/134 [00:20<00:00,  6.63it/s]\n"
          ]
        },
        {
          "output_type": "stream",
          "name": "stdout",
          "text": [
            "Epoch 93, Train Loss: 0.8873354196548462, Train Acc: 42.865516662597656, Test Loss: 1.520666480064392, Test Acc: 50.632911682128906\n"
          ]
        },
        {
          "output_type": "stream",
          "name": "stderr",
          "text": [
            "100%|██████████| 134/134 [00:20<00:00,  6.64it/s]\n"
          ]
        },
        {
          "output_type": "stream",
          "name": "stdout",
          "text": [
            "Epoch 94, Train Loss: 0.8778338432312012, Train Acc: 42.748268127441406, Test Loss: 1.5156372785568237, Test Acc: 50.7735595703125\n"
          ]
        },
        {
          "output_type": "stream",
          "name": "stderr",
          "text": [
            "100%|██████████| 134/134 [00:20<00:00,  6.55it/s]\n"
          ]
        },
        {
          "output_type": "stream",
          "name": "stdout",
          "text": [
            "Epoch 95, Train Loss: 0.8885399699211121, Train Acc: 43.428306579589844, Test Loss: 1.5057320594787598, Test Acc: 50.7735595703125\n"
          ]
        },
        {
          "output_type": "stream",
          "name": "stderr",
          "text": [
            "100%|██████████| 134/134 [00:20<00:00,  6.65it/s]\n"
          ]
        },
        {
          "output_type": "stream",
          "name": "stdout",
          "text": [
            "Epoch 96, Train Loss: 0.8767423033714294, Train Acc: 43.49864959716797, Test Loss: 1.4999994039535522, Test Acc: 50.72667694091797\n"
          ]
        },
        {
          "output_type": "stream",
          "name": "stderr",
          "text": [
            "100%|██████████| 134/134 [00:20<00:00,  6.63it/s]\n"
          ]
        },
        {
          "output_type": "stream",
          "name": "stdout",
          "text": [
            "Epoch 97, Train Loss: 0.873187243938446, Train Acc: 42.85379409790039, Test Loss: 1.506431221961975, Test Acc: 50.820438385009766\n"
          ]
        },
        {
          "output_type": "stream",
          "name": "stderr",
          "text": [
            "100%|██████████| 134/134 [00:20<00:00,  6.55it/s]\n"
          ]
        },
        {
          "output_type": "stream",
          "name": "stdout",
          "text": [
            "Epoch 98, Train Loss: 0.8647373914718628, Train Acc: 42.99449157714844, Test Loss: 1.5014320611953735, Test Acc: 51.05485153198242\n"
          ]
        },
        {
          "output_type": "stream",
          "name": "stderr",
          "text": [
            "100%|██████████| 134/134 [00:20<00:00,  6.63it/s]\n"
          ]
        },
        {
          "output_type": "stream",
          "name": "stdout",
          "text": [
            "Epoch 99, Train Loss: 0.8701528906822205, Train Acc: 42.47860336303711, Test Loss: 1.4924460649490356, Test Acc: 51.00796890258789\n"
          ]
        },
        {
          "output_type": "stream",
          "name": "stderr",
          "text": [
            "100%|██████████| 134/134 [00:20<00:00,  6.55it/s]\n"
          ]
        },
        {
          "output_type": "stream",
          "name": "stdout",
          "text": [
            "Epoch 100, Train Loss: 0.8809254765510559, Train Acc: 42.748268127441406, Test Loss: 1.479863166809082, Test Acc: 51.148616790771484\n"
          ]
        },
        {
          "output_type": "stream",
          "name": "stderr",
          "text": [
            "100%|██████████| 134/134 [00:20<00:00,  6.65it/s]\n"
          ]
        },
        {
          "output_type": "stream",
          "name": "stdout",
          "text": [
            "Epoch 101, Train Loss: 0.8771628141403198, Train Acc: 43.35795593261719, Test Loss: 1.488599419593811, Test Acc: 51.10173034667969\n"
          ]
        },
        {
          "output_type": "stream",
          "name": "stderr",
          "text": [
            "100%|██████████| 134/134 [00:20<00:00,  6.55it/s]\n"
          ]
        },
        {
          "output_type": "stream",
          "name": "stdout",
          "text": [
            "Epoch 102, Train Loss: 0.8663746118545532, Train Acc: 43.18208312988281, Test Loss: 1.4855988025665283, Test Acc: 51.19549560546875\n"
          ]
        },
        {
          "output_type": "stream",
          "name": "stderr",
          "text": [
            "100%|██████████| 134/134 [00:20<00:00,  6.55it/s]\n"
          ]
        },
        {
          "output_type": "stream",
          "name": "stdout",
          "text": [
            "Epoch 103, Train Loss: 0.863758385181427, Train Acc: 42.85379409790039, Test Loss: 1.4703755378723145, Test Acc: 51.148616790771484\n"
          ]
        },
        {
          "output_type": "stream",
          "name": "stderr",
          "text": [
            "100%|██████████| 134/134 [00:20<00:00,  6.55it/s]\n"
          ]
        },
        {
          "output_type": "stream",
          "name": "stdout",
          "text": [
            "Epoch 104, Train Loss: 0.8700913786888123, Train Acc: 43.756595611572266, Test Loss: 1.4719289541244507, Test Acc: 51.24238204956055\n"
          ]
        },
        {
          "output_type": "stream",
          "name": "stderr",
          "text": [
            "100%|██████████| 134/134 [00:20<00:00,  6.55it/s]\n"
          ]
        },
        {
          "output_type": "stream",
          "name": "stdout",
          "text": [
            "Epoch 105, Train Loss: 0.8624191880226135, Train Acc: 42.537227630615234, Test Loss: 1.4653428792953491, Test Acc: 51.336143493652344\n"
          ]
        },
        {
          "output_type": "stream",
          "name": "stderr",
          "text": [
            "100%|██████████| 134/134 [00:20<00:00,  6.55it/s]\n"
          ]
        },
        {
          "output_type": "stream",
          "name": "stdout",
          "text": [
            "Epoch 106, Train Loss: 0.8521632552146912, Train Acc: 43.639347076416016, Test Loss: 1.4638981819152832, Test Acc: 51.4767951965332\n"
          ]
        },
        {
          "output_type": "stream",
          "name": "stderr",
          "text": [
            "100%|██████████| 134/134 [00:20<00:00,  6.63it/s]\n"
          ]
        },
        {
          "output_type": "stream",
          "name": "stdout",
          "text": [
            "Epoch 107, Train Loss: 0.8653128743171692, Train Acc: 43.52210235595703, Test Loss: 1.461111068725586, Test Acc: 51.4767951965332\n"
          ]
        },
        {
          "output_type": "stream",
          "name": "stderr",
          "text": [
            "100%|██████████| 134/134 [00:20<00:00,  6.63it/s]\n"
          ]
        },
        {
          "output_type": "stream",
          "name": "stdout",
          "text": [
            "Epoch 108, Train Loss: 0.8471030592918396, Train Acc: 44.55387496948242, Test Loss: 1.4614686965942383, Test Acc: 51.61743927001953\n"
          ]
        },
        {
          "output_type": "stream",
          "name": "stderr",
          "text": [
            "100%|██████████| 134/134 [00:20<00:00,  6.55it/s]\n"
          ]
        },
        {
          "output_type": "stream",
          "name": "stdout",
          "text": [
            "Epoch 109, Train Loss: 0.845622718334198, Train Acc: 44.155235290527344, Test Loss: 1.448883056640625, Test Acc: 51.66432189941406\n"
          ]
        },
        {
          "output_type": "stream",
          "name": "stderr",
          "text": [
            "100%|██████████| 134/134 [00:20<00:00,  6.65it/s]\n"
          ]
        },
        {
          "output_type": "stream",
          "name": "stdout",
          "text": [
            "Epoch 110, Train Loss: 0.8529633283615112, Train Acc: 42.912418365478516, Test Loss: 1.44606614112854, Test Acc: 51.71120834350586\n"
          ]
        },
        {
          "output_type": "stream",
          "name": "stderr",
          "text": [
            "100%|██████████| 134/134 [00:20<00:00,  6.63it/s]\n"
          ]
        },
        {
          "output_type": "stream",
          "name": "stdout",
          "text": [
            "Epoch 111, Train Loss: 0.8518263101577759, Train Acc: 43.4869270324707, Test Loss: 1.451720118522644, Test Acc: 51.66432189941406\n"
          ]
        },
        {
          "output_type": "stream",
          "name": "stderr",
          "text": [
            "100%|██████████| 134/134 [00:20<00:00,  6.54it/s]\n"
          ]
        },
        {
          "output_type": "stream",
          "name": "stdout",
          "text": [
            "Epoch 112, Train Loss: 0.8628669381141663, Train Acc: 43.72142028808594, Test Loss: 1.438671350479126, Test Acc: 51.85185241699219\n"
          ]
        },
        {
          "output_type": "stream",
          "name": "stderr",
          "text": [
            "100%|██████████| 134/134 [00:20<00:00,  6.55it/s]\n"
          ]
        },
        {
          "output_type": "stream",
          "name": "stdout",
          "text": [
            "Epoch 113, Train Loss: 0.8317890763282776, Train Acc: 44.600772857666016, Test Loss: 1.435011386871338, Test Acc: 51.89873504638672\n"
          ]
        },
        {
          "output_type": "stream",
          "name": "stderr",
          "text": [
            "100%|██████████| 134/134 [00:20<00:00,  6.63it/s]\n"
          ]
        },
        {
          "output_type": "stream",
          "name": "stdout",
          "text": [
            "Epoch 114, Train Loss: 0.8382496237754822, Train Acc: 43.92074203491211, Test Loss: 1.4403382539749146, Test Acc: 51.945613861083984\n"
          ]
        },
        {
          "output_type": "stream",
          "name": "stderr",
          "text": [
            "100%|██████████| 134/134 [00:20<00:00,  6.64it/s]\n"
          ]
        },
        {
          "output_type": "stream",
          "name": "stdout",
          "text": [
            "Epoch 115, Train Loss: 0.851539134979248, Train Acc: 44.84699249267578, Test Loss: 1.432398796081543, Test Acc: 52.03937911987305\n"
          ]
        },
        {
          "output_type": "stream",
          "name": "stderr",
          "text": [
            "100%|██████████| 134/134 [00:20<00:00,  6.66it/s]\n"
          ]
        },
        {
          "output_type": "stream",
          "name": "stdout",
          "text": [
            "Epoch 116, Train Loss: 0.8491033911705017, Train Acc: 43.979366302490234, Test Loss: 1.427595853805542, Test Acc: 51.99250030517578\n"
          ]
        },
        {
          "output_type": "stream",
          "name": "stderr",
          "text": [
            "100%|██████████| 134/134 [00:20<00:00,  6.66it/s]\n"
          ]
        },
        {
          "output_type": "stream",
          "name": "stdout",
          "text": [
            "Epoch 117, Train Loss: 0.8427096009254456, Train Acc: 44.155235290527344, Test Loss: 1.4252550601959229, Test Acc: 51.89873504638672\n"
          ]
        },
        {
          "output_type": "stream",
          "name": "stderr",
          "text": [
            "100%|██████████| 134/134 [00:20<00:00,  6.65it/s]\n"
          ]
        },
        {
          "output_type": "stream",
          "name": "stdout",
          "text": [
            "Epoch 118, Train Loss: 0.8476618528366089, Train Acc: 44.413177490234375, Test Loss: 1.4274624586105347, Test Acc: 51.945613861083984\n"
          ]
        },
        {
          "output_type": "stream",
          "name": "stderr",
          "text": [
            "100%|██████████| 134/134 [00:20<00:00,  6.63it/s]\n"
          ]
        },
        {
          "output_type": "stream",
          "name": "stdout",
          "text": [
            "Epoch 119, Train Loss: 0.8440202474594116, Train Acc: 44.38972854614258, Test Loss: 1.4337263107299805, Test Acc: 51.99250030517578\n"
          ]
        },
        {
          "output_type": "stream",
          "name": "stderr",
          "text": [
            "100%|██████████| 134/134 [00:20<00:00,  6.65it/s]\n"
          ]
        },
        {
          "output_type": "stream",
          "name": "stdout",
          "text": [
            "Epoch 120, Train Loss: 0.8394664525985718, Train Acc: 44.02626419067383, Test Loss: 1.4161522388458252, Test Acc: 51.99250030517578\n"
          ]
        },
        {
          "output_type": "stream",
          "name": "stderr",
          "text": [
            "100%|██████████| 134/134 [00:20<00:00,  6.64it/s]\n"
          ]
        },
        {
          "output_type": "stream",
          "name": "stdout",
          "text": [
            "Epoch 121, Train Loss: 0.8343782424926758, Train Acc: 44.21385955810547, Test Loss: 1.4118552207946777, Test Acc: 52.13314437866211\n"
          ]
        },
        {
          "output_type": "stream",
          "name": "stderr",
          "text": [
            "100%|██████████| 134/134 [00:20<00:00,  6.55it/s]\n"
          ]
        },
        {
          "output_type": "stream",
          "name": "stdout",
          "text": [
            "Epoch 122, Train Loss: 0.8312582969665527, Train Acc: 44.0145378112793, Test Loss: 1.4095983505249023, Test Acc: 52.18002700805664\n"
          ]
        },
        {
          "output_type": "stream",
          "name": "stderr",
          "text": [
            "100%|██████████| 134/134 [00:20<00:00,  6.55it/s]\n"
          ]
        },
        {
          "output_type": "stream",
          "name": "stdout",
          "text": [
            "Epoch 123, Train Loss: 0.842104971408844, Train Acc: 44.40145492553711, Test Loss: 1.4143712520599365, Test Acc: 52.13314437866211\n"
          ]
        },
        {
          "output_type": "stream",
          "name": "stderr",
          "text": [
            "100%|██████████| 134/134 [00:20<00:00,  6.65it/s]\n"
          ]
        },
        {
          "output_type": "stream",
          "name": "stdout",
          "text": [
            "Epoch 124, Train Loss: 0.8384069204330444, Train Acc: 43.873844146728516, Test Loss: 1.4049780368804932, Test Acc: 52.2737922668457\n"
          ]
        },
        {
          "output_type": "stream",
          "name": "stderr",
          "text": [
            "100%|██████████| 134/134 [00:20<00:00,  6.63it/s]\n"
          ]
        },
        {
          "output_type": "stream",
          "name": "stdout",
          "text": [
            "Epoch 125, Train Loss: 0.8266706466674805, Train Acc: 45.15183639526367, Test Loss: 1.4153826236724854, Test Acc: 52.22691345214844\n"
          ]
        },
        {
          "output_type": "stream",
          "name": "stderr",
          "text": [
            "100%|██████████| 134/134 [00:20<00:00,  6.63it/s]\n"
          ]
        },
        {
          "output_type": "stream",
          "name": "stdout",
          "text": [
            "Epoch 126, Train Loss: 0.8299314975738525, Train Acc: 44.272483825683594, Test Loss: 1.4093729257583618, Test Acc: 52.50820541381836\n"
          ]
        },
        {
          "output_type": "stream",
          "name": "stderr",
          "text": [
            "100%|██████████| 134/134 [00:20<00:00,  6.55it/s]\n"
          ]
        },
        {
          "output_type": "stream",
          "name": "stdout",
          "text": [
            "Epoch 127, Train Loss: 0.830735445022583, Train Acc: 44.99941635131836, Test Loss: 1.396302580833435, Test Acc: 52.555084228515625\n"
          ]
        },
        {
          "output_type": "stream",
          "name": "stderr",
          "text": [
            "100%|██████████| 134/134 [00:20<00:00,  6.64it/s]\n"
          ]
        },
        {
          "output_type": "stream",
          "name": "stdout",
          "text": [
            "Epoch 128, Train Loss: 0.8271157741546631, Train Acc: 45.12838363647461, Test Loss: 1.392717957496643, Test Acc: 52.46131896972656\n"
          ]
        },
        {
          "output_type": "stream",
          "name": "stderr",
          "text": [
            "100%|██████████| 134/134 [00:20<00:00,  6.55it/s]\n"
          ]
        },
        {
          "output_type": "stream",
          "name": "stdout",
          "text": [
            "Epoch 129, Train Loss: 0.841387152671814, Train Acc: 44.62422561645508, Test Loss: 1.395758032798767, Test Acc: 52.50820541381836\n"
          ]
        },
        {
          "output_type": "stream",
          "name": "stderr",
          "text": [
            "100%|██████████| 134/134 [00:20<00:00,  6.55it/s]\n"
          ]
        },
        {
          "output_type": "stream",
          "name": "stdout",
          "text": [
            "Epoch 130, Train Loss: 0.8234845995903015, Train Acc: 45.29253387451172, Test Loss: 1.3940244913101196, Test Acc: 52.555084228515625\n"
          ]
        },
        {
          "output_type": "stream",
          "name": "stderr",
          "text": [
            "100%|██████████| 134/134 [00:20<00:00,  6.65it/s]\n"
          ]
        },
        {
          "output_type": "stream",
          "name": "stdout",
          "text": [
            "Epoch 131, Train Loss: 0.8289054036140442, Train Acc: 44.46007537841797, Test Loss: 1.3936865329742432, Test Acc: 52.46131896972656\n"
          ]
        },
        {
          "output_type": "stream",
          "name": "stderr",
          "text": [
            "100%|██████████| 134/134 [00:20<00:00,  6.55it/s]\n"
          ]
        },
        {
          "output_type": "stream",
          "name": "stdout",
          "text": [
            "Epoch 132, Train Loss: 0.8256894946098328, Train Acc: 45.06976318359375, Test Loss: 1.3891712427139282, Test Acc: 52.555084228515625\n"
          ]
        },
        {
          "output_type": "stream",
          "name": "stderr",
          "text": [
            "100%|██████████| 134/134 [00:20<00:00,  6.63it/s]\n"
          ]
        },
        {
          "output_type": "stream",
          "name": "stdout",
          "text": [
            "Epoch 133, Train Loss: 0.8261940479278564, Train Acc: 44.99941635131836, Test Loss: 1.3801218271255493, Test Acc: 52.69573211669922\n"
          ]
        },
        {
          "output_type": "stream",
          "name": "stderr",
          "text": [
            "100%|██████████| 134/134 [00:20<00:00,  6.55it/s]\n"
          ]
        },
        {
          "output_type": "stream",
          "name": "stdout",
          "text": [
            "Epoch 134, Train Loss: 0.8249581456184387, Train Acc: 44.28420639038086, Test Loss: 1.3822431564331055, Test Acc: 52.742618560791016\n"
          ]
        },
        {
          "output_type": "stream",
          "name": "stderr",
          "text": [
            "100%|██████████| 134/134 [00:20<00:00,  6.64it/s]\n"
          ]
        },
        {
          "output_type": "stream",
          "name": "stdout",
          "text": [
            "Epoch 135, Train Loss: 0.8233199715614319, Train Acc: 44.28420639038086, Test Loss: 1.3813135623931885, Test Acc: 52.69573211669922\n"
          ]
        },
        {
          "output_type": "stream",
          "name": "stderr",
          "text": [
            "100%|██████████| 134/134 [00:20<00:00,  6.65it/s]\n"
          ]
        },
        {
          "output_type": "stream",
          "name": "stdout",
          "text": [
            "Epoch 136, Train Loss: 0.8209079504013062, Train Acc: 44.80009460449219, Test Loss: 1.3849107027053833, Test Acc: 52.83638381958008\n"
          ]
        },
        {
          "output_type": "stream",
          "name": "stderr",
          "text": [
            "100%|██████████| 134/134 [00:20<00:00,  6.64it/s]\n"
          ]
        },
        {
          "output_type": "stream",
          "name": "stdout",
          "text": [
            "Epoch 137, Train Loss: 0.8182843327522278, Train Acc: 44.99941635131836, Test Loss: 1.3842493295669556, Test Acc: 52.83638381958008\n"
          ]
        },
        {
          "output_type": "stream",
          "name": "stderr",
          "text": [
            "100%|██████████| 134/134 [00:20<00:00,  6.64it/s]\n"
          ]
        },
        {
          "output_type": "stream",
          "name": "stdout",
          "text": [
            "Epoch 138, Train Loss: 0.7988469004631042, Train Acc: 45.25735855102539, Test Loss: 1.3824834823608398, Test Acc: 52.83638381958008\n"
          ]
        },
        {
          "output_type": "stream",
          "name": "stderr",
          "text": [
            "100%|██████████| 134/134 [00:20<00:00,  6.55it/s]\n"
          ]
        },
        {
          "output_type": "stream",
          "name": "stdout",
          "text": [
            "Epoch 139, Train Loss: 0.8149611949920654, Train Acc: 45.04631042480469, Test Loss: 1.3689910173416138, Test Acc: 52.742618560791016\n"
          ]
        },
        {
          "output_type": "stream",
          "name": "stderr",
          "text": [
            "100%|██████████| 134/134 [00:20<00:00,  6.55it/s]\n"
          ]
        },
        {
          "output_type": "stream",
          "name": "stdout",
          "text": [
            "Epoch 140, Train Loss: 0.8184900879859924, Train Acc: 44.893890380859375, Test Loss: 1.3762587308883667, Test Acc: 52.78949737548828\n"
          ]
        },
        {
          "output_type": "stream",
          "name": "stderr",
          "text": [
            "100%|██████████| 134/134 [00:20<00:00,  6.63it/s]\n"
          ]
        },
        {
          "output_type": "stream",
          "name": "stdout",
          "text": [
            "Epoch 141, Train Loss: 0.7980536222457886, Train Acc: 44.98768997192383, Test Loss: 1.375198483467102, Test Acc: 52.930145263671875\n"
          ]
        },
        {
          "output_type": "stream",
          "name": "stderr",
          "text": [
            "100%|██████████| 134/134 [00:20<00:00,  6.66it/s]\n"
          ]
        },
        {
          "output_type": "stream",
          "name": "stdout",
          "text": [
            "Epoch 142, Train Loss: 0.8143260478973389, Train Acc: 45.269081115722656, Test Loss: 1.3651202917099, Test Acc: 52.883262634277344\n"
          ]
        },
        {
          "output_type": "stream",
          "name": "stderr",
          "text": [
            "100%|██████████| 134/134 [00:20<00:00,  6.55it/s]\n"
          ]
        },
        {
          "output_type": "stream",
          "name": "stdout",
          "text": [
            "Epoch 143, Train Loss: 0.7932556867599487, Train Acc: 45.8904914855957, Test Loss: 1.3605890274047852, Test Acc: 52.930145263671875\n"
          ]
        },
        {
          "output_type": "stream",
          "name": "stderr",
          "text": [
            "100%|██████████| 134/134 [00:20<00:00,  6.55it/s]\n"
          ]
        },
        {
          "output_type": "stream",
          "name": "stdout",
          "text": [
            "Epoch 144, Train Loss: 0.8016586303710938, Train Acc: 45.51530075073242, Test Loss: 1.3616447448730469, Test Acc: 53.02391052246094\n"
          ]
        },
        {
          "output_type": "stream",
          "name": "stderr",
          "text": [
            "100%|██████████| 134/134 [00:20<00:00,  6.55it/s]\n"
          ]
        },
        {
          "output_type": "stream",
          "name": "stdout",
          "text": [
            "Epoch 145, Train Loss: 0.8116129636764526, Train Acc: 45.4097785949707, Test Loss: 1.3654603958129883, Test Acc: 53.11767578125\n"
          ]
        },
        {
          "output_type": "stream",
          "name": "stderr",
          "text": [
            "100%|██████████| 134/134 [00:20<00:00,  6.64it/s]\n"
          ]
        },
        {
          "output_type": "stream",
          "name": "stdout",
          "text": [
            "Epoch 146, Train Loss: 0.8018871545791626, Train Acc: 45.62082290649414, Test Loss: 1.3720917701721191, Test Acc: 53.352088928222656\n"
          ]
        },
        {
          "output_type": "stream",
          "name": "stderr",
          "text": [
            "100%|██████████| 134/134 [00:20<00:00,  6.64it/s]\n"
          ]
        },
        {
          "output_type": "stream",
          "name": "stdout",
          "text": [
            "Epoch 147, Train Loss: 0.8031282424926758, Train Acc: 45.69116973876953, Test Loss: 1.3601560592651367, Test Acc: 53.39896774291992\n"
          ]
        },
        {
          "output_type": "stream",
          "name": "stderr",
          "text": [
            "100%|██████████| 134/134 [00:20<00:00,  6.62it/s]\n"
          ]
        },
        {
          "output_type": "stream",
          "name": "stdout",
          "text": [
            "Epoch 148, Train Loss: 0.8118568062782288, Train Acc: 44.413177490234375, Test Loss: 1.3678842782974243, Test Acc: 53.49272918701172\n"
          ]
        },
        {
          "output_type": "stream",
          "name": "stderr",
          "text": [
            "100%|██████████| 134/134 [00:20<00:00,  6.64it/s]\n"
          ]
        },
        {
          "output_type": "stream",
          "name": "stdout",
          "text": [
            "Epoch 149, Train Loss: 0.8040474653244019, Train Acc: 44.61249542236328, Test Loss: 1.3669177293777466, Test Acc: 53.539615631103516\n"
          ]
        },
        {
          "output_type": "stream",
          "name": "stderr",
          "text": [
            "100%|██████████| 134/134 [00:20<00:00,  6.55it/s]\n"
          ]
        },
        {
          "output_type": "stream",
          "name": "stdout",
          "text": [
            "Epoch 150, Train Loss: 0.8108924627304077, Train Acc: 45.667724609375, Test Loss: 1.351665735244751, Test Acc: 53.39896774291992\n"
          ]
        },
        {
          "output_type": "stream",
          "name": "stderr",
          "text": [
            "100%|██████████| 134/134 [00:20<00:00,  6.55it/s]\n"
          ]
        },
        {
          "output_type": "stream",
          "name": "stdout",
          "text": [
            "Epoch 151, Train Loss: 0.8127679228782654, Train Acc: 45.73807144165039, Test Loss: 1.3614519834518433, Test Acc: 53.539615631103516\n"
          ]
        },
        {
          "output_type": "stream",
          "name": "stderr",
          "text": [
            "100%|██████████| 134/134 [00:20<00:00,  6.55it/s]\n"
          ]
        },
        {
          "output_type": "stream",
          "name": "stdout",
          "text": [
            "Epoch 152, Train Loss: 0.7876701951026917, Train Acc: 45.42150115966797, Test Loss: 1.350879192352295, Test Acc: 53.44585037231445\n"
          ]
        },
        {
          "output_type": "stream",
          "name": "stderr",
          "text": [
            "100%|██████████| 134/134 [00:20<00:00,  6.55it/s]\n"
          ]
        },
        {
          "output_type": "stream",
          "name": "stdout",
          "text": [
            "Epoch 153, Train Loss: 0.7989194989204407, Train Acc: 45.96084213256836, Test Loss: 1.3461636304855347, Test Acc: 53.539615631103516\n"
          ]
        },
        {
          "output_type": "stream",
          "name": "stderr",
          "text": [
            "100%|██████████| 134/134 [00:20<00:00,  6.55it/s]\n"
          ]
        },
        {
          "output_type": "stream",
          "name": "stdout",
          "text": [
            "Epoch 154, Train Loss: 0.8027721643447876, Train Acc: 45.632545471191406, Test Loss: 1.351309061050415, Test Acc: 53.63338088989258\n"
          ]
        },
        {
          "output_type": "stream",
          "name": "stderr",
          "text": [
            "100%|██████████| 134/134 [00:20<00:00,  6.63it/s]\n"
          ]
        },
        {
          "output_type": "stream",
          "name": "stdout",
          "text": [
            "Epoch 155, Train Loss: 0.8018633127212524, Train Acc: 45.304256439208984, Test Loss: 1.3499664068222046, Test Acc: 53.63338088989258\n"
          ]
        },
        {
          "output_type": "stream",
          "name": "stderr",
          "text": [
            "100%|██████████| 134/134 [00:20<00:00,  6.65it/s]\n"
          ]
        },
        {
          "output_type": "stream",
          "name": "stdout",
          "text": [
            "Epoch 156, Train Loss: 0.8081767559051514, Train Acc: 44.88216781616211, Test Loss: 1.3548649549484253, Test Acc: 53.727142333984375\n"
          ]
        },
        {
          "output_type": "stream",
          "name": "stderr",
          "text": [
            "100%|██████████| 134/134 [00:20<00:00,  6.55it/s]\n"
          ]
        },
        {
          "output_type": "stream",
          "name": "stdout",
          "text": [
            "Epoch 157, Train Loss: 0.7931175231933594, Train Acc: 45.72634506225586, Test Loss: 1.342860221862793, Test Acc: 53.727142333984375\n"
          ]
        },
        {
          "output_type": "stream",
          "name": "stderr",
          "text": [
            "100%|██████████| 134/134 [00:20<00:00,  6.55it/s]\n"
          ]
        },
        {
          "output_type": "stream",
          "name": "stdout",
          "text": [
            "Epoch 158, Train Loss: 0.7973901033401489, Train Acc: 45.64427185058594, Test Loss: 1.3448418378829956, Test Acc: 53.77402877807617\n"
          ]
        },
        {
          "output_type": "stream",
          "name": "stderr",
          "text": [
            "100%|██████████| 134/134 [00:20<00:00,  6.64it/s]\n"
          ]
        },
        {
          "output_type": "stream",
          "name": "stdout",
          "text": [
            "Epoch 159, Train Loss: 0.7986325621604919, Train Acc: 44.87044143676758, Test Loss: 1.3340390920639038, Test Acc: 53.867794036865234\n"
          ]
        },
        {
          "output_type": "stream",
          "name": "stderr",
          "text": [
            "100%|██████████| 134/134 [00:20<00:00,  6.62it/s]\n"
          ]
        },
        {
          "output_type": "stream",
          "name": "stdout",
          "text": [
            "Epoch 160, Train Loss: 0.7990385293960571, Train Acc: 45.480125427246094, Test Loss: 1.3400064706802368, Test Acc: 53.77402877807617\n"
          ]
        },
        {
          "output_type": "stream",
          "name": "stderr",
          "text": [
            "100%|██████████| 134/134 [00:20<00:00,  6.63it/s]\n"
          ]
        },
        {
          "output_type": "stream",
          "name": "stdout",
          "text": [
            "Epoch 161, Train Loss: 0.7880446314811707, Train Acc: 46.042911529541016, Test Loss: 1.3449575901031494, Test Acc: 53.77402877807617\n"
          ]
        },
        {
          "output_type": "stream",
          "name": "stderr",
          "text": [
            "100%|██████████| 134/134 [00:20<00:00,  6.55it/s]\n"
          ]
        },
        {
          "output_type": "stream",
          "name": "stdout",
          "text": [
            "Epoch 162, Train Loss: 0.7792142629623413, Train Acc: 46.593971252441406, Test Loss: 1.3379944562911987, Test Acc: 53.77402877807617\n"
          ]
        },
        {
          "output_type": "stream",
          "name": "stderr",
          "text": [
            "100%|██████████| 134/134 [00:20<00:00,  6.65it/s]\n"
          ]
        },
        {
          "output_type": "stream",
          "name": "stdout",
          "text": [
            "Epoch 163, Train Loss: 0.7946857810020447, Train Acc: 46.10153579711914, Test Loss: 1.3367624282836914, Test Acc: 54.00843811035156\n"
          ]
        },
        {
          "output_type": "stream",
          "name": "stderr",
          "text": [
            "100%|██████████| 134/134 [00:20<00:00,  6.65it/s]\n"
          ]
        },
        {
          "output_type": "stream",
          "name": "stdout",
          "text": [
            "Epoch 164, Train Loss: 0.7946450114250183, Train Acc: 45.667724609375, Test Loss: 1.3300037384033203, Test Acc: 53.96155548095703\n"
          ]
        },
        {
          "output_type": "stream",
          "name": "stderr",
          "text": [
            "100%|██████████| 134/134 [00:20<00:00,  6.55it/s]\n"
          ]
        },
        {
          "output_type": "stream",
          "name": "stdout",
          "text": [
            "Epoch 165, Train Loss: 0.7823716402053833, Train Acc: 46.078086853027344, Test Loss: 1.3378828763961792, Test Acc: 54.00843811035156\n"
          ]
        },
        {
          "output_type": "stream",
          "name": "stderr",
          "text": [
            "100%|██████████| 134/134 [00:20<00:00,  6.64it/s]\n"
          ]
        },
        {
          "output_type": "stream",
          "name": "stdout",
          "text": [
            "Epoch 166, Train Loss: 0.7867757678031921, Train Acc: 46.58224868774414, Test Loss: 1.334472894668579, Test Acc: 54.149085998535156\n"
          ]
        },
        {
          "output_type": "stream",
          "name": "stderr",
          "text": [
            "100%|██████████| 134/134 [00:20<00:00,  6.62it/s]\n"
          ]
        },
        {
          "output_type": "stream",
          "name": "stdout",
          "text": [
            "Epoch 167, Train Loss: 0.7787755131721497, Train Acc: 46.47672653198242, Test Loss: 1.3274803161621094, Test Acc: 54.149085998535156\n"
          ]
        },
        {
          "output_type": "stream",
          "name": "stderr",
          "text": [
            "100%|██████████| 134/134 [00:20<00:00,  6.64it/s]\n"
          ]
        },
        {
          "output_type": "stream",
          "name": "stdout",
          "text": [
            "Epoch 168, Train Loss: 0.7921310663223267, Train Acc: 45.50357437133789, Test Loss: 1.329239010810852, Test Acc: 54.24285125732422\n"
          ]
        },
        {
          "output_type": "stream",
          "name": "stderr",
          "text": [
            "100%|██████████| 134/134 [00:22<00:00,  6.08it/s]\n"
          ]
        },
        {
          "output_type": "stream",
          "name": "stdout",
          "text": [
            "Epoch 169, Train Loss: 0.7745839357376099, Train Acc: 46.18360900878906, Test Loss: 1.3287239074707031, Test Acc: 54.336612701416016\n"
          ]
        },
        {
          "output_type": "stream",
          "name": "stderr",
          "text": [
            "100%|██████████| 134/134 [09:21<00:00,  4.19s/it]\n"
          ]
        },
        {
          "output_type": "stream",
          "name": "stdout",
          "text": [
            "Epoch 170, Train Loss: 0.7846144437789917, Train Acc: 46.24222946166992, Test Loss: 1.33071768283844, Test Acc: 54.336612701416016\n"
          ]
        },
        {
          "output_type": "stream",
          "name": "stderr",
          "text": [
            "100%|██████████| 134/134 [00:20<00:00,  6.55it/s]\n"
          ]
        },
        {
          "output_type": "stream",
          "name": "stdout",
          "text": [
            "Epoch 171, Train Loss: 0.7873350381851196, Train Acc: 45.92566680908203, Test Loss: 1.3266935348510742, Test Acc: 54.38349914550781\n"
          ]
        },
        {
          "output_type": "stream",
          "name": "stderr",
          "text": [
            "100%|██████████| 134/134 [00:20<00:00,  6.66it/s]\n"
          ]
        },
        {
          "output_type": "stream",
          "name": "stdout",
          "text": [
            "Epoch 172, Train Loss: 0.7932418584823608, Train Acc: 45.855316162109375, Test Loss: 1.320898175239563, Test Acc: 54.336612701416016\n"
          ]
        },
        {
          "output_type": "stream",
          "name": "stderr",
          "text": [
            "100%|██████████| 134/134 [00:20<00:00,  6.55it/s]\n"
          ]
        },
        {
          "output_type": "stream",
          "name": "stdout",
          "text": [
            "Epoch 173, Train Loss: 0.7866742014884949, Train Acc: 45.42150115966797, Test Loss: 1.322005271911621, Test Acc: 54.477264404296875\n"
          ]
        },
        {
          "output_type": "stream",
          "name": "stderr",
          "text": [
            "100%|██████████| 134/134 [00:20<00:00,  6.60it/s]\n"
          ]
        },
        {
          "output_type": "stream",
          "name": "stdout",
          "text": [
            "Epoch 174, Train Loss: 0.7904884815216064, Train Acc: 46.265682220458984, Test Loss: 1.3270429372787476, Test Acc: 54.43037796020508\n"
          ]
        },
        {
          "output_type": "stream",
          "name": "stderr",
          "text": [
            "100%|██████████| 134/134 [00:20<00:00,  6.55it/s]\n"
          ]
        },
        {
          "output_type": "stream",
          "name": "stdout",
          "text": [
            "Epoch 175, Train Loss: 0.774976909160614, Train Acc: 46.816741943359375, Test Loss: 1.3264607191085815, Test Acc: 54.57102584838867\n"
          ]
        },
        {
          "output_type": "stream",
          "name": "stderr",
          "text": [
            "100%|██████████| 134/134 [00:20<00:00,  6.64it/s]\n"
          ]
        },
        {
          "output_type": "stream",
          "name": "stdout",
          "text": [
            "Epoch 176, Train Loss: 0.7796457409858704, Train Acc: 46.53534698486328, Test Loss: 1.3268049955368042, Test Acc: 54.57102584838867\n"
          ]
        },
        {
          "output_type": "stream",
          "name": "stderr",
          "text": [
            "100%|██████████| 134/134 [00:20<00:00,  6.55it/s]\n"
          ]
        },
        {
          "output_type": "stream",
          "name": "stdout",
          "text": [
            "Epoch 177, Train Loss: 0.7872600555419922, Train Acc: 46.50017547607422, Test Loss: 1.3192143440246582, Test Acc: 54.52414321899414\n"
          ]
        },
        {
          "output_type": "stream",
          "name": "stderr",
          "text": [
            "100%|██████████| 134/134 [00:20<00:00,  6.55it/s]\n"
          ]
        },
        {
          "output_type": "stream",
          "name": "stdout",
          "text": [
            "Epoch 178, Train Loss: 0.7821108102798462, Train Acc: 46.3946533203125, Test Loss: 1.3198059797286987, Test Acc: 54.477264404296875\n"
          ]
        },
        {
          "output_type": "stream",
          "name": "stderr",
          "text": [
            "100%|██████████| 134/134 [00:20<00:00,  6.55it/s]\n"
          ]
        },
        {
          "output_type": "stream",
          "name": "stdout",
          "text": [
            "Epoch 179, Train Loss: 0.7814755439758301, Train Acc: 46.347755432128906, Test Loss: 1.325465202331543, Test Acc: 54.477264404296875\n"
          ]
        },
        {
          "output_type": "stream",
          "name": "stderr",
          "text": [
            "100%|██████████| 134/134 [00:20<00:00,  6.55it/s]\n"
          ]
        },
        {
          "output_type": "stream",
          "name": "stdout",
          "text": [
            "Epoch 180, Train Loss: 0.7808869481086731, Train Acc: 46.3712043762207, Test Loss: 1.3135690689086914, Test Acc: 54.38349914550781\n"
          ]
        },
        {
          "output_type": "stream",
          "name": "stderr",
          "text": [
            "100%|██████████| 134/134 [00:20<00:00,  6.62it/s]\n"
          ]
        },
        {
          "output_type": "stream",
          "name": "stdout",
          "text": [
            "Epoch 181, Train Loss: 0.7817050814628601, Train Acc: 46.4181022644043, Test Loss: 1.3252673149108887, Test Acc: 54.477264404296875\n"
          ]
        },
        {
          "output_type": "stream",
          "name": "stderr",
          "text": [
            "100%|██████████| 134/134 [00:20<00:00,  6.55it/s]\n"
          ]
        },
        {
          "output_type": "stream",
          "name": "stdout",
          "text": [
            "Epoch 182, Train Loss: 0.7795444130897522, Train Acc: 46.746395111083984, Test Loss: 1.3153371810913086, Test Acc: 54.477264404296875\n"
          ]
        },
        {
          "output_type": "stream",
          "name": "stderr",
          "text": [
            "100%|██████████| 134/134 [00:20<00:00,  6.63it/s]\n"
          ]
        },
        {
          "output_type": "stream",
          "name": "stdout",
          "text": [
            "Epoch 183, Train Loss: 0.7720134854316711, Train Acc: 46.65259552001953, Test Loss: 1.3206409215927124, Test Acc: 54.52414321899414\n"
          ]
        },
        {
          "output_type": "stream",
          "name": "stderr",
          "text": [
            "100%|██████████| 134/134 [00:20<00:00,  6.55it/s]\n"
          ]
        },
        {
          "output_type": "stream",
          "name": "stdout",
          "text": [
            "Epoch 184, Train Loss: 0.7908207774162292, Train Acc: 45.83186721801758, Test Loss: 1.3127212524414062, Test Acc: 54.43037796020508\n"
          ]
        },
        {
          "output_type": "stream",
          "name": "stderr",
          "text": [
            "100%|██████████| 134/134 [00:20<00:00,  6.64it/s]\n"
          ]
        },
        {
          "output_type": "stream",
          "name": "stdout",
          "text": [
            "Epoch 185, Train Loss: 0.7836447954177856, Train Acc: 45.784969329833984, Test Loss: 1.3091647624969482, Test Acc: 54.57102584838867\n"
          ]
        },
        {
          "output_type": "stream",
          "name": "stderr",
          "text": [
            "100%|██████████| 134/134 [00:20<00:00,  6.55it/s]\n"
          ]
        },
        {
          "output_type": "stream",
          "name": "stdout",
          "text": [
            "Epoch 186, Train Loss: 0.7751900553703308, Train Acc: 46.30085372924805, Test Loss: 1.316679835319519, Test Acc: 54.52414321899414\n"
          ]
        },
        {
          "output_type": "stream",
          "name": "stderr",
          "text": [
            "100%|██████████| 134/134 [00:20<00:00,  6.55it/s]\n"
          ]
        },
        {
          "output_type": "stream",
          "name": "stdout",
          "text": [
            "Epoch 187, Train Loss: 0.7786015272140503, Train Acc: 45.902217864990234, Test Loss: 1.3104084730148315, Test Acc: 54.52414321899414\n"
          ]
        },
        {
          "output_type": "stream",
          "name": "stderr",
          "text": [
            "100%|██████████| 134/134 [00:20<00:00,  6.55it/s]\n"
          ]
        },
        {
          "output_type": "stream",
          "name": "stdout",
          "text": [
            "Epoch 188, Train Loss: 0.7671471238136292, Train Acc: 46.277408599853516, Test Loss: 1.3130666017532349, Test Acc: 54.57102584838867\n"
          ]
        },
        {
          "output_type": "stream",
          "name": "stderr",
          "text": [
            "100%|██████████| 134/134 [00:20<00:00,  6.55it/s]\n"
          ]
        },
        {
          "output_type": "stream",
          "name": "stdout",
          "text": [
            "Epoch 189, Train Loss: 0.7781581282615662, Train Acc: 45.632545471191406, Test Loss: 1.3060903549194336, Test Acc: 54.71167755126953\n"
          ]
        },
        {
          "output_type": "stream",
          "name": "stderr",
          "text": [
            "100%|██████████| 134/134 [00:20<00:00,  6.63it/s]\n"
          ]
        },
        {
          "output_type": "stream",
          "name": "stdout",
          "text": [
            "Epoch 190, Train Loss: 0.7701558470726013, Train Acc: 47.42642593383789, Test Loss: 1.307152271270752, Test Acc: 54.71167755126953\n"
          ]
        },
        {
          "output_type": "stream",
          "name": "stderr",
          "text": [
            "100%|██████████| 134/134 [00:20<00:00,  6.55it/s]\n"
          ]
        },
        {
          "output_type": "stream",
          "name": "stdout",
          "text": [
            "Epoch 191, Train Loss: 0.7734111547470093, Train Acc: 46.46500015258789, Test Loss: 1.3062372207641602, Test Acc: 54.61791229248047\n"
          ]
        },
        {
          "output_type": "stream",
          "name": "stderr",
          "text": [
            "100%|██████████| 134/134 [00:20<00:00,  6.55it/s]\n"
          ]
        },
        {
          "output_type": "stream",
          "name": "stdout",
          "text": [
            "Epoch 192, Train Loss: 0.7932400703430176, Train Acc: 46.3946533203125, Test Loss: 1.3057204484939575, Test Acc: 54.61791229248047\n"
          ]
        },
        {
          "output_type": "stream",
          "name": "stderr",
          "text": [
            "100%|██████████| 134/134 [00:20<00:00,  6.63it/s]\n"
          ]
        },
        {
          "output_type": "stream",
          "name": "stdout",
          "text": [
            "Epoch 193, Train Loss: 0.7833319306373596, Train Acc: 46.12498474121094, Test Loss: 1.302767038345337, Test Acc: 54.57102584838867\n"
          ]
        },
        {
          "output_type": "stream",
          "name": "stderr",
          "text": [
            "100%|██████████| 134/134 [00:20<00:00,  6.63it/s]\n"
          ]
        },
        {
          "output_type": "stream",
          "name": "stdout",
          "text": [
            "Epoch 194, Train Loss: 0.7630665302276611, Train Acc: 47.109859466552734, Test Loss: 1.3026416301727295, Test Acc: 54.61791229248047\n"
          ]
        },
        {
          "output_type": "stream",
          "name": "stderr",
          "text": [
            "100%|██████████| 134/134 [00:20<00:00,  6.55it/s]\n"
          ]
        },
        {
          "output_type": "stream",
          "name": "stdout",
          "text": [
            "Epoch 195, Train Loss: 0.7664301991462708, Train Acc: 47.3326301574707, Test Loss: 1.3034412860870361, Test Acc: 54.57102584838867\n"
          ]
        },
        {
          "output_type": "stream",
          "name": "stderr",
          "text": [
            "100%|██████████| 134/134 [00:20<00:00,  6.55it/s]\n"
          ]
        },
        {
          "output_type": "stream",
          "name": "stdout",
          "text": [
            "Epoch 196, Train Loss: 0.7687881588935852, Train Acc: 46.91053771972656, Test Loss: 1.3033103942871094, Test Acc: 54.71167755126953\n"
          ]
        },
        {
          "output_type": "stream",
          "name": "stderr",
          "text": [
            "100%|██████████| 134/134 [00:20<00:00,  6.64it/s]\n"
          ]
        },
        {
          "output_type": "stream",
          "name": "stdout",
          "text": [
            "Epoch 197, Train Loss: 0.7668790221214294, Train Acc: 46.336029052734375, Test Loss: 1.3035422563552856, Test Acc: 54.664791107177734\n"
          ]
        },
        {
          "output_type": "stream",
          "name": "stderr",
          "text": [
            "100%|██████████| 134/134 [00:20<00:00,  6.64it/s]\n"
          ]
        },
        {
          "output_type": "stream",
          "name": "stdout",
          "text": [
            "Epoch 198, Train Loss: 0.7772766351699829, Train Acc: 46.91053771972656, Test Loss: 1.3038078546524048, Test Acc: 54.664791107177734\n"
          ]
        },
        {
          "output_type": "stream",
          "name": "stderr",
          "text": [
            "100%|██████████| 134/134 [00:20<00:00,  6.55it/s]\n"
          ]
        },
        {
          "output_type": "stream",
          "name": "stdout",
          "text": [
            "Epoch 199, Train Loss: 0.7704746127128601, Train Acc: 46.51190185546875, Test Loss: 1.2993810176849365, Test Acc: 54.57102584838867\n"
          ]
        },
        {
          "output_type": "stream",
          "name": "stderr",
          "text": [
            "100%|██████████| 134/134 [00:20<00:00,  6.55it/s]\n"
          ]
        },
        {
          "output_type": "stream",
          "name": "stdout",
          "text": [
            "Epoch 200, Train Loss: 0.7724128365516663, Train Acc: 46.54707717895508, Test Loss: 1.3054473400115967, Test Acc: 54.52414321899414\n"
          ]
        },
        {
          "output_type": "stream",
          "name": "stderr",
          "text": [
            "100%|██████████| 134/134 [00:20<00:00,  6.63it/s]\n"
          ]
        },
        {
          "output_type": "stream",
          "name": "stdout",
          "text": [
            "Epoch 201, Train Loss: 0.760238528251648, Train Acc: 47.039512634277344, Test Loss: 1.299896001815796, Test Acc: 54.61791229248047\n"
          ]
        },
        {
          "output_type": "stream",
          "name": "stderr",
          "text": [
            "100%|██████████| 134/134 [00:20<00:00,  6.63it/s]\n"
          ]
        },
        {
          "output_type": "stream",
          "name": "stdout",
          "text": [
            "Epoch 202, Train Loss: 0.7720381617546082, Train Acc: 47.16848373413086, Test Loss: 1.2978973388671875, Test Acc: 54.61791229248047\n"
          ]
        },
        {
          "output_type": "stream",
          "name": "stderr",
          "text": [
            "100%|██████████| 134/134 [00:20<00:00,  6.62it/s]\n"
          ]
        },
        {
          "output_type": "stream",
          "name": "stdout",
          "text": [
            "Epoch 203, Train Loss: 0.7654804587364197, Train Acc: 46.8753662109375, Test Loss: 1.298665165901184, Test Acc: 54.71167755126953\n"
          ]
        },
        {
          "output_type": "stream",
          "name": "stderr",
          "text": [
            "100%|██████████| 134/134 [00:20<00:00,  6.63it/s]\n"
          ]
        },
        {
          "output_type": "stream",
          "name": "stdout",
          "text": [
            "Epoch 204, Train Loss: 0.782239556312561, Train Acc: 46.47672653198242, Test Loss: 1.3008698225021362, Test Acc: 54.57102584838867\n"
          ]
        },
        {
          "output_type": "stream",
          "name": "stderr",
          "text": [
            "100%|██████████| 134/134 [00:20<00:00,  6.55it/s]\n"
          ]
        },
        {
          "output_type": "stream",
          "name": "stdout",
          "text": [
            "Epoch 205, Train Loss: 0.7599581480026245, Train Acc: 46.629150390625, Test Loss: 1.2975393533706665, Test Acc: 54.57102584838867\n"
          ]
        },
        {
          "output_type": "stream",
          "name": "stderr",
          "text": [
            "100%|██████████| 134/134 [00:20<00:00,  6.63it/s]\n"
          ]
        },
        {
          "output_type": "stream",
          "name": "stdout",
          "text": [
            "Epoch 206, Train Loss: 0.7596655488014221, Train Acc: 46.945716857910156, Test Loss: 1.301588773727417, Test Acc: 54.57102584838867\n"
          ]
        },
        {
          "output_type": "stream",
          "name": "stderr",
          "text": [
            "100%|██████████| 134/134 [00:20<00:00,  6.64it/s]\n"
          ]
        },
        {
          "output_type": "stream",
          "name": "stdout",
          "text": [
            "Epoch 207, Train Loss: 0.7668729424476624, Train Acc: 47.29745864868164, Test Loss: 1.2945526838302612, Test Acc: 54.664791107177734\n"
          ]
        },
        {
          "output_type": "stream",
          "name": "stderr",
          "text": [
            "100%|██████████| 134/134 [00:20<00:00,  6.63it/s]\n"
          ]
        },
        {
          "output_type": "stream",
          "name": "stdout",
          "text": [
            "Epoch 208, Train Loss: 0.7604071497917175, Train Acc: 46.79329299926758, Test Loss: 1.2912009954452515, Test Acc: 54.61791229248047\n"
          ]
        },
        {
          "output_type": "stream",
          "name": "stderr",
          "text": [
            "100%|██████████| 134/134 [00:20<00:00,  6.65it/s]\n"
          ]
        },
        {
          "output_type": "stream",
          "name": "stdout",
          "text": [
            "Epoch 209, Train Loss: 0.7666957974433899, Train Acc: 47.590576171875, Test Loss: 1.2973130941390991, Test Acc: 54.61791229248047\n"
          ]
        },
        {
          "output_type": "stream",
          "name": "stderr",
          "text": [
            "100%|██████████| 134/134 [00:20<00:00,  6.55it/s]\n"
          ]
        },
        {
          "output_type": "stream",
          "name": "stdout",
          "text": [
            "Epoch 210, Train Loss: 0.7623044848442078, Train Acc: 46.58224868774414, Test Loss: 1.2879421710968018, Test Acc: 54.61791229248047\n"
          ]
        },
        {
          "output_type": "stream",
          "name": "stderr",
          "text": [
            "100%|██████████| 134/134 [00:20<00:00,  6.55it/s]\n"
          ]
        },
        {
          "output_type": "stream",
          "name": "stdout",
          "text": [
            "Epoch 211, Train Loss: 0.7694308757781982, Train Acc: 47.07468795776367, Test Loss: 1.2971315383911133, Test Acc: 54.664791107177734\n"
          ]
        },
        {
          "output_type": "stream",
          "name": "stderr",
          "text": [
            "100%|██████████| 134/134 [00:20<00:00,  6.65it/s]\n"
          ]
        },
        {
          "output_type": "stream",
          "name": "stdout",
          "text": [
            "Epoch 212, Train Loss: 0.7646721005439758, Train Acc: 47.62574768066406, Test Loss: 1.2874659299850464, Test Acc: 54.664791107177734\n"
          ]
        },
        {
          "output_type": "stream",
          "name": "stderr",
          "text": [
            "100%|██████████| 134/134 [00:20<00:00,  6.65it/s]\n"
          ]
        },
        {
          "output_type": "stream",
          "name": "stdout",
          "text": [
            "Epoch 213, Train Loss: 0.7581608891487122, Train Acc: 46.593971252441406, Test Loss: 1.2915757894515991, Test Acc: 54.664791107177734\n"
          ]
        },
        {
          "output_type": "stream",
          "name": "stderr",
          "text": [
            "100%|██████████| 134/134 [00:20<00:00,  6.64it/s]\n"
          ]
        },
        {
          "output_type": "stream",
          "name": "stdout",
          "text": [
            "Epoch 214, Train Loss: 0.7588267922401428, Train Acc: 47.47332763671875, Test Loss: 1.2996622323989868, Test Acc: 54.71167755126953\n"
          ]
        },
        {
          "output_type": "stream",
          "name": "stderr",
          "text": [
            "100%|██████████| 134/134 [00:20<00:00,  6.63it/s]\n"
          ]
        },
        {
          "output_type": "stream",
          "name": "stdout",
          "text": [
            "Epoch 215, Train Loss: 0.7650362849235535, Train Acc: 47.08641052246094, Test Loss: 1.286644458770752, Test Acc: 54.7585563659668\n"
          ]
        },
        {
          "output_type": "stream",
          "name": "stderr",
          "text": [
            "100%|██████████| 134/134 [00:20<00:00,  6.62it/s]\n"
          ]
        },
        {
          "output_type": "stream",
          "name": "stdout",
          "text": [
            "Epoch 216, Train Loss: 0.7586601376533508, Train Acc: 47.414703369140625, Test Loss: 1.294439673423767, Test Acc: 54.61791229248047\n"
          ]
        },
        {
          "output_type": "stream",
          "name": "stderr",
          "text": [
            "100%|██████████| 134/134 [00:20<00:00,  6.55it/s]\n"
          ]
        },
        {
          "output_type": "stream",
          "name": "stdout",
          "text": [
            "Epoch 217, Train Loss: 0.7715647220611572, Train Acc: 46.80501937866211, Test Loss: 1.2824342250823975, Test Acc: 54.7585563659668\n"
          ]
        },
        {
          "output_type": "stream",
          "name": "stderr",
          "text": [
            "100%|██████████| 134/134 [00:20<00:00,  6.63it/s]\n"
          ]
        },
        {
          "output_type": "stream",
          "name": "stdout",
          "text": [
            "Epoch 218, Train Loss: 0.7576262354850769, Train Acc: 47.285728454589844, Test Loss: 1.2906243801116943, Test Acc: 54.80543899536133\n"
          ]
        },
        {
          "output_type": "stream",
          "name": "stderr",
          "text": [
            "100%|██████████| 134/134 [00:20<00:00,  6.64it/s]\n"
          ]
        },
        {
          "output_type": "stream",
          "name": "stdout",
          "text": [
            "Epoch 219, Train Loss: 0.7562330365180969, Train Acc: 47.84851837158203, Test Loss: 1.2882715463638306, Test Acc: 54.80543899536133\n"
          ]
        },
        {
          "output_type": "stream",
          "name": "stderr",
          "text": [
            "100%|██████████| 134/134 [00:20<00:00,  6.55it/s]\n"
          ]
        },
        {
          "output_type": "stream",
          "name": "stdout",
          "text": [
            "Epoch 220, Train Loss: 0.7683396935462952, Train Acc: 46.4181022644043, Test Loss: 1.283457636833191, Test Acc: 54.89920425415039\n"
          ]
        }
      ]
    },
    {
      "cell_type": "code",
      "source": [
        "\n",
        "# Save the training loss values\n",
        "with open('/content/drive/MyDrive/ML/train_loss_2_EfficientNetB1.pkl', 'wb') as file:\n",
        "    dump(train_loss_dict_classifier, file)\n",
        "\n",
        "# Save the test loss values\n",
        "with open('/content/drive/MyDrive/ML/test_loss_2_EfficientNetB1.pkl', 'wb') as file:\n",
        "    dump(test_loss_dict_classifier, file)\n",
        "\n",
        "# Save the training acc values\n",
        "with open('/content/drive/MyDrive/ML/train_acc_2_EfficientNetB1.pkl', 'wb') as file:\n",
        "    dump(train_acc_dict, file)\n",
        "\n",
        "# Save the test acc values\n",
        "with open('/content/drive/MyDrive/ML/test_acc_2_EfficientNetB1.pkl', 'wb') as file:\n",
        "    dump(test_acc_dict, file)"
      ],
      "metadata": {
        "id": "0e-nTPNaC8Ou"
      },
      "execution_count": null,
      "outputs": []
    },
    {
      "cell_type": "code",
      "source": [
        "# Load the training and validation loss dictionaries\n",
        "train_loss_class = load(open('/content/drive/MyDrive/ML/train_loss_2_EfficientNetB1.pkl', 'rb'))\n",
        "test_loss_class = load(open('/content/drive/MyDrive/ML/test_loss_2_EfficientNetB1.pkl', 'rb'))\n",
        "\n",
        "# Retrieve each dictionary's values\n",
        "train_values_class = train_loss_class.values()\n",
        "test_values_class = test_loss_class.values()\n",
        "\n",
        "# Generate a sequence of integers to represent the epoch numbers\n",
        "epochs = range(220)\n",
        "\n",
        "# Plot and label the training and validation loss values\n",
        "plt.plot(epochs, np.array(list(train_values_class)).astype(float), label='Training Loss')\n",
        "plt.plot(epochs, np.array(list(test_values_class)).astype(float), label='Test Loss')\n",
        "\n",
        "# Add in a title and axes labels\n",
        "plt.title('Training and Test Loss')\n",
        "plt.xlabel('Epochs')\n",
        "plt.ylabel('Loss')\n",
        "\n",
        "# Set the tick locations\n",
        "plt.xticks(arange(0, 220, 20))\n",
        "\n",
        "# Display the plot\n",
        "plt.legend(loc='best')\n",
        "plt.show()"
      ],
      "metadata": {
        "id": "7hN_5v-fC81Q",
        "colab": {
          "base_uri": "https://localhost:8080/",
          "height": 295
        },
        "outputId": "7af155cf-4840-4a64-df11-076d6df30615"
      },
      "execution_count": null,
      "outputs": [
        {
          "output_type": "display_data",
          "data": {
            "text/plain": [
              "<Figure size 432x288 with 1 Axes>"
            ],
            "image/png": "[encoded data removed]"
          },
          "metadata": {
            "needs_background": "light"
          }
        }
      ]
    },
    {
      "cell_type": "code",
      "source": [
        "# Load the training and validation loss dictionaries\n",
        "train_acc = load(open('/content/drive/MyDrive/ML/train_acc_2_EfficientNetB1.pkl', 'rb'))\n",
        "test_acc = load(open('/content/drive/MyDrive/ML/test_acc_2_EfficientNetB1.pkl', 'rb'))\n",
        "\n",
        "# Retrieve each dictionary's values\n",
        "train_values = train_acc.values()\n",
        "test_values = test_acc.values()\n",
        "\n",
        "# Generate a sequence of integers to represent the epoch numbers\n",
        "epochs = range(220)\n",
        "\n",
        "# Plot and label the training and validation loss values\n",
        "plt.plot(epochs, np.array(list(train_values)).astype(float), label='Training Accuracy')\n",
        "plt.plot(epochs, np.array(list(test_values)).astype(float), label='Test Accuracy')\n",
        "\n",
        "# Add in a title and axes labels\n",
        "plt.title('Training and Test Loss')\n",
        "plt.xlabel('Epochs')\n",
        "plt.ylabel('Loss')\n",
        "\n",
        "# Set the tick locations\n",
        "plt.xticks(arange(0, 220, 20))\n",
        "\n",
        "# Display the plot\n",
        "plt.legend(loc='best')\n",
        "plt.show()"
      ],
      "metadata": {
        "id": "6Nt7jahhC_f0",
        "colab": {
          "base_uri": "https://localhost:8080/",
          "height": 295
        },
        "outputId": "576473f5-61a6-4b86-ad4a-251041d265ef"
      },
      "execution_count": null,
      "outputs": [
        {
          "output_type": "display_data",
          "data": {
            "text/plain": [
              "<Figure size 432x288 with 1 Axes>"
            ],
            "image/png": "[encoded data removed]"
          },
          "metadata": {
            "needs_background": "light"
          }
        }
      ]
    },
    {
      "cell_type": "code",
      "source": [
        "#model save\n",
        "dir = '/content/drive/MyDrive/Colab Notebooks/'\n",
        "filenames =os.path.join( dir, datetime.datetime.now().strftime(\"%Y%m%d-%H%M%S\") + \"EfficientNetB1_accuracy_simclr.h5\")  ##set your path then model name: /content/resnet.h5\n",
        "print(filenames)\n",
        "\n",
        "classifier.save_weights(filenames)"
      ],
      "metadata": {
        "colab": {
          "base_uri": "https://localhost:8080/"
        },
        "id": "gf5oS2GaABnc",
        "outputId": "6e2346df-6dda-430c-8ef8-0ee28462f9e3"
      },
      "execution_count": null,
      "outputs": [
        {
          "output_type": "stream",
          "name": "stdout",
          "text": [
            "/content/drive/MyDrive/Colab Notebooks/20230323-081152EfficientNetB1_accuracy_simclr.h5\n"
          ]
        }
      ]
    },
    {
      "cell_type": "markdown",
      "source": [
        "##Prediction"
      ],
      "metadata": {
        "id": "PBFUwytzA8WS"
      }
    },
    {
      "cell_type": "code",
      "source": [
        "classifier.load_weights(filenames)"
      ],
      "metadata": {
        "id": "OwyfCFRuXhX-"
      },
      "execution_count": null,
      "outputs": []
    },
    {
      "cell_type": "code",
      "source": [
        "X = tf.reshape(x_test[50], [1, 224, 224, 3]) ##need to reshape\n",
        "classifier.predict(X)"
      ],
      "metadata": {
        "colab": {
          "base_uri": "https://localhost:8080/"
        },
        "id": "WRVDPSZu2ftJ",
        "outputId": "51a613af-096f-4def-803e-c2564ad81552"
      },
      "execution_count": null,
      "outputs": [
        {
          "output_type": "stream",
          "name": "stdout",
          "text": [
            "1/1 [==============================] - 3s 3s/step\n"
          ]
        },
        {
          "output_type": "execute_result",
          "data": {
            "text/plain": [
              "array([[7.66759214e-04, 1.10690125e-04, 1.33365393e-03, 9.93367430e-05,\n",
              "        1.44161738e-03, 2.42006834e-04, 1.70281774e-03, 4.24140817e-05,\n",
              "        2.94403941e-03, 2.04774027e-04, 1.01763755e-03, 1.12037487e-01,\n",
              "        8.24176431e-01, 4.27325293e-02, 1.47803186e-03, 1.02784066e-03,\n",
              "        9.70641617e-04, 2.83090258e-03, 1.50081213e-03, 2.39529545e-04,\n",
              "        4.45437996e-04, 1.34266098e-03, 1.31191616e-03]], dtype=float32)"
            ]
          },
          "metadata": {},
          "execution_count": 40
        }
      ]
    },
    {
      "cell_type": "code",
      "source": [],
      "metadata": {
        "id": "RcJVvUqXDRpQ"
      },
      "execution_count": null,
      "outputs": []
    },
    {
      "cell_type": "code",
      "source": [
        "y_predict = np.argmax(classifier.predict(x_test), axis=-1)\n",
        "y_predict"
      ],
      "metadata": {
        "id": "bUQ3sgyZ2IKy"
      },
      "execution_count": null,
      "outputs": []
    },
    {
      "cell_type": "code",
      "source": [
        "#CONFUSIN MATRIX\n",
        "import matplotlib.pyplot as plt\n",
        "import numpy\n",
        "from sklearn import metrics"
      ],
      "metadata": {
        "id": "bzFp7pFBDWM4"
      },
      "execution_count": null,
      "outputs": []
    },
    {
      "cell_type": "code",
      "source": [
        "class_names = [\"cecum\", \"ileum\", \"retroflex_rectum\", \"hemorrhoids\", \"polyps\",\"ulcerative_colitis_grade_0_1\",\"ulcerative_colitis_grade_1\",\"ulcerative_colitis_grade_1_2\",\"ulcerative_colitis_grade_2\",\"ulcerative_colitis_grade_2_3\",\"ulcerative_colitis_grade_3\",\"bbps_0_1\" ,\"bbps_2_3\",\"impacted_stool\",\"dyed_lifted_polyps\",\"dyed_resection_margins\",\"pylorus\",\"retroflex_stomach\",\"z_line\",\"barretts\",\"barretts_short_segment\",\"esophagitis_a\" ,\"esophagitis_b_d\"]\n",
        "print(metrics.classification_report(y_test, y_predict, target_names=class_names))"
      ],
      "metadata": {
        "id": "BpH68J4oDY-v",
        "colab": {
          "base_uri": "https://localhost:8080/"
        },
        "outputId": "18370d35-0b94-44eb-e73b-1f62bbb4f476"
      },
      "execution_count": null,
      "outputs": [
        {
          "output_type": "stream",
          "name": "stdout",
          "text": [
            "                              precision    recall  f1-score   support\n",
            "\n",
            "                       cecum       0.52      0.82      0.64       206\n",
            "                       ileum       0.00      0.00      0.00         1\n",
            "            retroflex_rectum       0.00      0.00      0.00        74\n",
            "                 hemorrhoids       0.00      0.00      0.00         1\n",
            "                      polyps       0.48      0.61      0.54       198\n",
            "ulcerative_colitis_grade_0_1       0.00      0.00      0.00         6\n",
            "  ulcerative_colitis_grade_1       0.00      0.00      0.00        41\n",
            "ulcerative_colitis_grade_1_2       0.00      0.00      0.00         2\n",
            "  ulcerative_colitis_grade_2       0.00      0.00      0.00        90\n",
            "ulcerative_colitis_grade_2_3       0.00      0.00      0.00         5\n",
            "  ulcerative_colitis_grade_3       0.00      0.00      0.00        18\n",
            "                    bbps_0_1       0.74      0.36      0.49       138\n",
            "                    bbps_2_3       0.70      0.99      0.82       237\n",
            "              impacted_stool       0.00      0.00      0.00        21\n",
            "          dyed_lifted_polyps       0.42      0.26      0.32       206\n",
            "      dyed_resection_margins       0.55      0.78      0.64       199\n",
            "                     pylorus       0.53      0.86      0.65       185\n",
            "           retroflex_stomach       0.65      0.40      0.49       159\n",
            "                      z_line       0.49      0.87      0.63       191\n",
            "                    barretts       0.00      0.00      0.00         7\n",
            "      barretts_short_segment       0.00      0.00      0.00        10\n",
            "               esophagitis_a       0.00      0.00      0.00        82\n",
            "             esophagitis_b_d       0.00      0.00      0.00        56\n",
            "\n",
            "                    accuracy                           0.55      2133\n",
            "                   macro avg       0.22      0.26      0.23      2133\n",
            "                weighted avg       0.45      0.55      0.47      2133\n",
            "\n"
          ]
        },
        {
          "output_type": "stream",
          "name": "stderr",
          "text": [
            "/usr/local/lib/python3.8/dist-packages/sklearn/metrics/_classification.py:1344: UndefinedMetricWarning: Precision and F-score are ill-defined and being set to 0.0 in labels with no predicted samples. Use `zero_division` parameter to control this behavior.\n",
            "  _warn_prf(average, modifier, msg_start, len(result))\n",
            "/usr/local/lib/python3.8/dist-packages/sklearn/metrics/_classification.py:1344: UndefinedMetricWarning: Precision and F-score are ill-defined and being set to 0.0 in labels with no predicted samples. Use `zero_division` parameter to control this behavior.\n",
            "  _warn_prf(average, modifier, msg_start, len(result))\n",
            "/usr/local/lib/python3.8/dist-packages/sklearn/metrics/_classification.py:1344: UndefinedMetricWarning: Precision and F-score are ill-defined and being set to 0.0 in labels with no predicted samples. Use `zero_division` parameter to control this behavior.\n",
            "  _warn_prf(average, modifier, msg_start, len(result))\n"
          ]
        }
      ]
    },
    {
      "cell_type": "code",
      "source": [
        "confusion_matrix = metrics.confusion_matrix(y_test, y_predict)\n",
        "\n",
        "cm_display = metrics.ConfusionMatrixDisplay(confusion_matrix = confusion_matrix,display_labels = class_names)\n",
        "\n",
        "plt.rcParams[\"figure.figsize\"] = [24,24]\n",
        "cm_display.plot(xticks_rotation = 'vertical')\n",
        "plt.show()"
      ],
      "metadata": {
        "id": "9Ge0kZ3SDZin",
        "colab": {
          "base_uri": "https://localhost:8080/",
          "height": 1000
        },
        "outputId": "39b941b4-bb50-4bf4-d83d-8a3d74cf05d6"
      },
      "execution_count": null,
      "outputs": [
        {
          "output_type": "display_data",
          "data": {
            "text/plain": [
              "<Figure size 1728x1728 with 2 Axes>"
            ],
            "image/png": "[encoded data removed]"
          },
          "metadata": {
            "needs_background": "light"
          }
        }
      ]
    },
    {
      "cell_type": "code",
      "source": [
        "#check layers trainable\n",
        "for i, layer in enumerate(classifier.layers):\n",
        "    print(i, layer.name, layer.output_shape, layer.trainable)"
      ],
      "metadata": {
        "colab": {
          "base_uri": "https://localhost:8080/"
        },
        "id": "CsqiSD81LYa2",
        "outputId": "9dd199c6-30cd-4828-f832-bc2209575514"
      },
      "execution_count": null,
      "outputs": [
        {
          "output_type": "stream",
          "name": "stdout",
          "text": [
            "0 input_2 [(None, 224, 224, 3)] False\n",
            "1 rescaling_1 (None, 224, 224, 3) False\n",
            "2 normalization_1 (None, 224, 224, 3) False\n",
            "3 stem_conv_pad (None, 225, 225, 3) False\n",
            "4 stem_conv (None, 112, 112, 32) False\n",
            "5 stem_bn (None, 112, 112, 32) False\n",
            "6 stem_activation (None, 112, 112, 32) False\n",
            "7 block1a_dwconv (None, 112, 112, 32) False\n",
            "8 block1a_bn (None, 112, 112, 32) False\n",
            "9 block1a_activation (None, 112, 112, 32) False\n",
            "10 block1a_se_squeeze (None, 32) False\n",
            "11 block1a_se_reshape (None, 1, 1, 32) False\n",
            "12 block1a_se_reduce (None, 1, 1, 8) False\n",
            "13 block1a_se_expand (None, 1, 1, 32) False\n",
            "14 block1a_se_excite (None, 112, 112, 32) False\n",
            "15 block1a_project_conv (None, 112, 112, 16) False\n",
            "16 block1a_project_bn (None, 112, 112, 16) False\n",
            "17 block1b_dwconv (None, 112, 112, 16) False\n",
            "18 block1b_bn (None, 112, 112, 16) False\n",
            "19 block1b_activation (None, 112, 112, 16) False\n",
            "20 block1b_se_squeeze (None, 16) False\n",
            "21 block1b_se_reshape (None, 1, 1, 16) False\n",
            "22 block1b_se_reduce (None, 1, 1, 4) False\n",
            "23 block1b_se_expand (None, 1, 1, 16) False\n",
            "24 block1b_se_excite (None, 112, 112, 16) False\n",
            "25 block1b_project_conv (None, 112, 112, 16) False\n",
            "26 block1b_project_bn (None, 112, 112, 16) False\n",
            "27 block1b_drop (None, 112, 112, 16) False\n",
            "28 block1b_add (None, 112, 112, 16) False\n",
            "29 block2a_expand_conv (None, 112, 112, 96) False\n",
            "30 block2a_expand_bn (None, 112, 112, 96) False\n",
            "31 block2a_expand_activation (None, 112, 112, 96) False\n",
            "32 block2a_dwconv_pad (None, 113, 113, 96) False\n",
            "33 block2a_dwconv (None, 56, 56, 96) False\n",
            "34 block2a_bn (None, 56, 56, 96) False\n",
            "35 block2a_activation (None, 56, 56, 96) False\n",
            "36 block2a_se_squeeze (None, 96) False\n",
            "37 block2a_se_reshape (None, 1, 1, 96) False\n",
            "38 block2a_se_reduce (None, 1, 1, 4) False\n",
            "39 block2a_se_expand (None, 1, 1, 96) False\n",
            "40 block2a_se_excite (None, 56, 56, 96) False\n",
            "41 block2a_project_conv (None, 56, 56, 24) False\n",
            "42 block2a_project_bn (None, 56, 56, 24) False\n",
            "43 block2b_expand_conv (None, 56, 56, 144) False\n",
            "44 block2b_expand_bn (None, 56, 56, 144) False\n",
            "45 block2b_expand_activation (None, 56, 56, 144) False\n",
            "46 block2b_dwconv (None, 56, 56, 144) False\n",
            "47 block2b_bn (None, 56, 56, 144) False\n",
            "48 block2b_activation (None, 56, 56, 144) False\n",
            "49 block2b_se_squeeze (None, 144) False\n",
            "50 block2b_se_reshape (None, 1, 1, 144) False\n",
            "51 block2b_se_reduce (None, 1, 1, 6) False\n",
            "52 block2b_se_expand (None, 1, 1, 144) False\n",
            "53 block2b_se_excite (None, 56, 56, 144) False\n",
            "54 block2b_project_conv (None, 56, 56, 24) False\n",
            "55 block2b_project_bn (None, 56, 56, 24) False\n",
            "56 block2b_drop (None, 56, 56, 24) False\n",
            "57 block2b_add (None, 56, 56, 24) False\n",
            "58 block2c_expand_conv (None, 56, 56, 144) False\n",
            "59 block2c_expand_bn (None, 56, 56, 144) False\n",
            "60 block2c_expand_activation (None, 56, 56, 144) False\n",
            "61 block2c_dwconv (None, 56, 56, 144) False\n",
            "62 block2c_bn (None, 56, 56, 144) False\n",
            "63 block2c_activation (None, 56, 56, 144) False\n",
            "64 block2c_se_squeeze (None, 144) False\n",
            "65 block2c_se_reshape (None, 1, 1, 144) False\n",
            "66 block2c_se_reduce (None, 1, 1, 6) False\n",
            "67 block2c_se_expand (None, 1, 1, 144) False\n",
            "68 block2c_se_excite (None, 56, 56, 144) False\n",
            "69 block2c_project_conv (None, 56, 56, 24) False\n",
            "70 block2c_project_bn (None, 56, 56, 24) False\n",
            "71 block2c_drop (None, 56, 56, 24) False\n",
            "72 block2c_add (None, 56, 56, 24) False\n",
            "73 block3a_expand_conv (None, 56, 56, 144) False\n",
            "74 block3a_expand_bn (None, 56, 56, 144) False\n",
            "75 block3a_expand_activation (None, 56, 56, 144) False\n",
            "76 block3a_dwconv_pad (None, 59, 59, 144) False\n",
            "77 block3a_dwconv (None, 28, 28, 144) False\n",
            "78 block3a_bn (None, 28, 28, 144) False\n",
            "79 block3a_activation (None, 28, 28, 144) False\n",
            "80 block3a_se_squeeze (None, 144) False\n",
            "81 block3a_se_reshape (None, 1, 1, 144) False\n",
            "82 block3a_se_reduce (None, 1, 1, 6) False\n",
            "83 block3a_se_expand (None, 1, 1, 144) False\n",
            "84 block3a_se_excite (None, 28, 28, 144) False\n",
            "85 block3a_project_conv (None, 28, 28, 40) False\n",
            "86 block3a_project_bn (None, 28, 28, 40) False\n",
            "87 block3b_expand_conv (None, 28, 28, 240) False\n",
            "88 block3b_expand_bn (None, 28, 28, 240) False\n",
            "89 block3b_expand_activation (None, 28, 28, 240) False\n",
            "90 block3b_dwconv (None, 28, 28, 240) False\n",
            "91 block3b_bn (None, 28, 28, 240) False\n",
            "92 block3b_activation (None, 28, 28, 240) False\n",
            "93 block3b_se_squeeze (None, 240) False\n",
            "94 block3b_se_reshape (None, 1, 1, 240) False\n",
            "95 block3b_se_reduce (None, 1, 1, 10) False\n",
            "96 block3b_se_expand (None, 1, 1, 240) False\n",
            "97 block3b_se_excite (None, 28, 28, 240) False\n",
            "98 block3b_project_conv (None, 28, 28, 40) False\n",
            "99 block3b_project_bn (None, 28, 28, 40) False\n",
            "100 block3b_drop (None, 28, 28, 40) False\n",
            "101 block3b_add (None, 28, 28, 40) False\n",
            "102 block3c_expand_conv (None, 28, 28, 240) False\n",
            "103 block3c_expand_bn (None, 28, 28, 240) False\n",
            "104 block3c_expand_activation (None, 28, 28, 240) False\n",
            "105 block3c_dwconv (None, 28, 28, 240) False\n",
            "106 block3c_bn (None, 28, 28, 240) False\n",
            "107 block3c_activation (None, 28, 28, 240) False\n",
            "108 block3c_se_squeeze (None, 240) False\n",
            "109 block3c_se_reshape (None, 1, 1, 240) False\n",
            "110 block3c_se_reduce (None, 1, 1, 10) False\n",
            "111 block3c_se_expand (None, 1, 1, 240) False\n",
            "112 block3c_se_excite (None, 28, 28, 240) False\n",
            "113 block3c_project_conv (None, 28, 28, 40) False\n",
            "114 block3c_project_bn (None, 28, 28, 40) False\n",
            "115 block3c_drop (None, 28, 28, 40) False\n",
            "116 block3c_add (None, 28, 28, 40) False\n",
            "117 block4a_expand_conv (None, 28, 28, 240) False\n",
            "118 block4a_expand_bn (None, 28, 28, 240) False\n",
            "119 block4a_expand_activation (None, 28, 28, 240) False\n",
            "120 block4a_dwconv_pad (None, 29, 29, 240) False\n",
            "121 block4a_dwconv (None, 14, 14, 240) False\n",
            "122 block4a_bn (None, 14, 14, 240) False\n",
            "123 block4a_activation (None, 14, 14, 240) False\n",
            "124 block4a_se_squeeze (None, 240) False\n",
            "125 block4a_se_reshape (None, 1, 1, 240) False\n",
            "126 block4a_se_reduce (None, 1, 1, 10) False\n",
            "127 block4a_se_expand (None, 1, 1, 240) False\n",
            "128 block4a_se_excite (None, 14, 14, 240) False\n",
            "129 block4a_project_conv (None, 14, 14, 80) False\n",
            "130 block4a_project_bn (None, 14, 14, 80) False\n",
            "131 block4b_expand_conv (None, 14, 14, 480) False\n",
            "132 block4b_expand_bn (None, 14, 14, 480) False\n",
            "133 block4b_expand_activation (None, 14, 14, 480) False\n",
            "134 block4b_dwconv (None, 14, 14, 480) False\n",
            "135 block4b_bn (None, 14, 14, 480) False\n",
            "136 block4b_activation (None, 14, 14, 480) False\n",
            "137 block4b_se_squeeze (None, 480) False\n",
            "138 block4b_se_reshape (None, 1, 1, 480) False\n",
            "139 block4b_se_reduce (None, 1, 1, 20) False\n",
            "140 block4b_se_expand (None, 1, 1, 480) False\n",
            "141 block4b_se_excite (None, 14, 14, 480) False\n",
            "142 block4b_project_conv (None, 14, 14, 80) False\n",
            "143 block4b_project_bn (None, 14, 14, 80) False\n",
            "144 block4b_drop (None, 14, 14, 80) False\n",
            "145 block4b_add (None, 14, 14, 80) False\n",
            "146 block4c_expand_conv (None, 14, 14, 480) False\n",
            "147 block4c_expand_bn (None, 14, 14, 480) False\n",
            "148 block4c_expand_activation (None, 14, 14, 480) False\n",
            "149 block4c_dwconv (None, 14, 14, 480) False\n",
            "150 block4c_bn (None, 14, 14, 480) False\n",
            "151 block4c_activation (None, 14, 14, 480) False\n",
            "152 block4c_se_squeeze (None, 480) False\n",
            "153 block4c_se_reshape (None, 1, 1, 480) False\n",
            "154 block4c_se_reduce (None, 1, 1, 20) False\n",
            "155 block4c_se_expand (None, 1, 1, 480) False\n",
            "156 block4c_se_excite (None, 14, 14, 480) False\n",
            "157 block4c_project_conv (None, 14, 14, 80) False\n",
            "158 block4c_project_bn (None, 14, 14, 80) False\n",
            "159 block4c_drop (None, 14, 14, 80) False\n",
            "160 block4c_add (None, 14, 14, 80) False\n",
            "161 block4d_expand_conv (None, 14, 14, 480) False\n",
            "162 block4d_expand_bn (None, 14, 14, 480) False\n",
            "163 block4d_expand_activation (None, 14, 14, 480) False\n",
            "164 block4d_dwconv (None, 14, 14, 480) False\n",
            "165 block4d_bn (None, 14, 14, 480) False\n",
            "166 block4d_activation (None, 14, 14, 480) False\n",
            "167 block4d_se_squeeze (None, 480) False\n",
            "168 block4d_se_reshape (None, 1, 1, 480) False\n",
            "169 block4d_se_reduce (None, 1, 1, 20) False\n",
            "170 block4d_se_expand (None, 1, 1, 480) False\n",
            "171 block4d_se_excite (None, 14, 14, 480) False\n",
            "172 block4d_project_conv (None, 14, 14, 80) False\n",
            "173 block4d_project_bn (None, 14, 14, 80) False\n",
            "174 block4d_drop (None, 14, 14, 80) False\n",
            "175 block4d_add (None, 14, 14, 80) False\n",
            "176 block5a_expand_conv (None, 14, 14, 480) False\n",
            "177 block5a_expand_bn (None, 14, 14, 480) False\n",
            "178 block5a_expand_activation (None, 14, 14, 480) False\n",
            "179 block5a_dwconv (None, 14, 14, 480) False\n",
            "180 block5a_bn (None, 14, 14, 480) False\n",
            "181 block5a_activation (None, 14, 14, 480) False\n",
            "182 block5a_se_squeeze (None, 480) False\n",
            "183 block5a_se_reshape (None, 1, 1, 480) False\n",
            "184 block5a_se_reduce (None, 1, 1, 20) False\n",
            "185 block5a_se_expand (None, 1, 1, 480) False\n",
            "186 block5a_se_excite (None, 14, 14, 480) False\n",
            "187 block5a_project_conv (None, 14, 14, 112) False\n",
            "188 block5a_project_bn (None, 14, 14, 112) False\n",
            "189 block5b_expand_conv (None, 14, 14, 672) False\n",
            "190 block5b_expand_bn (None, 14, 14, 672) False\n",
            "191 block5b_expand_activation (None, 14, 14, 672) False\n",
            "192 block5b_dwconv (None, 14, 14, 672) False\n",
            "193 block5b_bn (None, 14, 14, 672) False\n",
            "194 block5b_activation (None, 14, 14, 672) False\n",
            "195 block5b_se_squeeze (None, 672) False\n",
            "196 block5b_se_reshape (None, 1, 1, 672) False\n",
            "197 block5b_se_reduce (None, 1, 1, 28) False\n",
            "198 block5b_se_expand (None, 1, 1, 672) False\n",
            "199 block5b_se_excite (None, 14, 14, 672) False\n",
            "200 block5b_project_conv (None, 14, 14, 112) False\n",
            "201 block5b_project_bn (None, 14, 14, 112) False\n",
            "202 block5b_drop (None, 14, 14, 112) False\n",
            "203 block5b_add (None, 14, 14, 112) False\n",
            "204 block5c_expand_conv (None, 14, 14, 672) False\n",
            "205 block5c_expand_bn (None, 14, 14, 672) False\n",
            "206 block5c_expand_activation (None, 14, 14, 672) False\n",
            "207 block5c_dwconv (None, 14, 14, 672) False\n",
            "208 block5c_bn (None, 14, 14, 672) False\n",
            "209 block5c_activation (None, 14, 14, 672) False\n",
            "210 block5c_se_squeeze (None, 672) False\n",
            "211 block5c_se_reshape (None, 1, 1, 672) False\n",
            "212 block5c_se_reduce (None, 1, 1, 28) False\n",
            "213 block5c_se_expand (None, 1, 1, 672) False\n",
            "214 block5c_se_excite (None, 14, 14, 672) False\n",
            "215 block5c_project_conv (None, 14, 14, 112) False\n",
            "216 block5c_project_bn (None, 14, 14, 112) False\n",
            "217 block5c_drop (None, 14, 14, 112) False\n",
            "218 block5c_add (None, 14, 14, 112) False\n",
            "219 block5d_expand_conv (None, 14, 14, 672) False\n",
            "220 block5d_expand_bn (None, 14, 14, 672) False\n",
            "221 block5d_expand_activation (None, 14, 14, 672) False\n",
            "222 block5d_dwconv (None, 14, 14, 672) False\n",
            "223 block5d_bn (None, 14, 14, 672) False\n",
            "224 block5d_activation (None, 14, 14, 672) False\n",
            "225 block5d_se_squeeze (None, 672) False\n",
            "226 block5d_se_reshape (None, 1, 1, 672) False\n",
            "227 block5d_se_reduce (None, 1, 1, 28) False\n",
            "228 block5d_se_expand (None, 1, 1, 672) False\n",
            "229 block5d_se_excite (None, 14, 14, 672) False\n",
            "230 block5d_project_conv (None, 14, 14, 112) False\n",
            "231 block5d_project_bn (None, 14, 14, 112) False\n",
            "232 block5d_drop (None, 14, 14, 112) False\n",
            "233 block5d_add (None, 14, 14, 112) False\n",
            "234 block6a_expand_conv (None, 14, 14, 672) False\n",
            "235 block6a_expand_bn (None, 14, 14, 672) False\n",
            "236 block6a_expand_activation (None, 14, 14, 672) False\n",
            "237 block6a_dwconv_pad (None, 17, 17, 672) False\n",
            "238 block6a_dwconv (None, 7, 7, 672) False\n",
            "239 block6a_bn (None, 7, 7, 672) False\n",
            "240 block6a_activation (None, 7, 7, 672) False\n",
            "241 block6a_se_squeeze (None, 672) False\n",
            "242 block6a_se_reshape (None, 1, 1, 672) False\n",
            "243 block6a_se_reduce (None, 1, 1, 28) False\n",
            "244 block6a_se_expand (None, 1, 1, 672) False\n",
            "245 block6a_se_excite (None, 7, 7, 672) False\n",
            "246 block6a_project_conv (None, 7, 7, 192) False\n",
            "247 block6a_project_bn (None, 7, 7, 192) False\n",
            "248 block6b_expand_conv (None, 7, 7, 1152) False\n",
            "249 block6b_expand_bn (None, 7, 7, 1152) False\n",
            "250 block6b_expand_activation (None, 7, 7, 1152) False\n",
            "251 block6b_dwconv (None, 7, 7, 1152) False\n",
            "252 block6b_bn (None, 7, 7, 1152) False\n",
            "253 block6b_activation (None, 7, 7, 1152) False\n",
            "254 block6b_se_squeeze (None, 1152) False\n",
            "255 block6b_se_reshape (None, 1, 1, 1152) False\n",
            "256 block6b_se_reduce (None, 1, 1, 48) False\n",
            "257 block6b_se_expand (None, 1, 1, 1152) False\n",
            "258 block6b_se_excite (None, 7, 7, 1152) False\n",
            "259 block6b_project_conv (None, 7, 7, 192) False\n",
            "260 block6b_project_bn (None, 7, 7, 192) False\n",
            "261 block6b_drop (None, 7, 7, 192) False\n",
            "262 block6b_add (None, 7, 7, 192) False\n",
            "263 block6c_expand_conv (None, 7, 7, 1152) False\n",
            "264 block6c_expand_bn (None, 7, 7, 1152) False\n",
            "265 block6c_expand_activation (None, 7, 7, 1152) False\n",
            "266 block6c_dwconv (None, 7, 7, 1152) False\n",
            "267 block6c_bn (None, 7, 7, 1152) False\n",
            "268 block6c_activation (None, 7, 7, 1152) False\n",
            "269 block6c_se_squeeze (None, 1152) False\n",
            "270 block6c_se_reshape (None, 1, 1, 1152) False\n",
            "271 block6c_se_reduce (None, 1, 1, 48) False\n",
            "272 block6c_se_expand (None, 1, 1, 1152) False\n",
            "273 block6c_se_excite (None, 7, 7, 1152) False\n",
            "274 block6c_project_conv (None, 7, 7, 192) False\n",
            "275 block6c_project_bn (None, 7, 7, 192) False\n",
            "276 block6c_drop (None, 7, 7, 192) False\n",
            "277 block6c_add (None, 7, 7, 192) False\n",
            "278 block6d_expand_conv (None, 7, 7, 1152) False\n",
            "279 block6d_expand_bn (None, 7, 7, 1152) False\n",
            "280 block6d_expand_activation (None, 7, 7, 1152) False\n",
            "281 block6d_dwconv (None, 7, 7, 1152) False\n",
            "282 block6d_bn (None, 7, 7, 1152) False\n",
            "283 block6d_activation (None, 7, 7, 1152) False\n",
            "284 block6d_se_squeeze (None, 1152) False\n",
            "285 block6d_se_reshape (None, 1, 1, 1152) False\n",
            "286 block6d_se_reduce (None, 1, 1, 48) False\n",
            "287 block6d_se_expand (None, 1, 1, 1152) False\n",
            "288 block6d_se_excite (None, 7, 7, 1152) False\n",
            "289 block6d_project_conv (None, 7, 7, 192) False\n",
            "290 block6d_project_bn (None, 7, 7, 192) False\n",
            "291 block6d_drop (None, 7, 7, 192) False\n",
            "292 block6d_add (None, 7, 7, 192) False\n",
            "293 block6e_expand_conv (None, 7, 7, 1152) False\n",
            "294 block6e_expand_bn (None, 7, 7, 1152) False\n",
            "295 block6e_expand_activation (None, 7, 7, 1152) False\n",
            "296 block6e_dwconv (None, 7, 7, 1152) False\n",
            "297 block6e_bn (None, 7, 7, 1152) False\n",
            "298 block6e_activation (None, 7, 7, 1152) False\n",
            "299 block6e_se_squeeze (None, 1152) False\n",
            "300 block6e_se_reshape (None, 1, 1, 1152) False\n",
            "301 block6e_se_reduce (None, 1, 1, 48) False\n",
            "302 block6e_se_expand (None, 1, 1, 1152) False\n",
            "303 block6e_se_excite (None, 7, 7, 1152) False\n",
            "304 block6e_project_conv (None, 7, 7, 192) False\n",
            "305 block6e_project_bn (None, 7, 7, 192) False\n",
            "306 block6e_drop (None, 7, 7, 192) False\n",
            "307 block6e_add (None, 7, 7, 192) False\n",
            "308 block7a_expand_conv (None, 7, 7, 1152) False\n",
            "309 block7a_expand_bn (None, 7, 7, 1152) False\n",
            "310 block7a_expand_activation (None, 7, 7, 1152) False\n",
            "311 block7a_dwconv (None, 7, 7, 1152) False\n",
            "312 block7a_bn (None, 7, 7, 1152) False\n",
            "313 block7a_activation (None, 7, 7, 1152) False\n",
            "314 block7a_se_squeeze (None, 1152) False\n",
            "315 block7a_se_reshape (None, 1, 1, 1152) False\n",
            "316 block7a_se_reduce (None, 1, 1, 48) False\n",
            "317 block7a_se_expand (None, 1, 1, 1152) False\n",
            "318 block7a_se_excite (None, 7, 7, 1152) False\n",
            "319 block7a_project_conv (None, 7, 7, 320) False\n",
            "320 block7a_project_bn (None, 7, 7, 320) False\n",
            "321 block7b_expand_conv (None, 7, 7, 1920) False\n",
            "322 block7b_expand_bn (None, 7, 7, 1920) False\n",
            "323 block7b_expand_activation (None, 7, 7, 1920) False\n",
            "324 block7b_dwconv (None, 7, 7, 1920) False\n",
            "325 block7b_bn (None, 7, 7, 1920) False\n",
            "326 block7b_activation (None, 7, 7, 1920) False\n",
            "327 block7b_se_squeeze (None, 1920) False\n",
            "328 block7b_se_reshape (None, 1, 1, 1920) False\n",
            "329 block7b_se_reduce (None, 1, 1, 80) False\n",
            "330 block7b_se_expand (None, 1, 1, 1920) False\n",
            "331 block7b_se_excite (None, 7, 7, 1920) False\n",
            "332 block7b_project_conv (None, 7, 7, 320) False\n",
            "333 block7b_project_bn (None, 7, 7, 320) False\n",
            "334 block7b_drop (None, 7, 7, 320) False\n",
            "335 block7b_add (None, 7, 7, 320) False\n",
            "336 top_conv (None, 7, 7, 1280) False\n",
            "337 top_bn (None, 7, 7, 1280) False\n",
            "338 top_activation (None, 7, 7, 1280) False\n",
            "339 global_average_pooling2d_1 (None, 1280) False\n",
            "340 dense_3 (None, 512) False\n",
            "341 activation_2 (None, 512) False\n",
            "342 dense_4 (None, 256) False\n",
            "343 activation_3 (None, 256) False\n",
            "344 dense_5 (None, 128) False\n",
            "345 unit_norm_layer_1 (None, 128) False\n",
            "346 dropout (None, 128) True\n",
            "347 dense_6 (None, 64) True\n",
            "348 dropout_1 (None, 64) True\n",
            "349 dense_7 (None, 23) True\n"
          ]
        }
      ]
    },
    {
      "cell_type": "markdown",
      "metadata": {
        "id": "iAISUwZ7oH6U"
      },
      "source": [
        "#XAI"
      ]
    },
    {
      "cell_type": "code",
      "source": [
        "##check if any error occurs here, if occurs, most likely graph not connected\n",
        "def flatten_model(model):\n",
        "    if not any(hasattr(layer, 'layers') for layer in model.layers):\n",
        "        return model  # No sub-model defined within this model\n",
        "    inputs = None\n",
        "    outputs = None\n",
        "    for layer in model.layers:\n",
        "        if inputs is None:\n",
        "            inputs = layer.input\n",
        "        if hasattr(layer, 'layers'):\n",
        "            submodel = layer\n",
        "            last_layer = submodel.layers[-1]\n",
        "            outputs = submodel.output\n",
        "\n",
        "        if outputs is None:\n",
        "            outputs = layer\n",
        "        else:\n",
        "            outputs = layer(outputs)\n",
        "    return keras.Model(inputs=inputs, outputs=outputs)\n",
        "\n",
        "flat_model = flatten_model(classifier)"
      ],
      "metadata": {
        "id": "On8VGycJ3B69"
      },
      "execution_count": null,
      "outputs": []
    },
    {
      "cell_type": "code",
      "source": [
        "from tf_keras_vis.utils.model_modifiers import ReplaceToLinear\n",
        "from tf_keras_vis.utils.scores import CategoricalScore\n",
        "\n",
        "replace2linear = ReplaceToLinear()\n",
        "X = tf.convert_to_tensor(x_test[50], dtype=tf.float32)    ##need to convert the input data to tensor\n",
        "y = y_test[50].item()   ##just a single integer value, no numpy array\n",
        "score = CategoricalScore(y)"
      ],
      "metadata": {
        "id": "p-Bf-T_iowWW"
      },
      "execution_count": null,
      "outputs": []
    },
    {
      "cell_type": "code",
      "source": [
        "image_titles = ['Image']\n",
        "from matplotlib import cm"
      ],
      "metadata": {
        "id": "q2cn3-quDgE5"
      },
      "execution_count": null,
      "outputs": []
    },
    {
      "cell_type": "code",
      "source": [
        "from tf_keras_vis.gradcam import Gradcam\n",
        "\n",
        "gradcam = Gradcam(classifier,\n",
        "                  model_modifier=replace2linear,\n",
        "                  clone=False)\n",
        "\n",
        "grad_cam = gradcam(score, X, penultimate_layer=-1)\n",
        "f, ax = plt.subplots(nrows=1, ncols=3, figsize=(12, 4))\n",
        "for i, title in enumerate(image_titles):\n",
        "    heatmap1 = np.uint8(cm.jet(grad_cam[i])[..., :3] * 255)\n",
        "    ax[i].set_title(title, fontsize=16)\n",
        "    ax[i].imshow(x_test[50])\n",
        "    ax[i].imshow(heatmap1, cmap='jet', alpha=0.5) # overlay\n",
        "    ax[i].axis('off')\n",
        "plt.tight_layout()\n",
        "plt.show()"
      ],
      "metadata": {
        "id": "SIUpp5bbowbG",
        "colab": {
          "base_uri": "https://localhost:8080/",
          "height": 308
        },
        "outputId": "a5f3526c-3297-46db-99e7-d2f8983f6f90"
      },
      "execution_count": null,
      "outputs": [
        {
          "output_type": "display_data",
          "data": {
            "text/plain": [
              "<Figure size 864x288 with 3 Axes>"
            ],
            "image/png": "[encoded data removed]"
          },
          "metadata": {
            "needs_background": "light"
          }
        }
      ]
    },
    {
      "cell_type": "code",
      "source": [
        "from tf_keras_vis.gradcam_plus_plus import GradcamPlusPlus\n",
        "\n",
        "# Create GradCAM++ object\n",
        "gradcam = GradcamPlusPlus(classifier, model_modifier=replace2linear,clone=False)\n",
        "\n",
        "# Generate heatmap with GradCAM++\n",
        "grad_cam = gradcam(score, X, penultimate_layer=-1)\n",
        "# Render\n",
        "#for i, title in enumerate(image_titles):\n",
        "#    heatmap2 = np.uint8(cm.jet(grad_cam[i])[..., :3] * 255)\n",
        "f, ax = plt.subplots(nrows=1, ncols=3, figsize=(12, 4))\n",
        "for i, title in enumerate(image_titles):\n",
        "    heatmap2 = np.uint8(cm.jet(grad_cam[i])[..., :3] * 255)\n",
        "    ax[i].set_title(title, fontsize=16)\n",
        "    ax[i].imshow(x_test[50])\n",
        "    ax[i].imshow(heatmap2, cmap='jet', alpha=0.5) # overlay\n",
        "    ax[i].axis('off')\n",
        "plt.tight_layout()\n",
        "plt.show()"
      ],
      "metadata": {
        "colab": {
          "base_uri": "https://localhost:8080/",
          "height": 308
        },
        "id": "ltloxNTNaAo5",
        "outputId": "3086d598-6415-4e0c-fedd-47f506af2d1b"
      },
      "execution_count": null,
      "outputs": [
        {
          "output_type": "display_data",
          "data": {
            "text/plain": [
              "<Figure size 864x288 with 3 Axes>"
            ],
            "image/png": "[encoded data removed]"
          },
          "metadata": {
            "needs_background": "light"
          }
        }
      ]
    },
    {
      "cell_type": "code",
      "source": [],
      "metadata": {
        "id": "9ahVUZFRDe__"
      },
      "execution_count": null,
      "outputs": []
    },
    {
      "cell_type": "code",
      "source": [
        "from tf_keras_vis.scorecam import Scorecam\n",
        "from tf_keras_vis.utils import num_of_gpus\n",
        "\n",
        "# Create ScoreCAM object\n",
        "scorecam = Scorecam(classifier)\n",
        "\n",
        "# Generate heatmap with ScoreCAM\n",
        "grad_cam = scorecam(score, X, penultimate_layer=-1, max_N=-1)\n",
        "\n",
        "# Render\n",
        "f, ax = plt.subplots(nrows=1, ncols=3, figsize=(12, 4))\n",
        "for i, title in enumerate(image_titles):\n",
        "    heatmap3 = np.uint8(cm.jet(grad_cam[i])[..., :3] * 255)\n",
        "    ax[i].set_title(title, fontsize=16)\n",
        "    ax[i].imshow(x_test[50])\n",
        "    ax[i].imshow(heatmap3, cmap='jet', alpha=0.5) # overlay\n",
        "    ax[i].axis('off')\n",
        "plt.tight_layout()\n",
        "plt.show()"
      ],
      "metadata": {
        "colab": {
          "base_uri": "https://localhost:8080/",
          "height": 246
        },
        "id": "oQ7jOaRJtMxM",
        "outputId": "b7eb3998-1313-4949-a8ea-72d42b66fa19"
      },
      "execution_count": null,
      "outputs": [
        {
          "output_type": "error",
          "ename": "NameError",
          "evalue": "ignored",
          "traceback": [
            "\u001b[0;31m---------------------------------------------------------------------------\u001b[0m",
            "\u001b[0;31mNameError\u001b[0m                                 Traceback (most recent call last)",
            "\u001b[0;32m<ipython-input-1-907f5406bded>\u001b[0m in \u001b[0;36m<module>\u001b[0;34m\u001b[0m\n\u001b[1;32m      3\u001b[0m \u001b[0;34m\u001b[0m\u001b[0m\n\u001b[1;32m      4\u001b[0m \u001b[0;31m# Create ScoreCAM object\u001b[0m\u001b[0;34m\u001b[0m\u001b[0;34m\u001b[0m\u001b[0;34m\u001b[0m\u001b[0m\n\u001b[0;32m----> 5\u001b[0;31m \u001b[0mscorecam\u001b[0m \u001b[0;34m=\u001b[0m \u001b[0mScorecam\u001b[0m\u001b[0;34m(\u001b[0m\u001b[0mclassifier\u001b[0m\u001b[0;34m)\u001b[0m\u001b[0;34m\u001b[0m\u001b[0;34m\u001b[0m\u001b[0m\n\u001b[0m\u001b[1;32m      6\u001b[0m \u001b[0;34m\u001b[0m\u001b[0m\n\u001b[1;32m      7\u001b[0m \u001b[0;31m# Generate heatmap with ScoreCAM\u001b[0m\u001b[0;34m\u001b[0m\u001b[0;34m\u001b[0m\u001b[0;34m\u001b[0m\u001b[0m\n",
            "\u001b[0;31mNameError\u001b[0m: name 'classifier' is not defined"
          ]
        }
      ]
    },
    {
      "cell_type": "code",
      "source": [
        "# Create ScoreCAM object\n",
        "scorecam = Scorecam(classifier)\n",
        "\n",
        "# Generate heatmap with Faster-ScoreCAM\n",
        "grad_cam = scorecam(score,X,penultimate_layer=-1,max_N=10)\n",
        "\n",
        "# Render\n",
        "f, ax = plt.subplots(nrows=1, ncols=3, figsize=(12, 4))\n",
        "for i, title in enumerate(image_titles):\n",
        "    heatmap4 = np.uint8(cm.jet(grad_cam[i])[..., :3] * 255)\n",
        "    ax[i].set_title(title, fontsize=16)\n",
        "    ax[i].imshow(x_test[50])\n",
        "    ax[i].imshow(heatmap4, cmap='jet', alpha=0.5) # overlay\n",
        "    ax[i].axis('off')\n",
        "plt.tight_layout()\n",
        "plt.show()"
      ],
      "metadata": {
        "id": "W_hLSoRotQw_"
      },
      "execution_count": null,
      "outputs": []
    },
    {
      "cell_type": "code",
      "source": [
        "from tf_keras_vis.layercam import Layercam\n",
        "\n",
        "layercam = Layercam(classifier, model_modifier=replace2linear,clone = False)\n",
        "\n",
        "# Generate heatmap with Faster-ScoreCAM\n",
        "grad_cam = layercam(score,X,penultimate_layer=-1)\n",
        "\n",
        "# Render\n",
        "f, ax = plt.subplots(nrows=1, ncols=3, figsize=(12, 4))\n",
        "for i, title in enumerate(image_titles):\n",
        "    heatmap5 = np.uint8(cm.jet(grad_cam[i])[..., :3] * 255)\n",
        "    ax[i].set_title(title, fontsize=16)\n",
        "    ax[i].imshow(x_test[50])\n",
        "    ax[i].imshow(heatmap5, cmap='jet', alpha=0.5) # overlay\n",
        "    ax[i].axis('off')\n",
        "plt.tight_layout()\n",
        "plt.show()"
      ],
      "metadata": {
        "id": "xiJAdOSDtVBw"
      },
      "execution_count": null,
      "outputs": []
    },
    {
      "cell_type": "code",
      "source": [
        "from tf_keras_vis.saliency import Saliency\n",
        "\n",
        "saliency = Saliency(classifier, model_modifier=replace2linear,clone=False)\n",
        "\n",
        "# Generate saliency map\n",
        "saliency_map_van = saliency(score, X)\n",
        "f, ax = plt.subplots(nrows=1, ncols=3, figsize=(12, 4))\n",
        "for i, title in enumerate(image_titles):\n",
        "    heatmap6 = np.uint8(cm.jet(saliency_map_van[i])[..., :3] * 255)\n",
        "    ax[i].set_title(title, fontsize=16)\n",
        "    ax[i].imshow(x_test[50])\n",
        "    ax[i].imshow(heatmap6, cmap='jet', alpha=0.5) # overlay\n",
        "    ax[i].axis('off')\n",
        "plt.tight_layout()\n",
        "plt.show()"
      ],
      "metadata": {
        "id": "M9RO-GpTtnNj"
      },
      "execution_count": null,
      "outputs": []
    },
    {
      "cell_type": "code",
      "source": [
        "# Generate saliency map with smoothing that reduce noise by adding noise\n",
        "saliency_map_smooth = saliency(score,X,\n",
        "                        smooth_samples=20, # The number of calculating gradients iterations.\n",
        "                        smooth_noise=0.20) # noise spread level.\n",
        "f, ax = plt.subplots(nrows=1, ncols=3, figsize=(12, 4))\n",
        "for i, title in enumerate(image_titles):\n",
        "    heatmap7 = np.uint8(cm.jet(saliency_map_smooth[i])[..., :3] * 255)\n",
        "    ax[i].set_title(title, fontsize=16)\n",
        "    ax[i].imshow(x_test[50])\n",
        "    ax[i].imshow(heatmap7, cmap='jet', alpha=0.5) # overlay\n",
        "    ax[i].axis('off')\n",
        "plt.tight_layout()\n",
        "plt.show()"
      ],
      "metadata": {
        "id": "J20X_t_Ctp5a"
      },
      "execution_count": null,
      "outputs": []
    },
    {
      "cell_type": "code",
      "source": [
        "# Render\n",
        "f, ax = plt.subplots(nrows=2, ncols=4, figsize=(24, 12))\n",
        "\n",
        "ax[0][0].set_title(\"Original\", fontsize=12)\n",
        "ax[0][0].imshow(x_test[50])\n",
        "ax[0][0].axis('off')\n",
        "\n",
        "ax[0][1].set_title(\"GradCAM\", fontsize=12)\n",
        "ax[0][1].imshow(x_test[50])\n",
        "ax[0][1].imshow(heatmap1, cmap='jet', alpha=0.5)\n",
        "ax[0][1].axis('off')\n",
        "\n",
        "ax[0][2].set_title(\"GradCAM++\", fontsize=12)\n",
        "ax[0][2].imshow(x_test[50])\n",
        "ax[0][2].imshow(heatmap2, cmap='jet', alpha=0.5)\n",
        "ax[0][2].axis('off')\n",
        "\n",
        "ax[0][3].set_title(\"ScoreCAM\", fontsize=12)\n",
        "ax[0][3].imshow(x_test[50])\n",
        "ax[0][3].imshow(heatmap3, cmap='jet', alpha=0.5)\n",
        "ax[0][3].axis('off')\n",
        "\n",
        "ax[1][0].set_title(\"ScoreCAM++\", fontsize=12)\n",
        "ax[1][0].imshow(x_test[50])\n",
        "ax[1][0].imshow(heatmap4, cmap='jet', alpha=0.5)\n",
        "ax[1][0].axis('off')\n",
        "\n",
        "ax[1][1].set_title(\"LayerCAM\", fontsize=12)\n",
        "ax[1][1].imshow(x_test[50])\n",
        "ax[1][1].imshow(heatmap5, cmap='jet', alpha=0.5)\n",
        "ax[1][1].axis('off')\n",
        "\n",
        "ax[1][2].set_title(\"Vanilla Saliency\", fontsize=12)\n",
        "ax[1][2].imshow(saliency_map_van[0], cmap='jet')\n",
        "ax[1][2].axis('off')\n",
        "\n",
        "ax[1][3].set_title(\"Smooth Grad\", fontsize=12)\n",
        "ax[1][3].imshow(saliency_map_smooth[0], cmap='jet')\n",
        "ax[1][3].axis('off')\n",
        "\n",
        "plt.show()"
      ],
      "metadata": {
        "id": "Y8GYTe2VtsY3"
      },
      "execution_count": null,
      "outputs": []
    }
  ],
  "metadata": {
    "accelerator": "GPU",
    "colab": {
      "provenance": []
    },
    "kernelspec": {
      "display_name": "Python 3",
      "language": "python",
      "name": "python3"
    },
    "language_info": {
      "codemirror_mode": {
        "name": "ipython",
        "version": 3
      },
      "file_extension": ".py",
      "mimetype": "text/x-python",
      "name": "python",
      "nbconvert_exporter": "python",
      "pygments_lexer": "ipython3",
      "version": "3.7.0"
    },
    "gpuClass": "standard"
  },
  "nbformat": 4,
  "nbformat_minor": 0
}