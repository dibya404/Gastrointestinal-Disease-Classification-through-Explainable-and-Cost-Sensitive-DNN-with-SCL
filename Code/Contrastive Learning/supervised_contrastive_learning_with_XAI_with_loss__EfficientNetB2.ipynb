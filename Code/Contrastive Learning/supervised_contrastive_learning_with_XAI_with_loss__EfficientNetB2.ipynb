{
  "cells": [
    {
      "cell_type": "markdown",
      "metadata": {
        "id": "BZyrxLWAoH6N"
      },
      "source": [
        "#Supervised Contrastive Learning\n",
        "\n",
        "[Supervised Contrastive Learning](https://arxiv.org/abs/2004.11362)\n",
        "(Prannay Khosla et al.) is a training methodology that outperforms\n",
        "supervised training with crossentropy on classification tasks.\n",
        "\n",
        "Essentially, training an image classification model with Supervised Contrastive\n",
        "Learning is performed in two phases:\n",
        "\n",
        "1. Training an encoder to learn to produce vector representations of input images such\n",
        "that representations of images in the same class will be more similar compared to\n",
        "representations of images in different classes.\n",
        "2. Training a classifier on top of the frozen encoder.\n",
        "\n",
        "Implementation by G. M. Shahariar Shibli"
      ]
    },
    {
      "cell_type": "markdown",
      "source": [
        "#Version and GPU check"
      ],
      "metadata": {
        "id": "hkv3AUhy6ioC"
      }
    },
    {
      "cell_type": "code",
      "source": [
        "import tensorflow as tf\n",
        "print(tf.__version__)"
      ],
      "metadata": {
        "colab": {
          "base_uri": "https://localhost:8080/"
        },
        "id": "M9O4YCpZFNqh",
        "outputId": "1f23c90e-574a-43d3-b68b-e9a0e775f446"
      },
      "execution_count": null,
      "outputs": [
        {
          "output_type": "stream",
          "name": "stdout",
          "text": [
            "2.11.0\n"
          ]
        }
      ]
    },
    {
      "cell_type": "code",
      "source": [
        "!nvidia-smi"
      ],
      "metadata": {
        "colab": {
          "base_uri": "https://localhost:8080/"
        },
        "id": "tvua2c3vFTir",
        "outputId": "b4b4c633-a2fb-49e6-93b0-416cf781da3e"
      },
      "execution_count": null,
      "outputs": [
        {
          "output_type": "stream",
          "name": "stdout",
          "text": [
            "Thu Mar 23 06:15:41 2023       \n",
            "+-----------------------------------------------------------------------------+\n",
            "| NVIDIA-SMI 525.85.12    Driver Version: 525.85.12    CUDA Version: 12.0     |\n",
            "|-------------------------------+----------------------+----------------------+\n",
            "| GPU  Name        Persistence-M| Bus-Id        Disp.A | Volatile Uncorr. ECC |\n",
            "| Fan  Temp  Perf  Pwr:Usage/Cap|         Memory-Usage | GPU-Util  Compute M. |\n",
            "|                               |                      |               MIG M. |\n",
            "|===============================+======================+======================|\n",
            "|   0  Tesla T4            Off  | 00000000:00:04.0 Off |                    0 |\n",
            "| N/A   62C    P0    28W /  70W |      0MiB / 15360MiB |      0%      Default |\n",
            "|                               |                      |                  N/A |\n",
            "+-------------------------------+----------------------+----------------------+\n",
            "                                                                               \n",
            "+-----------------------------------------------------------------------------+\n",
            "| Processes:                                                                  |\n",
            "|  GPU   GI   CI        PID   Type   Process name                  GPU Memory |\n",
            "|        ID   ID                                                   Usage      |\n",
            "|=============================================================================|\n",
            "|  No running processes found                                                 |\n",
            "+-----------------------------------------------------------------------------+\n"
          ]
        }
      ]
    },
    {
      "cell_type": "markdown",
      "source": [
        "#Installation"
      ],
      "metadata": {
        "id": "X_QmWT2U6pkL"
      }
    },
    {
      "cell_type": "code",
      "source": [
        "%%capture\n",
        "!pip3 install tensorflow-addons\n",
        "!pip3 install tf_keras_vis"
      ],
      "metadata": {
        "id": "bv29vA5qoYeH"
      },
      "execution_count": null,
      "outputs": []
    },
    {
      "cell_type": "markdown",
      "source": [
        "#Imports"
      ],
      "metadata": {
        "id": "F1E5-EdS6rnu"
      }
    },
    {
      "cell_type": "code",
      "execution_count": null,
      "metadata": {
        "id": "2XCoB3mVoH6O"
      },
      "outputs": [],
      "source": [
        "import tensorflow as tf\n",
        "import tensorflow_addons as tfa\n",
        "from tensorflow.keras.layers import *\n",
        "from tensorflow.keras.models import *\n",
        "from tensorflow import keras\n",
        "\n",
        "import matplotlib.pyplot as plt\n",
        "from imutils import paths\n",
        "from tqdm import tqdm\n",
        "import numpy as np\n",
        "import cv2\n",
        "import datetime\n",
        "import glob\n",
        "import os\n",
        "\n",
        "# Random seed fixation\n",
        "tf.random.set_seed(666)\n",
        "np.random.seed(666)"
      ]
    },
    {
      "cell_type": "markdown",
      "source": [
        "#Configurations"
      ],
      "metadata": {
        "id": "u8nRZxtq60Fn"
      }
    },
    {
      "cell_type": "code",
      "source": [
        "BATCH_SIZE = 64\n",
        "EPOCHS = 50\n",
        "CROP_TO = 224\n",
        "\n",
        "num_classes = 23\n",
        "input_shape = (224, 224, 3)\n",
        "\n",
        "LR = 2e-5\n",
        "shuffler = 1024"
      ],
      "metadata": {
        "id": "8vio_SJ962oo"
      },
      "execution_count": null,
      "outputs": []
    },
    {
      "cell_type": "markdown",
      "source": [
        "#Data Augmentation"
      ],
      "metadata": {
        "id": "ylOgBX047OQl"
      }
    },
    {
      "cell_type": "code",
      "source": [
        "def flip_random_crop(image):\n",
        "    # With random crops we also apply horizontal flipping.\n",
        "    image = tf.image.random_flip_left_right(image)\n",
        "    image = tf.image.random_crop(image, (CROP_TO, CROP_TO, 3))\n",
        "    return image\n",
        "\n",
        "def color_jitter(x, strength=[0.4, 0.4, 0.4, 0.1]):\n",
        "    x = tf.image.random_brightness(x, max_delta=0.8 * strength[0])\n",
        "    x = tf.image.random_contrast(\n",
        "        x, lower=1 - 0.8 * strength[1], upper=1 + 0.8 * strength[1]\n",
        "    )\n",
        "    x = tf.image.random_saturation(\n",
        "        x, lower=1 - 0.8 * strength[2], upper=1 + 0.8 * strength[2]\n",
        "    )\n",
        "    x = tf.image.random_hue(x, max_delta=0.2 * strength[3])\n",
        "    # Affine transformations can disturb the natural range of\n",
        "    # RGB images, hence this is needed.\n",
        "    x = tf.clip_by_value(x, 0, 255)\n",
        "    return x\n",
        "\n",
        "def color_drop(x):\n",
        "    x = tf.image.rgb_to_grayscale(x)\n",
        "    x = tf.tile(x, [1, 1, 3])\n",
        "    return x\n",
        "\n",
        "\n",
        "def random_apply(func, x, p):\n",
        "    if tf.random.uniform([], minval=0, maxval=1) < p:\n",
        "        return func(x)\n",
        "    else:\n",
        "        return x\n",
        "\n",
        "\n",
        "def custom_augment(image, label):\n",
        "    # As discussed in the SimCLR paper, the series of augmentation\n",
        "    # transformations (except for random crops) need to be applied\n",
        "    # randomly to impose translational invariance.\n",
        "    image = flip_random_crop(image)\n",
        "    image = random_apply(color_jitter, image, p=0.8)\n",
        "    image = random_apply(color_drop, image, p=0.2)\n",
        "    return image, label"
      ],
      "metadata": {
        "id": "rBMfcAM2-7Wk"
      },
      "execution_count": null,
      "outputs": []
    },
    {
      "cell_type": "markdown",
      "metadata": {
        "id": "d-O64920oH6P"
      },
      "source": [
        "# Data Processing"
      ]
    },
    {
      "cell_type": "code",
      "source": [
        "from google.colab import drive\n",
        "drive.mount('/content/drive')"
      ],
      "metadata": {
        "colab": {
          "base_uri": "https://localhost:8080/"
        },
        "id": "j14PfbgOImJi",
        "outputId": "ad795f52-c969-48c1-953e-87316a0c031a"
      },
      "execution_count": null,
      "outputs": [
        {
          "output_type": "stream",
          "name": "stdout",
          "text": [
            "Mounted at /content/drive\n"
          ]
        }
      ]
    },
    {
      "cell_type": "code",
      "source": [
        "cecum = glob.glob('/content/drive/MyDrive/ML/Classification/LOw/cecum/*.*')\n",
        "ileum = glob.glob('/content/drive/MyDrive/ML/Classification/LOw/ileum/*.*')\n",
        "retroflex_rectum = glob.glob('/content/drive/MyDrive/ML/Classification/LOw/retroflex_rectum/*.*')\n",
        "hemorrhoids = glob.glob('/content/drive/MyDrive/ML/Classification/LOw/hemorrhoids/*.*')\n",
        "polyps = glob.glob('/content/drive/MyDrive/ML/Classification/LOw/polyps/*.*')\n",
        "ulcerative_colitis_grade_0_1 = glob.glob('/content/drive/MyDrive/ML/Classification/LOw/ulcerative-colitis-grade-0-1/*.*')\n",
        "ulcerative_colitis_grade_1 = glob.glob('/content/drive/MyDrive/ML/Classification/LOw/ulcerative-colitis-grade-1/*.*')\n",
        "ulcerative_colitis_grade_1_2 = glob.glob('/content/drive/MyDrive/ML/Classification/LOw/ulcerative-colitis-grade-1-2/*.*')\n",
        "ulcerative_colitis_grade_2 = glob.glob('/content/drive/MyDrive/ML/Classification/LOw/ulcerative-colitis-grade-2/*.*')\n",
        "ulcerative_colitis_grade_2_3 = glob.glob('/content/drive/MyDrive/ML/Classification/LOw/ulcerative-colitis-grade-2-3/*.*')\n",
        "ulcerative_colitis_grade_3 = glob.glob('/content/drive/MyDrive/ML/Classification/LOw/ulcerative-colitis-grade-3/*.*')\n",
        "bbps_0_1 = glob.glob('/content/drive/MyDrive/ML/Classification/LOw/bbps-0-1/*.*')\n",
        "bbps_2_3 = glob.glob('/content/drive/MyDrive/ML/Classification/LOw/bbps-2-3/*.*')\n",
        "impacted_stool = glob.glob('/content/drive/MyDrive/ML/Classification/LOw/impacted-stool/*.*')\n",
        "dyed_lifted_polyps = glob.glob('/content/drive/MyDrive/ML/Classification/LOw/dyed-lifted-polyps/*.*')\n",
        "dyed_resection_margins = glob.glob('/content/drive/MyDrive/ML/Classification/LOw/dyed-resection-margins/*.*')\n",
        "pylorus = glob.glob('/content/drive/MyDrive/ML/Classification/LOw/pylorus/*.*')\n",
        "retroflex_stomach = glob.glob('/content/drive/MyDrive/ML/Classification/LOw/retroflex_stomach/*.*')\n",
        "z_line = glob.glob('/content/drive/MyDrive/ML/Classification/LOw/z_line/*.*')\n",
        "barretts = glob.glob('/content/drive/MyDrive/ML/Classification/LOw/barretts/*.*')\n",
        "barretts_short_segment = glob.glob('/content/drive/MyDrive/ML/Classification/LOw/barretts-short-segment/*.*')\n",
        "esophagitis_a = glob.glob('/content/drive/MyDrive/ML/Classification/LOw/esophagitis-a/*.*')\n",
        "esophagitis_b_d = glob.glob('/content/drive/MyDrive/ML/Classification/LOw/esophagitis-b-d/*.*')"
      ],
      "metadata": {
        "id": "WxwSEV77InMI"
      },
      "execution_count": null,
      "outputs": []
    },
    {
      "cell_type": "code",
      "source": [
        "dataset = {0 :cecum, 1:ileum, 2:retroflex_rectum, 3:hemorrhoids, 4:polyps,5:ulcerative_colitis_grade_0_1,6:ulcerative_colitis_grade_1,7:ulcerative_colitis_grade_1_2,8:ulcerative_colitis_grade_2,9:ulcerative_colitis_grade_2_3,10:ulcerative_colitis_grade_3,11:bbps_0_1 ,12:bbps_2_3,13:impacted_stool,14:dyed_lifted_polyps,15:dyed_resection_margins,16:pylorus,17:retroflex_stomach,18:z_line,19:barretts,20:barretts_short_segment,21:esophagitis_a ,22:esophagitis_b_d }"
      ],
      "metadata": {
        "id": "9Lq9HE1i9lRV"
      },
      "execution_count": null,
      "outputs": []
    },
    {
      "cell_type": "code",
      "source": [
        "def combineDataAndLabel(width, height, dataset):\n",
        "\n",
        "  data = []\n",
        "  labels = []\n",
        "  count = 0\n",
        "\n",
        "  for cls in dataset:\n",
        "      print(f\"\\n\\nconverting {cls} \\n\\n\")\n",
        "      for i in dataset[cls]:\n",
        "          print(f\"\\nconverting image:  {i}\")\n",
        "          image=tf.keras.preprocessing.image.load_img(i, color_mode='rgb',\n",
        "          target_size= (width,height))\n",
        "          image=np.array(image)\n",
        "          data.append(image)\n",
        "          count=count+1\n",
        "          labels.append(cls)\n",
        "      print(f\"\\n\\processed {count} images \\n\\n\")\n",
        "\n",
        "\n",
        "  # for i in cecum:\n",
        "  #     image=tf.keras.preprocessing.image.load_img(i, color_mode='rgb',\n",
        "  #     target_size= (width,height))\n",
        "  #     image=np.array(image)\n",
        "  #     data.append(image)\n",
        "  #     labels.append(0)\n",
        "\n",
        "  # for i in ileum:\n",
        "  #     image=tf.keras.preprocessing.image.load_img(i, color_mode='rgb',\n",
        "  #     target_size= (width,height))\n",
        "  #     image=np.array(image)\n",
        "  #     data.append(image)\n",
        "  #     labels.append(1)\n",
        "  # for i in pylorus:\n",
        "  #     image=tf.keras.preprocessing.image.load_img(i, color_mode='rgb',\n",
        "  #     target_size= (width,height))\n",
        "  #     image=np.array(image)\n",
        "  #     data.append(image)\n",
        "  #     labels.append(2)\n",
        "  # for i in retroflex_rectum:\n",
        "  #     image=tf.keras.preprocessing.image.load_img(i, color_mode='rgb',\n",
        "  #     target_size= (width,height))\n",
        "  #     image=np.array(image)\n",
        "  #     data.append(image)\n",
        "  #     labels.append(3)\n",
        "  # for i in retroflex_stomach:\n",
        "  #     image=tf.keras.preprocessing.image.load_img(i, color_mode='rgb',\n",
        "  #     target_size= (width,height))\n",
        "  #     image=np.array(image)\n",
        "  #     data.append(image)\n",
        "  #     labels.append(4)\n",
        "  # for i in z_line:\n",
        "  #     image=tf.keras.preprocessing.image.load_img(i, color_mode='rgb',\n",
        "  #     target_size= (width,height))\n",
        "  #     image=np.array(image)\n",
        "  #     data.append(image)\n",
        "  #     labels.append(5)\n",
        "\n",
        "  data = np.array(data)\n",
        "  labels = np.array(labels)\n",
        "\n",
        "  print(f\"\\n\\nSaving to drive\\n\\n\")\n",
        "  np.save('/content/drive/MyDrive/ML/combinedData_224', data)\n",
        "  np.save('/content/drive/MyDrive/ML/combinedLabels_224', labels)\n",
        "  print(f\"\\n\\nSaved\")\n",
        "\n",
        "  return data, labels\n"
      ],
      "metadata": {
        "id": "1bpOqAg2IsDz"
      },
      "execution_count": null,
      "outputs": []
    },
    {
      "cell_type": "code",
      "source": [
        "import os\n",
        "data = []\n",
        "labels = []\n",
        "if(os.path.isfile(\"/content/drive/MyDrive/ML/combinedData_224.npy\") and os.path.isfile(\"/content/drive/MyDrive/ML/combinedLabels_224.npy\")):\n",
        "  data = np.load(\"/content/drive/MyDrive/ML/combinedData_224.npy\")\n",
        "  labels = np.load(\"/content/drive/MyDrive/ML/combinedLabels_224.npy\")\n",
        "else:\n",
        "  data, labels = combineDataAndLabel(224,224,dataset)\n"
      ],
      "metadata": {
        "id": "_uYeX5ev9upF"
      },
      "execution_count": null,
      "outputs": []
    },
    {
      "cell_type": "code",
      "source": [
        "from sklearn.model_selection import train_test_split\n",
        "x_train, x_test, y_train, y_test = train_test_split(data, labels, test_size=0.2,\n",
        "                                                random_state=42,stratify = labels)"
      ],
      "metadata": {
        "id": "hHNOuE_09w7J"
      },
      "execution_count": null,
      "outputs": []
    },
    {
      "cell_type": "code",
      "execution_count": null,
      "metadata": {
        "id": "D0Kzh5jRoH6P",
        "outputId": "dac20f16-36a9-487d-867c-10ffb855ceef",
        "colab": {
          "base_uri": "https://localhost:8080/"
        }
      },
      "outputs": [
        {
          "output_type": "stream",
          "name": "stdout",
          "text": [
            "x_train shape: (8529, 224, 224, 3) - y_train shape: (8529,)\n",
            "x_test shape: (2133, 224, 224, 3) - y_test shape: (2133,)\n"
          ]
        }
      ],
      "source": [
        "# Load data\n",
        "#(x_train, y_train), (x_test, y_test) = keras.datasets.cifar10.load_data()\n",
        "\n",
        "# Display shapes of train and test datasets\n",
        "print(f\"x_train shape: {x_train.shape} - y_train shape: {y_train.shape}\")\n",
        "print(f\"x_test shape: {x_test.shape} - y_test shape: {y_test.shape}\")\n"
      ]
    },
    {
      "cell_type": "code",
      "source": [
        "#contrastive training\n",
        "train_ds = tf.data.Dataset.from_tensor_slices((x_train, y_train))\n",
        "train_ds = (train_ds.shuffle(shuffler).map(custom_augment).batch(BATCH_SIZE))\n",
        "\n",
        "#cross-entropy training\n",
        "train_ds2 = tf.data.Dataset.from_tensor_slices((x_train, y_train)).shuffle(shuffler).batch(BATCH_SIZE)\n",
        "test_ds = tf.data.Dataset.from_tensor_slices((x_test, y_test)).shuffle(shuffler).batch(BATCH_SIZE)"
      ],
      "metadata": {
        "id": "8MmJS7Z0l1SE"
      },
      "execution_count": null,
      "outputs": []
    },
    {
      "cell_type": "markdown",
      "metadata": {
        "id": "oAW2SWEIoH6Q"
      },
      "source": [
        "#Contrastive Loss Functions\n",
        "\n",
        "Max Margin Loss, N pairs loss, Triplet loss, NT-XENT loss"
      ]
    },
    {
      "cell_type": "code",
      "source": [
        "def pdist_euclidean(A):\n",
        "    # Euclidean pdist\n",
        "    # https://stackoverflow.com/questions/37009647/compute-pairwise-distance-in-a-batch-without-replicating-tensor-in-tensorflow\n",
        "    r = tf.reduce_sum(A*A, 1)\n",
        "\n",
        "    # turn r into column vector\n",
        "    r = tf.reshape(r, [-1, 1])\n",
        "    D = r - 2*tf.matmul(A, tf.transpose(A)) + tf.transpose(r)\n",
        "    return tf.sqrt(D)\n",
        "\n",
        "\n",
        "#def square_to_vec(D):\n",
        "   #'''Convert a squared form pdist matrix to vector form.\n",
        "    #'''\n",
        " #   n = D.shape[0]\n",
        "  #  triu_idx = np.triu_indices(n, k=1)\n",
        "   # d_vec = tf.gather_nd(D, list(zip(triu_idx[0], triu_idx[1])))\n",
        "    #return d_vec\n",
        "def square_to_vec(D):\n",
        "    with tf.name_scope(\"square_to_vec\"):\n",
        "        n = D.shape[0]\n",
        "        triu_idx = np.triu_indices(n, k=1)\n",
        "        triu_idx_int = np.array(triu_idx).astype(np.int32)\n",
        "        d_vec = tf.gather_nd(D, list(zip(triu_idx_int[0], triu_idx_int[1])))\n",
        "        return d_vec\n",
        "\n",
        "\n",
        "def get_contrast_batch_labels(y):\n",
        "    '''\n",
        "    Make contrast labels by taking all the pairwise in y\n",
        "    y: tensor with shape: (batch_size, )\n",
        "    returns:\n",
        "        tensor with shape: (batch_size * (batch_size-1) // 2, )\n",
        "    '''\n",
        "    y_col_vec = tf.reshape(tf.cast(y, tf.float32), [-1, 1])\n",
        "    D_y = pdist_euclidean(y_col_vec)\n",
        "    d_y = square_to_vec(D_y)\n",
        "    y_contrasts = tf.cast(d_y == 0, tf.int32)\n",
        "    return y_contrasts\n",
        "\n",
        "\n",
        "def get_contrast_batch_labels_regression(y):\n",
        "    '''\n",
        "    Make contrast labels for regression by taking all the pairwise in y\n",
        "    y: tensor with shape: (batch_size, )\n",
        "    returns:\n",
        "        tensor with shape: (batch_size * (batch_size-1) // 2, )\n",
        "    '''\n",
        "    raise NotImplementedError\n",
        "\n",
        "\n",
        "def max_margin_contrastive_loss(z, y, margin=1.0, metric='euclidean'):\n",
        "    '''\n",
        "    Wrapper for the maximum margin contrastive loss (Hadsell et al. 2006)\n",
        "    `tfa.losses.contrastive_loss`\n",
        "    Args:\n",
        "        z: hidden vector of shape [bsz, n_features].\n",
        "        y: ground truth of shape [bsz].\n",
        "        metric: one of ('euclidean', 'cosine')\n",
        "    '''\n",
        "    # compute pair-wise distance matrix\n",
        "    if metric == 'euclidean':\n",
        "        D = pdist_euclidean(z)\n",
        "    elif metric == 'cosine':\n",
        "        D = 1 - tf.matmul(z, z, transpose_a=False, transpose_b=True)\n",
        "    # convert squareform matrix to vector form\n",
        "    d_vec = square_to_vec(D)\n",
        "    # make contrastive labels\n",
        "    y_contrasts = get_contrast_batch_labels(y)\n",
        "    loss = tfa.losses.contrastive_loss(y_contrasts, d_vec, margin=margin)\n",
        "    # exploding/varnishing gradients on large batch?\n",
        "    return tf.reduce_mean(loss)\n",
        "\n",
        "\n",
        "def multiclass_npairs_loss(z, y):\n",
        "    '''\n",
        "    Wrapper for the multiclass N-pair loss (Sohn 2016)\n",
        "    `tfa.losses.npairs_loss`\n",
        "    Args:\n",
        "        z: hidden vector of shape [bsz, n_features].\n",
        "        y: ground truth of shape [bsz].\n",
        "    '''\n",
        "    # cosine similarity matrix\n",
        "    S = tf.matmul(z, z, transpose_a=False, transpose_b=True)\n",
        "    loss = tfa.losses.npairs_loss(y, S)\n",
        "    return loss\n",
        "\n",
        "\n",
        "def triplet_loss(z, y, margin=1.0, kind='hard'):\n",
        "    '''\n",
        "    Wrapper for the triplet losses\n",
        "    `tfa.losses.triplet_hard_loss` and `tfa.losses.triplet_semihard_loss`\n",
        "    Args:\n",
        "        z: hidden vector of shape [bsz, n_features], assumes it is l2-normalized.\n",
        "        y: ground truth of shape [bsz].\n",
        "    '''\n",
        "    if kind == 'hard':\n",
        "        loss = tfa.losses.triplet_hard_loss(y, z, margin=margin, soft=False)\n",
        "    elif kind == 'soft':\n",
        "        loss = tfa.losses.triplet_hard_loss(y, z, margin=margin, soft=True)\n",
        "    elif kind == 'semihard':\n",
        "        loss = tfa.losses.triplet_semihard_loss(y, z, margin=margin)\n",
        "    return loss\n",
        "\n",
        "\n",
        "def supervised_nt_xent_loss(z, y, temperature=0.5, base_temperature=0.07):\n",
        "    '''\n",
        "    Supervised normalized temperature-scaled cross entropy loss.\n",
        "    A variant of Multi-class N-pair Loss from (Sohn 2016)\n",
        "    Later used in SimCLR (Chen et al. 2020, Khosla et al. 2020).\n",
        "    Implementation modified from:\n",
        "        - https://github.com/google-research/simclr/blob/master/objective.py\n",
        "        - https://github.com/HobbitLong/SupContrast/blob/master/losses.py\n",
        "    Args:\n",
        "        z: hidden vector of shape [bsz, n_features].\n",
        "        y: ground truth of shape [bsz].\n",
        "    '''\n",
        "    batch_size = tf.shape(z)[0]\n",
        "    contrast_count = 1\n",
        "    anchor_count = contrast_count\n",
        "    y = tf.expand_dims(y, -1)\n",
        "\n",
        "    # mask: contrastive mask of shape [bsz, bsz], mask_{i,j}=1 if sample j\n",
        "    #     has the same class as sample i. Can be asymmetric.\n",
        "    mask = tf.cast(tf.equal(y, tf.transpose(y)), tf.float32)\n",
        "    anchor_dot_contrast = tf.divide(\n",
        "        tf.matmul(z, tf.transpose(z)),\n",
        "        temperature\n",
        "    )\n",
        "    # # for numerical stability\n",
        "    logits_max = tf.reduce_max(anchor_dot_contrast, axis=1, keepdims=True)\n",
        "    logits = anchor_dot_contrast - logits_max\n",
        "    # # tile mask\n",
        "    logits_mask = tf.ones_like(mask) - tf.eye(batch_size)\n",
        "    mask = mask * logits_mask\n",
        "    # compute log_prob\n",
        "    exp_logits = tf.exp(logits) * logits_mask\n",
        "    log_prob = logits - \\\n",
        "        tf.math.log(tf.reduce_sum(exp_logits, axis=1, keepdims=True))\n",
        "\n",
        "    # compute mean of log-likelihood over positive\n",
        "    # this may introduce NaNs due to zero division,\n",
        "    # when a class only has one example in the batch\n",
        "    mask_sum = tf.reduce_sum(mask, axis=1)\n",
        "    mean_log_prob_pos = tf.reduce_sum(\n",
        "        mask * log_prob, axis=1)[mask_sum > 0] / mask_sum[mask_sum > 0]\n",
        "\n",
        "    # loss\n",
        "    loss = -(temperature / base_temperature) * mean_log_prob_pos\n",
        "    # loss = tf.reduce_mean(tf.reshape(loss, [anchor_count, batch_size]))\n",
        "    loss = tf.reduce_mean(loss)\n",
        "    return loss"
      ],
      "metadata": {
        "id": "03Qec3VnjkHh"
      },
      "execution_count": null,
      "outputs": []
    },
    {
      "cell_type": "markdown",
      "source": [
        "#Encoder with Contrastive Learning"
      ],
      "metadata": {
        "id": "Qjh5OtMt7913"
      }
    },
    {
      "cell_type": "code",
      "source": [
        "#Layer Batch Normalization\n",
        "class UnitNormLayer(tf.keras.layers.Layer):\n",
        "    '''Normalize vectors (euclidean norm) in batch to unit hypersphere.\n",
        "    '''\n",
        "\n",
        "    def __init__(self):\n",
        "        super(UnitNormLayer, self).__init__()\n",
        "\n",
        "    def call(self, input_tensor):\n",
        "        norm = tf.norm(input_tensor, axis=1)\n",
        "        return input_tensor / tf.reshape(norm, [-1, 1])"
      ],
      "metadata": {
        "id": "y26x2Yaan0jq"
      },
      "execution_count": null,
      "outputs": []
    },
    {
      "cell_type": "code",
      "source": [
        "# Encoder Architecture\n",
        "def get_resnet_simclr(hidden_1, hidden_2, hidden_3):\n",
        "    base_model = tf.keras.applications.EfficientNetB2(include_top=False, weights=None, input_shape=input_shape)\n",
        "    base_model.trainable = True\n",
        "    h = base_model.output\n",
        "    h = GlobalAveragePooling2D()(h)\n",
        "\n",
        "    projection_1 = Dense(hidden_1)(h)\n",
        "    projection_1 = Activation(\"relu\")(projection_1)\n",
        "    projection_2 = Dense(hidden_2)(projection_1)\n",
        "    projection_2 = Activation(\"relu\")(projection_2)\n",
        "    projection_3 = Dense(hidden_3)(projection_2)\n",
        "\n",
        "    normalized_embed = UnitNormLayer()(projection_3)\n",
        "\n",
        "    resnet_simclr = Model(base_model.inputs, normalized_embed)\n",
        "\n",
        "    return resnet_simclr"
      ],
      "metadata": {
        "id": "NzQEEp7BHgu4"
      },
      "execution_count": null,
      "outputs": []
    },
    {
      "cell_type": "code",
      "source": [
        "encoder_optimizer = tf.keras.optimizers.Adam(learning_rate=LR)\n",
        "model = get_resnet_simclr(512, 256, 128)"
      ],
      "metadata": {
        "id": "oabd9buOlSoI"
      },
      "execution_count": null,
      "outputs": []
    },
    {
      "cell_type": "code",
      "source": [
        "model.summary()"
      ],
      "metadata": {
        "id": "FgsWo9gL8lc3",
        "colab": {
          "base_uri": "https://localhost:8080/"
        },
        "outputId": "9c30c378-1ef1-4298-db82-95b9d85b9947"
      },
      "execution_count": null,
      "outputs": [
        {
          "output_type": "stream",
          "name": "stdout",
          "text": [
            "Model: \"model\"\n",
            "__________________________________________________________________________________________________\n",
            " Layer (type)                   Output Shape         Param #     Connected to                     \n",
            "==================================================================================================\n",
            " input_1 (InputLayer)           [(None, 224, 224, 3  0           []                               \n",
            "                                )]                                                                \n",
            "                                                                                                  \n",
            " rescaling (Rescaling)          (None, 224, 224, 3)  0           ['input_1[0][0]']                \n",
            "                                                                                                  \n",
            " normalization (Normalization)  (None, 224, 224, 3)  7           ['rescaling[0][0]']              \n",
            "                                                                                                  \n",
            " stem_conv_pad (ZeroPadding2D)  (None, 225, 225, 3)  0           ['normalization[0][0]']          \n",
            "                                                                                                  \n",
            " stem_conv (Conv2D)             (None, 112, 112, 32  864         ['stem_conv_pad[0][0]']          \n",
            "                                )                                                                 \n",
            "                                                                                                  \n",
            " stem_bn (BatchNormalization)   (None, 112, 112, 32  128         ['stem_conv[0][0]']              \n",
            "                                )                                                                 \n",
            "                                                                                                  \n",
            " stem_activation (Activation)   (None, 112, 112, 32  0           ['stem_bn[0][0]']                \n",
            "                                )                                                                 \n",
            "                                                                                                  \n",
            " block1a_dwconv (DepthwiseConv2  (None, 112, 112, 32  288        ['stem_activation[0][0]']        \n",
            " D)                             )                                                                 \n",
            "                                                                                                  \n",
            " block1a_bn (BatchNormalization  (None, 112, 112, 32  128        ['block1a_dwconv[0][0]']         \n",
            " )                              )                                                                 \n",
            "                                                                                                  \n",
            " block1a_activation (Activation  (None, 112, 112, 32  0          ['block1a_bn[0][0]']             \n",
            " )                              )                                                                 \n",
            "                                                                                                  \n",
            " block1a_se_squeeze (GlobalAver  (None, 32)          0           ['block1a_activation[0][0]']     \n",
            " agePooling2D)                                                                                    \n",
            "                                                                                                  \n",
            " block1a_se_reshape (Reshape)   (None, 1, 1, 32)     0           ['block1a_se_squeeze[0][0]']     \n",
            "                                                                                                  \n",
            " block1a_se_reduce (Conv2D)     (None, 1, 1, 8)      264         ['block1a_se_reshape[0][0]']     \n",
            "                                                                                                  \n",
            " block1a_se_expand (Conv2D)     (None, 1, 1, 32)     288         ['block1a_se_reduce[0][0]']      \n",
            "                                                                                                  \n",
            " block1a_se_excite (Multiply)   (None, 112, 112, 32  0           ['block1a_activation[0][0]',     \n",
            "                                )                                 'block1a_se_expand[0][0]']      \n",
            "                                                                                                  \n",
            " block1a_project_conv (Conv2D)  (None, 112, 112, 16  512         ['block1a_se_excite[0][0]']      \n",
            "                                )                                                                 \n",
            "                                                                                                  \n",
            " block1a_project_bn (BatchNorma  (None, 112, 112, 16  64         ['block1a_project_conv[0][0]']   \n",
            " lization)                      )                                                                 \n",
            "                                                                                                  \n",
            " block1b_dwconv (DepthwiseConv2  (None, 112, 112, 16  144        ['block1a_project_bn[0][0]']     \n",
            " D)                             )                                                                 \n",
            "                                                                                                  \n",
            " block1b_bn (BatchNormalization  (None, 112, 112, 16  64         ['block1b_dwconv[0][0]']         \n",
            " )                              )                                                                 \n",
            "                                                                                                  \n",
            " block1b_activation (Activation  (None, 112, 112, 16  0          ['block1b_bn[0][0]']             \n",
            " )                              )                                                                 \n",
            "                                                                                                  \n",
            " block1b_se_squeeze (GlobalAver  (None, 16)          0           ['block1b_activation[0][0]']     \n",
            " agePooling2D)                                                                                    \n",
            "                                                                                                  \n",
            " block1b_se_reshape (Reshape)   (None, 1, 1, 16)     0           ['block1b_se_squeeze[0][0]']     \n",
            "                                                                                                  \n",
            " block1b_se_reduce (Conv2D)     (None, 1, 1, 4)      68          ['block1b_se_reshape[0][0]']     \n",
            "                                                                                                  \n",
            " block1b_se_expand (Conv2D)     (None, 1, 1, 16)     80          ['block1b_se_reduce[0][0]']      \n",
            "                                                                                                  \n",
            " block1b_se_excite (Multiply)   (None, 112, 112, 16  0           ['block1b_activation[0][0]',     \n",
            "                                )                                 'block1b_se_expand[0][0]']      \n",
            "                                                                                                  \n",
            " block1b_project_conv (Conv2D)  (None, 112, 112, 16  256         ['block1b_se_excite[0][0]']      \n",
            "                                )                                                                 \n",
            "                                                                                                  \n",
            " block1b_project_bn (BatchNorma  (None, 112, 112, 16  64         ['block1b_project_conv[0][0]']   \n",
            " lization)                      )                                                                 \n",
            "                                                                                                  \n",
            " block1b_drop (Dropout)         (None, 112, 112, 16  0           ['block1b_project_bn[0][0]']     \n",
            "                                )                                                                 \n",
            "                                                                                                  \n",
            " block1b_add (Add)              (None, 112, 112, 16  0           ['block1b_drop[0][0]',           \n",
            "                                )                                 'block1a_project_bn[0][0]']     \n",
            "                                                                                                  \n",
            " block2a_expand_conv (Conv2D)   (None, 112, 112, 96  1536        ['block1b_add[0][0]']            \n",
            "                                )                                                                 \n",
            "                                                                                                  \n",
            " block2a_expand_bn (BatchNormal  (None, 112, 112, 96  384        ['block2a_expand_conv[0][0]']    \n",
            " ization)                       )                                                                 \n",
            "                                                                                                  \n",
            " block2a_expand_activation (Act  (None, 112, 112, 96  0          ['block2a_expand_bn[0][0]']      \n",
            " ivation)                       )                                                                 \n",
            "                                                                                                  \n",
            " block2a_dwconv_pad (ZeroPaddin  (None, 113, 113, 96  0          ['block2a_expand_activation[0][0]\n",
            " g2D)                           )                                ']                               \n",
            "                                                                                                  \n",
            " block2a_dwconv (DepthwiseConv2  (None, 56, 56, 96)  864         ['block2a_dwconv_pad[0][0]']     \n",
            " D)                                                                                               \n",
            "                                                                                                  \n",
            " block2a_bn (BatchNormalization  (None, 56, 56, 96)  384         ['block2a_dwconv[0][0]']         \n",
            " )                                                                                                \n",
            "                                                                                                  \n",
            " block2a_activation (Activation  (None, 56, 56, 96)  0           ['block2a_bn[0][0]']             \n",
            " )                                                                                                \n",
            "                                                                                                  \n",
            " block2a_se_squeeze (GlobalAver  (None, 96)          0           ['block2a_activation[0][0]']     \n",
            " agePooling2D)                                                                                    \n",
            "                                                                                                  \n",
            " block2a_se_reshape (Reshape)   (None, 1, 1, 96)     0           ['block2a_se_squeeze[0][0]']     \n",
            "                                                                                                  \n",
            " block2a_se_reduce (Conv2D)     (None, 1, 1, 4)      388         ['block2a_se_reshape[0][0]']     \n",
            "                                                                                                  \n",
            " block2a_se_expand (Conv2D)     (None, 1, 1, 96)     480         ['block2a_se_reduce[0][0]']      \n",
            "                                                                                                  \n",
            " block2a_se_excite (Multiply)   (None, 56, 56, 96)   0           ['block2a_activation[0][0]',     \n",
            "                                                                  'block2a_se_expand[0][0]']      \n",
            "                                                                                                  \n",
            " block2a_project_conv (Conv2D)  (None, 56, 56, 24)   2304        ['block2a_se_excite[0][0]']      \n",
            "                                                                                                  \n",
            " block2a_project_bn (BatchNorma  (None, 56, 56, 24)  96          ['block2a_project_conv[0][0]']   \n",
            " lization)                                                                                        \n",
            "                                                                                                  \n",
            " block2b_expand_conv (Conv2D)   (None, 56, 56, 144)  3456        ['block2a_project_bn[0][0]']     \n",
            "                                                                                                  \n",
            " block2b_expand_bn (BatchNormal  (None, 56, 56, 144)  576        ['block2b_expand_conv[0][0]']    \n",
            " ization)                                                                                         \n",
            "                                                                                                  \n",
            " block2b_expand_activation (Act  (None, 56, 56, 144)  0          ['block2b_expand_bn[0][0]']      \n",
            " ivation)                                                                                         \n",
            "                                                                                                  \n",
            " block2b_dwconv (DepthwiseConv2  (None, 56, 56, 144)  1296       ['block2b_expand_activation[0][0]\n",
            " D)                                                              ']                               \n",
            "                                                                                                  \n",
            " block2b_bn (BatchNormalization  (None, 56, 56, 144)  576        ['block2b_dwconv[0][0]']         \n",
            " )                                                                                                \n",
            "                                                                                                  \n",
            " block2b_activation (Activation  (None, 56, 56, 144)  0          ['block2b_bn[0][0]']             \n",
            " )                                                                                                \n",
            "                                                                                                  \n",
            " block2b_se_squeeze (GlobalAver  (None, 144)         0           ['block2b_activation[0][0]']     \n",
            " agePooling2D)                                                                                    \n",
            "                                                                                                  \n",
            " block2b_se_reshape (Reshape)   (None, 1, 1, 144)    0           ['block2b_se_squeeze[0][0]']     \n",
            "                                                                                                  \n",
            " block2b_se_reduce (Conv2D)     (None, 1, 1, 6)      870         ['block2b_se_reshape[0][0]']     \n",
            "                                                                                                  \n",
            " block2b_se_expand (Conv2D)     (None, 1, 1, 144)    1008        ['block2b_se_reduce[0][0]']      \n",
            "                                                                                                  \n",
            " block2b_se_excite (Multiply)   (None, 56, 56, 144)  0           ['block2b_activation[0][0]',     \n",
            "                                                                  'block2b_se_expand[0][0]']      \n",
            "                                                                                                  \n",
            " block2b_project_conv (Conv2D)  (None, 56, 56, 24)   3456        ['block2b_se_excite[0][0]']      \n",
            "                                                                                                  \n",
            " block2b_project_bn (BatchNorma  (None, 56, 56, 24)  96          ['block2b_project_conv[0][0]']   \n",
            " lization)                                                                                        \n",
            "                                                                                                  \n",
            " block2b_drop (Dropout)         (None, 56, 56, 24)   0           ['block2b_project_bn[0][0]']     \n",
            "                                                                                                  \n",
            " block2b_add (Add)              (None, 56, 56, 24)   0           ['block2b_drop[0][0]',           \n",
            "                                                                  'block2a_project_bn[0][0]']     \n",
            "                                                                                                  \n",
            " block2c_expand_conv (Conv2D)   (None, 56, 56, 144)  3456        ['block2b_add[0][0]']            \n",
            "                                                                                                  \n",
            " block2c_expand_bn (BatchNormal  (None, 56, 56, 144)  576        ['block2c_expand_conv[0][0]']    \n",
            " ization)                                                                                         \n",
            "                                                                                                  \n",
            " block2c_expand_activation (Act  (None, 56, 56, 144)  0          ['block2c_expand_bn[0][0]']      \n",
            " ivation)                                                                                         \n",
            "                                                                                                  \n",
            " block2c_dwconv (DepthwiseConv2  (None, 56, 56, 144)  1296       ['block2c_expand_activation[0][0]\n",
            " D)                                                              ']                               \n",
            "                                                                                                  \n",
            " block2c_bn (BatchNormalization  (None, 56, 56, 144)  576        ['block2c_dwconv[0][0]']         \n",
            " )                                                                                                \n",
            "                                                                                                  \n",
            " block2c_activation (Activation  (None, 56, 56, 144)  0          ['block2c_bn[0][0]']             \n",
            " )                                                                                                \n",
            "                                                                                                  \n",
            " block2c_se_squeeze (GlobalAver  (None, 144)         0           ['block2c_activation[0][0]']     \n",
            " agePooling2D)                                                                                    \n",
            "                                                                                                  \n",
            " block2c_se_reshape (Reshape)   (None, 1, 1, 144)    0           ['block2c_se_squeeze[0][0]']     \n",
            "                                                                                                  \n",
            " block2c_se_reduce (Conv2D)     (None, 1, 1, 6)      870         ['block2c_se_reshape[0][0]']     \n",
            "                                                                                                  \n",
            " block2c_se_expand (Conv2D)     (None, 1, 1, 144)    1008        ['block2c_se_reduce[0][0]']      \n",
            "                                                                                                  \n",
            " block2c_se_excite (Multiply)   (None, 56, 56, 144)  0           ['block2c_activation[0][0]',     \n",
            "                                                                  'block2c_se_expand[0][0]']      \n",
            "                                                                                                  \n",
            " block2c_project_conv (Conv2D)  (None, 56, 56, 24)   3456        ['block2c_se_excite[0][0]']      \n",
            "                                                                                                  \n",
            " block2c_project_bn (BatchNorma  (None, 56, 56, 24)  96          ['block2c_project_conv[0][0]']   \n",
            " lization)                                                                                        \n",
            "                                                                                                  \n",
            " block2c_drop (Dropout)         (None, 56, 56, 24)   0           ['block2c_project_bn[0][0]']     \n",
            "                                                                                                  \n",
            " block2c_add (Add)              (None, 56, 56, 24)   0           ['block2c_drop[0][0]',           \n",
            "                                                                  'block2b_add[0][0]']            \n",
            "                                                                                                  \n",
            " block3a_expand_conv (Conv2D)   (None, 56, 56, 144)  3456        ['block2c_add[0][0]']            \n",
            "                                                                                                  \n",
            " block3a_expand_bn (BatchNormal  (None, 56, 56, 144)  576        ['block3a_expand_conv[0][0]']    \n",
            " ization)                                                                                         \n",
            "                                                                                                  \n",
            " block3a_expand_activation (Act  (None, 56, 56, 144)  0          ['block3a_expand_bn[0][0]']      \n",
            " ivation)                                                                                         \n",
            "                                                                                                  \n",
            " block3a_dwconv_pad (ZeroPaddin  (None, 59, 59, 144)  0          ['block3a_expand_activation[0][0]\n",
            " g2D)                                                            ']                               \n",
            "                                                                                                  \n",
            " block3a_dwconv (DepthwiseConv2  (None, 28, 28, 144)  3600       ['block3a_dwconv_pad[0][0]']     \n",
            " D)                                                                                               \n",
            "                                                                                                  \n",
            " block3a_bn (BatchNormalization  (None, 28, 28, 144)  576        ['block3a_dwconv[0][0]']         \n",
            " )                                                                                                \n",
            "                                                                                                  \n",
            " block3a_activation (Activation  (None, 28, 28, 144)  0          ['block3a_bn[0][0]']             \n",
            " )                                                                                                \n",
            "                                                                                                  \n",
            " block3a_se_squeeze (GlobalAver  (None, 144)         0           ['block3a_activation[0][0]']     \n",
            " agePooling2D)                                                                                    \n",
            "                                                                                                  \n",
            " block3a_se_reshape (Reshape)   (None, 1, 1, 144)    0           ['block3a_se_squeeze[0][0]']     \n",
            "                                                                                                  \n",
            " block3a_se_reduce (Conv2D)     (None, 1, 1, 6)      870         ['block3a_se_reshape[0][0]']     \n",
            "                                                                                                  \n",
            " block3a_se_expand (Conv2D)     (None, 1, 1, 144)    1008        ['block3a_se_reduce[0][0]']      \n",
            "                                                                                                  \n",
            " block3a_se_excite (Multiply)   (None, 28, 28, 144)  0           ['block3a_activation[0][0]',     \n",
            "                                                                  'block3a_se_expand[0][0]']      \n",
            "                                                                                                  \n",
            " block3a_project_conv (Conv2D)  (None, 28, 28, 48)   6912        ['block3a_se_excite[0][0]']      \n",
            "                                                                                                  \n",
            " block3a_project_bn (BatchNorma  (None, 28, 28, 48)  192         ['block3a_project_conv[0][0]']   \n",
            " lization)                                                                                        \n",
            "                                                                                                  \n",
            " block3b_expand_conv (Conv2D)   (None, 28, 28, 288)  13824       ['block3a_project_bn[0][0]']     \n",
            "                                                                                                  \n",
            " block3b_expand_bn (BatchNormal  (None, 28, 28, 288)  1152       ['block3b_expand_conv[0][0]']    \n",
            " ization)                                                                                         \n",
            "                                                                                                  \n",
            " block3b_expand_activation (Act  (None, 28, 28, 288)  0          ['block3b_expand_bn[0][0]']      \n",
            " ivation)                                                                                         \n",
            "                                                                                                  \n",
            " block3b_dwconv (DepthwiseConv2  (None, 28, 28, 288)  7200       ['block3b_expand_activation[0][0]\n",
            " D)                                                              ']                               \n",
            "                                                                                                  \n",
            " block3b_bn (BatchNormalization  (None, 28, 28, 288)  1152       ['block3b_dwconv[0][0]']         \n",
            " )                                                                                                \n",
            "                                                                                                  \n",
            " block3b_activation (Activation  (None, 28, 28, 288)  0          ['block3b_bn[0][0]']             \n",
            " )                                                                                                \n",
            "                                                                                                  \n",
            " block3b_se_squeeze (GlobalAver  (None, 288)         0           ['block3b_activation[0][0]']     \n",
            " agePooling2D)                                                                                    \n",
            "                                                                                                  \n",
            " block3b_se_reshape (Reshape)   (None, 1, 1, 288)    0           ['block3b_se_squeeze[0][0]']     \n",
            "                                                                                                  \n",
            " block3b_se_reduce (Conv2D)     (None, 1, 1, 12)     3468        ['block3b_se_reshape[0][0]']     \n",
            "                                                                                                  \n",
            " block3b_se_expand (Conv2D)     (None, 1, 1, 288)    3744        ['block3b_se_reduce[0][0]']      \n",
            "                                                                                                  \n",
            " block3b_se_excite (Multiply)   (None, 28, 28, 288)  0           ['block3b_activation[0][0]',     \n",
            "                                                                  'block3b_se_expand[0][0]']      \n",
            "                                                                                                  \n",
            " block3b_project_conv (Conv2D)  (None, 28, 28, 48)   13824       ['block3b_se_excite[0][0]']      \n",
            "                                                                                                  \n",
            " block3b_project_bn (BatchNorma  (None, 28, 28, 48)  192         ['block3b_project_conv[0][0]']   \n",
            " lization)                                                                                        \n",
            "                                                                                                  \n",
            " block3b_drop (Dropout)         (None, 28, 28, 48)   0           ['block3b_project_bn[0][0]']     \n",
            "                                                                                                  \n",
            " block3b_add (Add)              (None, 28, 28, 48)   0           ['block3b_drop[0][0]',           \n",
            "                                                                  'block3a_project_bn[0][0]']     \n",
            "                                                                                                  \n",
            " block3c_expand_conv (Conv2D)   (None, 28, 28, 288)  13824       ['block3b_add[0][0]']            \n",
            "                                                                                                  \n",
            " block3c_expand_bn (BatchNormal  (None, 28, 28, 288)  1152       ['block3c_expand_conv[0][0]']    \n",
            " ization)                                                                                         \n",
            "                                                                                                  \n",
            " block3c_expand_activation (Act  (None, 28, 28, 288)  0          ['block3c_expand_bn[0][0]']      \n",
            " ivation)                                                                                         \n",
            "                                                                                                  \n",
            " block3c_dwconv (DepthwiseConv2  (None, 28, 28, 288)  7200       ['block3c_expand_activation[0][0]\n",
            " D)                                                              ']                               \n",
            "                                                                                                  \n",
            " block3c_bn (BatchNormalization  (None, 28, 28, 288)  1152       ['block3c_dwconv[0][0]']         \n",
            " )                                                                                                \n",
            "                                                                                                  \n",
            " block3c_activation (Activation  (None, 28, 28, 288)  0          ['block3c_bn[0][0]']             \n",
            " )                                                                                                \n",
            "                                                                                                  \n",
            " block3c_se_squeeze (GlobalAver  (None, 288)         0           ['block3c_activation[0][0]']     \n",
            " agePooling2D)                                                                                    \n",
            "                                                                                                  \n",
            " block3c_se_reshape (Reshape)   (None, 1, 1, 288)    0           ['block3c_se_squeeze[0][0]']     \n",
            "                                                                                                  \n",
            " block3c_se_reduce (Conv2D)     (None, 1, 1, 12)     3468        ['block3c_se_reshape[0][0]']     \n",
            "                                                                                                  \n",
            " block3c_se_expand (Conv2D)     (None, 1, 1, 288)    3744        ['block3c_se_reduce[0][0]']      \n",
            "                                                                                                  \n",
            " block3c_se_excite (Multiply)   (None, 28, 28, 288)  0           ['block3c_activation[0][0]',     \n",
            "                                                                  'block3c_se_expand[0][0]']      \n",
            "                                                                                                  \n",
            " block3c_project_conv (Conv2D)  (None, 28, 28, 48)   13824       ['block3c_se_excite[0][0]']      \n",
            "                                                                                                  \n",
            " block3c_project_bn (BatchNorma  (None, 28, 28, 48)  192         ['block3c_project_conv[0][0]']   \n",
            " lization)                                                                                        \n",
            "                                                                                                  \n",
            " block3c_drop (Dropout)         (None, 28, 28, 48)   0           ['block3c_project_bn[0][0]']     \n",
            "                                                                                                  \n",
            " block3c_add (Add)              (None, 28, 28, 48)   0           ['block3c_drop[0][0]',           \n",
            "                                                                  'block3b_add[0][0]']            \n",
            "                                                                                                  \n",
            " block4a_expand_conv (Conv2D)   (None, 28, 28, 288)  13824       ['block3c_add[0][0]']            \n",
            "                                                                                                  \n",
            " block4a_expand_bn (BatchNormal  (None, 28, 28, 288)  1152       ['block4a_expand_conv[0][0]']    \n",
            " ization)                                                                                         \n",
            "                                                                                                  \n",
            " block4a_expand_activation (Act  (None, 28, 28, 288)  0          ['block4a_expand_bn[0][0]']      \n",
            " ivation)                                                                                         \n",
            "                                                                                                  \n",
            " block4a_dwconv_pad (ZeroPaddin  (None, 29, 29, 288)  0          ['block4a_expand_activation[0][0]\n",
            " g2D)                                                            ']                               \n",
            "                                                                                                  \n",
            " block4a_dwconv (DepthwiseConv2  (None, 14, 14, 288)  2592       ['block4a_dwconv_pad[0][0]']     \n",
            " D)                                                                                               \n",
            "                                                                                                  \n",
            " block4a_bn (BatchNormalization  (None, 14, 14, 288)  1152       ['block4a_dwconv[0][0]']         \n",
            " )                                                                                                \n",
            "                                                                                                  \n",
            " block4a_activation (Activation  (None, 14, 14, 288)  0          ['block4a_bn[0][0]']             \n",
            " )                                                                                                \n",
            "                                                                                                  \n",
            " block4a_se_squeeze (GlobalAver  (None, 288)         0           ['block4a_activation[0][0]']     \n",
            " agePooling2D)                                                                                    \n",
            "                                                                                                  \n",
            " block4a_se_reshape (Reshape)   (None, 1, 1, 288)    0           ['block4a_se_squeeze[0][0]']     \n",
            "                                                                                                  \n",
            " block4a_se_reduce (Conv2D)     (None, 1, 1, 12)     3468        ['block4a_se_reshape[0][0]']     \n",
            "                                                                                                  \n",
            " block4a_se_expand (Conv2D)     (None, 1, 1, 288)    3744        ['block4a_se_reduce[0][0]']      \n",
            "                                                                                                  \n",
            " block4a_se_excite (Multiply)   (None, 14, 14, 288)  0           ['block4a_activation[0][0]',     \n",
            "                                                                  'block4a_se_expand[0][0]']      \n",
            "                                                                                                  \n",
            " block4a_project_conv (Conv2D)  (None, 14, 14, 88)   25344       ['block4a_se_excite[0][0]']      \n",
            "                                                                                                  \n",
            " block4a_project_bn (BatchNorma  (None, 14, 14, 88)  352         ['block4a_project_conv[0][0]']   \n",
            " lization)                                                                                        \n",
            "                                                                                                  \n",
            " block4b_expand_conv (Conv2D)   (None, 14, 14, 528)  46464       ['block4a_project_bn[0][0]']     \n",
            "                                                                                                  \n",
            " block4b_expand_bn (BatchNormal  (None, 14, 14, 528)  2112       ['block4b_expand_conv[0][0]']    \n",
            " ization)                                                                                         \n",
            "                                                                                                  \n",
            " block4b_expand_activation (Act  (None, 14, 14, 528)  0          ['block4b_expand_bn[0][0]']      \n",
            " ivation)                                                                                         \n",
            "                                                                                                  \n",
            " block4b_dwconv (DepthwiseConv2  (None, 14, 14, 528)  4752       ['block4b_expand_activation[0][0]\n",
            " D)                                                              ']                               \n",
            "                                                                                                  \n",
            " block4b_bn (BatchNormalization  (None, 14, 14, 528)  2112       ['block4b_dwconv[0][0]']         \n",
            " )                                                                                                \n",
            "                                                                                                  \n",
            " block4b_activation (Activation  (None, 14, 14, 528)  0          ['block4b_bn[0][0]']             \n",
            " )                                                                                                \n",
            "                                                                                                  \n",
            " block4b_se_squeeze (GlobalAver  (None, 528)         0           ['block4b_activation[0][0]']     \n",
            " agePooling2D)                                                                                    \n",
            "                                                                                                  \n",
            " block4b_se_reshape (Reshape)   (None, 1, 1, 528)    0           ['block4b_se_squeeze[0][0]']     \n",
            "                                                                                                  \n",
            " block4b_se_reduce (Conv2D)     (None, 1, 1, 22)     11638       ['block4b_se_reshape[0][0]']     \n",
            "                                                                                                  \n",
            " block4b_se_expand (Conv2D)     (None, 1, 1, 528)    12144       ['block4b_se_reduce[0][0]']      \n",
            "                                                                                                  \n",
            " block4b_se_excite (Multiply)   (None, 14, 14, 528)  0           ['block4b_activation[0][0]',     \n",
            "                                                                  'block4b_se_expand[0][0]']      \n",
            "                                                                                                  \n",
            " block4b_project_conv (Conv2D)  (None, 14, 14, 88)   46464       ['block4b_se_excite[0][0]']      \n",
            "                                                                                                  \n",
            " block4b_project_bn (BatchNorma  (None, 14, 14, 88)  352         ['block4b_project_conv[0][0]']   \n",
            " lization)                                                                                        \n",
            "                                                                                                  \n",
            " block4b_drop (Dropout)         (None, 14, 14, 88)   0           ['block4b_project_bn[0][0]']     \n",
            "                                                                                                  \n",
            " block4b_add (Add)              (None, 14, 14, 88)   0           ['block4b_drop[0][0]',           \n",
            "                                                                  'block4a_project_bn[0][0]']     \n",
            "                                                                                                  \n",
            " block4c_expand_conv (Conv2D)   (None, 14, 14, 528)  46464       ['block4b_add[0][0]']            \n",
            "                                                                                                  \n",
            " block4c_expand_bn (BatchNormal  (None, 14, 14, 528)  2112       ['block4c_expand_conv[0][0]']    \n",
            " ization)                                                                                         \n",
            "                                                                                                  \n",
            " block4c_expand_activation (Act  (None, 14, 14, 528)  0          ['block4c_expand_bn[0][0]']      \n",
            " ivation)                                                                                         \n",
            "                                                                                                  \n",
            " block4c_dwconv (DepthwiseConv2  (None, 14, 14, 528)  4752       ['block4c_expand_activation[0][0]\n",
            " D)                                                              ']                               \n",
            "                                                                                                  \n",
            " block4c_bn (BatchNormalization  (None, 14, 14, 528)  2112       ['block4c_dwconv[0][0]']         \n",
            " )                                                                                                \n",
            "                                                                                                  \n",
            " block4c_activation (Activation  (None, 14, 14, 528)  0          ['block4c_bn[0][0]']             \n",
            " )                                                                                                \n",
            "                                                                                                  \n",
            " block4c_se_squeeze (GlobalAver  (None, 528)         0           ['block4c_activation[0][0]']     \n",
            " agePooling2D)                                                                                    \n",
            "                                                                                                  \n",
            " block4c_se_reshape (Reshape)   (None, 1, 1, 528)    0           ['block4c_se_squeeze[0][0]']     \n",
            "                                                                                                  \n",
            " block4c_se_reduce (Conv2D)     (None, 1, 1, 22)     11638       ['block4c_se_reshape[0][0]']     \n",
            "                                                                                                  \n",
            " block4c_se_expand (Conv2D)     (None, 1, 1, 528)    12144       ['block4c_se_reduce[0][0]']      \n",
            "                                                                                                  \n",
            " block4c_se_excite (Multiply)   (None, 14, 14, 528)  0           ['block4c_activation[0][0]',     \n",
            "                                                                  'block4c_se_expand[0][0]']      \n",
            "                                                                                                  \n",
            " block4c_project_conv (Conv2D)  (None, 14, 14, 88)   46464       ['block4c_se_excite[0][0]']      \n",
            "                                                                                                  \n",
            " block4c_project_bn (BatchNorma  (None, 14, 14, 88)  352         ['block4c_project_conv[0][0]']   \n",
            " lization)                                                                                        \n",
            "                                                                                                  \n",
            " block4c_drop (Dropout)         (None, 14, 14, 88)   0           ['block4c_project_bn[0][0]']     \n",
            "                                                                                                  \n",
            " block4c_add (Add)              (None, 14, 14, 88)   0           ['block4c_drop[0][0]',           \n",
            "                                                                  'block4b_add[0][0]']            \n",
            "                                                                                                  \n",
            " block4d_expand_conv (Conv2D)   (None, 14, 14, 528)  46464       ['block4c_add[0][0]']            \n",
            "                                                                                                  \n",
            " block4d_expand_bn (BatchNormal  (None, 14, 14, 528)  2112       ['block4d_expand_conv[0][0]']    \n",
            " ization)                                                                                         \n",
            "                                                                                                  \n",
            " block4d_expand_activation (Act  (None, 14, 14, 528)  0          ['block4d_expand_bn[0][0]']      \n",
            " ivation)                                                                                         \n",
            "                                                                                                  \n",
            " block4d_dwconv (DepthwiseConv2  (None, 14, 14, 528)  4752       ['block4d_expand_activation[0][0]\n",
            " D)                                                              ']                               \n",
            "                                                                                                  \n",
            " block4d_bn (BatchNormalization  (None, 14, 14, 528)  2112       ['block4d_dwconv[0][0]']         \n",
            " )                                                                                                \n",
            "                                                                                                  \n",
            " block4d_activation (Activation  (None, 14, 14, 528)  0          ['block4d_bn[0][0]']             \n",
            " )                                                                                                \n",
            "                                                                                                  \n",
            " block4d_se_squeeze (GlobalAver  (None, 528)         0           ['block4d_activation[0][0]']     \n",
            " agePooling2D)                                                                                    \n",
            "                                                                                                  \n",
            " block4d_se_reshape (Reshape)   (None, 1, 1, 528)    0           ['block4d_se_squeeze[0][0]']     \n",
            "                                                                                                  \n",
            " block4d_se_reduce (Conv2D)     (None, 1, 1, 22)     11638       ['block4d_se_reshape[0][0]']     \n",
            "                                                                                                  \n",
            " block4d_se_expand (Conv2D)     (None, 1, 1, 528)    12144       ['block4d_se_reduce[0][0]']      \n",
            "                                                                                                  \n",
            " block4d_se_excite (Multiply)   (None, 14, 14, 528)  0           ['block4d_activation[0][0]',     \n",
            "                                                                  'block4d_se_expand[0][0]']      \n",
            "                                                                                                  \n",
            " block4d_project_conv (Conv2D)  (None, 14, 14, 88)   46464       ['block4d_se_excite[0][0]']      \n",
            "                                                                                                  \n",
            " block4d_project_bn (BatchNorma  (None, 14, 14, 88)  352         ['block4d_project_conv[0][0]']   \n",
            " lization)                                                                                        \n",
            "                                                                                                  \n",
            " block4d_drop (Dropout)         (None, 14, 14, 88)   0           ['block4d_project_bn[0][0]']     \n",
            "                                                                                                  \n",
            " block4d_add (Add)              (None, 14, 14, 88)   0           ['block4d_drop[0][0]',           \n",
            "                                                                  'block4c_add[0][0]']            \n",
            "                                                                                                  \n",
            " block5a_expand_conv (Conv2D)   (None, 14, 14, 528)  46464       ['block4d_add[0][0]']            \n",
            "                                                                                                  \n",
            " block5a_expand_bn (BatchNormal  (None, 14, 14, 528)  2112       ['block5a_expand_conv[0][0]']    \n",
            " ization)                                                                                         \n",
            "                                                                                                  \n",
            " block5a_expand_activation (Act  (None, 14, 14, 528)  0          ['block5a_expand_bn[0][0]']      \n",
            " ivation)                                                                                         \n",
            "                                                                                                  \n",
            " block5a_dwconv (DepthwiseConv2  (None, 14, 14, 528)  13200      ['block5a_expand_activation[0][0]\n",
            " D)                                                              ']                               \n",
            "                                                                                                  \n",
            " block5a_bn (BatchNormalization  (None, 14, 14, 528)  2112       ['block5a_dwconv[0][0]']         \n",
            " )                                                                                                \n",
            "                                                                                                  \n",
            " block5a_activation (Activation  (None, 14, 14, 528)  0          ['block5a_bn[0][0]']             \n",
            " )                                                                                                \n",
            "                                                                                                  \n",
            " block5a_se_squeeze (GlobalAver  (None, 528)         0           ['block5a_activation[0][0]']     \n",
            " agePooling2D)                                                                                    \n",
            "                                                                                                  \n",
            " block5a_se_reshape (Reshape)   (None, 1, 1, 528)    0           ['block5a_se_squeeze[0][0]']     \n",
            "                                                                                                  \n",
            " block5a_se_reduce (Conv2D)     (None, 1, 1, 22)     11638       ['block5a_se_reshape[0][0]']     \n",
            "                                                                                                  \n",
            " block5a_se_expand (Conv2D)     (None, 1, 1, 528)    12144       ['block5a_se_reduce[0][0]']      \n",
            "                                                                                                  \n",
            " block5a_se_excite (Multiply)   (None, 14, 14, 528)  0           ['block5a_activation[0][0]',     \n",
            "                                                                  'block5a_se_expand[0][0]']      \n",
            "                                                                                                  \n",
            " block5a_project_conv (Conv2D)  (None, 14, 14, 120)  63360       ['block5a_se_excite[0][0]']      \n",
            "                                                                                                  \n",
            " block5a_project_bn (BatchNorma  (None, 14, 14, 120)  480        ['block5a_project_conv[0][0]']   \n",
            " lization)                                                                                        \n",
            "                                                                                                  \n",
            " block5b_expand_conv (Conv2D)   (None, 14, 14, 720)  86400       ['block5a_project_bn[0][0]']     \n",
            "                                                                                                  \n",
            " block5b_expand_bn (BatchNormal  (None, 14, 14, 720)  2880       ['block5b_expand_conv[0][0]']    \n",
            " ization)                                                                                         \n",
            "                                                                                                  \n",
            " block5b_expand_activation (Act  (None, 14, 14, 720)  0          ['block5b_expand_bn[0][0]']      \n",
            " ivation)                                                                                         \n",
            "                                                                                                  \n",
            " block5b_dwconv (DepthwiseConv2  (None, 14, 14, 720)  18000      ['block5b_expand_activation[0][0]\n",
            " D)                                                              ']                               \n",
            "                                                                                                  \n",
            " block5b_bn (BatchNormalization  (None, 14, 14, 720)  2880       ['block5b_dwconv[0][0]']         \n",
            " )                                                                                                \n",
            "                                                                                                  \n",
            " block5b_activation (Activation  (None, 14, 14, 720)  0          ['block5b_bn[0][0]']             \n",
            " )                                                                                                \n",
            "                                                                                                  \n",
            " block5b_se_squeeze (GlobalAver  (None, 720)         0           ['block5b_activation[0][0]']     \n",
            " agePooling2D)                                                                                    \n",
            "                                                                                                  \n",
            " block5b_se_reshape (Reshape)   (None, 1, 1, 720)    0           ['block5b_se_squeeze[0][0]']     \n",
            "                                                                                                  \n",
            " block5b_se_reduce (Conv2D)     (None, 1, 1, 30)     21630       ['block5b_se_reshape[0][0]']     \n",
            "                                                                                                  \n",
            " block5b_se_expand (Conv2D)     (None, 1, 1, 720)    22320       ['block5b_se_reduce[0][0]']      \n",
            "                                                                                                  \n",
            " block5b_se_excite (Multiply)   (None, 14, 14, 720)  0           ['block5b_activation[0][0]',     \n",
            "                                                                  'block5b_se_expand[0][0]']      \n",
            "                                                                                                  \n",
            " block5b_project_conv (Conv2D)  (None, 14, 14, 120)  86400       ['block5b_se_excite[0][0]']      \n",
            "                                                                                                  \n",
            " block5b_project_bn (BatchNorma  (None, 14, 14, 120)  480        ['block5b_project_conv[0][0]']   \n",
            " lization)                                                                                        \n",
            "                                                                                                  \n",
            " block5b_drop (Dropout)         (None, 14, 14, 120)  0           ['block5b_project_bn[0][0]']     \n",
            "                                                                                                  \n",
            " block5b_add (Add)              (None, 14, 14, 120)  0           ['block5b_drop[0][0]',           \n",
            "                                                                  'block5a_project_bn[0][0]']     \n",
            "                                                                                                  \n",
            " block5c_expand_conv (Conv2D)   (None, 14, 14, 720)  86400       ['block5b_add[0][0]']            \n",
            "                                                                                                  \n",
            " block5c_expand_bn (BatchNormal  (None, 14, 14, 720)  2880       ['block5c_expand_conv[0][0]']    \n",
            " ization)                                                                                         \n",
            "                                                                                                  \n",
            " block5c_expand_activation (Act  (None, 14, 14, 720)  0          ['block5c_expand_bn[0][0]']      \n",
            " ivation)                                                                                         \n",
            "                                                                                                  \n",
            " block5c_dwconv (DepthwiseConv2  (None, 14, 14, 720)  18000      ['block5c_expand_activation[0][0]\n",
            " D)                                                              ']                               \n",
            "                                                                                                  \n",
            " block5c_bn (BatchNormalization  (None, 14, 14, 720)  2880       ['block5c_dwconv[0][0]']         \n",
            " )                                                                                                \n",
            "                                                                                                  \n",
            " block5c_activation (Activation  (None, 14, 14, 720)  0          ['block5c_bn[0][0]']             \n",
            " )                                                                                                \n",
            "                                                                                                  \n",
            " block5c_se_squeeze (GlobalAver  (None, 720)         0           ['block5c_activation[0][0]']     \n",
            " agePooling2D)                                                                                    \n",
            "                                                                                                  \n",
            " block5c_se_reshape (Reshape)   (None, 1, 1, 720)    0           ['block5c_se_squeeze[0][0]']     \n",
            "                                                                                                  \n",
            " block5c_se_reduce (Conv2D)     (None, 1, 1, 30)     21630       ['block5c_se_reshape[0][0]']     \n",
            "                                                                                                  \n",
            " block5c_se_expand (Conv2D)     (None, 1, 1, 720)    22320       ['block5c_se_reduce[0][0]']      \n",
            "                                                                                                  \n",
            " block5c_se_excite (Multiply)   (None, 14, 14, 720)  0           ['block5c_activation[0][0]',     \n",
            "                                                                  'block5c_se_expand[0][0]']      \n",
            "                                                                                                  \n",
            " block5c_project_conv (Conv2D)  (None, 14, 14, 120)  86400       ['block5c_se_excite[0][0]']      \n",
            "                                                                                                  \n",
            " block5c_project_bn (BatchNorma  (None, 14, 14, 120)  480        ['block5c_project_conv[0][0]']   \n",
            " lization)                                                                                        \n",
            "                                                                                                  \n",
            " block5c_drop (Dropout)         (None, 14, 14, 120)  0           ['block5c_project_bn[0][0]']     \n",
            "                                                                                                  \n",
            " block5c_add (Add)              (None, 14, 14, 120)  0           ['block5c_drop[0][0]',           \n",
            "                                                                  'block5b_add[0][0]']            \n",
            "                                                                                                  \n",
            " block5d_expand_conv (Conv2D)   (None, 14, 14, 720)  86400       ['block5c_add[0][0]']            \n",
            "                                                                                                  \n",
            " block5d_expand_bn (BatchNormal  (None, 14, 14, 720)  2880       ['block5d_expand_conv[0][0]']    \n",
            " ization)                                                                                         \n",
            "                                                                                                  \n",
            " block5d_expand_activation (Act  (None, 14, 14, 720)  0          ['block5d_expand_bn[0][0]']      \n",
            " ivation)                                                                                         \n",
            "                                                                                                  \n",
            " block5d_dwconv (DepthwiseConv2  (None, 14, 14, 720)  18000      ['block5d_expand_activation[0][0]\n",
            " D)                                                              ']                               \n",
            "                                                                                                  \n",
            " block5d_bn (BatchNormalization  (None, 14, 14, 720)  2880       ['block5d_dwconv[0][0]']         \n",
            " )                                                                                                \n",
            "                                                                                                  \n",
            " block5d_activation (Activation  (None, 14, 14, 720)  0          ['block5d_bn[0][0]']             \n",
            " )                                                                                                \n",
            "                                                                                                  \n",
            " block5d_se_squeeze (GlobalAver  (None, 720)         0           ['block5d_activation[0][0]']     \n",
            " agePooling2D)                                                                                    \n",
            "                                                                                                  \n",
            " block5d_se_reshape (Reshape)   (None, 1, 1, 720)    0           ['block5d_se_squeeze[0][0]']     \n",
            "                                                                                                  \n",
            " block5d_se_reduce (Conv2D)     (None, 1, 1, 30)     21630       ['block5d_se_reshape[0][0]']     \n",
            "                                                                                                  \n",
            " block5d_se_expand (Conv2D)     (None, 1, 1, 720)    22320       ['block5d_se_reduce[0][0]']      \n",
            "                                                                                                  \n",
            " block5d_se_excite (Multiply)   (None, 14, 14, 720)  0           ['block5d_activation[0][0]',     \n",
            "                                                                  'block5d_se_expand[0][0]']      \n",
            "                                                                                                  \n",
            " block5d_project_conv (Conv2D)  (None, 14, 14, 120)  86400       ['block5d_se_excite[0][0]']      \n",
            "                                                                                                  \n",
            " block5d_project_bn (BatchNorma  (None, 14, 14, 120)  480        ['block5d_project_conv[0][0]']   \n",
            " lization)                                                                                        \n",
            "                                                                                                  \n",
            " block5d_drop (Dropout)         (None, 14, 14, 120)  0           ['block5d_project_bn[0][0]']     \n",
            "                                                                                                  \n",
            " block5d_add (Add)              (None, 14, 14, 120)  0           ['block5d_drop[0][0]',           \n",
            "                                                                  'block5c_add[0][0]']            \n",
            "                                                                                                  \n",
            " block6a_expand_conv (Conv2D)   (None, 14, 14, 720)  86400       ['block5d_add[0][0]']            \n",
            "                                                                                                  \n",
            " block6a_expand_bn (BatchNormal  (None, 14, 14, 720)  2880       ['block6a_expand_conv[0][0]']    \n",
            " ization)                                                                                         \n",
            "                                                                                                  \n",
            " block6a_expand_activation (Act  (None, 14, 14, 720)  0          ['block6a_expand_bn[0][0]']      \n",
            " ivation)                                                                                         \n",
            "                                                                                                  \n",
            " block6a_dwconv_pad (ZeroPaddin  (None, 17, 17, 720)  0          ['block6a_expand_activation[0][0]\n",
            " g2D)                                                            ']                               \n",
            "                                                                                                  \n",
            " block6a_dwconv (DepthwiseConv2  (None, 7, 7, 720)   18000       ['block6a_dwconv_pad[0][0]']     \n",
            " D)                                                                                               \n",
            "                                                                                                  \n",
            " block6a_bn (BatchNormalization  (None, 7, 7, 720)   2880        ['block6a_dwconv[0][0]']         \n",
            " )                                                                                                \n",
            "                                                                                                  \n",
            " block6a_activation (Activation  (None, 7, 7, 720)   0           ['block6a_bn[0][0]']             \n",
            " )                                                                                                \n",
            "                                                                                                  \n",
            " block6a_se_squeeze (GlobalAver  (None, 720)         0           ['block6a_activation[0][0]']     \n",
            " agePooling2D)                                                                                    \n",
            "                                                                                                  \n",
            " block6a_se_reshape (Reshape)   (None, 1, 1, 720)    0           ['block6a_se_squeeze[0][0]']     \n",
            "                                                                                                  \n",
            " block6a_se_reduce (Conv2D)     (None, 1, 1, 30)     21630       ['block6a_se_reshape[0][0]']     \n",
            "                                                                                                  \n",
            " block6a_se_expand (Conv2D)     (None, 1, 1, 720)    22320       ['block6a_se_reduce[0][0]']      \n",
            "                                                                                                  \n",
            " block6a_se_excite (Multiply)   (None, 7, 7, 720)    0           ['block6a_activation[0][0]',     \n",
            "                                                                  'block6a_se_expand[0][0]']      \n",
            "                                                                                                  \n",
            " block6a_project_conv (Conv2D)  (None, 7, 7, 208)    149760      ['block6a_se_excite[0][0]']      \n",
            "                                                                                                  \n",
            " block6a_project_bn (BatchNorma  (None, 7, 7, 208)   832         ['block6a_project_conv[0][0]']   \n",
            " lization)                                                                                        \n",
            "                                                                                                  \n",
            " block6b_expand_conv (Conv2D)   (None, 7, 7, 1248)   259584      ['block6a_project_bn[0][0]']     \n",
            "                                                                                                  \n",
            " block6b_expand_bn (BatchNormal  (None, 7, 7, 1248)  4992        ['block6b_expand_conv[0][0]']    \n",
            " ization)                                                                                         \n",
            "                                                                                                  \n",
            " block6b_expand_activation (Act  (None, 7, 7, 1248)  0           ['block6b_expand_bn[0][0]']      \n",
            " ivation)                                                                                         \n",
            "                                                                                                  \n",
            " block6b_dwconv (DepthwiseConv2  (None, 7, 7, 1248)  31200       ['block6b_expand_activation[0][0]\n",
            " D)                                                              ']                               \n",
            "                                                                                                  \n",
            " block6b_bn (BatchNormalization  (None, 7, 7, 1248)  4992        ['block6b_dwconv[0][0]']         \n",
            " )                                                                                                \n",
            "                                                                                                  \n",
            " block6b_activation (Activation  (None, 7, 7, 1248)  0           ['block6b_bn[0][0]']             \n",
            " )                                                                                                \n",
            "                                                                                                  \n",
            " block6b_se_squeeze (GlobalAver  (None, 1248)        0           ['block6b_activation[0][0]']     \n",
            " agePooling2D)                                                                                    \n",
            "                                                                                                  \n",
            " block6b_se_reshape (Reshape)   (None, 1, 1, 1248)   0           ['block6b_se_squeeze[0][0]']     \n",
            "                                                                                                  \n",
            " block6b_se_reduce (Conv2D)     (None, 1, 1, 52)     64948       ['block6b_se_reshape[0][0]']     \n",
            "                                                                                                  \n",
            " block6b_se_expand (Conv2D)     (None, 1, 1, 1248)   66144       ['block6b_se_reduce[0][0]']      \n",
            "                                                                                                  \n",
            " block6b_se_excite (Multiply)   (None, 7, 7, 1248)   0           ['block6b_activation[0][0]',     \n",
            "                                                                  'block6b_se_expand[0][0]']      \n",
            "                                                                                                  \n",
            " block6b_project_conv (Conv2D)  (None, 7, 7, 208)    259584      ['block6b_se_excite[0][0]']      \n",
            "                                                                                                  \n",
            " block6b_project_bn (BatchNorma  (None, 7, 7, 208)   832         ['block6b_project_conv[0][0]']   \n",
            " lization)                                                                                        \n",
            "                                                                                                  \n",
            " block6b_drop (Dropout)         (None, 7, 7, 208)    0           ['block6b_project_bn[0][0]']     \n",
            "                                                                                                  \n",
            " block6b_add (Add)              (None, 7, 7, 208)    0           ['block6b_drop[0][0]',           \n",
            "                                                                  'block6a_project_bn[0][0]']     \n",
            "                                                                                                  \n",
            " block6c_expand_conv (Conv2D)   (None, 7, 7, 1248)   259584      ['block6b_add[0][0]']            \n",
            "                                                                                                  \n",
            " block6c_expand_bn (BatchNormal  (None, 7, 7, 1248)  4992        ['block6c_expand_conv[0][0]']    \n",
            " ization)                                                                                         \n",
            "                                                                                                  \n",
            " block6c_expand_activation (Act  (None, 7, 7, 1248)  0           ['block6c_expand_bn[0][0]']      \n",
            " ivation)                                                                                         \n",
            "                                                                                                  \n",
            " block6c_dwconv (DepthwiseConv2  (None, 7, 7, 1248)  31200       ['block6c_expand_activation[0][0]\n",
            " D)                                                              ']                               \n",
            "                                                                                                  \n",
            " block6c_bn (BatchNormalization  (None, 7, 7, 1248)  4992        ['block6c_dwconv[0][0]']         \n",
            " )                                                                                                \n",
            "                                                                                                  \n",
            " block6c_activation (Activation  (None, 7, 7, 1248)  0           ['block6c_bn[0][0]']             \n",
            " )                                                                                                \n",
            "                                                                                                  \n",
            " block6c_se_squeeze (GlobalAver  (None, 1248)        0           ['block6c_activation[0][0]']     \n",
            " agePooling2D)                                                                                    \n",
            "                                                                                                  \n",
            " block6c_se_reshape (Reshape)   (None, 1, 1, 1248)   0           ['block6c_se_squeeze[0][0]']     \n",
            "                                                                                                  \n",
            " block6c_se_reduce (Conv2D)     (None, 1, 1, 52)     64948       ['block6c_se_reshape[0][0]']     \n",
            "                                                                                                  \n",
            " block6c_se_expand (Conv2D)     (None, 1, 1, 1248)   66144       ['block6c_se_reduce[0][0]']      \n",
            "                                                                                                  \n",
            " block6c_se_excite (Multiply)   (None, 7, 7, 1248)   0           ['block6c_activation[0][0]',     \n",
            "                                                                  'block6c_se_expand[0][0]']      \n",
            "                                                                                                  \n",
            " block6c_project_conv (Conv2D)  (None, 7, 7, 208)    259584      ['block6c_se_excite[0][0]']      \n",
            "                                                                                                  \n",
            " block6c_project_bn (BatchNorma  (None, 7, 7, 208)   832         ['block6c_project_conv[0][0]']   \n",
            " lization)                                                                                        \n",
            "                                                                                                  \n",
            " block6c_drop (Dropout)         (None, 7, 7, 208)    0           ['block6c_project_bn[0][0]']     \n",
            "                                                                                                  \n",
            " block6c_add (Add)              (None, 7, 7, 208)    0           ['block6c_drop[0][0]',           \n",
            "                                                                  'block6b_add[0][0]']            \n",
            "                                                                                                  \n",
            " block6d_expand_conv (Conv2D)   (None, 7, 7, 1248)   259584      ['block6c_add[0][0]']            \n",
            "                                                                                                  \n",
            " block6d_expand_bn (BatchNormal  (None, 7, 7, 1248)  4992        ['block6d_expand_conv[0][0]']    \n",
            " ization)                                                                                         \n",
            "                                                                                                  \n",
            " block6d_expand_activation (Act  (None, 7, 7, 1248)  0           ['block6d_expand_bn[0][0]']      \n",
            " ivation)                                                                                         \n",
            "                                                                                                  \n",
            " block6d_dwconv (DepthwiseConv2  (None, 7, 7, 1248)  31200       ['block6d_expand_activation[0][0]\n",
            " D)                                                              ']                               \n",
            "                                                                                                  \n",
            " block6d_bn (BatchNormalization  (None, 7, 7, 1248)  4992        ['block6d_dwconv[0][0]']         \n",
            " )                                                                                                \n",
            "                                                                                                  \n",
            " block6d_activation (Activation  (None, 7, 7, 1248)  0           ['block6d_bn[0][0]']             \n",
            " )                                                                                                \n",
            "                                                                                                  \n",
            " block6d_se_squeeze (GlobalAver  (None, 1248)        0           ['block6d_activation[0][0]']     \n",
            " agePooling2D)                                                                                    \n",
            "                                                                                                  \n",
            " block6d_se_reshape (Reshape)   (None, 1, 1, 1248)   0           ['block6d_se_squeeze[0][0]']     \n",
            "                                                                                                  \n",
            " block6d_se_reduce (Conv2D)     (None, 1, 1, 52)     64948       ['block6d_se_reshape[0][0]']     \n",
            "                                                                                                  \n",
            " block6d_se_expand (Conv2D)     (None, 1, 1, 1248)   66144       ['block6d_se_reduce[0][0]']      \n",
            "                                                                                                  \n",
            " block6d_se_excite (Multiply)   (None, 7, 7, 1248)   0           ['block6d_activation[0][0]',     \n",
            "                                                                  'block6d_se_expand[0][0]']      \n",
            "                                                                                                  \n",
            " block6d_project_conv (Conv2D)  (None, 7, 7, 208)    259584      ['block6d_se_excite[0][0]']      \n",
            "                                                                                                  \n",
            " block6d_project_bn (BatchNorma  (None, 7, 7, 208)   832         ['block6d_project_conv[0][0]']   \n",
            " lization)                                                                                        \n",
            "                                                                                                  \n",
            " block6d_drop (Dropout)         (None, 7, 7, 208)    0           ['block6d_project_bn[0][0]']     \n",
            "                                                                                                  \n",
            " block6d_add (Add)              (None, 7, 7, 208)    0           ['block6d_drop[0][0]',           \n",
            "                                                                  'block6c_add[0][0]']            \n",
            "                                                                                                  \n",
            " block6e_expand_conv (Conv2D)   (None, 7, 7, 1248)   259584      ['block6d_add[0][0]']            \n",
            "                                                                                                  \n",
            " block6e_expand_bn (BatchNormal  (None, 7, 7, 1248)  4992        ['block6e_expand_conv[0][0]']    \n",
            " ization)                                                                                         \n",
            "                                                                                                  \n",
            " block6e_expand_activation (Act  (None, 7, 7, 1248)  0           ['block6e_expand_bn[0][0]']      \n",
            " ivation)                                                                                         \n",
            "                                                                                                  \n",
            " block6e_dwconv (DepthwiseConv2  (None, 7, 7, 1248)  31200       ['block6e_expand_activation[0][0]\n",
            " D)                                                              ']                               \n",
            "                                                                                                  \n",
            " block6e_bn (BatchNormalization  (None, 7, 7, 1248)  4992        ['block6e_dwconv[0][0]']         \n",
            " )                                                                                                \n",
            "                                                                                                  \n",
            " block6e_activation (Activation  (None, 7, 7, 1248)  0           ['block6e_bn[0][0]']             \n",
            " )                                                                                                \n",
            "                                                                                                  \n",
            " block6e_se_squeeze (GlobalAver  (None, 1248)        0           ['block6e_activation[0][0]']     \n",
            " agePooling2D)                                                                                    \n",
            "                                                                                                  \n",
            " block6e_se_reshape (Reshape)   (None, 1, 1, 1248)   0           ['block6e_se_squeeze[0][0]']     \n",
            "                                                                                                  \n",
            " block6e_se_reduce (Conv2D)     (None, 1, 1, 52)     64948       ['block6e_se_reshape[0][0]']     \n",
            "                                                                                                  \n",
            " block6e_se_expand (Conv2D)     (None, 1, 1, 1248)   66144       ['block6e_se_reduce[0][0]']      \n",
            "                                                                                                  \n",
            " block6e_se_excite (Multiply)   (None, 7, 7, 1248)   0           ['block6e_activation[0][0]',     \n",
            "                                                                  'block6e_se_expand[0][0]']      \n",
            "                                                                                                  \n",
            " block6e_project_conv (Conv2D)  (None, 7, 7, 208)    259584      ['block6e_se_excite[0][0]']      \n",
            "                                                                                                  \n",
            " block6e_project_bn (BatchNorma  (None, 7, 7, 208)   832         ['block6e_project_conv[0][0]']   \n",
            " lization)                                                                                        \n",
            "                                                                                                  \n",
            " block6e_drop (Dropout)         (None, 7, 7, 208)    0           ['block6e_project_bn[0][0]']     \n",
            "                                                                                                  \n",
            " block6e_add (Add)              (None, 7, 7, 208)    0           ['block6e_drop[0][0]',           \n",
            "                                                                  'block6d_add[0][0]']            \n",
            "                                                                                                  \n",
            " block7a_expand_conv (Conv2D)   (None, 7, 7, 1248)   259584      ['block6e_add[0][0]']            \n",
            "                                                                                                  \n",
            " block7a_expand_bn (BatchNormal  (None, 7, 7, 1248)  4992        ['block7a_expand_conv[0][0]']    \n",
            " ization)                                                                                         \n",
            "                                                                                                  \n",
            " block7a_expand_activation (Act  (None, 7, 7, 1248)  0           ['block7a_expand_bn[0][0]']      \n",
            " ivation)                                                                                         \n",
            "                                                                                                  \n",
            " block7a_dwconv (DepthwiseConv2  (None, 7, 7, 1248)  11232       ['block7a_expand_activation[0][0]\n",
            " D)                                                              ']                               \n",
            "                                                                                                  \n",
            " block7a_bn (BatchNormalization  (None, 7, 7, 1248)  4992        ['block7a_dwconv[0][0]']         \n",
            " )                                                                                                \n",
            "                                                                                                  \n",
            " block7a_activation (Activation  (None, 7, 7, 1248)  0           ['block7a_bn[0][0]']             \n",
            " )                                                                                                \n",
            "                                                                                                  \n",
            " block7a_se_squeeze (GlobalAver  (None, 1248)        0           ['block7a_activation[0][0]']     \n",
            " agePooling2D)                                                                                    \n",
            "                                                                                                  \n",
            " block7a_se_reshape (Reshape)   (None, 1, 1, 1248)   0           ['block7a_se_squeeze[0][0]']     \n",
            "                                                                                                  \n",
            " block7a_se_reduce (Conv2D)     (None, 1, 1, 52)     64948       ['block7a_se_reshape[0][0]']     \n",
            "                                                                                                  \n",
            " block7a_se_expand (Conv2D)     (None, 1, 1, 1248)   66144       ['block7a_se_reduce[0][0]']      \n",
            "                                                                                                  \n",
            " block7a_se_excite (Multiply)   (None, 7, 7, 1248)   0           ['block7a_activation[0][0]',     \n",
            "                                                                  'block7a_se_expand[0][0]']      \n",
            "                                                                                                  \n",
            " block7a_project_conv (Conv2D)  (None, 7, 7, 352)    439296      ['block7a_se_excite[0][0]']      \n",
            "                                                                                                  \n",
            " block7a_project_bn (BatchNorma  (None, 7, 7, 352)   1408        ['block7a_project_conv[0][0]']   \n",
            " lization)                                                                                        \n",
            "                                                                                                  \n",
            " block7b_expand_conv (Conv2D)   (None, 7, 7, 2112)   743424      ['block7a_project_bn[0][0]']     \n",
            "                                                                                                  \n",
            " block7b_expand_bn (BatchNormal  (None, 7, 7, 2112)  8448        ['block7b_expand_conv[0][0]']    \n",
            " ization)                                                                                         \n",
            "                                                                                                  \n",
            " block7b_expand_activation (Act  (None, 7, 7, 2112)  0           ['block7b_expand_bn[0][0]']      \n",
            " ivation)                                                                                         \n",
            "                                                                                                  \n",
            " block7b_dwconv (DepthwiseConv2  (None, 7, 7, 2112)  19008       ['block7b_expand_activation[0][0]\n",
            " D)                                                              ']                               \n",
            "                                                                                                  \n",
            " block7b_bn (BatchNormalization  (None, 7, 7, 2112)  8448        ['block7b_dwconv[0][0]']         \n",
            " )                                                                                                \n",
            "                                                                                                  \n",
            " block7b_activation (Activation  (None, 7, 7, 2112)  0           ['block7b_bn[0][0]']             \n",
            " )                                                                                                \n",
            "                                                                                                  \n",
            " block7b_se_squeeze (GlobalAver  (None, 2112)        0           ['block7b_activation[0][0]']     \n",
            " agePooling2D)                                                                                    \n",
            "                                                                                                  \n",
            " block7b_se_reshape (Reshape)   (None, 1, 1, 2112)   0           ['block7b_se_squeeze[0][0]']     \n",
            "                                                                                                  \n",
            " block7b_se_reduce (Conv2D)     (None, 1, 1, 88)     185944      ['block7b_se_reshape[0][0]']     \n",
            "                                                                                                  \n",
            " block7b_se_expand (Conv2D)     (None, 1, 1, 2112)   187968      ['block7b_se_reduce[0][0]']      \n",
            "                                                                                                  \n",
            " block7b_se_excite (Multiply)   (None, 7, 7, 2112)   0           ['block7b_activation[0][0]',     \n",
            "                                                                  'block7b_se_expand[0][0]']      \n",
            "                                                                                                  \n",
            " block7b_project_conv (Conv2D)  (None, 7, 7, 352)    743424      ['block7b_se_excite[0][0]']      \n",
            "                                                                                                  \n",
            " block7b_project_bn (BatchNorma  (None, 7, 7, 352)   1408        ['block7b_project_conv[0][0]']   \n",
            " lization)                                                                                        \n",
            "                                                                                                  \n",
            " block7b_drop (Dropout)         (None, 7, 7, 352)    0           ['block7b_project_bn[0][0]']     \n",
            "                                                                                                  \n",
            " block7b_add (Add)              (None, 7, 7, 352)    0           ['block7b_drop[0][0]',           \n",
            "                                                                  'block7a_project_bn[0][0]']     \n",
            "                                                                                                  \n",
            " top_conv (Conv2D)              (None, 7, 7, 1408)   495616      ['block7b_add[0][0]']            \n",
            "                                                                                                  \n",
            " top_bn (BatchNormalization)    (None, 7, 7, 1408)   5632        ['top_conv[0][0]']               \n",
            "                                                                                                  \n",
            " top_activation (Activation)    (None, 7, 7, 1408)   0           ['top_bn[0][0]']                 \n",
            "                                                                                                  \n",
            " global_average_pooling2d (Glob  (None, 1408)        0           ['top_activation[0][0]']         \n",
            " alAveragePooling2D)                                                                              \n",
            "                                                                                                  \n",
            " dense (Dense)                  (None, 512)          721408      ['global_average_pooling2d[0][0]'\n",
            "                                                                 ]                                \n",
            "                                                                                                  \n",
            " activation (Activation)        (None, 512)          0           ['dense[0][0]']                  \n",
            "                                                                                                  \n",
            " dense_1 (Dense)                (None, 256)          131328      ['activation[0][0]']             \n",
            "                                                                                                  \n",
            " activation_1 (Activation)      (None, 256)          0           ['dense_1[0][0]']                \n",
            "                                                                                                  \n",
            " dense_2 (Dense)                (None, 128)          32896       ['activation_1[0][0]']           \n",
            "                                                                                                  \n",
            " unit_norm_layer (UnitNormLayer  (None, 128)         0           ['dense_2[0][0]']                \n",
            " )                                                                                                \n",
            "                                                                                                  \n",
            "==================================================================================================\n",
            "Total params: 8,654,201\n",
            "Trainable params: 8,586,626\n",
            "Non-trainable params: 67,575\n",
            "__________________________________________________________________________________________________\n"
          ]
        }
      ]
    },
    {
      "cell_type": "code",
      "source": [
        "train_loss_cl = tf.keras.metrics.Mean(name='train_loss')\n",
        "test_loss_cl = tf.keras.metrics.Mean(name='test_loss')"
      ],
      "metadata": {
        "id": "W6btxiJGkbf5"
      },
      "execution_count": null,
      "outputs": []
    },
    {
      "cell_type": "code",
      "source": [
        "@tf.function\n",
        "\n",
        "def train_step_contrastive(x, y):\n",
        "    '''\n",
        "    x: data tensor, shape: (batch_size, data_dim)\n",
        "    y: data labels, shape: (batch_size, )\n",
        "    '''\n",
        "    with tf.GradientTape() as tape:\n",
        "        r = model(x, training=True)\n",
        "        loss = max_margin_contrastive_loss(r, y, margin=1.0, metric='euclidean')\n",
        "\n",
        "    gradients = tape.gradient(loss, model.trainable_variables)\n",
        "    encoder_optimizer.apply_gradients(zip(gradients, model.trainable_variables))\n",
        "    train_loss_cl(loss)"
      ],
      "metadata": {
        "id": "yqS9oQ8mJ_ln"
      },
      "execution_count": null,
      "outputs": []
    },
    {
      "cell_type": "code",
      "source": [
        "@tf.function\n",
        "def test_step_contrastive(x, y):\n",
        "    r = model(x, training=False)\n",
        "    t_loss = max_margin_contrastive_loss(r, y, margin=1.0, metric='euclidean')\n",
        "    test_loss_cl(t_loss)"
      ],
      "metadata": {
        "id": "soF8eeKBku4_"
      },
      "execution_count": null,
      "outputs": []
    },
    {
      "cell_type": "code",
      "source": [
        "#Encoder training\n",
        "train_loss_dict = {}\n",
        "test_loss_dict = {}\n",
        "\n",
        "for epoch in range(EPOCHS):\n",
        "    # Reset the metrics at the start of the next epoch\n",
        "    train_loss_cl.reset_states()\n",
        "    test_loss_cl.reset_states()\n",
        "\n",
        "    for x, y in tqdm(train_ds):\n",
        "        train_step_contrastive(x, y)\n",
        "\n",
        "    for x_te, y_te in test_ds:\n",
        "        test_step_contrastive(x_te, y_te)\n",
        "\n",
        "    template = 'Epoch {}, Training Loss: {}, Test Loss: {}'\n",
        "    print(template.format(epoch + 1,train_loss_cl.result(),test_loss_cl.result()))\n",
        "    train_loss_dict[epoch] = train_loss_cl.result().numpy()*100\n",
        "    test_loss_dict[epoch] = test_loss_cl.result().numpy()*100"
      ],
      "metadata": {
        "colab": {
          "base_uri": "https://localhost:8080/"
        },
        "id": "EImXicWRk9CH",
        "outputId": "9420ceab-34d7-43a0-9367-ac9e86c691e5"
      },
      "execution_count": null,
      "outputs": [
        {
          "metadata": {
            "tags": null
          },
          "name": "stderr",
          "output_type": "stream",
          "text": [
            "100%|██████████| 134/134 [02:52<00:00,  1.29s/it]\n"
          ]
        },
        {
          "metadata": {
            "tags": null
          },
          "name": "stdout",
          "output_type": "stream",
          "text": [
            "Epoch 1, Training Loss: 0.08236506581306458, Test Loss: 0.9165855050086975\n"
          ]
        },
        {
          "metadata": {
            "tags": null
          },
          "name": "stderr",
          "output_type": "stream",
          "text": [
            "100%|██████████| 134/134 [01:36<00:00,  1.39it/s]\n"
          ]
        },
        {
          "metadata": {
            "tags": null
          },
          "name": "stdout",
          "output_type": "stream",
          "text": [
            "Epoch 2, Training Loss: 0.07709892839193344, Test Loss: 0.8624257445335388\n"
          ]
        },
        {
          "metadata": {
            "tags": null
          },
          "name": "stderr",
          "output_type": "stream",
          "text": [
            "100%|██████████| 134/134 [01:35<00:00,  1.40it/s]\n"
          ]
        },
        {
          "metadata": {
            "tags": null
          },
          "name": "stdout",
          "output_type": "stream",
          "text": [
            "Epoch 3, Training Loss: 0.0763455256819725, Test Loss: 0.6407353281974792\n"
          ]
        },
        {
          "metadata": {
            "tags": null
          },
          "name": "stderr",
          "output_type": "stream",
          "text": [
            "100%|██████████| 134/134 [01:35<00:00,  1.40it/s]\n"
          ]
        },
        {
          "metadata": {
            "tags": null
          },
          "name": "stdout",
          "output_type": "stream",
          "text": [
            "Epoch 4, Training Loss: 0.07521526515483856, Test Loss: 0.20096245408058167\n"
          ]
        },
        {
          "metadata": {
            "tags": null
          },
          "name": "stderr",
          "output_type": "stream",
          "text": [
            "100%|██████████| 134/134 [01:35<00:00,  1.40it/s]\n"
          ]
        },
        {
          "metadata": {
            "tags": null
          },
          "name": "stdout",
          "output_type": "stream",
          "text": [
            "Epoch 5, Training Loss: 0.07430174946784973, Test Loss: 0.093907430768013\n"
          ]
        },
        {
          "metadata": {
            "tags": null
          },
          "name": "stderr",
          "output_type": "stream",
          "text": [
            "100%|██████████| 134/134 [01:35<00:00,  1.40it/s]\n"
          ]
        },
        {
          "metadata": {
            "tags": null
          },
          "name": "stdout",
          "output_type": "stream",
          "text": [
            "Epoch 6, Training Loss: 0.07259578257799149, Test Loss: 0.08230134099721909\n"
          ]
        },
        {
          "metadata": {
            "tags": null
          },
          "name": "stderr",
          "output_type": "stream",
          "text": [
            "100%|██████████| 134/134 [01:36<00:00,  1.40it/s]\n"
          ]
        },
        {
          "metadata": {
            "tags": null
          },
          "name": "stdout",
          "output_type": "stream",
          "text": [
            "Epoch 7, Training Loss: 0.07130539417266846, Test Loss: 0.07752200216054916\n"
          ]
        },
        {
          "metadata": {
            "tags": null
          },
          "name": "stderr",
          "output_type": "stream",
          "text": [
            "100%|██████████| 134/134 [01:35<00:00,  1.40it/s]\n"
          ]
        },
        {
          "metadata": {
            "tags": null
          },
          "name": "stdout",
          "output_type": "stream",
          "text": [
            "Epoch 8, Training Loss: 0.06974155455827713, Test Loss: 0.07671671360731125\n"
          ]
        },
        {
          "metadata": {
            "tags": null
          },
          "name": "stderr",
          "output_type": "stream",
          "text": [
            "100%|██████████| 134/134 [01:35<00:00,  1.40it/s]\n"
          ]
        },
        {
          "metadata": {
            "tags": null
          },
          "name": "stdout",
          "output_type": "stream",
          "text": [
            "Epoch 9, Training Loss: 0.07004222273826599, Test Loss: 0.07428990304470062\n"
          ]
        },
        {
          "metadata": {
            "tags": null
          },
          "name": "stderr",
          "output_type": "stream",
          "text": [
            "100%|██████████| 134/134 [01:35<00:00,  1.40it/s]\n"
          ]
        },
        {
          "metadata": {
            "tags": null
          },
          "name": "stdout",
          "output_type": "stream",
          "text": [
            "Epoch 10, Training Loss: 0.06805800646543503, Test Loss: 0.0735817477107048\n"
          ]
        },
        {
          "metadata": {
            "tags": null
          },
          "name": "stderr",
          "output_type": "stream",
          "text": [
            "100%|██████████| 134/134 [01:35<00:00,  1.40it/s]\n"
          ]
        },
        {
          "metadata": {
            "tags": null
          },
          "name": "stdout",
          "output_type": "stream",
          "text": [
            "Epoch 11, Training Loss: 0.06857297569513321, Test Loss: 0.07406403869390488\n"
          ]
        },
        {
          "metadata": {
            "tags": null
          },
          "name": "stderr",
          "output_type": "stream",
          "text": [
            "100%|██████████| 134/134 [01:36<00:00,  1.40it/s]\n"
          ]
        },
        {
          "metadata": {
            "tags": null
          },
          "name": "stdout",
          "output_type": "stream",
          "text": [
            "Epoch 12, Training Loss: 0.06774815917015076, Test Loss: 0.0733223631978035\n"
          ]
        },
        {
          "metadata": {
            "tags": null
          },
          "name": "stderr",
          "output_type": "stream",
          "text": [
            "100%|██████████| 134/134 [01:35<00:00,  1.40it/s]\n"
          ]
        },
        {
          "metadata": {
            "tags": null
          },
          "name": "stdout",
          "output_type": "stream",
          "text": [
            "Epoch 13, Training Loss: 0.06598366051912308, Test Loss: 0.07142506539821625\n"
          ]
        },
        {
          "metadata": {
            "tags": null
          },
          "name": "stderr",
          "output_type": "stream",
          "text": [
            "100%|██████████| 134/134 [01:35<00:00,  1.40it/s]\n"
          ]
        },
        {
          "metadata": {
            "tags": null
          },
          "name": "stdout",
          "output_type": "stream",
          "text": [
            "Epoch 14, Training Loss: 0.06648280471563339, Test Loss: 0.07002916187047958\n"
          ]
        },
        {
          "metadata": {
            "tags": null
          },
          "name": "stderr",
          "output_type": "stream",
          "text": [
            "100%|██████████| 134/134 [01:35<00:00,  1.40it/s]\n"
          ]
        },
        {
          "metadata": {
            "tags": null
          },
          "name": "stdout",
          "output_type": "stream",
          "text": [
            "Epoch 15, Training Loss: 0.06687811017036438, Test Loss: 0.06966588646173477\n"
          ]
        },
        {
          "metadata": {
            "tags": null
          },
          "name": "stderr",
          "output_type": "stream",
          "text": [
            "100%|██████████| 134/134 [01:35<00:00,  1.40it/s]\n"
          ]
        },
        {
          "metadata": {
            "tags": null
          },
          "name": "stdout",
          "output_type": "stream",
          "text": [
            "Epoch 16, Training Loss: 0.06593794375658035, Test Loss: 0.06933820247650146\n"
          ]
        },
        {
          "metadata": {
            "tags": null
          },
          "name": "stderr",
          "output_type": "stream",
          "text": [
            "100%|██████████| 134/134 [01:35<00:00,  1.40it/s]\n"
          ]
        },
        {
          "metadata": {
            "tags": null
          },
          "name": "stdout",
          "output_type": "stream",
          "text": [
            "Epoch 17, Training Loss: 0.0654941201210022, Test Loss: 0.06672689318656921\n"
          ]
        },
        {
          "metadata": {
            "tags": null
          },
          "name": "stderr",
          "output_type": "stream",
          "text": [
            "100%|██████████| 134/134 [01:35<00:00,  1.40it/s]\n"
          ]
        },
        {
          "metadata": {
            "tags": null
          },
          "name": "stdout",
          "output_type": "stream",
          "text": [
            "Epoch 18, Training Loss: 0.06588422507047653, Test Loss: 0.06686434894800186\n"
          ]
        },
        {
          "metadata": {
            "tags": null
          },
          "name": "stderr",
          "output_type": "stream",
          "text": [
            "100%|██████████| 134/134 [01:35<00:00,  1.40it/s]\n"
          ]
        },
        {
          "metadata": {
            "tags": null
          },
          "name": "stdout",
          "output_type": "stream",
          "text": [
            "Epoch 19, Training Loss: 0.06540845334529877, Test Loss: 0.06773389130830765\n"
          ]
        },
        {
          "metadata": {
            "tags": null
          },
          "name": "stderr",
          "output_type": "stream",
          "text": [
            "100%|██████████| 134/134 [01:36<00:00,  1.40it/s]\n"
          ]
        },
        {
          "metadata": {
            "tags": null
          },
          "name": "stdout",
          "output_type": "stream",
          "text": [
            "Epoch 20, Training Loss: 0.0635012537240982, Test Loss: 0.06539608538150787\n"
          ]
        },
        {
          "metadata": {
            "tags": null
          },
          "name": "stderr",
          "output_type": "stream",
          "text": [
            "100%|██████████| 134/134 [01:36<00:00,  1.40it/s]\n"
          ]
        },
        {
          "metadata": {
            "tags": null
          },
          "name": "stdout",
          "output_type": "stream",
          "text": [
            "Epoch 21, Training Loss: 0.06419015675783157, Test Loss: 0.06445609033107758\n"
          ]
        },
        {
          "metadata": {
            "tags": null
          },
          "name": "stderr",
          "output_type": "stream",
          "text": [
            "100%|██████████| 134/134 [01:35<00:00,  1.40it/s]\n"
          ]
        },
        {
          "metadata": {
            "tags": null
          },
          "name": "stdout",
          "output_type": "stream",
          "text": [
            "Epoch 22, Training Loss: 0.06384758651256561, Test Loss: 0.06364760547876358\n"
          ]
        },
        {
          "metadata": {
            "tags": null
          },
          "name": "stderr",
          "output_type": "stream",
          "text": [
            "100%|██████████| 134/134 [01:36<00:00,  1.40it/s]\n"
          ]
        },
        {
          "metadata": {
            "tags": null
          },
          "name": "stdout",
          "output_type": "stream",
          "text": [
            "Epoch 23, Training Loss: 0.0639372244477272, Test Loss: 0.0640750452876091\n"
          ]
        },
        {
          "metadata": {
            "tags": null
          },
          "name": "stderr",
          "output_type": "stream",
          "text": [
            "100%|██████████| 134/134 [01:35<00:00,  1.40it/s]\n"
          ]
        },
        {
          "metadata": {
            "tags": null
          },
          "name": "stdout",
          "output_type": "stream",
          "text": [
            "Epoch 24, Training Loss: 0.06380397826433182, Test Loss: 0.06337418407201767\n"
          ]
        },
        {
          "metadata": {
            "tags": null
          },
          "name": "stderr",
          "output_type": "stream",
          "text": [
            "100%|██████████| 134/134 [01:35<00:00,  1.40it/s]\n"
          ]
        },
        {
          "metadata": {
            "tags": null
          },
          "name": "stdout",
          "output_type": "stream",
          "text": [
            "Epoch 25, Training Loss: 0.06374428421258926, Test Loss: 0.062030401080846786\n"
          ]
        },
        {
          "metadata": {
            "tags": null
          },
          "name": "stderr",
          "output_type": "stream",
          "text": [
            "100%|██████████| 134/134 [01:36<00:00,  1.40it/s]\n"
          ]
        },
        {
          "metadata": {
            "tags": null
          },
          "name": "stdout",
          "output_type": "stream",
          "text": [
            "Epoch 26, Training Loss: 0.06285624951124191, Test Loss: 0.06241573393344879\n"
          ]
        },
        {
          "metadata": {
            "tags": null
          },
          "name": "stderr",
          "output_type": "stream",
          "text": [
            "100%|██████████| 134/134 [01:35<00:00,  1.40it/s]\n"
          ]
        },
        {
          "metadata": {
            "tags": null
          },
          "name": "stdout",
          "output_type": "stream",
          "text": [
            "Epoch 27, Training Loss: 0.06362882256507874, Test Loss: 0.062167342752218246\n"
          ]
        },
        {
          "metadata": {
            "tags": null
          },
          "name": "stderr",
          "output_type": "stream",
          "text": [
            "100%|██████████| 134/134 [01:35<00:00,  1.40it/s]\n"
          ]
        },
        {
          "metadata": {
            "tags": null
          },
          "name": "stdout",
          "output_type": "stream",
          "text": [
            "Epoch 28, Training Loss: 0.06262002140283585, Test Loss: 0.059929221868515015\n"
          ]
        },
        {
          "metadata": {
            "tags": null
          },
          "name": "stderr",
          "output_type": "stream",
          "text": [
            "100%|██████████| 134/134 [01:35<00:00,  1.40it/s]\n"
          ]
        },
        {
          "metadata": {
            "tags": null
          },
          "name": "stdout",
          "output_type": "stream",
          "text": [
            "Epoch 29, Training Loss: 0.062052156776189804, Test Loss: 0.05905088409781456\n"
          ]
        },
        {
          "metadata": {
            "tags": null
          },
          "name": "stderr",
          "output_type": "stream",
          "text": [
            "100%|██████████| 134/134 [01:35<00:00,  1.40it/s]\n"
          ]
        },
        {
          "metadata": {
            "tags": null
          },
          "name": "stdout",
          "output_type": "stream",
          "text": [
            "Epoch 30, Training Loss: 0.06253039091825485, Test Loss: 0.060236088931560516\n"
          ]
        },
        {
          "metadata": {
            "tags": null
          },
          "name": "stderr",
          "output_type": "stream",
          "text": [
            "100%|██████████| 134/134 [01:36<00:00,  1.40it/s]\n"
          ]
        },
        {
          "metadata": {
            "tags": null
          },
          "name": "stdout",
          "output_type": "stream",
          "text": [
            "Epoch 31, Training Loss: 0.061753686517477036, Test Loss: 0.059041827917099\n"
          ]
        },
        {
          "metadata": {
            "tags": null
          },
          "name": "stderr",
          "output_type": "stream",
          "text": [
            "100%|██████████| 134/134 [01:35<00:00,  1.40it/s]\n"
          ]
        },
        {
          "metadata": {
            "tags": null
          },
          "name": "stdout",
          "output_type": "stream",
          "text": [
            "Epoch 32, Training Loss: 0.06179768964648247, Test Loss: 0.0588776096701622\n"
          ]
        },
        {
          "metadata": {
            "tags": null
          },
          "name": "stderr",
          "output_type": "stream",
          "text": [
            "100%|██████████| 134/134 [01:35<00:00,  1.40it/s]\n"
          ]
        },
        {
          "metadata": {
            "tags": null
          },
          "name": "stdout",
          "output_type": "stream",
          "text": [
            "Epoch 33, Training Loss: 0.06151913106441498, Test Loss: 0.05819231644272804\n"
          ]
        },
        {
          "metadata": {
            "tags": null
          },
          "name": "stderr",
          "output_type": "stream",
          "text": [
            "100%|██████████| 134/134 [01:36<00:00,  1.39it/s]\n"
          ]
        },
        {
          "metadata": {
            "tags": null
          },
          "name": "stdout",
          "output_type": "stream",
          "text": [
            "Epoch 34, Training Loss: 0.06046807020902634, Test Loss: 0.05778488889336586\n"
          ]
        },
        {
          "metadata": {
            "tags": null
          },
          "name": "stderr",
          "output_type": "stream",
          "text": [
            "100%|██████████| 134/134 [01:35<00:00,  1.40it/s]\n"
          ]
        },
        {
          "metadata": {
            "tags": null
          },
          "name": "stdout",
          "output_type": "stream",
          "text": [
            "Epoch 35, Training Loss: 0.060297075659036636, Test Loss: 0.058111995458602905\n"
          ]
        },
        {
          "metadata": {
            "tags": null
          },
          "name": "stderr",
          "output_type": "stream",
          "text": [
            "100%|██████████| 134/134 [01:35<00:00,  1.40it/s]\n"
          ]
        },
        {
          "metadata": {
            "tags": null
          },
          "name": "stdout",
          "output_type": "stream",
          "text": [
            "Epoch 36, Training Loss: 0.06040887162089348, Test Loss: 0.05853204056620598\n"
          ]
        },
        {
          "metadata": {
            "tags": null
          },
          "name": "stderr",
          "output_type": "stream",
          "text": [
            "100%|██████████| 134/134 [01:35<00:00,  1.40it/s]\n"
          ]
        },
        {
          "metadata": {
            "tags": null
          },
          "name": "stdout",
          "output_type": "stream",
          "text": [
            "Epoch 37, Training Loss: 0.06000577285885811, Test Loss: 0.056742481887340546\n"
          ]
        },
        {
          "metadata": {
            "tags": null
          },
          "name": "stderr",
          "output_type": "stream",
          "text": [
            "100%|██████████| 134/134 [01:35<00:00,  1.40it/s]\n"
          ]
        },
        {
          "metadata": {
            "tags": null
          },
          "name": "stdout",
          "output_type": "stream",
          "text": [
            "Epoch 38, Training Loss: 0.059284381568431854, Test Loss: 0.054722387343645096\n"
          ]
        },
        {
          "metadata": {
            "tags": null
          },
          "name": "stderr",
          "output_type": "stream",
          "text": [
            "100%|██████████| 134/134 [01:35<00:00,  1.40it/s]\n"
          ]
        },
        {
          "metadata": {
            "tags": null
          },
          "name": "stdout",
          "output_type": "stream",
          "text": [
            "Epoch 39, Training Loss: 0.060270871967077255, Test Loss: 0.05435816943645477\n"
          ]
        },
        {
          "metadata": {
            "tags": null
          },
          "name": "stderr",
          "output_type": "stream",
          "text": [
            "100%|██████████| 134/134 [01:35<00:00,  1.40it/s]\n"
          ]
        },
        {
          "metadata": {
            "tags": null
          },
          "name": "stdout",
          "output_type": "stream",
          "text": [
            "Epoch 40, Training Loss: 0.05901496112346649, Test Loss: 0.055296894162893295\n"
          ]
        },
        {
          "metadata": {
            "tags": null
          },
          "name": "stderr",
          "output_type": "stream",
          "text": [
            "100%|██████████| 134/134 [01:35<00:00,  1.40it/s]\n"
          ]
        },
        {
          "metadata": {
            "tags": null
          },
          "name": "stdout",
          "output_type": "stream",
          "text": [
            "Epoch 41, Training Loss: 0.05890560895204544, Test Loss: 0.0544600673019886\n"
          ]
        },
        {
          "metadata": {
            "tags": null
          },
          "name": "stderr",
          "output_type": "stream",
          "text": [
            "100%|██████████| 134/134 [01:35<00:00,  1.40it/s]\n"
          ]
        },
        {
          "metadata": {
            "tags": null
          },
          "name": "stdout",
          "output_type": "stream",
          "text": [
            "Epoch 42, Training Loss: 0.0586252398788929, Test Loss: 0.05411090329289436\n"
          ]
        },
        {
          "metadata": {
            "tags": null
          },
          "name": "stderr",
          "output_type": "stream",
          "text": [
            "100%|██████████| 134/134 [01:35<00:00,  1.40it/s]\n"
          ]
        },
        {
          "metadata": {
            "tags": null
          },
          "name": "stdout",
          "output_type": "stream",
          "text": [
            "Epoch 43, Training Loss: 0.059182457625865936, Test Loss: 0.05208863317966461\n"
          ]
        },
        {
          "metadata": {
            "tags": null
          },
          "name": "stderr",
          "output_type": "stream",
          "text": [
            "100%|██████████| 134/134 [02:21<00:00,  1.06s/it]\n"
          ]
        },
        {
          "metadata": {
            "tags": null
          },
          "name": "stdout",
          "output_type": "stream",
          "text": [
            "Epoch 44, Training Loss: 0.05846907198429108, Test Loss: 0.05313543602824211\n"
          ]
        },
        {
          "metadata": {
            "tags": null
          },
          "name": "stderr",
          "output_type": "stream",
          "text": [
            "100%|██████████| 134/134 [01:36<00:00,  1.39it/s]\n"
          ]
        },
        {
          "metadata": {
            "tags": null
          },
          "name": "stdout",
          "output_type": "stream",
          "text": [
            "Epoch 45, Training Loss: 0.05883828550577164, Test Loss: 0.050836388021707535\n"
          ]
        },
        {
          "metadata": {
            "tags": null
          },
          "name": "stderr",
          "output_type": "stream",
          "text": [
            "100%|██████████| 134/134 [01:35<00:00,  1.40it/s]\n"
          ]
        },
        {
          "metadata": {
            "tags": null
          },
          "name": "stdout",
          "output_type": "stream",
          "text": [
            "Epoch 46, Training Loss: 0.05754857882857323, Test Loss: 0.05080174282193184\n"
          ]
        },
        {
          "metadata": {
            "tags": null
          },
          "name": "stderr",
          "output_type": "stream",
          "text": [
            "100%|██████████| 134/134 [01:35<00:00,  1.40it/s]\n"
          ]
        },
        {
          "metadata": {
            "tags": null
          },
          "name": "stdout",
          "output_type": "stream",
          "text": [
            "Epoch 47, Training Loss: 0.05760355666279793, Test Loss: 0.05234052985906601\n"
          ]
        },
        {
          "metadata": {
            "tags": null
          },
          "name": "stderr",
          "output_type": "stream",
          "text": [
            "100%|██████████| 134/134 [01:35<00:00,  1.40it/s]\n"
          ]
        },
        {
          "metadata": {
            "tags": null
          },
          "name": "stdout",
          "output_type": "stream",
          "text": [
            "Epoch 48, Training Loss: 0.05778196081519127, Test Loss: 0.05046681687235832\n"
          ]
        },
        {
          "metadata": {
            "tags": null
          },
          "name": "stderr",
          "output_type": "stream",
          "text": [
            "100%|██████████| 134/134 [01:36<00:00,  1.40it/s]\n"
          ]
        },
        {
          "metadata": {
            "tags": null
          },
          "name": "stdout",
          "output_type": "stream",
          "text": [
            "Epoch 49, Training Loss: 0.05765565112233162, Test Loss: 0.051572926342487335\n"
          ]
        },
        {
          "output_type": "stream",
          "name": "stderr",
          "text": [
            "100%|██████████| 134/134 [01:35<00:00,  1.40it/s]\n"
          ]
        },
        {
          "output_type": "stream",
          "name": "stdout",
          "text": [
            "Epoch 50, Training Loss: 0.05606483295559883, Test Loss: 0.04950013756752014\n"
          ]
        }
      ]
    },
    {
      "cell_type": "code",
      "source": [
        "from pickle import load, dump\n",
        "from matplotlib.pylab import plt\n",
        "from numpy import arange"
      ],
      "metadata": {
        "id": "PAcKhSit-Fz5"
      },
      "execution_count": null,
      "outputs": []
    },
    {
      "cell_type": "code",
      "source": [
        "# Save the training loss values\n",
        "with open('/content/drive/MyDrive/ML/train_loss_EfficientNetB2.pkl', 'wb') as file:\n",
        "    dump(train_loss_dict, file)\n",
        "\n",
        "# Save the validation loss values\n",
        "with open('/content/drive/MyDrive/ML/test_loss_EfficientNetB2.pkl', 'wb') as file:\n",
        "    dump(test_loss_dict, file)"
      ],
      "metadata": {
        "id": "HjelGGs_-IWK"
      },
      "execution_count": null,
      "outputs": []
    },
    {
      "cell_type": "code",
      "source": [
        "# Load the training and validation loss dictionaries\n",
        "train_loss = load(open('/content/drive/MyDrive/ML/train_loss_EfficientNetB2.pkl', 'rb'))\n",
        "test_loss = load(open('/content/drive/MyDrive/ML/test_loss_EfficientNetB2.pkl', 'rb'))\n",
        "\n",
        "# Retrieve each dictionary's values\n",
        "train_values = train_loss.values()\n",
        "test_values = test_loss.values()\n",
        "\n",
        "# Generate a sequence of integers to represent the epoch numbers\n",
        "epochs = range(50)\n",
        "\n",
        "# Plot and label the training and validation loss values\n",
        "plt.plot(epochs, np.array(list(train_values)).astype(float), label='Training Loss')\n",
        "plt.plot(epochs, np.array(list(test_values)).astype(float), label='Test Loss')\n",
        "\n",
        "# Add in a title and axes labels\n",
        "plt.title('Training and Test Loss')\n",
        "plt.xlabel('Epochs')\n",
        "plt.ylabel('Loss')\n",
        "\n",
        "# Set the tick locations\n",
        "plt.xticks(arange(0, 50, 4))\n",
        "\n",
        "# Display the plot\n",
        "plt.legend(loc='best')\n",
        "plt.show()"
      ],
      "metadata": {
        "id": "B_AcQtLS-LUS",
        "colab": {
          "base_uri": "https://localhost:8080/",
          "height": 295
        },
        "outputId": "9e9e6611-110d-4e67-cb40-56189b446f26"
      },
      "execution_count": null,
      "outputs": [
        {
          "output_type": "display_data",
          "data": {
            "text/plain": [
              "<Figure size 432x288 with 1 Axes>"
            ],
            "image/png": "[encoded data removed]"
          },
          "metadata": {
            "needs_background": "light"
          }
        }
      ]
    },
    {
      "cell_type": "code",
      "source": [
        "#model save\n",
        "dir = '/content/drive/MyDrive/Colab Notebooks/'\n",
        "filename =os.path.join( dir, datetime.datetime.now().strftime(\"%Y%m%d-%H%M%S\") + \"EfficientNetB2_simclr.h5\")  ##set your path then model name: /content/resnet.h5\n",
        "print(filename)\n",
        "\n",
        "model.save_weights(filename)"
      ],
      "metadata": {
        "colab": {
          "base_uri": "https://localhost:8080/"
        },
        "id": "Fo5AUDyDsRtW",
        "outputId": "e96fc086-9764-40c6-eeb1-f2022334a0da"
      },
      "execution_count": null,
      "outputs": [
        {
          "output_type": "stream",
          "name": "stdout",
          "text": [
            "/content/drive/MyDrive/Colab Notebooks/20230315-183833EfficientNetB2_simclr.h5\n"
          ]
        }
      ]
    },
    {
      "cell_type": "markdown",
      "source": [
        "#Classifier with frozen Encoder"
      ],
      "metadata": {
        "id": "qUiavvvX_NtV"
      }
    },
    {
      "cell_type": "code",
      "source": [
        "new_model = get_resnet_simclr(512, 256, 128)\n",
        "new_model.load_weights(\"/content/drive/MyDrive/Colab Notebooks/20230315-183833EfficientNetB2_simclr.h5\")"
      ],
      "metadata": {
        "id": "0iU4OjgNs0MV"
      },
      "execution_count": null,
      "outputs": []
    },
    {
      "cell_type": "code",
      "source": [
        "classifier_optimizer = tf.keras.optimizers.Adam(learning_rate=LR)"
      ],
      "metadata": {
        "id": "rFytwjqDuZ1m"
      },
      "execution_count": null,
      "outputs": []
    },
    {
      "cell_type": "code",
      "source": [
        "def Classifier_Network():\n",
        "    '''For stage 2, simply a softmax on top of the Encoder.\n",
        "    '''\n",
        "    contrast_model = new_model\n",
        "    contrast_model.trainable = False\n",
        "    embedd = contrast_model.output\n",
        "    features = Dropout(0.5)(embedd)\n",
        "    features = Dense(64, activation=\"relu\")(features)\n",
        "    features = Dropout(0.5)(features)\n",
        "    outputs  = Dense(num_classes, activation=\"softmax\")(features)\n",
        "\n",
        "    classifier_model = Model(contrast_model.inputs, outputs)\n",
        "\n",
        "    return classifier_model"
      ],
      "metadata": {
        "id": "u9SzVuULs_8V"
      },
      "execution_count": null,
      "outputs": []
    },
    {
      "cell_type": "code",
      "source": [
        "classifier = Classifier_Network()"
      ],
      "metadata": {
        "id": "tdMomlMGtovG"
      },
      "execution_count": null,
      "outputs": []
    },
    {
      "cell_type": "code",
      "source": [
        "classifier.summary()"
      ],
      "metadata": {
        "colab": {
          "base_uri": "https://localhost:8080/"
        },
        "id": "Zit13o3O0deV",
        "outputId": "3a7e9b04-e5b0-4777-96d8-624097cf4762"
      },
      "execution_count": null,
      "outputs": [
        {
          "output_type": "stream",
          "name": "stdout",
          "text": [
            "Model: \"model_2\"\n",
            "__________________________________________________________________________________________________\n",
            " Layer (type)                   Output Shape         Param #     Connected to                     \n",
            "==================================================================================================\n",
            " input_2 (InputLayer)           [(None, 224, 224, 3  0           []                               \n",
            "                                )]                                                                \n",
            "                                                                                                  \n",
            " rescaling_1 (Rescaling)        (None, 224, 224, 3)  0           ['input_2[0][0]']                \n",
            "                                                                                                  \n",
            " normalization_1 (Normalization  (None, 224, 224, 3)  7          ['rescaling_1[0][0]']            \n",
            " )                                                                                                \n",
            "                                                                                                  \n",
            " stem_conv_pad (ZeroPadding2D)  (None, 225, 225, 3)  0           ['normalization_1[0][0]']        \n",
            "                                                                                                  \n",
            " stem_conv (Conv2D)             (None, 112, 112, 32  864         ['stem_conv_pad[0][0]']          \n",
            "                                )                                                                 \n",
            "                                                                                                  \n",
            " stem_bn (BatchNormalization)   (None, 112, 112, 32  128         ['stem_conv[0][0]']              \n",
            "                                )                                                                 \n",
            "                                                                                                  \n",
            " stem_activation (Activation)   (None, 112, 112, 32  0           ['stem_bn[0][0]']                \n",
            "                                )                                                                 \n",
            "                                                                                                  \n",
            " block1a_dwconv (DepthwiseConv2  (None, 112, 112, 32  288        ['stem_activation[0][0]']        \n",
            " D)                             )                                                                 \n",
            "                                                                                                  \n",
            " block1a_bn (BatchNormalization  (None, 112, 112, 32  128        ['block1a_dwconv[0][0]']         \n",
            " )                              )                                                                 \n",
            "                                                                                                  \n",
            " block1a_activation (Activation  (None, 112, 112, 32  0          ['block1a_bn[0][0]']             \n",
            " )                              )                                                                 \n",
            "                                                                                                  \n",
            " block1a_se_squeeze (GlobalAver  (None, 32)          0           ['block1a_activation[0][0]']     \n",
            " agePooling2D)                                                                                    \n",
            "                                                                                                  \n",
            " block1a_se_reshape (Reshape)   (None, 1, 1, 32)     0           ['block1a_se_squeeze[0][0]']     \n",
            "                                                                                                  \n",
            " block1a_se_reduce (Conv2D)     (None, 1, 1, 8)      264         ['block1a_se_reshape[0][0]']     \n",
            "                                                                                                  \n",
            " block1a_se_expand (Conv2D)     (None, 1, 1, 32)     288         ['block1a_se_reduce[0][0]']      \n",
            "                                                                                                  \n",
            " block1a_se_excite (Multiply)   (None, 112, 112, 32  0           ['block1a_activation[0][0]',     \n",
            "                                )                                 'block1a_se_expand[0][0]']      \n",
            "                                                                                                  \n",
            " block1a_project_conv (Conv2D)  (None, 112, 112, 16  512         ['block1a_se_excite[0][0]']      \n",
            "                                )                                                                 \n",
            "                                                                                                  \n",
            " block1a_project_bn (BatchNorma  (None, 112, 112, 16  64         ['block1a_project_conv[0][0]']   \n",
            " lization)                      )                                                                 \n",
            "                                                                                                  \n",
            " block1b_dwconv (DepthwiseConv2  (None, 112, 112, 16  144        ['block1a_project_bn[0][0]']     \n",
            " D)                             )                                                                 \n",
            "                                                                                                  \n",
            " block1b_bn (BatchNormalization  (None, 112, 112, 16  64         ['block1b_dwconv[0][0]']         \n",
            " )                              )                                                                 \n",
            "                                                                                                  \n",
            " block1b_activation (Activation  (None, 112, 112, 16  0          ['block1b_bn[0][0]']             \n",
            " )                              )                                                                 \n",
            "                                                                                                  \n",
            " block1b_se_squeeze (GlobalAver  (None, 16)          0           ['block1b_activation[0][0]']     \n",
            " agePooling2D)                                                                                    \n",
            "                                                                                                  \n",
            " block1b_se_reshape (Reshape)   (None, 1, 1, 16)     0           ['block1b_se_squeeze[0][0]']     \n",
            "                                                                                                  \n",
            " block1b_se_reduce (Conv2D)     (None, 1, 1, 4)      68          ['block1b_se_reshape[0][0]']     \n",
            "                                                                                                  \n",
            " block1b_se_expand (Conv2D)     (None, 1, 1, 16)     80          ['block1b_se_reduce[0][0]']      \n",
            "                                                                                                  \n",
            " block1b_se_excite (Multiply)   (None, 112, 112, 16  0           ['block1b_activation[0][0]',     \n",
            "                                )                                 'block1b_se_expand[0][0]']      \n",
            "                                                                                                  \n",
            " block1b_project_conv (Conv2D)  (None, 112, 112, 16  256         ['block1b_se_excite[0][0]']      \n",
            "                                )                                                                 \n",
            "                                                                                                  \n",
            " block1b_project_bn (BatchNorma  (None, 112, 112, 16  64         ['block1b_project_conv[0][0]']   \n",
            " lization)                      )                                                                 \n",
            "                                                                                                  \n",
            " block1b_drop (Dropout)         (None, 112, 112, 16  0           ['block1b_project_bn[0][0]']     \n",
            "                                )                                                                 \n",
            "                                                                                                  \n",
            " block1b_add (Add)              (None, 112, 112, 16  0           ['block1b_drop[0][0]',           \n",
            "                                )                                 'block1a_project_bn[0][0]']     \n",
            "                                                                                                  \n",
            " block2a_expand_conv (Conv2D)   (None, 112, 112, 96  1536        ['block1b_add[0][0]']            \n",
            "                                )                                                                 \n",
            "                                                                                                  \n",
            " block2a_expand_bn (BatchNormal  (None, 112, 112, 96  384        ['block2a_expand_conv[0][0]']    \n",
            " ization)                       )                                                                 \n",
            "                                                                                                  \n",
            " block2a_expand_activation (Act  (None, 112, 112, 96  0          ['block2a_expand_bn[0][0]']      \n",
            " ivation)                       )                                                                 \n",
            "                                                                                                  \n",
            " block2a_dwconv_pad (ZeroPaddin  (None, 113, 113, 96  0          ['block2a_expand_activation[0][0]\n",
            " g2D)                           )                                ']                               \n",
            "                                                                                                  \n",
            " block2a_dwconv (DepthwiseConv2  (None, 56, 56, 96)  864         ['block2a_dwconv_pad[0][0]']     \n",
            " D)                                                                                               \n",
            "                                                                                                  \n",
            " block2a_bn (BatchNormalization  (None, 56, 56, 96)  384         ['block2a_dwconv[0][0]']         \n",
            " )                                                                                                \n",
            "                                                                                                  \n",
            " block2a_activation (Activation  (None, 56, 56, 96)  0           ['block2a_bn[0][0]']             \n",
            " )                                                                                                \n",
            "                                                                                                  \n",
            " block2a_se_squeeze (GlobalAver  (None, 96)          0           ['block2a_activation[0][0]']     \n",
            " agePooling2D)                                                                                    \n",
            "                                                                                                  \n",
            " block2a_se_reshape (Reshape)   (None, 1, 1, 96)     0           ['block2a_se_squeeze[0][0]']     \n",
            "                                                                                                  \n",
            " block2a_se_reduce (Conv2D)     (None, 1, 1, 4)      388         ['block2a_se_reshape[0][0]']     \n",
            "                                                                                                  \n",
            " block2a_se_expand (Conv2D)     (None, 1, 1, 96)     480         ['block2a_se_reduce[0][0]']      \n",
            "                                                                                                  \n",
            " block2a_se_excite (Multiply)   (None, 56, 56, 96)   0           ['block2a_activation[0][0]',     \n",
            "                                                                  'block2a_se_expand[0][0]']      \n",
            "                                                                                                  \n",
            " block2a_project_conv (Conv2D)  (None, 56, 56, 24)   2304        ['block2a_se_excite[0][0]']      \n",
            "                                                                                                  \n",
            " block2a_project_bn (BatchNorma  (None, 56, 56, 24)  96          ['block2a_project_conv[0][0]']   \n",
            " lization)                                                                                        \n",
            "                                                                                                  \n",
            " block2b_expand_conv (Conv2D)   (None, 56, 56, 144)  3456        ['block2a_project_bn[0][0]']     \n",
            "                                                                                                  \n",
            " block2b_expand_bn (BatchNormal  (None, 56, 56, 144)  576        ['block2b_expand_conv[0][0]']    \n",
            " ization)                                                                                         \n",
            "                                                                                                  \n",
            " block2b_expand_activation (Act  (None, 56, 56, 144)  0          ['block2b_expand_bn[0][0]']      \n",
            " ivation)                                                                                         \n",
            "                                                                                                  \n",
            " block2b_dwconv (DepthwiseConv2  (None, 56, 56, 144)  1296       ['block2b_expand_activation[0][0]\n",
            " D)                                                              ']                               \n",
            "                                                                                                  \n",
            " block2b_bn (BatchNormalization  (None, 56, 56, 144)  576        ['block2b_dwconv[0][0]']         \n",
            " )                                                                                                \n",
            "                                                                                                  \n",
            " block2b_activation (Activation  (None, 56, 56, 144)  0          ['block2b_bn[0][0]']             \n",
            " )                                                                                                \n",
            "                                                                                                  \n",
            " block2b_se_squeeze (GlobalAver  (None, 144)         0           ['block2b_activation[0][0]']     \n",
            " agePooling2D)                                                                                    \n",
            "                                                                                                  \n",
            " block2b_se_reshape (Reshape)   (None, 1, 1, 144)    0           ['block2b_se_squeeze[0][0]']     \n",
            "                                                                                                  \n",
            " block2b_se_reduce (Conv2D)     (None, 1, 1, 6)      870         ['block2b_se_reshape[0][0]']     \n",
            "                                                                                                  \n",
            " block2b_se_expand (Conv2D)     (None, 1, 1, 144)    1008        ['block2b_se_reduce[0][0]']      \n",
            "                                                                                                  \n",
            " block2b_se_excite (Multiply)   (None, 56, 56, 144)  0           ['block2b_activation[0][0]',     \n",
            "                                                                  'block2b_se_expand[0][0]']      \n",
            "                                                                                                  \n",
            " block2b_project_conv (Conv2D)  (None, 56, 56, 24)   3456        ['block2b_se_excite[0][0]']      \n",
            "                                                                                                  \n",
            " block2b_project_bn (BatchNorma  (None, 56, 56, 24)  96          ['block2b_project_conv[0][0]']   \n",
            " lization)                                                                                        \n",
            "                                                                                                  \n",
            " block2b_drop (Dropout)         (None, 56, 56, 24)   0           ['block2b_project_bn[0][0]']     \n",
            "                                                                                                  \n",
            " block2b_add (Add)              (None, 56, 56, 24)   0           ['block2b_drop[0][0]',           \n",
            "                                                                  'block2a_project_bn[0][0]']     \n",
            "                                                                                                  \n",
            " block2c_expand_conv (Conv2D)   (None, 56, 56, 144)  3456        ['block2b_add[0][0]']            \n",
            "                                                                                                  \n",
            " block2c_expand_bn (BatchNormal  (None, 56, 56, 144)  576        ['block2c_expand_conv[0][0]']    \n",
            " ization)                                                                                         \n",
            "                                                                                                  \n",
            " block2c_expand_activation (Act  (None, 56, 56, 144)  0          ['block2c_expand_bn[0][0]']      \n",
            " ivation)                                                                                         \n",
            "                                                                                                  \n",
            " block2c_dwconv (DepthwiseConv2  (None, 56, 56, 144)  1296       ['block2c_expand_activation[0][0]\n",
            " D)                                                              ']                               \n",
            "                                                                                                  \n",
            " block2c_bn (BatchNormalization  (None, 56, 56, 144)  576        ['block2c_dwconv[0][0]']         \n",
            " )                                                                                                \n",
            "                                                                                                  \n",
            " block2c_activation (Activation  (None, 56, 56, 144)  0          ['block2c_bn[0][0]']             \n",
            " )                                                                                                \n",
            "                                                                                                  \n",
            " block2c_se_squeeze (GlobalAver  (None, 144)         0           ['block2c_activation[0][0]']     \n",
            " agePooling2D)                                                                                    \n",
            "                                                                                                  \n",
            " block2c_se_reshape (Reshape)   (None, 1, 1, 144)    0           ['block2c_se_squeeze[0][0]']     \n",
            "                                                                                                  \n",
            " block2c_se_reduce (Conv2D)     (None, 1, 1, 6)      870         ['block2c_se_reshape[0][0]']     \n",
            "                                                                                                  \n",
            " block2c_se_expand (Conv2D)     (None, 1, 1, 144)    1008        ['block2c_se_reduce[0][0]']      \n",
            "                                                                                                  \n",
            " block2c_se_excite (Multiply)   (None, 56, 56, 144)  0           ['block2c_activation[0][0]',     \n",
            "                                                                  'block2c_se_expand[0][0]']      \n",
            "                                                                                                  \n",
            " block2c_project_conv (Conv2D)  (None, 56, 56, 24)   3456        ['block2c_se_excite[0][0]']      \n",
            "                                                                                                  \n",
            " block2c_project_bn (BatchNorma  (None, 56, 56, 24)  96          ['block2c_project_conv[0][0]']   \n",
            " lization)                                                                                        \n",
            "                                                                                                  \n",
            " block2c_drop (Dropout)         (None, 56, 56, 24)   0           ['block2c_project_bn[0][0]']     \n",
            "                                                                                                  \n",
            " block2c_add (Add)              (None, 56, 56, 24)   0           ['block2c_drop[0][0]',           \n",
            "                                                                  'block2b_add[0][0]']            \n",
            "                                                                                                  \n",
            " block3a_expand_conv (Conv2D)   (None, 56, 56, 144)  3456        ['block2c_add[0][0]']            \n",
            "                                                                                                  \n",
            " block3a_expand_bn (BatchNormal  (None, 56, 56, 144)  576        ['block3a_expand_conv[0][0]']    \n",
            " ization)                                                                                         \n",
            "                                                                                                  \n",
            " block3a_expand_activation (Act  (None, 56, 56, 144)  0          ['block3a_expand_bn[0][0]']      \n",
            " ivation)                                                                                         \n",
            "                                                                                                  \n",
            " block3a_dwconv_pad (ZeroPaddin  (None, 59, 59, 144)  0          ['block3a_expand_activation[0][0]\n",
            " g2D)                                                            ']                               \n",
            "                                                                                                  \n",
            " block3a_dwconv (DepthwiseConv2  (None, 28, 28, 144)  3600       ['block3a_dwconv_pad[0][0]']     \n",
            " D)                                                                                               \n",
            "                                                                                                  \n",
            " block3a_bn (BatchNormalization  (None, 28, 28, 144)  576        ['block3a_dwconv[0][0]']         \n",
            " )                                                                                                \n",
            "                                                                                                  \n",
            " block3a_activation (Activation  (None, 28, 28, 144)  0          ['block3a_bn[0][0]']             \n",
            " )                                                                                                \n",
            "                                                                                                  \n",
            " block3a_se_squeeze (GlobalAver  (None, 144)         0           ['block3a_activation[0][0]']     \n",
            " agePooling2D)                                                                                    \n",
            "                                                                                                  \n",
            " block3a_se_reshape (Reshape)   (None, 1, 1, 144)    0           ['block3a_se_squeeze[0][0]']     \n",
            "                                                                                                  \n",
            " block3a_se_reduce (Conv2D)     (None, 1, 1, 6)      870         ['block3a_se_reshape[0][0]']     \n",
            "                                                                                                  \n",
            " block3a_se_expand (Conv2D)     (None, 1, 1, 144)    1008        ['block3a_se_reduce[0][0]']      \n",
            "                                                                                                  \n",
            " block3a_se_excite (Multiply)   (None, 28, 28, 144)  0           ['block3a_activation[0][0]',     \n",
            "                                                                  'block3a_se_expand[0][0]']      \n",
            "                                                                                                  \n",
            " block3a_project_conv (Conv2D)  (None, 28, 28, 48)   6912        ['block3a_se_excite[0][0]']      \n",
            "                                                                                                  \n",
            " block3a_project_bn (BatchNorma  (None, 28, 28, 48)  192         ['block3a_project_conv[0][0]']   \n",
            " lization)                                                                                        \n",
            "                                                                                                  \n",
            " block3b_expand_conv (Conv2D)   (None, 28, 28, 288)  13824       ['block3a_project_bn[0][0]']     \n",
            "                                                                                                  \n",
            " block3b_expand_bn (BatchNormal  (None, 28, 28, 288)  1152       ['block3b_expand_conv[0][0]']    \n",
            " ization)                                                                                         \n",
            "                                                                                                  \n",
            " block3b_expand_activation (Act  (None, 28, 28, 288)  0          ['block3b_expand_bn[0][0]']      \n",
            " ivation)                                                                                         \n",
            "                                                                                                  \n",
            " block3b_dwconv (DepthwiseConv2  (None, 28, 28, 288)  7200       ['block3b_expand_activation[0][0]\n",
            " D)                                                              ']                               \n",
            "                                                                                                  \n",
            " block3b_bn (BatchNormalization  (None, 28, 28, 288)  1152       ['block3b_dwconv[0][0]']         \n",
            " )                                                                                                \n",
            "                                                                                                  \n",
            " block3b_activation (Activation  (None, 28, 28, 288)  0          ['block3b_bn[0][0]']             \n",
            " )                                                                                                \n",
            "                                                                                                  \n",
            " block3b_se_squeeze (GlobalAver  (None, 288)         0           ['block3b_activation[0][0]']     \n",
            " agePooling2D)                                                                                    \n",
            "                                                                                                  \n",
            " block3b_se_reshape (Reshape)   (None, 1, 1, 288)    0           ['block3b_se_squeeze[0][0]']     \n",
            "                                                                                                  \n",
            " block3b_se_reduce (Conv2D)     (None, 1, 1, 12)     3468        ['block3b_se_reshape[0][0]']     \n",
            "                                                                                                  \n",
            " block3b_se_expand (Conv2D)     (None, 1, 1, 288)    3744        ['block3b_se_reduce[0][0]']      \n",
            "                                                                                                  \n",
            " block3b_se_excite (Multiply)   (None, 28, 28, 288)  0           ['block3b_activation[0][0]',     \n",
            "                                                                  'block3b_se_expand[0][0]']      \n",
            "                                                                                                  \n",
            " block3b_project_conv (Conv2D)  (None, 28, 28, 48)   13824       ['block3b_se_excite[0][0]']      \n",
            "                                                                                                  \n",
            " block3b_project_bn (BatchNorma  (None, 28, 28, 48)  192         ['block3b_project_conv[0][0]']   \n",
            " lization)                                                                                        \n",
            "                                                                                                  \n",
            " block3b_drop (Dropout)         (None, 28, 28, 48)   0           ['block3b_project_bn[0][0]']     \n",
            "                                                                                                  \n",
            " block3b_add (Add)              (None, 28, 28, 48)   0           ['block3b_drop[0][0]',           \n",
            "                                                                  'block3a_project_bn[0][0]']     \n",
            "                                                                                                  \n",
            " block3c_expand_conv (Conv2D)   (None, 28, 28, 288)  13824       ['block3b_add[0][0]']            \n",
            "                                                                                                  \n",
            " block3c_expand_bn (BatchNormal  (None, 28, 28, 288)  1152       ['block3c_expand_conv[0][0]']    \n",
            " ization)                                                                                         \n",
            "                                                                                                  \n",
            " block3c_expand_activation (Act  (None, 28, 28, 288)  0          ['block3c_expand_bn[0][0]']      \n",
            " ivation)                                                                                         \n",
            "                                                                                                  \n",
            " block3c_dwconv (DepthwiseConv2  (None, 28, 28, 288)  7200       ['block3c_expand_activation[0][0]\n",
            " D)                                                              ']                               \n",
            "                                                                                                  \n",
            " block3c_bn (BatchNormalization  (None, 28, 28, 288)  1152       ['block3c_dwconv[0][0]']         \n",
            " )                                                                                                \n",
            "                                                                                                  \n",
            " block3c_activation (Activation  (None, 28, 28, 288)  0          ['block3c_bn[0][0]']             \n",
            " )                                                                                                \n",
            "                                                                                                  \n",
            " block3c_se_squeeze (GlobalAver  (None, 288)         0           ['block3c_activation[0][0]']     \n",
            " agePooling2D)                                                                                    \n",
            "                                                                                                  \n",
            " block3c_se_reshape (Reshape)   (None, 1, 1, 288)    0           ['block3c_se_squeeze[0][0]']     \n",
            "                                                                                                  \n",
            " block3c_se_reduce (Conv2D)     (None, 1, 1, 12)     3468        ['block3c_se_reshape[0][0]']     \n",
            "                                                                                                  \n",
            " block3c_se_expand (Conv2D)     (None, 1, 1, 288)    3744        ['block3c_se_reduce[0][0]']      \n",
            "                                                                                                  \n",
            " block3c_se_excite (Multiply)   (None, 28, 28, 288)  0           ['block3c_activation[0][0]',     \n",
            "                                                                  'block3c_se_expand[0][0]']      \n",
            "                                                                                                  \n",
            " block3c_project_conv (Conv2D)  (None, 28, 28, 48)   13824       ['block3c_se_excite[0][0]']      \n",
            "                                                                                                  \n",
            " block3c_project_bn (BatchNorma  (None, 28, 28, 48)  192         ['block3c_project_conv[0][0]']   \n",
            " lization)                                                                                        \n",
            "                                                                                                  \n",
            " block3c_drop (Dropout)         (None, 28, 28, 48)   0           ['block3c_project_bn[0][0]']     \n",
            "                                                                                                  \n",
            " block3c_add (Add)              (None, 28, 28, 48)   0           ['block3c_drop[0][0]',           \n",
            "                                                                  'block3b_add[0][0]']            \n",
            "                                                                                                  \n",
            " block4a_expand_conv (Conv2D)   (None, 28, 28, 288)  13824       ['block3c_add[0][0]']            \n",
            "                                                                                                  \n",
            " block4a_expand_bn (BatchNormal  (None, 28, 28, 288)  1152       ['block4a_expand_conv[0][0]']    \n",
            " ization)                                                                                         \n",
            "                                                                                                  \n",
            " block4a_expand_activation (Act  (None, 28, 28, 288)  0          ['block4a_expand_bn[0][0]']      \n",
            " ivation)                                                                                         \n",
            "                                                                                                  \n",
            " block4a_dwconv_pad (ZeroPaddin  (None, 29, 29, 288)  0          ['block4a_expand_activation[0][0]\n",
            " g2D)                                                            ']                               \n",
            "                                                                                                  \n",
            " block4a_dwconv (DepthwiseConv2  (None, 14, 14, 288)  2592       ['block4a_dwconv_pad[0][0]']     \n",
            " D)                                                                                               \n",
            "                                                                                                  \n",
            " block4a_bn (BatchNormalization  (None, 14, 14, 288)  1152       ['block4a_dwconv[0][0]']         \n",
            " )                                                                                                \n",
            "                                                                                                  \n",
            " block4a_activation (Activation  (None, 14, 14, 288)  0          ['block4a_bn[0][0]']             \n",
            " )                                                                                                \n",
            "                                                                                                  \n",
            " block4a_se_squeeze (GlobalAver  (None, 288)         0           ['block4a_activation[0][0]']     \n",
            " agePooling2D)                                                                                    \n",
            "                                                                                                  \n",
            " block4a_se_reshape (Reshape)   (None, 1, 1, 288)    0           ['block4a_se_squeeze[0][0]']     \n",
            "                                                                                                  \n",
            " block4a_se_reduce (Conv2D)     (None, 1, 1, 12)     3468        ['block4a_se_reshape[0][0]']     \n",
            "                                                                                                  \n",
            " block4a_se_expand (Conv2D)     (None, 1, 1, 288)    3744        ['block4a_se_reduce[0][0]']      \n",
            "                                                                                                  \n",
            " block4a_se_excite (Multiply)   (None, 14, 14, 288)  0           ['block4a_activation[0][0]',     \n",
            "                                                                  'block4a_se_expand[0][0]']      \n",
            "                                                                                                  \n",
            " block4a_project_conv (Conv2D)  (None, 14, 14, 88)   25344       ['block4a_se_excite[0][0]']      \n",
            "                                                                                                  \n",
            " block4a_project_bn (BatchNorma  (None, 14, 14, 88)  352         ['block4a_project_conv[0][0]']   \n",
            " lization)                                                                                        \n",
            "                                                                                                  \n",
            " block4b_expand_conv (Conv2D)   (None, 14, 14, 528)  46464       ['block4a_project_bn[0][0]']     \n",
            "                                                                                                  \n",
            " block4b_expand_bn (BatchNormal  (None, 14, 14, 528)  2112       ['block4b_expand_conv[0][0]']    \n",
            " ization)                                                                                         \n",
            "                                                                                                  \n",
            " block4b_expand_activation (Act  (None, 14, 14, 528)  0          ['block4b_expand_bn[0][0]']      \n",
            " ivation)                                                                                         \n",
            "                                                                                                  \n",
            " block4b_dwconv (DepthwiseConv2  (None, 14, 14, 528)  4752       ['block4b_expand_activation[0][0]\n",
            " D)                                                              ']                               \n",
            "                                                                                                  \n",
            " block4b_bn (BatchNormalization  (None, 14, 14, 528)  2112       ['block4b_dwconv[0][0]']         \n",
            " )                                                                                                \n",
            "                                                                                                  \n",
            " block4b_activation (Activation  (None, 14, 14, 528)  0          ['block4b_bn[0][0]']             \n",
            " )                                                                                                \n",
            "                                                                                                  \n",
            " block4b_se_squeeze (GlobalAver  (None, 528)         0           ['block4b_activation[0][0]']     \n",
            " agePooling2D)                                                                                    \n",
            "                                                                                                  \n",
            " block4b_se_reshape (Reshape)   (None, 1, 1, 528)    0           ['block4b_se_squeeze[0][0]']     \n",
            "                                                                                                  \n",
            " block4b_se_reduce (Conv2D)     (None, 1, 1, 22)     11638       ['block4b_se_reshape[0][0]']     \n",
            "                                                                                                  \n",
            " block4b_se_expand (Conv2D)     (None, 1, 1, 528)    12144       ['block4b_se_reduce[0][0]']      \n",
            "                                                                                                  \n",
            " block4b_se_excite (Multiply)   (None, 14, 14, 528)  0           ['block4b_activation[0][0]',     \n",
            "                                                                  'block4b_se_expand[0][0]']      \n",
            "                                                                                                  \n",
            " block4b_project_conv (Conv2D)  (None, 14, 14, 88)   46464       ['block4b_se_excite[0][0]']      \n",
            "                                                                                                  \n",
            " block4b_project_bn (BatchNorma  (None, 14, 14, 88)  352         ['block4b_project_conv[0][0]']   \n",
            " lization)                                                                                        \n",
            "                                                                                                  \n",
            " block4b_drop (Dropout)         (None, 14, 14, 88)   0           ['block4b_project_bn[0][0]']     \n",
            "                                                                                                  \n",
            " block4b_add (Add)              (None, 14, 14, 88)   0           ['block4b_drop[0][0]',           \n",
            "                                                                  'block4a_project_bn[0][0]']     \n",
            "                                                                                                  \n",
            " block4c_expand_conv (Conv2D)   (None, 14, 14, 528)  46464       ['block4b_add[0][0]']            \n",
            "                                                                                                  \n",
            " block4c_expand_bn (BatchNormal  (None, 14, 14, 528)  2112       ['block4c_expand_conv[0][0]']    \n",
            " ization)                                                                                         \n",
            "                                                                                                  \n",
            " block4c_expand_activation (Act  (None, 14, 14, 528)  0          ['block4c_expand_bn[0][0]']      \n",
            " ivation)                                                                                         \n",
            "                                                                                                  \n",
            " block4c_dwconv (DepthwiseConv2  (None, 14, 14, 528)  4752       ['block4c_expand_activation[0][0]\n",
            " D)                                                              ']                               \n",
            "                                                                                                  \n",
            " block4c_bn (BatchNormalization  (None, 14, 14, 528)  2112       ['block4c_dwconv[0][0]']         \n",
            " )                                                                                                \n",
            "                                                                                                  \n",
            " block4c_activation (Activation  (None, 14, 14, 528)  0          ['block4c_bn[0][0]']             \n",
            " )                                                                                                \n",
            "                                                                                                  \n",
            " block4c_se_squeeze (GlobalAver  (None, 528)         0           ['block4c_activation[0][0]']     \n",
            " agePooling2D)                                                                                    \n",
            "                                                                                                  \n",
            " block4c_se_reshape (Reshape)   (None, 1, 1, 528)    0           ['block4c_se_squeeze[0][0]']     \n",
            "                                                                                                  \n",
            " block4c_se_reduce (Conv2D)     (None, 1, 1, 22)     11638       ['block4c_se_reshape[0][0]']     \n",
            "                                                                                                  \n",
            " block4c_se_expand (Conv2D)     (None, 1, 1, 528)    12144       ['block4c_se_reduce[0][0]']      \n",
            "                                                                                                  \n",
            " block4c_se_excite (Multiply)   (None, 14, 14, 528)  0           ['block4c_activation[0][0]',     \n",
            "                                                                  'block4c_se_expand[0][0]']      \n",
            "                                                                                                  \n",
            " block4c_project_conv (Conv2D)  (None, 14, 14, 88)   46464       ['block4c_se_excite[0][0]']      \n",
            "                                                                                                  \n",
            " block4c_project_bn (BatchNorma  (None, 14, 14, 88)  352         ['block4c_project_conv[0][0]']   \n",
            " lization)                                                                                        \n",
            "                                                                                                  \n",
            " block4c_drop (Dropout)         (None, 14, 14, 88)   0           ['block4c_project_bn[0][0]']     \n",
            "                                                                                                  \n",
            " block4c_add (Add)              (None, 14, 14, 88)   0           ['block4c_drop[0][0]',           \n",
            "                                                                  'block4b_add[0][0]']            \n",
            "                                                                                                  \n",
            " block4d_expand_conv (Conv2D)   (None, 14, 14, 528)  46464       ['block4c_add[0][0]']            \n",
            "                                                                                                  \n",
            " block4d_expand_bn (BatchNormal  (None, 14, 14, 528)  2112       ['block4d_expand_conv[0][0]']    \n",
            " ization)                                                                                         \n",
            "                                                                                                  \n",
            " block4d_expand_activation (Act  (None, 14, 14, 528)  0          ['block4d_expand_bn[0][0]']      \n",
            " ivation)                                                                                         \n",
            "                                                                                                  \n",
            " block4d_dwconv (DepthwiseConv2  (None, 14, 14, 528)  4752       ['block4d_expand_activation[0][0]\n",
            " D)                                                              ']                               \n",
            "                                                                                                  \n",
            " block4d_bn (BatchNormalization  (None, 14, 14, 528)  2112       ['block4d_dwconv[0][0]']         \n",
            " )                                                                                                \n",
            "                                                                                                  \n",
            " block4d_activation (Activation  (None, 14, 14, 528)  0          ['block4d_bn[0][0]']             \n",
            " )                                                                                                \n",
            "                                                                                                  \n",
            " block4d_se_squeeze (GlobalAver  (None, 528)         0           ['block4d_activation[0][0]']     \n",
            " agePooling2D)                                                                                    \n",
            "                                                                                                  \n",
            " block4d_se_reshape (Reshape)   (None, 1, 1, 528)    0           ['block4d_se_squeeze[0][0]']     \n",
            "                                                                                                  \n",
            " block4d_se_reduce (Conv2D)     (None, 1, 1, 22)     11638       ['block4d_se_reshape[0][0]']     \n",
            "                                                                                                  \n",
            " block4d_se_expand (Conv2D)     (None, 1, 1, 528)    12144       ['block4d_se_reduce[0][0]']      \n",
            "                                                                                                  \n",
            " block4d_se_excite (Multiply)   (None, 14, 14, 528)  0           ['block4d_activation[0][0]',     \n",
            "                                                                  'block4d_se_expand[0][0]']      \n",
            "                                                                                                  \n",
            " block4d_project_conv (Conv2D)  (None, 14, 14, 88)   46464       ['block4d_se_excite[0][0]']      \n",
            "                                                                                                  \n",
            " block4d_project_bn (BatchNorma  (None, 14, 14, 88)  352         ['block4d_project_conv[0][0]']   \n",
            " lization)                                                                                        \n",
            "                                                                                                  \n",
            " block4d_drop (Dropout)         (None, 14, 14, 88)   0           ['block4d_project_bn[0][0]']     \n",
            "                                                                                                  \n",
            " block4d_add (Add)              (None, 14, 14, 88)   0           ['block4d_drop[0][0]',           \n",
            "                                                                  'block4c_add[0][0]']            \n",
            "                                                                                                  \n",
            " block5a_expand_conv (Conv2D)   (None, 14, 14, 528)  46464       ['block4d_add[0][0]']            \n",
            "                                                                                                  \n",
            " block5a_expand_bn (BatchNormal  (None, 14, 14, 528)  2112       ['block5a_expand_conv[0][0]']    \n",
            " ization)                                                                                         \n",
            "                                                                                                  \n",
            " block5a_expand_activation (Act  (None, 14, 14, 528)  0          ['block5a_expand_bn[0][0]']      \n",
            " ivation)                                                                                         \n",
            "                                                                                                  \n",
            " block5a_dwconv (DepthwiseConv2  (None, 14, 14, 528)  13200      ['block5a_expand_activation[0][0]\n",
            " D)                                                              ']                               \n",
            "                                                                                                  \n",
            " block5a_bn (BatchNormalization  (None, 14, 14, 528)  2112       ['block5a_dwconv[0][0]']         \n",
            " )                                                                                                \n",
            "                                                                                                  \n",
            " block5a_activation (Activation  (None, 14, 14, 528)  0          ['block5a_bn[0][0]']             \n",
            " )                                                                                                \n",
            "                                                                                                  \n",
            " block5a_se_squeeze (GlobalAver  (None, 528)         0           ['block5a_activation[0][0]']     \n",
            " agePooling2D)                                                                                    \n",
            "                                                                                                  \n",
            " block5a_se_reshape (Reshape)   (None, 1, 1, 528)    0           ['block5a_se_squeeze[0][0]']     \n",
            "                                                                                                  \n",
            " block5a_se_reduce (Conv2D)     (None, 1, 1, 22)     11638       ['block5a_se_reshape[0][0]']     \n",
            "                                                                                                  \n",
            " block5a_se_expand (Conv2D)     (None, 1, 1, 528)    12144       ['block5a_se_reduce[0][0]']      \n",
            "                                                                                                  \n",
            " block5a_se_excite (Multiply)   (None, 14, 14, 528)  0           ['block5a_activation[0][0]',     \n",
            "                                                                  'block5a_se_expand[0][0]']      \n",
            "                                                                                                  \n",
            " block5a_project_conv (Conv2D)  (None, 14, 14, 120)  63360       ['block5a_se_excite[0][0]']      \n",
            "                                                                                                  \n",
            " block5a_project_bn (BatchNorma  (None, 14, 14, 120)  480        ['block5a_project_conv[0][0]']   \n",
            " lization)                                                                                        \n",
            "                                                                                                  \n",
            " block5b_expand_conv (Conv2D)   (None, 14, 14, 720)  86400       ['block5a_project_bn[0][0]']     \n",
            "                                                                                                  \n",
            " block5b_expand_bn (BatchNormal  (None, 14, 14, 720)  2880       ['block5b_expand_conv[0][0]']    \n",
            " ization)                                                                                         \n",
            "                                                                                                  \n",
            " block5b_expand_activation (Act  (None, 14, 14, 720)  0          ['block5b_expand_bn[0][0]']      \n",
            " ivation)                                                                                         \n",
            "                                                                                                  \n",
            " block5b_dwconv (DepthwiseConv2  (None, 14, 14, 720)  18000      ['block5b_expand_activation[0][0]\n",
            " D)                                                              ']                               \n",
            "                                                                                                  \n",
            " block5b_bn (BatchNormalization  (None, 14, 14, 720)  2880       ['block5b_dwconv[0][0]']         \n",
            " )                                                                                                \n",
            "                                                                                                  \n",
            " block5b_activation (Activation  (None, 14, 14, 720)  0          ['block5b_bn[0][0]']             \n",
            " )                                                                                                \n",
            "                                                                                                  \n",
            " block5b_se_squeeze (GlobalAver  (None, 720)         0           ['block5b_activation[0][0]']     \n",
            " agePooling2D)                                                                                    \n",
            "                                                                                                  \n",
            " block5b_se_reshape (Reshape)   (None, 1, 1, 720)    0           ['block5b_se_squeeze[0][0]']     \n",
            "                                                                                                  \n",
            " block5b_se_reduce (Conv2D)     (None, 1, 1, 30)     21630       ['block5b_se_reshape[0][0]']     \n",
            "                                                                                                  \n",
            " block5b_se_expand (Conv2D)     (None, 1, 1, 720)    22320       ['block5b_se_reduce[0][0]']      \n",
            "                                                                                                  \n",
            " block5b_se_excite (Multiply)   (None, 14, 14, 720)  0           ['block5b_activation[0][0]',     \n",
            "                                                                  'block5b_se_expand[0][0]']      \n",
            "                                                                                                  \n",
            " block5b_project_conv (Conv2D)  (None, 14, 14, 120)  86400       ['block5b_se_excite[0][0]']      \n",
            "                                                                                                  \n",
            " block5b_project_bn (BatchNorma  (None, 14, 14, 120)  480        ['block5b_project_conv[0][0]']   \n",
            " lization)                                                                                        \n",
            "                                                                                                  \n",
            " block5b_drop (Dropout)         (None, 14, 14, 120)  0           ['block5b_project_bn[0][0]']     \n",
            "                                                                                                  \n",
            " block5b_add (Add)              (None, 14, 14, 120)  0           ['block5b_drop[0][0]',           \n",
            "                                                                  'block5a_project_bn[0][0]']     \n",
            "                                                                                                  \n",
            " block5c_expand_conv (Conv2D)   (None, 14, 14, 720)  86400       ['block5b_add[0][0]']            \n",
            "                                                                                                  \n",
            " block5c_expand_bn (BatchNormal  (None, 14, 14, 720)  2880       ['block5c_expand_conv[0][0]']    \n",
            " ization)                                                                                         \n",
            "                                                                                                  \n",
            " block5c_expand_activation (Act  (None, 14, 14, 720)  0          ['block5c_expand_bn[0][0]']      \n",
            " ivation)                                                                                         \n",
            "                                                                                                  \n",
            " block5c_dwconv (DepthwiseConv2  (None, 14, 14, 720)  18000      ['block5c_expand_activation[0][0]\n",
            " D)                                                              ']                               \n",
            "                                                                                                  \n",
            " block5c_bn (BatchNormalization  (None, 14, 14, 720)  2880       ['block5c_dwconv[0][0]']         \n",
            " )                                                                                                \n",
            "                                                                                                  \n",
            " block5c_activation (Activation  (None, 14, 14, 720)  0          ['block5c_bn[0][0]']             \n",
            " )                                                                                                \n",
            "                                                                                                  \n",
            " block5c_se_squeeze (GlobalAver  (None, 720)         0           ['block5c_activation[0][0]']     \n",
            " agePooling2D)                                                                                    \n",
            "                                                                                                  \n",
            " block5c_se_reshape (Reshape)   (None, 1, 1, 720)    0           ['block5c_se_squeeze[0][0]']     \n",
            "                                                                                                  \n",
            " block5c_se_reduce (Conv2D)     (None, 1, 1, 30)     21630       ['block5c_se_reshape[0][0]']     \n",
            "                                                                                                  \n",
            " block5c_se_expand (Conv2D)     (None, 1, 1, 720)    22320       ['block5c_se_reduce[0][0]']      \n",
            "                                                                                                  \n",
            " block5c_se_excite (Multiply)   (None, 14, 14, 720)  0           ['block5c_activation[0][0]',     \n",
            "                                                                  'block5c_se_expand[0][0]']      \n",
            "                                                                                                  \n",
            " block5c_project_conv (Conv2D)  (None, 14, 14, 120)  86400       ['block5c_se_excite[0][0]']      \n",
            "                                                                                                  \n",
            " block5c_project_bn (BatchNorma  (None, 14, 14, 120)  480        ['block5c_project_conv[0][0]']   \n",
            " lization)                                                                                        \n",
            "                                                                                                  \n",
            " block5c_drop (Dropout)         (None, 14, 14, 120)  0           ['block5c_project_bn[0][0]']     \n",
            "                                                                                                  \n",
            " block5c_add (Add)              (None, 14, 14, 120)  0           ['block5c_drop[0][0]',           \n",
            "                                                                  'block5b_add[0][0]']            \n",
            "                                                                                                  \n",
            " block5d_expand_conv (Conv2D)   (None, 14, 14, 720)  86400       ['block5c_add[0][0]']            \n",
            "                                                                                                  \n",
            " block5d_expand_bn (BatchNormal  (None, 14, 14, 720)  2880       ['block5d_expand_conv[0][0]']    \n",
            " ization)                                                                                         \n",
            "                                                                                                  \n",
            " block5d_expand_activation (Act  (None, 14, 14, 720)  0          ['block5d_expand_bn[0][0]']      \n",
            " ivation)                                                                                         \n",
            "                                                                                                  \n",
            " block5d_dwconv (DepthwiseConv2  (None, 14, 14, 720)  18000      ['block5d_expand_activation[0][0]\n",
            " D)                                                              ']                               \n",
            "                                                                                                  \n",
            " block5d_bn (BatchNormalization  (None, 14, 14, 720)  2880       ['block5d_dwconv[0][0]']         \n",
            " )                                                                                                \n",
            "                                                                                                  \n",
            " block5d_activation (Activation  (None, 14, 14, 720)  0          ['block5d_bn[0][0]']             \n",
            " )                                                                                                \n",
            "                                                                                                  \n",
            " block5d_se_squeeze (GlobalAver  (None, 720)         0           ['block5d_activation[0][0]']     \n",
            " agePooling2D)                                                                                    \n",
            "                                                                                                  \n",
            " block5d_se_reshape (Reshape)   (None, 1, 1, 720)    0           ['block5d_se_squeeze[0][0]']     \n",
            "                                                                                                  \n",
            " block5d_se_reduce (Conv2D)     (None, 1, 1, 30)     21630       ['block5d_se_reshape[0][0]']     \n",
            "                                                                                                  \n",
            " block5d_se_expand (Conv2D)     (None, 1, 1, 720)    22320       ['block5d_se_reduce[0][0]']      \n",
            "                                                                                                  \n",
            " block5d_se_excite (Multiply)   (None, 14, 14, 720)  0           ['block5d_activation[0][0]',     \n",
            "                                                                  'block5d_se_expand[0][0]']      \n",
            "                                                                                                  \n",
            " block5d_project_conv (Conv2D)  (None, 14, 14, 120)  86400       ['block5d_se_excite[0][0]']      \n",
            "                                                                                                  \n",
            " block5d_project_bn (BatchNorma  (None, 14, 14, 120)  480        ['block5d_project_conv[0][0]']   \n",
            " lization)                                                                                        \n",
            "                                                                                                  \n",
            " block5d_drop (Dropout)         (None, 14, 14, 120)  0           ['block5d_project_bn[0][0]']     \n",
            "                                                                                                  \n",
            " block5d_add (Add)              (None, 14, 14, 120)  0           ['block5d_drop[0][0]',           \n",
            "                                                                  'block5c_add[0][0]']            \n",
            "                                                                                                  \n",
            " block6a_expand_conv (Conv2D)   (None, 14, 14, 720)  86400       ['block5d_add[0][0]']            \n",
            "                                                                                                  \n",
            " block6a_expand_bn (BatchNormal  (None, 14, 14, 720)  2880       ['block6a_expand_conv[0][0]']    \n",
            " ization)                                                                                         \n",
            "                                                                                                  \n",
            " block6a_expand_activation (Act  (None, 14, 14, 720)  0          ['block6a_expand_bn[0][0]']      \n",
            " ivation)                                                                                         \n",
            "                                                                                                  \n",
            " block6a_dwconv_pad (ZeroPaddin  (None, 17, 17, 720)  0          ['block6a_expand_activation[0][0]\n",
            " g2D)                                                            ']                               \n",
            "                                                                                                  \n",
            " block6a_dwconv (DepthwiseConv2  (None, 7, 7, 720)   18000       ['block6a_dwconv_pad[0][0]']     \n",
            " D)                                                                                               \n",
            "                                                                                                  \n",
            " block6a_bn (BatchNormalization  (None, 7, 7, 720)   2880        ['block6a_dwconv[0][0]']         \n",
            " )                                                                                                \n",
            "                                                                                                  \n",
            " block6a_activation (Activation  (None, 7, 7, 720)   0           ['block6a_bn[0][0]']             \n",
            " )                                                                                                \n",
            "                                                                                                  \n",
            " block6a_se_squeeze (GlobalAver  (None, 720)         0           ['block6a_activation[0][0]']     \n",
            " agePooling2D)                                                                                    \n",
            "                                                                                                  \n",
            " block6a_se_reshape (Reshape)   (None, 1, 1, 720)    0           ['block6a_se_squeeze[0][0]']     \n",
            "                                                                                                  \n",
            " block6a_se_reduce (Conv2D)     (None, 1, 1, 30)     21630       ['block6a_se_reshape[0][0]']     \n",
            "                                                                                                  \n",
            " block6a_se_expand (Conv2D)     (None, 1, 1, 720)    22320       ['block6a_se_reduce[0][0]']      \n",
            "                                                                                                  \n",
            " block6a_se_excite (Multiply)   (None, 7, 7, 720)    0           ['block6a_activation[0][0]',     \n",
            "                                                                  'block6a_se_expand[0][0]']      \n",
            "                                                                                                  \n",
            " block6a_project_conv (Conv2D)  (None, 7, 7, 208)    149760      ['block6a_se_excite[0][0]']      \n",
            "                                                                                                  \n",
            " block6a_project_bn (BatchNorma  (None, 7, 7, 208)   832         ['block6a_project_conv[0][0]']   \n",
            " lization)                                                                                        \n",
            "                                                                                                  \n",
            " block6b_expand_conv (Conv2D)   (None, 7, 7, 1248)   259584      ['block6a_project_bn[0][0]']     \n",
            "                                                                                                  \n",
            " block6b_expand_bn (BatchNormal  (None, 7, 7, 1248)  4992        ['block6b_expand_conv[0][0]']    \n",
            " ization)                                                                                         \n",
            "                                                                                                  \n",
            " block6b_expand_activation (Act  (None, 7, 7, 1248)  0           ['block6b_expand_bn[0][0]']      \n",
            " ivation)                                                                                         \n",
            "                                                                                                  \n",
            " block6b_dwconv (DepthwiseConv2  (None, 7, 7, 1248)  31200       ['block6b_expand_activation[0][0]\n",
            " D)                                                              ']                               \n",
            "                                                                                                  \n",
            " block6b_bn (BatchNormalization  (None, 7, 7, 1248)  4992        ['block6b_dwconv[0][0]']         \n",
            " )                                                                                                \n",
            "                                                                                                  \n",
            " block6b_activation (Activation  (None, 7, 7, 1248)  0           ['block6b_bn[0][0]']             \n",
            " )                                                                                                \n",
            "                                                                                                  \n",
            " block6b_se_squeeze (GlobalAver  (None, 1248)        0           ['block6b_activation[0][0]']     \n",
            " agePooling2D)                                                                                    \n",
            "                                                                                                  \n",
            " block6b_se_reshape (Reshape)   (None, 1, 1, 1248)   0           ['block6b_se_squeeze[0][0]']     \n",
            "                                                                                                  \n",
            " block6b_se_reduce (Conv2D)     (None, 1, 1, 52)     64948       ['block6b_se_reshape[0][0]']     \n",
            "                                                                                                  \n",
            " block6b_se_expand (Conv2D)     (None, 1, 1, 1248)   66144       ['block6b_se_reduce[0][0]']      \n",
            "                                                                                                  \n",
            " block6b_se_excite (Multiply)   (None, 7, 7, 1248)   0           ['block6b_activation[0][0]',     \n",
            "                                                                  'block6b_se_expand[0][0]']      \n",
            "                                                                                                  \n",
            " block6b_project_conv (Conv2D)  (None, 7, 7, 208)    259584      ['block6b_se_excite[0][0]']      \n",
            "                                                                                                  \n",
            " block6b_project_bn (BatchNorma  (None, 7, 7, 208)   832         ['block6b_project_conv[0][0]']   \n",
            " lization)                                                                                        \n",
            "                                                                                                  \n",
            " block6b_drop (Dropout)         (None, 7, 7, 208)    0           ['block6b_project_bn[0][0]']     \n",
            "                                                                                                  \n",
            " block6b_add (Add)              (None, 7, 7, 208)    0           ['block6b_drop[0][0]',           \n",
            "                                                                  'block6a_project_bn[0][0]']     \n",
            "                                                                                                  \n",
            " block6c_expand_conv (Conv2D)   (None, 7, 7, 1248)   259584      ['block6b_add[0][0]']            \n",
            "                                                                                                  \n",
            " block6c_expand_bn (BatchNormal  (None, 7, 7, 1248)  4992        ['block6c_expand_conv[0][0]']    \n",
            " ization)                                                                                         \n",
            "                                                                                                  \n",
            " block6c_expand_activation (Act  (None, 7, 7, 1248)  0           ['block6c_expand_bn[0][0]']      \n",
            " ivation)                                                                                         \n",
            "                                                                                                  \n",
            " block6c_dwconv (DepthwiseConv2  (None, 7, 7, 1248)  31200       ['block6c_expand_activation[0][0]\n",
            " D)                                                              ']                               \n",
            "                                                                                                  \n",
            " block6c_bn (BatchNormalization  (None, 7, 7, 1248)  4992        ['block6c_dwconv[0][0]']         \n",
            " )                                                                                                \n",
            "                                                                                                  \n",
            " block6c_activation (Activation  (None, 7, 7, 1248)  0           ['block6c_bn[0][0]']             \n",
            " )                                                                                                \n",
            "                                                                                                  \n",
            " block6c_se_squeeze (GlobalAver  (None, 1248)        0           ['block6c_activation[0][0]']     \n",
            " agePooling2D)                                                                                    \n",
            "                                                                                                  \n",
            " block6c_se_reshape (Reshape)   (None, 1, 1, 1248)   0           ['block6c_se_squeeze[0][0]']     \n",
            "                                                                                                  \n",
            " block6c_se_reduce (Conv2D)     (None, 1, 1, 52)     64948       ['block6c_se_reshape[0][0]']     \n",
            "                                                                                                  \n",
            " block6c_se_expand (Conv2D)     (None, 1, 1, 1248)   66144       ['block6c_se_reduce[0][0]']      \n",
            "                                                                                                  \n",
            " block6c_se_excite (Multiply)   (None, 7, 7, 1248)   0           ['block6c_activation[0][0]',     \n",
            "                                                                  'block6c_se_expand[0][0]']      \n",
            "                                                                                                  \n",
            " block6c_project_conv (Conv2D)  (None, 7, 7, 208)    259584      ['block6c_se_excite[0][0]']      \n",
            "                                                                                                  \n",
            " block6c_project_bn (BatchNorma  (None, 7, 7, 208)   832         ['block6c_project_conv[0][0]']   \n",
            " lization)                                                                                        \n",
            "                                                                                                  \n",
            " block6c_drop (Dropout)         (None, 7, 7, 208)    0           ['block6c_project_bn[0][0]']     \n",
            "                                                                                                  \n",
            " block6c_add (Add)              (None, 7, 7, 208)    0           ['block6c_drop[0][0]',           \n",
            "                                                                  'block6b_add[0][0]']            \n",
            "                                                                                                  \n",
            " block6d_expand_conv (Conv2D)   (None, 7, 7, 1248)   259584      ['block6c_add[0][0]']            \n",
            "                                                                                                  \n",
            " block6d_expand_bn (BatchNormal  (None, 7, 7, 1248)  4992        ['block6d_expand_conv[0][0]']    \n",
            " ization)                                                                                         \n",
            "                                                                                                  \n",
            " block6d_expand_activation (Act  (None, 7, 7, 1248)  0           ['block6d_expand_bn[0][0]']      \n",
            " ivation)                                                                                         \n",
            "                                                                                                  \n",
            " block6d_dwconv (DepthwiseConv2  (None, 7, 7, 1248)  31200       ['block6d_expand_activation[0][0]\n",
            " D)                                                              ']                               \n",
            "                                                                                                  \n",
            " block6d_bn (BatchNormalization  (None, 7, 7, 1248)  4992        ['block6d_dwconv[0][0]']         \n",
            " )                                                                                                \n",
            "                                                                                                  \n",
            " block6d_activation (Activation  (None, 7, 7, 1248)  0           ['block6d_bn[0][0]']             \n",
            " )                                                                                                \n",
            "                                                                                                  \n",
            " block6d_se_squeeze (GlobalAver  (None, 1248)        0           ['block6d_activation[0][0]']     \n",
            " agePooling2D)                                                                                    \n",
            "                                                                                                  \n",
            " block6d_se_reshape (Reshape)   (None, 1, 1, 1248)   0           ['block6d_se_squeeze[0][0]']     \n",
            "                                                                                                  \n",
            " block6d_se_reduce (Conv2D)     (None, 1, 1, 52)     64948       ['block6d_se_reshape[0][0]']     \n",
            "                                                                                                  \n",
            " block6d_se_expand (Conv2D)     (None, 1, 1, 1248)   66144       ['block6d_se_reduce[0][0]']      \n",
            "                                                                                                  \n",
            " block6d_se_excite (Multiply)   (None, 7, 7, 1248)   0           ['block6d_activation[0][0]',     \n",
            "                                                                  'block6d_se_expand[0][0]']      \n",
            "                                                                                                  \n",
            " block6d_project_conv (Conv2D)  (None, 7, 7, 208)    259584      ['block6d_se_excite[0][0]']      \n",
            "                                                                                                  \n",
            " block6d_project_bn (BatchNorma  (None, 7, 7, 208)   832         ['block6d_project_conv[0][0]']   \n",
            " lization)                                                                                        \n",
            "                                                                                                  \n",
            " block6d_drop (Dropout)         (None, 7, 7, 208)    0           ['block6d_project_bn[0][0]']     \n",
            "                                                                                                  \n",
            " block6d_add (Add)              (None, 7, 7, 208)    0           ['block6d_drop[0][0]',           \n",
            "                                                                  'block6c_add[0][0]']            \n",
            "                                                                                                  \n",
            " block6e_expand_conv (Conv2D)   (None, 7, 7, 1248)   259584      ['block6d_add[0][0]']            \n",
            "                                                                                                  \n",
            " block6e_expand_bn (BatchNormal  (None, 7, 7, 1248)  4992        ['block6e_expand_conv[0][0]']    \n",
            " ization)                                                                                         \n",
            "                                                                                                  \n",
            " block6e_expand_activation (Act  (None, 7, 7, 1248)  0           ['block6e_expand_bn[0][0]']      \n",
            " ivation)                                                                                         \n",
            "                                                                                                  \n",
            " block6e_dwconv (DepthwiseConv2  (None, 7, 7, 1248)  31200       ['block6e_expand_activation[0][0]\n",
            " D)                                                              ']                               \n",
            "                                                                                                  \n",
            " block6e_bn (BatchNormalization  (None, 7, 7, 1248)  4992        ['block6e_dwconv[0][0]']         \n",
            " )                                                                                                \n",
            "                                                                                                  \n",
            " block6e_activation (Activation  (None, 7, 7, 1248)  0           ['block6e_bn[0][0]']             \n",
            " )                                                                                                \n",
            "                                                                                                  \n",
            " block6e_se_squeeze (GlobalAver  (None, 1248)        0           ['block6e_activation[0][0]']     \n",
            " agePooling2D)                                                                                    \n",
            "                                                                                                  \n",
            " block6e_se_reshape (Reshape)   (None, 1, 1, 1248)   0           ['block6e_se_squeeze[0][0]']     \n",
            "                                                                                                  \n",
            " block6e_se_reduce (Conv2D)     (None, 1, 1, 52)     64948       ['block6e_se_reshape[0][0]']     \n",
            "                                                                                                  \n",
            " block6e_se_expand (Conv2D)     (None, 1, 1, 1248)   66144       ['block6e_se_reduce[0][0]']      \n",
            "                                                                                                  \n",
            " block6e_se_excite (Multiply)   (None, 7, 7, 1248)   0           ['block6e_activation[0][0]',     \n",
            "                                                                  'block6e_se_expand[0][0]']      \n",
            "                                                                                                  \n",
            " block6e_project_conv (Conv2D)  (None, 7, 7, 208)    259584      ['block6e_se_excite[0][0]']      \n",
            "                                                                                                  \n",
            " block6e_project_bn (BatchNorma  (None, 7, 7, 208)   832         ['block6e_project_conv[0][0]']   \n",
            " lization)                                                                                        \n",
            "                                                                                                  \n",
            " block6e_drop (Dropout)         (None, 7, 7, 208)    0           ['block6e_project_bn[0][0]']     \n",
            "                                                                                                  \n",
            " block6e_add (Add)              (None, 7, 7, 208)    0           ['block6e_drop[0][0]',           \n",
            "                                                                  'block6d_add[0][0]']            \n",
            "                                                                                                  \n",
            " block7a_expand_conv (Conv2D)   (None, 7, 7, 1248)   259584      ['block6e_add[0][0]']            \n",
            "                                                                                                  \n",
            " block7a_expand_bn (BatchNormal  (None, 7, 7, 1248)  4992        ['block7a_expand_conv[0][0]']    \n",
            " ization)                                                                                         \n",
            "                                                                                                  \n",
            " block7a_expand_activation (Act  (None, 7, 7, 1248)  0           ['block7a_expand_bn[0][0]']      \n",
            " ivation)                                                                                         \n",
            "                                                                                                  \n",
            " block7a_dwconv (DepthwiseConv2  (None, 7, 7, 1248)  11232       ['block7a_expand_activation[0][0]\n",
            " D)                                                              ']                               \n",
            "                                                                                                  \n",
            " block7a_bn (BatchNormalization  (None, 7, 7, 1248)  4992        ['block7a_dwconv[0][0]']         \n",
            " )                                                                                                \n",
            "                                                                                                  \n",
            " block7a_activation (Activation  (None, 7, 7, 1248)  0           ['block7a_bn[0][0]']             \n",
            " )                                                                                                \n",
            "                                                                                                  \n",
            " block7a_se_squeeze (GlobalAver  (None, 1248)        0           ['block7a_activation[0][0]']     \n",
            " agePooling2D)                                                                                    \n",
            "                                                                                                  \n",
            " block7a_se_reshape (Reshape)   (None, 1, 1, 1248)   0           ['block7a_se_squeeze[0][0]']     \n",
            "                                                                                                  \n",
            " block7a_se_reduce (Conv2D)     (None, 1, 1, 52)     64948       ['block7a_se_reshape[0][0]']     \n",
            "                                                                                                  \n",
            " block7a_se_expand (Conv2D)     (None, 1, 1, 1248)   66144       ['block7a_se_reduce[0][0]']      \n",
            "                                                                                                  \n",
            " block7a_se_excite (Multiply)   (None, 7, 7, 1248)   0           ['block7a_activation[0][0]',     \n",
            "                                                                  'block7a_se_expand[0][0]']      \n",
            "                                                                                                  \n",
            " block7a_project_conv (Conv2D)  (None, 7, 7, 352)    439296      ['block7a_se_excite[0][0]']      \n",
            "                                                                                                  \n",
            " block7a_project_bn (BatchNorma  (None, 7, 7, 352)   1408        ['block7a_project_conv[0][0]']   \n",
            " lization)                                                                                        \n",
            "                                                                                                  \n",
            " block7b_expand_conv (Conv2D)   (None, 7, 7, 2112)   743424      ['block7a_project_bn[0][0]']     \n",
            "                                                                                                  \n",
            " block7b_expand_bn (BatchNormal  (None, 7, 7, 2112)  8448        ['block7b_expand_conv[0][0]']    \n",
            " ization)                                                                                         \n",
            "                                                                                                  \n",
            " block7b_expand_activation (Act  (None, 7, 7, 2112)  0           ['block7b_expand_bn[0][0]']      \n",
            " ivation)                                                                                         \n",
            "                                                                                                  \n",
            " block7b_dwconv (DepthwiseConv2  (None, 7, 7, 2112)  19008       ['block7b_expand_activation[0][0]\n",
            " D)                                                              ']                               \n",
            "                                                                                                  \n",
            " block7b_bn (BatchNormalization  (None, 7, 7, 2112)  8448        ['block7b_dwconv[0][0]']         \n",
            " )                                                                                                \n",
            "                                                                                                  \n",
            " block7b_activation (Activation  (None, 7, 7, 2112)  0           ['block7b_bn[0][0]']             \n",
            " )                                                                                                \n",
            "                                                                                                  \n",
            " block7b_se_squeeze (GlobalAver  (None, 2112)        0           ['block7b_activation[0][0]']     \n",
            " agePooling2D)                                                                                    \n",
            "                                                                                                  \n",
            " block7b_se_reshape (Reshape)   (None, 1, 1, 2112)   0           ['block7b_se_squeeze[0][0]']     \n",
            "                                                                                                  \n",
            " block7b_se_reduce (Conv2D)     (None, 1, 1, 88)     185944      ['block7b_se_reshape[0][0]']     \n",
            "                                                                                                  \n",
            " block7b_se_expand (Conv2D)     (None, 1, 1, 2112)   187968      ['block7b_se_reduce[0][0]']      \n",
            "                                                                                                  \n",
            " block7b_se_excite (Multiply)   (None, 7, 7, 2112)   0           ['block7b_activation[0][0]',     \n",
            "                                                                  'block7b_se_expand[0][0]']      \n",
            "                                                                                                  \n",
            " block7b_project_conv (Conv2D)  (None, 7, 7, 352)    743424      ['block7b_se_excite[0][0]']      \n",
            "                                                                                                  \n",
            " block7b_project_bn (BatchNorma  (None, 7, 7, 352)   1408        ['block7b_project_conv[0][0]']   \n",
            " lization)                                                                                        \n",
            "                                                                                                  \n",
            " block7b_drop (Dropout)         (None, 7, 7, 352)    0           ['block7b_project_bn[0][0]']     \n",
            "                                                                                                  \n",
            " block7b_add (Add)              (None, 7, 7, 352)    0           ['block7b_drop[0][0]',           \n",
            "                                                                  'block7a_project_bn[0][0]']     \n",
            "                                                                                                  \n",
            " top_conv (Conv2D)              (None, 7, 7, 1408)   495616      ['block7b_add[0][0]']            \n",
            "                                                                                                  \n",
            " top_bn (BatchNormalization)    (None, 7, 7, 1408)   5632        ['top_conv[0][0]']               \n",
            "                                                                                                  \n",
            " top_activation (Activation)    (None, 7, 7, 1408)   0           ['top_bn[0][0]']                 \n",
            "                                                                                                  \n",
            " global_average_pooling2d_1 (Gl  (None, 1408)        0           ['top_activation[0][0]']         \n",
            " obalAveragePooling2D)                                                                            \n",
            "                                                                                                  \n",
            " dense_3 (Dense)                (None, 512)          721408      ['global_average_pooling2d_1[0][0\n",
            "                                                                 ]']                              \n",
            "                                                                                                  \n",
            " activation_2 (Activation)      (None, 512)          0           ['dense_3[0][0]']                \n",
            "                                                                                                  \n",
            " dense_4 (Dense)                (None, 256)          131328      ['activation_2[0][0]']           \n",
            "                                                                                                  \n",
            " activation_3 (Activation)      (None, 256)          0           ['dense_4[0][0]']                \n",
            "                                                                                                  \n",
            " dense_5 (Dense)                (None, 128)          32896       ['activation_3[0][0]']           \n",
            "                                                                                                  \n",
            " unit_norm_layer_1 (UnitNormLay  (None, 128)         0           ['dense_5[0][0]']                \n",
            " er)                                                                                              \n",
            "                                                                                                  \n",
            " dropout (Dropout)              (None, 128)          0           ['unit_norm_layer_1[0][0]']      \n",
            "                                                                                                  \n",
            " dense_6 (Dense)                (None, 64)           8256        ['dropout[0][0]']                \n",
            "                                                                                                  \n",
            " dropout_1 (Dropout)            (None, 64)           0           ['dense_6[0][0]']                \n",
            "                                                                                                  \n",
            " dense_7 (Dense)                (None, 23)           1495        ['dropout_1[0][0]']              \n",
            "                                                                                                  \n",
            "==================================================================================================\n",
            "Total params: 8,663,952\n",
            "Trainable params: 9,751\n",
            "Non-trainable params: 8,654,201\n",
            "__________________________________________________________________________________________________\n"
          ]
        }
      ]
    },
    {
      "cell_type": "code",
      "source": [
        "train_loss = tf.keras.metrics.Mean(name='train_loss')\n",
        "train_acc = tf.keras.metrics.SparseCategoricalAccuracy(name='train_ACC')\n",
        "\n",
        "test_loss = tf.keras.metrics.Mean(name='test_loss')\n",
        "test_acc = tf.keras.metrics.SparseCategoricalAccuracy(name='test_ACC')"
      ],
      "metadata": {
        "id": "WBqc_xfFtACx"
      },
      "execution_count": null,
      "outputs": []
    },
    {
      "cell_type": "code",
      "source": [
        "cce_loss_obj = tf.keras.losses.SparseCategoricalCrossentropy(from_logits=False)"
      ],
      "metadata": {
        "id": "e7csu74ntuq3"
      },
      "execution_count": null,
      "outputs": []
    },
    {
      "cell_type": "code",
      "source": [
        "sample_weight = tf.random.uniform((tf.shape(y_train)[0], 1),\n",
        "                                    minval=0,\n",
        "                                    maxval=1,\n",
        "                                    dtype=tf.float32)\n",
        "sample_weight"
      ],
      "metadata": {
        "colab": {
          "base_uri": "https://localhost:8080/"
        },
        "id": "xqyfWUEOHb7h",
        "outputId": "6d3acc85-6aca-42a2-a6c0-b77bf4985c48"
      },
      "execution_count": null,
      "outputs": [
        {
          "output_type": "execute_result",
          "data": {
            "text/plain": [
              "<tf.Tensor: shape=(8529, 1), dtype=float32, numpy=\n",
              "array([[0.7861433 ],\n",
              "       [0.49920297],\n",
              "       [0.29927063],\n",
              "       ...,\n",
              "       [0.05716491],\n",
              "       [0.14451802],\n",
              "       [0.6533736 ]], dtype=float32)>"
            ]
          },
          "metadata": {},
          "execution_count": 32
        }
      ]
    },
    {
      "cell_type": "code",
      "source": [
        "@tf.function\n",
        "# train step for the 2nd stage\n",
        "def train_step(x, y,sample_weight):\n",
        "    '''\n",
        "    x: data tensor, shape: (batch_size, data_dim)\n",
        "    y: data labels, shape: (batch_size, )\n",
        "    '''\n",
        "    with tf.GradientTape() as tape:\n",
        "        y_preds = classifier(x, training=True)\n",
        "        loss = cce_loss_obj(y, y_preds,sample_weight = sample_weight)\n",
        "\n",
        "    # freeze the encoder, only train the softmax layer\n",
        "    gradients = tape.gradient(loss,\n",
        "                              classifier.trainable_variables)\n",
        "    classifier_optimizer.apply_gradients(zip(gradients,\n",
        "                                  classifier.trainable_variables))\n",
        "\n",
        "    train_loss(loss)\n",
        "    train_acc(y, y_preds)"
      ],
      "metadata": {
        "id": "OGG-FUjOtzIV"
      },
      "execution_count": null,
      "outputs": []
    },
    {
      "cell_type": "code",
      "source": [
        "@tf.function\n",
        "def test_step(x, y):\n",
        "    y_preds = classifier(x, training=False)\n",
        "    t_loss = cce_loss_obj(y, y_preds)\n",
        "    test_loss(t_loss)\n",
        "    test_acc(y, y_preds)"
      ],
      "metadata": {
        "id": "t07WobfvtzvX"
      },
      "execution_count": null,
      "outputs": []
    },
    {
      "cell_type": "code",
      "source": [
        "#classifier training\n",
        "train_loss_dict_classifier = {}\n",
        "test_loss_dict_classifier = {}\n",
        "train_acc_dict = {}\n",
        "test_acc_dict = {}\n",
        "\n",
        "for epoch in range(220):\n",
        "    # Reset the metrics at the start of the next epoch\n",
        "    train_loss.reset_states()\n",
        "    train_acc.reset_states()\n",
        "    test_loss.reset_states()\n",
        "    test_acc.reset_states()\n",
        "\n",
        "\n",
        "    for x, y in tqdm(train_ds2):\n",
        "        #print(x.shape,y.shape)\n",
        "        sample_weight = tf.random.uniform((tf.shape(x)[0], 1),\n",
        "                                    minval=0,\n",
        "                                    maxval=1,\n",
        "                                    dtype=tf.float32)\n",
        "        train_step(x, y,sample_weight)\n",
        "\n",
        "    for x_te, y_te in test_ds:\n",
        "        test_step(x_te, y_te)\n",
        "\n",
        "    template = 'Epoch {}, Train Loss: {}, Train Acc: {}, Test Loss: {}, Test Acc: {}'\n",
        "    print(template.format(epoch + 1,train_loss.result(), train_acc.result() * 100,test_loss.result(),test_acc.result() * 100))\n",
        "    train_loss_dict_classifier[epoch] = train_loss.result().numpy()\n",
        "    test_loss_dict_classifier[epoch] = test_loss.result().numpy()\n",
        "    train_acc_dict[epoch] = train_acc.result().numpy()*100\n",
        "    test_acc_dict[epoch] = test_acc.result().numpy()*100"
      ],
      "metadata": {
        "colab": {
          "base_uri": "https://localhost:8080/"
        },
        "id": "yJ6eg-hNt14-",
        "outputId": "9bcf63e5-20e4-47aa-8e67-1c0363f3065f"
      },
      "execution_count": null,
      "outputs": [
        {
          "output_type": "stream",
          "name": "stderr",
          "text": [
            "100%|██████████| 134/134 [00:46<00:00,  2.89it/s]\n"
          ]
        },
        {
          "output_type": "stream",
          "name": "stdout",
          "text": [
            "Epoch 1, Train Loss: 1.5642186403274536, Train Acc: 4.502286434173584, Test Loss: 3.1322543621063232, Test Acc: 3.469292163848877\n"
          ]
        },
        {
          "output_type": "stream",
          "name": "stderr",
          "text": [
            "100%|██████████| 134/134 [00:20<00:00,  6.67it/s]\n"
          ]
        },
        {
          "output_type": "stream",
          "name": "stdout",
          "text": [
            "Epoch 2, Train Loss: 1.5585951805114746, Train Acc: 5.569234371185303, Test Loss: 3.110503911972046, Test Acc: 4.313173770904541\n"
          ]
        },
        {
          "output_type": "stream",
          "name": "stderr",
          "text": [
            "100%|██████████| 134/134 [00:20<00:00,  6.63it/s]\n"
          ]
        },
        {
          "output_type": "stream",
          "name": "stdout",
          "text": [
            "Epoch 3, Train Loss: 1.5479212999343872, Train Acc: 6.917574882507324, Test Loss: 3.088301420211792, Test Acc: 7.688701152801514\n"
          ]
        },
        {
          "output_type": "stream",
          "name": "stderr",
          "text": [
            "100%|██████████| 134/134 [00:20<00:00,  6.58it/s]\n"
          ]
        },
        {
          "output_type": "stream",
          "name": "stdout",
          "text": [
            "Epoch 4, Train Loss: 1.544885516166687, Train Acc: 8.816977500915527, Test Loss: 3.0655252933502197, Test Acc: 18.565401077270508\n"
          ]
        },
        {
          "output_type": "stream",
          "name": "stderr",
          "text": [
            "100%|██████████| 134/134 [00:20<00:00,  6.58it/s]\n"
          ]
        },
        {
          "output_type": "stream",
          "name": "stdout",
          "text": [
            "Epoch 5, Train Loss: 1.5167901515960693, Train Acc: 10.681204795837402, Test Loss: 3.042109966278076, Test Acc: 21.42522430419922\n"
          ]
        },
        {
          "output_type": "stream",
          "name": "stderr",
          "text": [
            "100%|██████████| 134/134 [00:20<00:00,  6.55it/s]\n"
          ]
        },
        {
          "output_type": "stream",
          "name": "stdout",
          "text": [
            "Epoch 6, Train Loss: 1.5118844509124756, Train Acc: 12.68613052368164, Test Loss: 3.019868850708008, Test Acc: 25.363338470458984\n"
          ]
        },
        {
          "output_type": "stream",
          "name": "stderr",
          "text": [
            "100%|██████████| 134/134 [00:40<00:00,  3.27it/s]\n"
          ]
        },
        {
          "output_type": "stream",
          "name": "stdout",
          "text": [
            "Epoch 7, Train Loss: 1.4993129968643188, Train Acc: 14.468283653259277, Test Loss: 2.9923617839813232, Test Acc: 28.8795108795166\n"
          ]
        },
        {
          "output_type": "stream",
          "name": "stderr",
          "text": [
            "100%|██████████| 134/134 [00:20<00:00,  6.39it/s]\n"
          ]
        },
        {
          "output_type": "stream",
          "name": "stdout",
          "text": [
            "Epoch 8, Train Loss: 1.494251012802124, Train Acc: 16.355960845947266, Test Loss: 2.9661052227020264, Test Acc: 33.42709732055664\n"
          ]
        },
        {
          "output_type": "stream",
          "name": "stderr",
          "text": [
            "100%|██████████| 134/134 [00:40<00:00,  3.27it/s]\n"
          ]
        },
        {
          "output_type": "stream",
          "name": "stdout",
          "text": [
            "Epoch 9, Train Loss: 1.474853515625, Train Acc: 18.583656311035156, Test Loss: 2.935790538787842, Test Acc: 37.45897674560547\n"
          ]
        },
        {
          "output_type": "stream",
          "name": "stderr",
          "text": [
            "100%|██████████| 134/134 [00:40<00:00,  3.27it/s]\n"
          ]
        },
        {
          "output_type": "stream",
          "name": "stdout",
          "text": [
            "Epoch 10, Train Loss: 1.48104989528656, Train Acc: 19.568531036376953, Test Loss: 2.905515670776367, Test Acc: 40.17815399169922\n"
          ]
        },
        {
          "output_type": "stream",
          "name": "stderr",
          "text": [
            "100%|██████████| 134/134 [00:40<00:00,  3.27it/s]\n"
          ]
        },
        {
          "output_type": "stream",
          "name": "stdout",
          "text": [
            "Epoch 11, Train Loss: 1.4453728199005127, Train Acc: 20.998945236206055, Test Loss: 2.8753538131713867, Test Acc: 42.194091796875\n"
          ]
        },
        {
          "output_type": "stream",
          "name": "stderr",
          "text": [
            "100%|██████████| 134/134 [00:40<00:00,  3.27it/s]\n"
          ]
        },
        {
          "output_type": "stream",
          "name": "stdout",
          "text": [
            "Epoch 12, Train Loss: 1.4467436075210571, Train Acc: 22.230037689208984, Test Loss: 2.843804121017456, Test Acc: 42.8973274230957\n"
          ]
        },
        {
          "output_type": "stream",
          "name": "stderr",
          "text": [
            "100%|██████████| 134/134 [00:20<00:00,  6.55it/s]\n"
          ]
        },
        {
          "output_type": "stream",
          "name": "stdout",
          "text": [
            "Epoch 13, Train Loss: 1.4312310218811035, Train Acc: 22.839723587036133, Test Loss: 2.8126721382141113, Test Acc: 43.178619384765625\n"
          ]
        },
        {
          "output_type": "stream",
          "name": "stderr",
          "text": [
            "100%|██████████| 134/134 [00:20<00:00,  6.56it/s]\n"
          ]
        },
        {
          "output_type": "stream",
          "name": "stdout",
          "text": [
            "Epoch 14, Train Loss: 1.4229520559310913, Train Acc: 23.765975952148438, Test Loss: 2.7813398838043213, Test Acc: 43.0379753112793\n"
          ]
        },
        {
          "output_type": "stream",
          "name": "stderr",
          "text": [
            "100%|██████████| 134/134 [00:20<00:00,  6.55it/s]\n"
          ]
        },
        {
          "output_type": "stream",
          "name": "stdout",
          "text": [
            "Epoch 15, Train Loss: 1.4138847589492798, Train Acc: 24.797748565673828, Test Loss: 2.7455811500549316, Test Acc: 43.45991516113281\n"
          ]
        },
        {
          "output_type": "stream",
          "name": "stderr",
          "text": [
            "100%|██████████| 134/134 [00:20<00:00,  6.54it/s]\n"
          ]
        },
        {
          "output_type": "stream",
          "name": "stdout",
          "text": [
            "Epoch 16, Train Loss: 1.3763010501861572, Train Acc: 26.087465286254883, Test Loss: 2.7139759063720703, Test Acc: 43.41303253173828\n"
          ]
        },
        {
          "output_type": "stream",
          "name": "stderr",
          "text": [
            "100%|██████████| 134/134 [00:20<00:00,  6.50it/s]\n"
          ]
        },
        {
          "output_type": "stream",
          "name": "stdout",
          "text": [
            "Epoch 17, Train Loss: 1.3756093978881836, Train Acc: 26.544729232788086, Test Loss: 2.6788110733032227, Test Acc: 43.78809356689453\n"
          ]
        },
        {
          "output_type": "stream",
          "name": "stderr",
          "text": [
            "100%|██████████| 134/134 [00:20<00:00,  6.42it/s]\n"
          ]
        },
        {
          "output_type": "stream",
          "name": "stdout",
          "text": [
            "Epoch 18, Train Loss: 1.3602019548416138, Train Acc: 26.556453704833984, Test Loss: 2.6486523151397705, Test Acc: 44.06938552856445\n"
          ]
        },
        {
          "output_type": "stream",
          "name": "stderr",
          "text": [
            "100%|██████████| 134/134 [00:40<00:00,  3.27it/s]\n"
          ]
        },
        {
          "output_type": "stream",
          "name": "stdout",
          "text": [
            "Epoch 19, Train Loss: 1.347650408744812, Train Acc: 27.588228225708008, Test Loss: 2.6172056198120117, Test Acc: 44.4444465637207\n"
          ]
        },
        {
          "output_type": "stream",
          "name": "stderr",
          "text": [
            "100%|██████████| 134/134 [00:40<00:00,  3.27it/s]\n"
          ]
        },
        {
          "output_type": "stream",
          "name": "stdout",
          "text": [
            "Epoch 20, Train Loss: 1.3336200714111328, Train Acc: 28.73724937438965, Test Loss: 2.582993745803833, Test Acc: 45.10079574584961\n"
          ]
        },
        {
          "output_type": "stream",
          "name": "stderr",
          "text": [
            "100%|██████████| 134/134 [00:20<00:00,  6.43it/s]\n"
          ]
        },
        {
          "output_type": "stream",
          "name": "stdout",
          "text": [
            "Epoch 21, Train Loss: 1.3078193664550781, Train Acc: 28.877946853637695, Test Loss: 2.55171799659729, Test Acc: 45.99156188964844\n"
          ]
        },
        {
          "output_type": "stream",
          "name": "stderr",
          "text": [
            "100%|██████████| 134/134 [00:20<00:00,  6.48it/s]\n"
          ]
        },
        {
          "output_type": "stream",
          "name": "stdout",
          "text": [
            "Epoch 22, Train Loss: 1.3115477561950684, Train Acc: 29.722124099731445, Test Loss: 2.5213019847869873, Test Acc: 46.97608947753906\n"
          ]
        },
        {
          "output_type": "stream",
          "name": "stderr",
          "text": [
            "100%|██████████| 134/134 [00:40<00:00,  3.27it/s]\n"
          ]
        },
        {
          "output_type": "stream",
          "name": "stdout",
          "text": [
            "Epoch 23, Train Loss: 1.3011542558670044, Train Acc: 30.261459350585938, Test Loss: 2.49094295501709, Test Acc: 47.81997299194336\n"
          ]
        },
        {
          "output_type": "stream",
          "name": "stderr",
          "text": [
            "100%|██████████| 134/134 [00:20<00:00,  6.43it/s]\n"
          ]
        },
        {
          "output_type": "stream",
          "name": "stdout",
          "text": [
            "Epoch 24, Train Loss: 1.2761772871017456, Train Acc: 31.0001163482666, Test Loss: 2.459231376647949, Test Acc: 48.5232048034668\n"
          ]
        },
        {
          "output_type": "stream",
          "name": "stderr",
          "text": [
            "100%|██████████| 134/134 [00:20<00:00,  6.43it/s]\n"
          ]
        },
        {
          "output_type": "stream",
          "name": "stdout",
          "text": [
            "Epoch 25, Train Loss: 1.2680519819259644, Train Acc: 31.785673141479492, Test Loss: 2.433175563812256, Test Acc: 49.413970947265625\n"
          ]
        },
        {
          "output_type": "stream",
          "name": "stderr",
          "text": [
            "100%|██████████| 134/134 [00:20<00:00,  6.50it/s]\n"
          ]
        },
        {
          "output_type": "stream",
          "name": "stdout",
          "text": [
            "Epoch 26, Train Loss: 1.2424408197402954, Train Acc: 32.31328582763672, Test Loss: 2.40427827835083, Test Acc: 50.67979049682617\n"
          ]
        },
        {
          "output_type": "stream",
          "name": "stderr",
          "text": [
            "100%|██████████| 134/134 [00:20<00:00,  6.46it/s]\n"
          ]
        },
        {
          "output_type": "stream",
          "name": "stdout",
          "text": [
            "Epoch 27, Train Loss: 1.2571011781692505, Train Acc: 33.01676559448242, Test Loss: 2.373676300048828, Test Acc: 50.961090087890625\n"
          ]
        },
        {
          "output_type": "stream",
          "name": "stderr",
          "text": [
            "100%|██████████| 134/134 [00:40<00:00,  3.27it/s]\n"
          ]
        },
        {
          "output_type": "stream",
          "name": "stdout",
          "text": [
            "Epoch 28, Train Loss: 1.2275669574737549, Train Acc: 33.75542068481445, Test Loss: 2.344634771347046, Test Acc: 51.89873504638672\n"
          ]
        },
        {
          "output_type": "stream",
          "name": "stderr",
          "text": [
            "100%|██████████| 134/134 [00:20<00:00,  6.45it/s]\n"
          ]
        },
        {
          "output_type": "stream",
          "name": "stdout",
          "text": [
            "Epoch 29, Train Loss: 1.2161674499511719, Train Acc: 34.90444564819336, Test Loss: 2.3200838565826416, Test Acc: 52.086265563964844\n"
          ]
        },
        {
          "output_type": "stream",
          "name": "stderr",
          "text": [
            "100%|██████████| 134/134 [00:20<00:00,  6.41it/s]\n"
          ]
        },
        {
          "output_type": "stream",
          "name": "stdout",
          "text": [
            "Epoch 30, Train Loss: 1.211408019065857, Train Acc: 35.291358947753906, Test Loss: 2.2983274459838867, Test Acc: 52.4144401550293\n"
          ]
        },
        {
          "output_type": "stream",
          "name": "stderr",
          "text": [
            "100%|██████████| 134/134 [00:20<00:00,  6.49it/s]\n"
          ]
        },
        {
          "output_type": "stream",
          "name": "stdout",
          "text": [
            "Epoch 31, Train Loss: 1.184450626373291, Train Acc: 36.31140899658203, Test Loss: 2.267155170440674, Test Acc: 52.883262634277344\n"
          ]
        },
        {
          "output_type": "stream",
          "name": "stderr",
          "text": [
            "100%|██████████| 134/134 [00:40<00:00,  3.27it/s]\n"
          ]
        },
        {
          "output_type": "stream",
          "name": "stdout",
          "text": [
            "Epoch 32, Train Loss: 1.2013202905654907, Train Acc: 36.33485794067383, Test Loss: 2.242952346801758, Test Acc: 53.11767578125\n"
          ]
        },
        {
          "output_type": "stream",
          "name": "stderr",
          "text": [
            "100%|██████████| 134/134 [00:20<00:00,  6.55it/s]\n"
          ]
        },
        {
          "output_type": "stream",
          "name": "stdout",
          "text": [
            "Epoch 33, Train Loss: 1.1683390140533447, Train Acc: 37.70664978027344, Test Loss: 2.216860055923462, Test Acc: 53.44585037231445\n"
          ]
        },
        {
          "output_type": "stream",
          "name": "stderr",
          "text": [
            "100%|██████████| 134/134 [00:40<00:00,  3.27it/s]\n"
          ]
        },
        {
          "output_type": "stream",
          "name": "stdout",
          "text": [
            "Epoch 34, Train Loss: 1.1606112718582153, Train Acc: 37.65974807739258, Test Loss: 2.1908164024353027, Test Acc: 53.49272918701172\n"
          ]
        },
        {
          "output_type": "stream",
          "name": "stderr",
          "text": [
            "100%|██████████| 134/134 [00:40<00:00,  3.27it/s]\n"
          ]
        },
        {
          "output_type": "stream",
          "name": "stdout",
          "text": [
            "Epoch 35, Train Loss: 1.1595726013183594, Train Acc: 37.730098724365234, Test Loss: 2.1672186851501465, Test Acc: 53.49272918701172\n"
          ]
        },
        {
          "output_type": "stream",
          "name": "stderr",
          "text": [
            "100%|██████████| 134/134 [00:20<00:00,  6.48it/s]\n"
          ]
        },
        {
          "output_type": "stream",
          "name": "stdout",
          "text": [
            "Epoch 36, Train Loss: 1.1506115198135376, Train Acc: 38.56254959106445, Test Loss: 2.142346143722534, Test Acc: 53.58649444580078\n"
          ]
        },
        {
          "output_type": "stream",
          "name": "stderr",
          "text": [
            "100%|██████████| 134/134 [00:20<00:00,  6.43it/s]\n"
          ]
        },
        {
          "output_type": "stream",
          "name": "stdout",
          "text": [
            "Epoch 37, Train Loss: 1.1313633918762207, Train Acc: 39.54742431640625, Test Loss: 2.1200265884399414, Test Acc: 53.68026351928711\n"
          ]
        },
        {
          "output_type": "stream",
          "name": "stderr",
          "text": [
            "100%|██████████| 134/134 [00:40<00:00,  3.27it/s]\n"
          ]
        },
        {
          "output_type": "stream",
          "name": "stdout",
          "text": [
            "Epoch 38, Train Loss: 1.1282672882080078, Train Acc: 39.74674606323242, Test Loss: 2.102576971054077, Test Acc: 53.77402877807617\n"
          ]
        },
        {
          "output_type": "stream",
          "name": "stderr",
          "text": [
            "100%|██████████| 134/134 [00:40<00:00,  3.27it/s]\n"
          ]
        },
        {
          "output_type": "stream",
          "name": "stdout",
          "text": [
            "Epoch 39, Train Loss: 1.1247810125350952, Train Acc: 40.91921615600586, Test Loss: 2.074889659881592, Test Acc: 53.77402877807617\n"
          ]
        },
        {
          "output_type": "stream",
          "name": "stderr",
          "text": [
            "100%|██████████| 134/134 [00:20<00:00,  6.44it/s]\n"
          ]
        },
        {
          "output_type": "stream",
          "name": "stdout",
          "text": [
            "Epoch 40, Train Loss: 1.0955636501312256, Train Acc: 40.53230285644531, Test Loss: 2.0544016361236572, Test Acc: 53.82090759277344\n"
          ]
        },
        {
          "output_type": "stream",
          "name": "stderr",
          "text": [
            "100%|██████████| 134/134 [00:20<00:00,  6.47it/s]\n"
          ]
        },
        {
          "output_type": "stream",
          "name": "stdout",
          "text": [
            "Epoch 41, Train Loss: 1.0942753553390503, Train Acc: 41.73994827270508, Test Loss: 2.023470878601074, Test Acc: 53.77402877807617\n"
          ]
        },
        {
          "output_type": "stream",
          "name": "stderr",
          "text": [
            "100%|██████████| 134/134 [00:40<00:00,  3.27it/s]\n"
          ]
        },
        {
          "output_type": "stream",
          "name": "stdout",
          "text": [
            "Epoch 42, Train Loss: 1.08951735496521, Train Acc: 41.165435791015625, Test Loss: 2.0007686614990234, Test Acc: 53.77402877807617\n"
          ]
        },
        {
          "output_type": "stream",
          "name": "stderr",
          "text": [
            "100%|██████████| 134/134 [00:20<00:00,  6.44it/s]\n"
          ]
        },
        {
          "output_type": "stream",
          "name": "stdout",
          "text": [
            "Epoch 43, Train Loss: 1.0912857055664062, Train Acc: 41.786842346191406, Test Loss: 1.9816787242889404, Test Acc: 53.727142333984375\n"
          ]
        },
        {
          "output_type": "stream",
          "name": "stderr",
          "text": [
            "100%|██████████| 134/134 [00:20<00:00,  6.43it/s]\n"
          ]
        },
        {
          "output_type": "stream",
          "name": "stdout",
          "text": [
            "Epoch 44, Train Loss: 1.0800584554672241, Train Acc: 42.619300842285156, Test Loss: 1.9626355171203613, Test Acc: 53.727142333984375\n"
          ]
        },
        {
          "output_type": "stream",
          "name": "stderr",
          "text": [
            "100%|██████████| 134/134 [00:20<00:00,  6.50it/s]\n"
          ]
        },
        {
          "output_type": "stream",
          "name": "stdout",
          "text": [
            "Epoch 45, Train Loss: 1.0706487894058228, Train Acc: 43.639347076416016, Test Loss: 1.9443397521972656, Test Acc: 53.77402877807617\n"
          ]
        },
        {
          "output_type": "stream",
          "name": "stderr",
          "text": [
            "100%|██████████| 134/134 [00:20<00:00,  6.49it/s]\n"
          ]
        },
        {
          "output_type": "stream",
          "name": "stdout",
          "text": [
            "Epoch 46, Train Loss: 1.058272123336792, Train Acc: 43.47520065307617, Test Loss: 1.9263689517974854, Test Acc: 53.77402877807617\n"
          ]
        },
        {
          "output_type": "stream",
          "name": "stderr",
          "text": [
            "100%|██████████| 134/134 [00:40<00:00,  3.27it/s]\n"
          ]
        },
        {
          "output_type": "stream",
          "name": "stdout",
          "text": [
            "Epoch 47, Train Loss: 1.047415852546692, Train Acc: 43.0531120300293, Test Loss: 1.9009371995925903, Test Acc: 53.82090759277344\n"
          ]
        },
        {
          "output_type": "stream",
          "name": "stderr",
          "text": [
            "100%|██████████| 134/134 [00:20<00:00,  6.45it/s]\n"
          ]
        },
        {
          "output_type": "stream",
          "name": "stdout",
          "text": [
            "Epoch 48, Train Loss: 1.0502902269363403, Train Acc: 43.932464599609375, Test Loss: 1.8810911178588867, Test Acc: 53.82090759277344\n"
          ]
        },
        {
          "output_type": "stream",
          "name": "stderr",
          "text": [
            "100%|██████████| 134/134 [00:20<00:00,  6.42it/s]\n"
          ]
        },
        {
          "output_type": "stream",
          "name": "stdout",
          "text": [
            "Epoch 49, Train Loss: 1.0218850374221802, Train Acc: 43.66279983520508, Test Loss: 1.8630716800689697, Test Acc: 53.82090759277344\n"
          ]
        },
        {
          "output_type": "stream",
          "name": "stderr",
          "text": [
            "100%|██████████| 134/134 [00:20<00:00,  6.51it/s]\n"
          ]
        },
        {
          "output_type": "stream",
          "name": "stdout",
          "text": [
            "Epoch 50, Train Loss: 1.0194183588027954, Train Acc: 44.647674560546875, Test Loss: 1.848008394241333, Test Acc: 53.727142333984375\n"
          ]
        },
        {
          "output_type": "stream",
          "name": "stderr",
          "text": [
            "100%|██████████| 134/134 [00:20<00:00,  6.47it/s]\n"
          ]
        },
        {
          "output_type": "stream",
          "name": "stdout",
          "text": [
            "Epoch 51, Train Loss: 1.0319591760635376, Train Acc: 45.32770538330078, Test Loss: 1.8241071701049805, Test Acc: 53.68026351928711\n"
          ]
        },
        {
          "output_type": "stream",
          "name": "stderr",
          "text": [
            "100%|██████████| 134/134 [00:40<00:00,  3.27it/s]\n"
          ]
        },
        {
          "output_type": "stream",
          "name": "stdout",
          "text": [
            "Epoch 52, Train Loss: 0.9933460354804993, Train Acc: 44.75319290161133, Test Loss: 1.8110371828079224, Test Acc: 53.727142333984375\n"
          ]
        },
        {
          "output_type": "stream",
          "name": "stderr",
          "text": [
            "100%|██████████| 134/134 [00:20<00:00,  6.44it/s]\n"
          ]
        },
        {
          "output_type": "stream",
          "name": "stdout",
          "text": [
            "Epoch 53, Train Loss: 0.996412456035614, Train Acc: 45.14011001586914, Test Loss: 1.7878507375717163, Test Acc: 53.77402877807617\n"
          ]
        },
        {
          "output_type": "stream",
          "name": "stderr",
          "text": [
            "100%|██████████| 134/134 [00:20<00:00,  6.41it/s]\n"
          ]
        },
        {
          "output_type": "stream",
          "name": "stdout",
          "text": [
            "Epoch 54, Train Loss: 0.9950839281082153, Train Acc: 46.06636047363281, Test Loss: 1.7741144895553589, Test Acc: 53.867794036865234\n"
          ]
        },
        {
          "output_type": "stream",
          "name": "stderr",
          "text": [
            "100%|██████████| 134/134 [00:40<00:00,  3.27it/s]\n"
          ]
        },
        {
          "output_type": "stream",
          "name": "stdout",
          "text": [
            "Epoch 55, Train Loss: 0.9845007061958313, Train Acc: 45.79669189453125, Test Loss: 1.7577766180038452, Test Acc: 53.9146728515625\n"
          ]
        },
        {
          "output_type": "stream",
          "name": "stderr",
          "text": [
            "100%|██████████| 134/134 [00:40<00:00,  3.27it/s]\n"
          ]
        },
        {
          "output_type": "stream",
          "name": "stdout",
          "text": [
            "Epoch 56, Train Loss: 0.9883698225021362, Train Acc: 46.42982864379883, Test Loss: 1.74504816532135, Test Acc: 54.055320739746094\n"
          ]
        },
        {
          "output_type": "stream",
          "name": "stderr",
          "text": [
            "100%|██████████| 134/134 [00:20<00:00,  6.44it/s]\n"
          ]
        },
        {
          "output_type": "stream",
          "name": "stdout",
          "text": [
            "Epoch 57, Train Loss: 0.9688143134117126, Train Acc: 46.347755432128906, Test Loss: 1.7308841943740845, Test Acc: 54.149085998535156\n"
          ]
        },
        {
          "output_type": "stream",
          "name": "stderr",
          "text": [
            "100%|██████████| 134/134 [00:40<00:00,  3.27it/s]\n"
          ]
        },
        {
          "output_type": "stream",
          "name": "stdout",
          "text": [
            "Epoch 58, Train Loss: 0.9768913388252258, Train Acc: 46.47672653198242, Test Loss: 1.720859169960022, Test Acc: 54.336612701416016\n"
          ]
        },
        {
          "output_type": "stream",
          "name": "stderr",
          "text": [
            "100%|██████████| 134/134 [00:40<00:00,  3.27it/s]\n"
          ]
        },
        {
          "output_type": "stream",
          "name": "stdout",
          "text": [
            "Epoch 59, Train Loss: 0.9638245105743408, Train Acc: 46.79329299926758, Test Loss: 1.6882154941558838, Test Acc: 54.43037796020508\n"
          ]
        },
        {
          "output_type": "stream",
          "name": "stderr",
          "text": [
            "100%|██████████| 134/134 [00:40<00:00,  3.27it/s]\n"
          ]
        },
        {
          "output_type": "stream",
          "name": "stdout",
          "text": [
            "Epoch 60, Train Loss: 0.9549094438552856, Train Acc: 47.09813690185547, Test Loss: 1.6840862035751343, Test Acc: 54.52414321899414\n"
          ]
        },
        {
          "output_type": "stream",
          "name": "stderr",
          "text": [
            "100%|██████████| 134/134 [00:40<00:00,  3.27it/s]\n"
          ]
        },
        {
          "output_type": "stream",
          "name": "stdout",
          "text": [
            "Epoch 61, Train Loss: 0.9497420191764832, Train Acc: 47.06296157836914, Test Loss: 1.6701196432113647, Test Acc: 54.52414321899414\n"
          ]
        },
        {
          "output_type": "stream",
          "name": "stderr",
          "text": [
            "100%|██████████| 134/134 [00:40<00:00,  3.27it/s]\n"
          ]
        },
        {
          "output_type": "stream",
          "name": "stdout",
          "text": [
            "Epoch 62, Train Loss: 0.9477498531341553, Train Acc: 47.227108001708984, Test Loss: 1.6511623859405518, Test Acc: 54.57102584838867\n"
          ]
        },
        {
          "output_type": "stream",
          "name": "stderr",
          "text": [
            "100%|██████████| 134/134 [00:20<00:00,  6.43it/s]\n"
          ]
        },
        {
          "output_type": "stream",
          "name": "stdout",
          "text": [
            "Epoch 63, Train Loss: 0.9402155876159668, Train Acc: 47.49677658081055, Test Loss: 1.6329330205917358, Test Acc: 54.664791107177734\n"
          ]
        },
        {
          "output_type": "stream",
          "name": "stderr",
          "text": [
            "100%|██████████| 134/134 [00:40<00:00,  3.27it/s]\n"
          ]
        },
        {
          "output_type": "stream",
          "name": "stdout",
          "text": [
            "Epoch 64, Train Loss: 0.9412440657615662, Train Acc: 46.92226791381836, Test Loss: 1.6266652345657349, Test Acc: 54.664791107177734\n"
          ]
        },
        {
          "output_type": "stream",
          "name": "stderr",
          "text": [
            "100%|██████████| 134/134 [00:20<00:00,  6.49it/s]\n"
          ]
        },
        {
          "output_type": "stream",
          "name": "stdout",
          "text": [
            "Epoch 65, Train Loss: 0.9344158172607422, Train Acc: 47.68437194824219, Test Loss: 1.6165510416030884, Test Acc: 54.80543899536133\n"
          ]
        },
        {
          "output_type": "stream",
          "name": "stderr",
          "text": [
            "100%|██████████| 134/134 [00:40<00:00,  3.27it/s]\n"
          ]
        },
        {
          "output_type": "stream",
          "name": "stdout",
          "text": [
            "Epoch 66, Train Loss: 0.9114830493927002, Train Acc: 48.69269561767578, Test Loss: 1.593548059463501, Test Acc: 55.13361740112305\n"
          ]
        },
        {
          "output_type": "stream",
          "name": "stderr",
          "text": [
            "100%|██████████| 134/134 [00:40<00:00,  3.27it/s]\n"
          ]
        },
        {
          "output_type": "stream",
          "name": "stdout",
          "text": [
            "Epoch 67, Train Loss: 0.9011585116386414, Train Acc: 48.03611373901367, Test Loss: 1.588017463684082, Test Acc: 55.13361740112305\n"
          ]
        },
        {
          "output_type": "stream",
          "name": "stderr",
          "text": [
            "100%|██████████| 134/134 [00:40<00:00,  3.27it/s]\n"
          ]
        },
        {
          "output_type": "stream",
          "name": "stdout",
          "text": [
            "Epoch 68, Train Loss: 0.9157350659370422, Train Acc: 48.23543167114258, Test Loss: 1.566157341003418, Test Acc: 55.274261474609375\n"
          ]
        },
        {
          "output_type": "stream",
          "name": "stderr",
          "text": [
            "100%|██████████| 134/134 [00:20<00:00,  6.49it/s]\n"
          ]
        },
        {
          "output_type": "stream",
          "name": "stdout",
          "text": [
            "Epoch 69, Train Loss: 0.9014157652854919, Train Acc: 48.751319885253906, Test Loss: 1.566998839378357, Test Acc: 55.321144104003906\n"
          ]
        },
        {
          "output_type": "stream",
          "name": "stderr",
          "text": [
            "100%|██████████| 134/134 [00:20<00:00,  6.40it/s]\n"
          ]
        },
        {
          "output_type": "stream",
          "name": "stdout",
          "text": [
            "Epoch 70, Train Loss: 0.8954254388809204, Train Acc: 48.751319885253906, Test Loss: 1.5555957555770874, Test Acc: 55.74308776855469\n"
          ]
        },
        {
          "output_type": "stream",
          "name": "stderr",
          "text": [
            "100%|██████████| 134/134 [00:20<00:00,  6.49it/s]\n"
          ]
        },
        {
          "output_type": "stream",
          "name": "stdout",
          "text": [
            "Epoch 71, Train Loss: 0.8859643340110779, Train Acc: 48.786495208740234, Test Loss: 1.5352177619934082, Test Acc: 55.78996658325195\n"
          ]
        },
        {
          "output_type": "stream",
          "name": "stderr",
          "text": [
            "100%|██████████| 134/134 [00:20<00:00,  6.49it/s]\n"
          ]
        },
        {
          "output_type": "stream",
          "name": "stdout",
          "text": [
            "Epoch 72, Train Loss: 0.8911691904067993, Train Acc: 48.845115661621094, Test Loss: 1.5316226482391357, Test Acc: 55.88372802734375\n"
          ]
        },
        {
          "output_type": "stream",
          "name": "stderr",
          "text": [
            "100%|██████████| 134/134 [00:20<00:00,  6.47it/s]\n"
          ]
        },
        {
          "output_type": "stream",
          "name": "stdout",
          "text": [
            "Epoch 73, Train Loss: 0.8864955306053162, Train Acc: 48.76304244995117, Test Loss: 1.5168676376342773, Test Acc: 56.02437973022461\n"
          ]
        },
        {
          "output_type": "stream",
          "name": "stderr",
          "text": [
            "100%|██████████| 134/134 [00:20<00:00,  6.47it/s]\n"
          ]
        },
        {
          "output_type": "stream",
          "name": "stdout",
          "text": [
            "Epoch 74, Train Loss: 0.8773614168167114, Train Acc: 49.31410598754883, Test Loss: 1.5064384937286377, Test Acc: 56.30567169189453\n"
          ]
        },
        {
          "output_type": "stream",
          "name": "stderr",
          "text": [
            "100%|██████████| 134/134 [00:20<00:00,  6.49it/s]\n"
          ]
        },
        {
          "output_type": "stream",
          "name": "stdout",
          "text": [
            "Epoch 75, Train Loss: 0.8880895376205444, Train Acc: 49.24375534057617, Test Loss: 1.4929101467132568, Test Acc: 56.35255432128906\n"
          ]
        },
        {
          "output_type": "stream",
          "name": "stderr",
          "text": [
            "100%|██████████| 134/134 [00:40<00:00,  3.27it/s]\n"
          ]
        },
        {
          "output_type": "stream",
          "name": "stdout",
          "text": [
            "Epoch 76, Train Loss: 0.8776147961616516, Train Acc: 49.68929672241211, Test Loss: 1.497890591621399, Test Acc: 56.446319580078125\n"
          ]
        },
        {
          "output_type": "stream",
          "name": "stderr",
          "text": [
            "100%|██████████| 134/134 [00:40<00:00,  3.27it/s]\n"
          ]
        },
        {
          "output_type": "stream",
          "name": "stdout",
          "text": [
            "Epoch 77, Train Loss: 0.8608543872833252, Train Acc: 49.10306167602539, Test Loss: 1.4803327322006226, Test Acc: 56.54008483886719\n"
          ]
        },
        {
          "output_type": "stream",
          "name": "stderr",
          "text": [
            "100%|██████████| 134/134 [00:40<00:00,  3.27it/s]\n"
          ]
        },
        {
          "output_type": "stream",
          "name": "stdout",
          "text": [
            "Epoch 78, Train Loss: 0.8615588545799255, Train Acc: 49.595497131347656, Test Loss: 1.4716473817825317, Test Acc: 56.68073272705078\n"
          ]
        },
        {
          "output_type": "stream",
          "name": "stderr",
          "text": [
            "100%|██████████| 134/134 [00:20<00:00,  6.43it/s]\n"
          ]
        },
        {
          "output_type": "stream",
          "name": "stdout",
          "text": [
            "Epoch 79, Train Loss: 0.8521791696548462, Train Acc: 50.33415603637695, Test Loss: 1.470179557800293, Test Acc: 56.82137680053711\n"
          ]
        },
        {
          "output_type": "stream",
          "name": "stderr",
          "text": [
            "100%|██████████| 134/134 [00:20<00:00,  6.45it/s]\n"
          ]
        },
        {
          "output_type": "stream",
          "name": "stdout",
          "text": [
            "Epoch 80, Train Loss: 0.8677819967269897, Train Acc: 49.54859924316406, Test Loss: 1.4522103071212769, Test Acc: 56.82137680053711\n"
          ]
        },
        {
          "output_type": "stream",
          "name": "stderr",
          "text": [
            "100%|██████████| 134/134 [00:20<00:00,  6.49it/s]\n"
          ]
        },
        {
          "output_type": "stream",
          "name": "stdout",
          "text": [
            "Epoch 81, Train Loss: 0.8534188270568848, Train Acc: 50.00586700439453, Test Loss: 1.436800479888916, Test Acc: 56.774497985839844\n"
          ]
        },
        {
          "output_type": "stream",
          "name": "stderr",
          "text": [
            "100%|██████████| 134/134 [00:20<00:00,  6.46it/s]\n"
          ]
        },
        {
          "output_type": "stream",
          "name": "stdout",
          "text": [
            "Epoch 82, Train Loss: 0.8616086840629578, Train Acc: 49.829994201660156, Test Loss: 1.4482078552246094, Test Acc: 56.9620246887207\n"
          ]
        },
        {
          "output_type": "stream",
          "name": "stderr",
          "text": [
            "100%|██████████| 134/134 [00:20<00:00,  6.45it/s]\n"
          ]
        },
        {
          "output_type": "stream",
          "name": "stdout",
          "text": [
            "Epoch 83, Train Loss: 0.8474443554878235, Train Acc: 50.52174758911133, Test Loss: 1.4343198537826538, Test Acc: 57.29020309448242\n"
          ]
        },
        {
          "output_type": "stream",
          "name": "stderr",
          "text": [
            "100%|██████████| 134/134 [00:20<00:00,  6.47it/s]\n"
          ]
        },
        {
          "output_type": "stream",
          "name": "stdout",
          "text": [
            "Epoch 84, Train Loss: 0.8349471092224121, Train Acc: 50.041038513183594, Test Loss: 1.418889045715332, Test Acc: 57.1026725769043\n"
          ]
        },
        {
          "output_type": "stream",
          "name": "stderr",
          "text": [
            "100%|██████████| 134/134 [00:20<00:00,  6.47it/s]\n"
          ]
        },
        {
          "output_type": "stream",
          "name": "stdout",
          "text": [
            "Epoch 85, Train Loss: 0.8472740650177002, Train Acc: 49.90034103393555, Test Loss: 1.4222551584243774, Test Acc: 57.33708190917969\n"
          ]
        },
        {
          "output_type": "stream",
          "name": "stderr",
          "text": [
            "100%|██████████| 134/134 [00:40<00:00,  3.27it/s]\n"
          ]
        },
        {
          "output_type": "stream",
          "name": "stdout",
          "text": [
            "Epoch 86, Train Loss: 0.8504961133003235, Train Acc: 50.17000961303711, Test Loss: 1.4058005809783936, Test Acc: 57.33708190917969\n"
          ]
        },
        {
          "output_type": "stream",
          "name": "stderr",
          "text": [
            "100%|██████████| 134/134 [00:40<00:00,  3.27it/s]\n"
          ]
        },
        {
          "output_type": "stream",
          "name": "stdout",
          "text": [
            "Epoch 87, Train Loss: 0.82925945520401, Train Acc: 50.39277648925781, Test Loss: 1.4016656875610352, Test Acc: 57.7590217590332\n"
          ]
        },
        {
          "output_type": "stream",
          "name": "stderr",
          "text": [
            "100%|██████████| 134/134 [00:40<00:00,  3.27it/s]\n"
          ]
        },
        {
          "output_type": "stream",
          "name": "stdout",
          "text": [
            "Epoch 88, Train Loss: 0.8345649838447571, Train Acc: 50.38105392456055, Test Loss: 1.4026881456375122, Test Acc: 57.430850982666016\n"
          ]
        },
        {
          "output_type": "stream",
          "name": "stderr",
          "text": [
            "100%|██████████| 134/134 [00:40<00:00,  3.27it/s]\n"
          ]
        },
        {
          "output_type": "stream",
          "name": "stdout",
          "text": [
            "Epoch 89, Train Loss: 0.8424513936042786, Train Acc: 49.90034103393555, Test Loss: 1.3816578388214111, Test Acc: 57.430850982666016\n"
          ]
        },
        {
          "output_type": "stream",
          "name": "stderr",
          "text": [
            "100%|██████████| 134/134 [00:20<00:00,  6.44it/s]\n"
          ]
        },
        {
          "output_type": "stream",
          "name": "stdout",
          "text": [
            "Epoch 90, Train Loss: 0.8375931978225708, Train Acc: 50.81486511230469, Test Loss: 1.3794734477996826, Test Acc: 57.47772979736328\n"
          ]
        },
        {
          "output_type": "stream",
          "name": "stderr",
          "text": [
            "100%|██████████| 134/134 [00:20<00:00,  6.46it/s]\n"
          ]
        },
        {
          "output_type": "stream",
          "name": "stdout",
          "text": [
            "Epoch 91, Train Loss: 0.8267751336097717, Train Acc: 50.46312713623047, Test Loss: 1.3696058988571167, Test Acc: 57.47772979736328\n"
          ]
        },
        {
          "output_type": "stream",
          "name": "stderr",
          "text": [
            "100%|██████████| 134/134 [00:40<00:00,  3.27it/s]\n"
          ]
        },
        {
          "output_type": "stream",
          "name": "stdout",
          "text": [
            "Epoch 92, Train Loss: 0.8196015357971191, Train Acc: 51.260406494140625, Test Loss: 1.3798660039901733, Test Acc: 57.571495056152344\n"
          ]
        },
        {
          "output_type": "stream",
          "name": "stderr",
          "text": [
            "100%|██████████| 134/134 [00:40<00:00,  3.27it/s]\n"
          ]
        },
        {
          "output_type": "stream",
          "name": "stdout",
          "text": [
            "Epoch 93, Train Loss: 0.8169564604759216, Train Acc: 50.908668518066406, Test Loss: 1.3642224073410034, Test Acc: 57.665260314941406\n"
          ]
        },
        {
          "output_type": "stream",
          "name": "stderr",
          "text": [
            "100%|██████████| 134/134 [00:20<00:00,  6.46it/s]\n"
          ]
        },
        {
          "output_type": "stream",
          "name": "stdout",
          "text": [
            "Epoch 94, Train Loss: 0.8045491576194763, Train Acc: 50.88521194458008, Test Loss: 1.3547048568725586, Test Acc: 57.665260314941406\n"
          ]
        },
        {
          "output_type": "stream",
          "name": "stderr",
          "text": [
            "100%|██████████| 134/134 [00:20<00:00,  6.47it/s]\n"
          ]
        },
        {
          "output_type": "stream",
          "name": "stdout",
          "text": [
            "Epoch 95, Train Loss: 0.8147884011268616, Train Acc: 50.86176300048828, Test Loss: 1.345568060874939, Test Acc: 57.71214294433594\n"
          ]
        },
        {
          "output_type": "stream",
          "name": "stderr",
          "text": [
            "100%|██████████| 134/134 [00:40<00:00,  3.27it/s]\n"
          ]
        },
        {
          "output_type": "stream",
          "name": "stdout",
          "text": [
            "Epoch 96, Train Loss: 0.8103969097137451, Train Acc: 51.03763198852539, Test Loss: 1.3412847518920898, Test Acc: 57.52461624145508\n"
          ]
        },
        {
          "output_type": "stream",
          "name": "stderr",
          "text": [
            "100%|██████████| 134/134 [00:40<00:00,  3.27it/s]\n"
          ]
        },
        {
          "output_type": "stream",
          "name": "stdout",
          "text": [
            "Epoch 97, Train Loss: 0.7939346432685852, Train Acc: 50.955562591552734, Test Loss: 1.3430871963500977, Test Acc: 57.7590217590332\n"
          ]
        },
        {
          "output_type": "stream",
          "name": "stderr",
          "text": [
            "100%|██████████| 134/134 [00:20<00:00,  6.44it/s]\n"
          ]
        },
        {
          "output_type": "stream",
          "name": "stdout",
          "text": [
            "Epoch 98, Train Loss: 0.7930686473846436, Train Acc: 50.93211364746094, Test Loss: 1.335524559020996, Test Acc: 58.227848052978516\n"
          ]
        },
        {
          "output_type": "stream",
          "name": "stderr",
          "text": [
            "100%|██████████| 134/134 [00:20<00:00,  6.46it/s]\n"
          ]
        },
        {
          "output_type": "stream",
          "name": "stdout",
          "text": [
            "Epoch 99, Train Loss: 0.7964211702346802, Train Acc: 51.11970901489258, Test Loss: 1.3276466131210327, Test Acc: 58.13408660888672\n"
          ]
        },
        {
          "output_type": "stream",
          "name": "stderr",
          "text": [
            "100%|██████████| 134/134 [00:40<00:00,  3.27it/s]\n"
          ]
        },
        {
          "output_type": "stream",
          "name": "stdout",
          "text": [
            "Epoch 100, Train Loss: 0.7997469305992126, Train Acc: 50.967288970947266, Test Loss: 1.3167120218276978, Test Acc: 57.946556091308594\n"
          ]
        },
        {
          "output_type": "stream",
          "name": "stderr",
          "text": [
            "100%|██████████| 134/134 [00:20<00:00,  6.44it/s]\n"
          ]
        },
        {
          "output_type": "stream",
          "name": "stdout",
          "text": [
            "Epoch 101, Train Loss: 0.7969248294830322, Train Acc: 51.30730438232422, Test Loss: 1.322939157485962, Test Acc: 58.040321350097656\n"
          ]
        },
        {
          "output_type": "stream",
          "name": "stderr",
          "text": [
            "100%|██████████| 134/134 [00:20<00:00,  6.43it/s]\n"
          ]
        },
        {
          "output_type": "stream",
          "name": "stdout",
          "text": [
            "Epoch 102, Train Loss: 0.7931067943572998, Train Acc: 51.27212905883789, Test Loss: 1.318867564201355, Test Acc: 58.040321350097656\n"
          ]
        },
        {
          "output_type": "stream",
          "name": "stderr",
          "text": [
            "100%|██████████| 134/134 [00:40<00:00,  3.27it/s]\n"
          ]
        },
        {
          "output_type": "stream",
          "name": "stdout",
          "text": [
            "Epoch 103, Train Loss: 0.790359616279602, Train Acc: 51.45972442626953, Test Loss: 1.3032253980636597, Test Acc: 57.89967346191406\n"
          ]
        },
        {
          "output_type": "stream",
          "name": "stderr",
          "text": [
            "100%|██████████| 134/134 [00:20<00:00,  6.47it/s]\n"
          ]
        },
        {
          "output_type": "stream",
          "name": "stdout",
          "text": [
            "Epoch 104, Train Loss: 0.7862656712532043, Train Acc: 52.56184768676758, Test Loss: 1.3057684898376465, Test Acc: 57.852787017822266\n"
          ]
        },
        {
          "output_type": "stream",
          "name": "stderr",
          "text": [
            "100%|██████████| 134/134 [00:40<00:00,  3.27it/s]\n"
          ]
        },
        {
          "output_type": "stream",
          "name": "stdout",
          "text": [
            "Epoch 105, Train Loss: 0.7781150341033936, Train Acc: 51.74111557006836, Test Loss: 1.2969942092895508, Test Acc: 57.89967346191406\n"
          ]
        },
        {
          "output_type": "stream",
          "name": "stderr",
          "text": [
            "100%|██████████| 134/134 [00:20<00:00,  6.52it/s]\n"
          ]
        },
        {
          "output_type": "stream",
          "name": "stdout",
          "text": [
            "Epoch 106, Train Loss: 0.7705267071723938, Train Acc: 51.50662612915039, Test Loss: 1.2937922477722168, Test Acc: 57.89967346191406\n"
          ]
        },
        {
          "output_type": "stream",
          "name": "stderr",
          "text": [
            "100%|██████████| 134/134 [00:40<00:00,  3.27it/s]\n"
          ]
        },
        {
          "output_type": "stream",
          "name": "stdout",
          "text": [
            "Epoch 107, Train Loss: 0.7912834286689758, Train Acc: 51.881813049316406, Test Loss: 1.289691686630249, Test Acc: 57.89967346191406\n"
          ]
        },
        {
          "output_type": "stream",
          "name": "stderr",
          "text": [
            "100%|██████████| 134/134 [00:40<00:00,  3.27it/s]\n"
          ]
        },
        {
          "output_type": "stream",
          "name": "stdout",
          "text": [
            "Epoch 108, Train Loss: 0.7700369954109192, Train Acc: 51.881813049316406, Test Loss: 1.2892372608184814, Test Acc: 57.99343490600586\n"
          ]
        },
        {
          "output_type": "stream",
          "name": "stderr",
          "text": [
            "100%|██████████| 134/134 [00:20<00:00,  6.42it/s]\n"
          ]
        },
        {
          "output_type": "stream",
          "name": "stdout",
          "text": [
            "Epoch 109, Train Loss: 0.7703052759170532, Train Acc: 52.33907699584961, Test Loss: 1.276965618133545, Test Acc: 58.040321350097656\n"
          ]
        },
        {
          "output_type": "stream",
          "name": "stderr",
          "text": [
            "100%|██████████| 134/134 [00:20<00:00,  6.47it/s]\n"
          ]
        },
        {
          "output_type": "stream",
          "name": "stdout",
          "text": [
            "Epoch 110, Train Loss: 0.7710649371147156, Train Acc: 52.04595947265625, Test Loss: 1.2716610431671143, Test Acc: 58.08720016479492\n"
          ]
        },
        {
          "output_type": "stream",
          "name": "stderr",
          "text": [
            "100%|██████████| 134/134 [00:20<00:00,  6.50it/s]\n"
          ]
        },
        {
          "output_type": "stream",
          "name": "stdout",
          "text": [
            "Epoch 111, Train Loss: 0.7765023112297058, Train Acc: 51.58869552612305, Test Loss: 1.27839994430542, Test Acc: 58.040321350097656\n"
          ]
        },
        {
          "output_type": "stream",
          "name": "stderr",
          "text": [
            "100%|██████████| 134/134 [00:20<00:00,  6.46it/s]\n"
          ]
        },
        {
          "output_type": "stream",
          "name": "stdout",
          "text": [
            "Epoch 112, Train Loss: 0.7796698808670044, Train Acc: 51.87009048461914, Test Loss: 1.2667498588562012, Test Acc: 58.27472686767578\n"
          ]
        },
        {
          "output_type": "stream",
          "name": "stderr",
          "text": [
            "100%|██████████| 134/134 [00:20<00:00,  6.46it/s]\n"
          ]
        },
        {
          "output_type": "stream",
          "name": "stdout",
          "text": [
            "Epoch 113, Train Loss: 0.7545398473739624, Train Acc: 51.788021087646484, Test Loss: 1.2628520727157593, Test Acc: 58.368492126464844\n"
          ]
        },
        {
          "output_type": "stream",
          "name": "stderr",
          "text": [
            "100%|██████████| 134/134 [00:20<00:00,  6.47it/s]\n"
          ]
        },
        {
          "output_type": "stream",
          "name": "stdout",
          "text": [
            "Epoch 114, Train Loss: 0.7605329155921936, Train Acc: 51.69422149658203, Test Loss: 1.26740300655365, Test Acc: 58.46226119995117\n"
          ]
        },
        {
          "output_type": "stream",
          "name": "stderr",
          "text": [
            "100%|██████████| 134/134 [00:20<00:00,  6.47it/s]\n"
          ]
        },
        {
          "output_type": "stream",
          "name": "stdout",
          "text": [
            "Epoch 115, Train Loss: 0.7684028744697571, Train Acc: 52.890140533447266, Test Loss: 1.2541300058364868, Test Acc: 58.368492126464844\n"
          ]
        },
        {
          "output_type": "stream",
          "name": "stderr",
          "text": [
            "100%|██████████| 134/134 [00:20<00:00,  6.48it/s]\n"
          ]
        },
        {
          "output_type": "stream",
          "name": "stdout",
          "text": [
            "Epoch 116, Train Loss: 0.7679320573806763, Train Acc: 52.25700759887695, Test Loss: 1.2486530542373657, Test Acc: 58.50914001464844\n"
          ]
        },
        {
          "output_type": "stream",
          "name": "stderr",
          "text": [
            "100%|██████████| 134/134 [00:20<00:00,  6.49it/s]\n"
          ]
        },
        {
          "output_type": "stream",
          "name": "stdout",
          "text": [
            "Epoch 117, Train Loss: 0.7627188563346863, Train Acc: 52.30390548706055, Test Loss: 1.2477540969848633, Test Acc: 58.6029052734375\n"
          ]
        },
        {
          "output_type": "stream",
          "name": "stderr",
          "text": [
            "100%|██████████| 134/134 [00:40<00:00,  3.27it/s]\n"
          ]
        },
        {
          "output_type": "stream",
          "name": "stdout",
          "text": [
            "Epoch 118, Train Loss: 0.7598873376846313, Train Acc: 52.81978988647461, Test Loss: 1.2488479614257812, Test Acc: 58.69667053222656\n"
          ]
        },
        {
          "output_type": "stream",
          "name": "stderr",
          "text": [
            "100%|██████████| 134/134 [00:20<00:00,  6.45it/s]\n"
          ]
        },
        {
          "output_type": "stream",
          "name": "stdout",
          "text": [
            "Epoch 119, Train Loss: 0.7595272660255432, Train Acc: 51.58869552612305, Test Loss: 1.2571640014648438, Test Acc: 58.46226119995117\n"
          ]
        },
        {
          "output_type": "stream",
          "name": "stderr",
          "text": [
            "100%|██████████| 134/134 [00:20<00:00,  6.43it/s]\n"
          ]
        },
        {
          "output_type": "stream",
          "name": "stdout",
          "text": [
            "Epoch 120, Train Loss: 0.7589317560195923, Train Acc: 52.116310119628906, Test Loss: 1.2354601621627808, Test Acc: 58.69667053222656\n"
          ]
        },
        {
          "output_type": "stream",
          "name": "stderr",
          "text": [
            "100%|██████████| 134/134 [00:20<00:00,  6.50it/s]\n"
          ]
        },
        {
          "output_type": "stream",
          "name": "stdout",
          "text": [
            "Epoch 121, Train Loss: 0.7556375861167908, Train Acc: 52.50322341918945, Test Loss: 1.2323391437530518, Test Acc: 58.368492126464844\n"
          ]
        },
        {
          "output_type": "stream",
          "name": "stderr",
          "text": [
            "100%|██████████| 134/134 [00:40<00:00,  3.27it/s]\n"
          ]
        },
        {
          "output_type": "stream",
          "name": "stdout",
          "text": [
            "Epoch 122, Train Loss: 0.7437628507614136, Train Acc: 52.468048095703125, Test Loss: 1.2301599979400635, Test Acc: 58.79043197631836\n"
          ]
        },
        {
          "output_type": "stream",
          "name": "stderr",
          "text": [
            "100%|██████████| 134/134 [00:20<00:00,  6.44it/s]\n"
          ]
        },
        {
          "output_type": "stream",
          "name": "stdout",
          "text": [
            "Epoch 123, Train Loss: 0.7643815875053406, Train Acc: 52.362525939941406, Test Loss: 1.2349662780761719, Test Acc: 58.50914001464844\n"
          ]
        },
        {
          "output_type": "stream",
          "name": "stderr",
          "text": [
            "100%|██████████| 134/134 [00:40<00:00,  3.27it/s]\n"
          ]
        },
        {
          "output_type": "stream",
          "name": "stdout",
          "text": [
            "Epoch 124, Train Loss: 0.7432433366775513, Train Acc: 52.10458755493164, Test Loss: 1.2235770225524902, Test Acc: 58.556026458740234\n"
          ]
        },
        {
          "output_type": "stream",
          "name": "stderr",
          "text": [
            "100%|██████████| 134/134 [00:20<00:00,  6.50it/s]\n"
          ]
        },
        {
          "output_type": "stream",
          "name": "stdout",
          "text": [
            "Epoch 125, Train Loss: 0.7454419136047363, Train Acc: 52.444602966308594, Test Loss: 1.2306967973709106, Test Acc: 58.46226119995117\n"
          ]
        },
        {
          "output_type": "stream",
          "name": "stderr",
          "text": [
            "100%|██████████| 134/134 [00:40<00:00,  3.27it/s]\n"
          ]
        },
        {
          "output_type": "stream",
          "name": "stdout",
          "text": [
            "Epoch 126, Train Loss: 0.7534008026123047, Train Acc: 51.97561264038086, Test Loss: 1.224097490310669, Test Acc: 58.743553161621094\n"
          ]
        },
        {
          "output_type": "stream",
          "name": "stderr",
          "text": [
            "100%|██████████| 134/134 [00:20<00:00,  6.48it/s]\n"
          ]
        },
        {
          "output_type": "stream",
          "name": "stdout",
          "text": [
            "Epoch 127, Train Loss: 0.7474762201309204, Train Acc: 52.15148162841797, Test Loss: 1.2149766683578491, Test Acc: 58.6497917175293\n"
          ]
        },
        {
          "output_type": "stream",
          "name": "stderr",
          "text": [
            "100%|██████████| 134/134 [00:40<00:00,  3.27it/s]\n"
          ]
        },
        {
          "output_type": "stream",
          "name": "stdout",
          "text": [
            "Epoch 128, Train Loss: 0.7481793165206909, Train Acc: 52.597023010253906, Test Loss: 1.210202932357788, Test Acc: 58.837318420410156\n"
          ]
        },
        {
          "output_type": "stream",
          "name": "stderr",
          "text": [
            "100%|██████████| 134/134 [00:20<00:00,  6.49it/s]\n"
          ]
        },
        {
          "output_type": "stream",
          "name": "stdout",
          "text": [
            "Epoch 129, Train Loss: 0.7589086294174194, Train Acc: 52.63219451904297, Test Loss: 1.2140552997589111, Test Acc: 58.88420486450195\n"
          ]
        },
        {
          "output_type": "stream",
          "name": "stderr",
          "text": [
            "100%|██████████| 134/134 [00:40<00:00,  3.27it/s]\n"
          ]
        },
        {
          "output_type": "stream",
          "name": "stdout",
          "text": [
            "Epoch 130, Train Loss: 0.7443617582321167, Train Acc: 52.66736602783203, Test Loss: 1.2100307941436768, Test Acc: 58.88420486450195\n"
          ]
        },
        {
          "output_type": "stream",
          "name": "stderr",
          "text": [
            "100%|██████████| 134/134 [00:40<00:00,  3.27it/s]\n"
          ]
        },
        {
          "output_type": "stream",
          "name": "stdout",
          "text": [
            "Epoch 131, Train Loss: 0.7477217316627502, Train Acc: 52.995662689208984, Test Loss: 1.2124232053756714, Test Acc: 58.88420486450195\n"
          ]
        },
        {
          "output_type": "stream",
          "name": "stderr",
          "text": [
            "100%|██████████| 134/134 [00:40<00:00,  3.27it/s]\n"
          ]
        },
        {
          "output_type": "stream",
          "name": "stdout",
          "text": [
            "Epoch 132, Train Loss: 0.7453556060791016, Train Acc: 53.11290740966797, Test Loss: 1.205078125, Test Acc: 58.93108367919922\n"
          ]
        },
        {
          "output_type": "stream",
          "name": "stderr",
          "text": [
            "100%|██████████| 134/134 [00:40<00:00,  3.27it/s]\n"
          ]
        },
        {
          "output_type": "stream",
          "name": "stdout",
          "text": [
            "Epoch 133, Train Loss: 0.7390557527542114, Train Acc: 53.370849609375, Test Loss: 1.1967052221298218, Test Acc: 59.07173156738281\n"
          ]
        },
        {
          "output_type": "stream",
          "name": "stderr",
          "text": [
            "100%|██████████| 134/134 [00:20<00:00,  6.43it/s]\n"
          ]
        },
        {
          "output_type": "stream",
          "name": "stdout",
          "text": [
            "Epoch 134, Train Loss: 0.7401671409606934, Train Acc: 52.66736602783203, Test Loss: 1.1973011493682861, Test Acc: 59.07173156738281\n"
          ]
        },
        {
          "output_type": "stream",
          "name": "stderr",
          "text": [
            "100%|██████████| 134/134 [00:20<00:00,  6.48it/s]\n"
          ]
        },
        {
          "output_type": "stream",
          "name": "stdout",
          "text": [
            "Epoch 135, Train Loss: 0.7397298216819763, Train Acc: 52.63219451904297, Test Loss: 1.1950892210006714, Test Acc: 58.97796630859375\n"
          ]
        },
        {
          "output_type": "stream",
          "name": "stderr",
          "text": [
            "100%|██████████| 134/134 [00:20<00:00,  6.50it/s]\n"
          ]
        },
        {
          "output_type": "stream",
          "name": "stdout",
          "text": [
            "Epoch 136, Train Loss: 0.7401360273361206, Train Acc: 52.80806350708008, Test Loss: 1.1984602212905884, Test Acc: 59.07173156738281\n"
          ]
        },
        {
          "output_type": "stream",
          "name": "stderr",
          "text": [
            "100%|██████████| 134/134 [00:40<00:00,  3.27it/s]\n"
          ]
        },
        {
          "output_type": "stream",
          "name": "stdout",
          "text": [
            "Epoch 137, Train Loss: 0.7325860261917114, Train Acc: 53.300506591796875, Test Loss: 1.2001540660858154, Test Acc: 59.11861038208008\n"
          ]
        },
        {
          "output_type": "stream",
          "name": "stderr",
          "text": [
            "100%|██████████| 134/134 [00:20<00:00,  6.44it/s]\n"
          ]
        },
        {
          "output_type": "stream",
          "name": "stdout",
          "text": [
            "Epoch 138, Train Loss: 0.7213841080665588, Train Acc: 53.21842956542969, Test Loss: 1.1981981992721558, Test Acc: 59.07173156738281\n"
          ]
        },
        {
          "output_type": "stream",
          "name": "stderr",
          "text": [
            "100%|██████████| 134/134 [00:20<00:00,  6.42it/s]\n"
          ]
        },
        {
          "output_type": "stream",
          "name": "stdout",
          "text": [
            "Epoch 139, Train Loss: 0.7340211272239685, Train Acc: 53.546722412109375, Test Loss: 1.1828501224517822, Test Acc: 59.07173156738281\n"
          ]
        },
        {
          "output_type": "stream",
          "name": "stderr",
          "text": [
            "100%|██████████| 134/134 [00:20<00:00,  6.50it/s]\n"
          ]
        },
        {
          "output_type": "stream",
          "name": "stdout",
          "text": [
            "Epoch 140, Train Loss: 0.7384123206138611, Train Acc: 52.98394012451172, Test Loss: 1.1913706064224243, Test Acc: 59.024845123291016\n"
          ]
        },
        {
          "output_type": "stream",
          "name": "stderr",
          "text": [
            "100%|██████████| 134/134 [00:40<00:00,  3.27it/s]\n"
          ]
        },
        {
          "output_type": "stream",
          "name": "stdout",
          "text": [
            "Epoch 141, Train Loss: 0.7233461737632751, Train Acc: 52.6439208984375, Test Loss: 1.1869914531707764, Test Acc: 58.93108367919922\n"
          ]
        },
        {
          "output_type": "stream",
          "name": "stderr",
          "text": [
            "100%|██████████| 134/134 [00:20<00:00,  6.42it/s]\n"
          ]
        },
        {
          "output_type": "stream",
          "name": "stdout",
          "text": [
            "Epoch 142, Train Loss: 0.7301921248435974, Train Acc: 53.534996032714844, Test Loss: 1.177443027496338, Test Acc: 59.11861038208008\n"
          ]
        },
        {
          "output_type": "stream",
          "name": "stderr",
          "text": [
            "100%|██████████| 134/134 [00:40<00:00,  3.27it/s]\n"
          ]
        },
        {
          "output_type": "stream",
          "name": "stdout",
          "text": [
            "Epoch 143, Train Loss: 0.7106952667236328, Train Acc: 53.124637603759766, Test Loss: 1.1745688915252686, Test Acc: 59.07173156738281\n"
          ]
        },
        {
          "output_type": "stream",
          "name": "stderr",
          "text": [
            "100%|██████████| 134/134 [00:20<00:00,  6.48it/s]\n"
          ]
        },
        {
          "output_type": "stream",
          "name": "stdout",
          "text": [
            "Epoch 144, Train Loss: 0.7203574776649475, Train Acc: 53.241878509521484, Test Loss: 1.1757298707962036, Test Acc: 59.11861038208008\n"
          ]
        },
        {
          "output_type": "stream",
          "name": "stderr",
          "text": [
            "100%|██████████| 134/134 [00:20<00:00,  6.41it/s]\n"
          ]
        },
        {
          "output_type": "stream",
          "name": "stdout",
          "text": [
            "Epoch 145, Train Loss: 0.7273970246315002, Train Acc: 53.3942985534668, Test Loss: 1.1778309345245361, Test Acc: 59.353023529052734\n"
          ]
        },
        {
          "output_type": "stream",
          "name": "stderr",
          "text": [
            "100%|██████████| 134/134 [00:20<00:00,  6.50it/s]\n"
          ]
        },
        {
          "output_type": "stream",
          "name": "stdout",
          "text": [
            "Epoch 146, Train Loss: 0.7173754572868347, Train Acc: 52.80806350708008, Test Loss: 1.1877942085266113, Test Acc: 59.39990997314453\n"
          ]
        },
        {
          "output_type": "stream",
          "name": "stderr",
          "text": [
            "100%|██████████| 134/134 [00:20<00:00,  6.50it/s]\n"
          ]
        },
        {
          "output_type": "stream",
          "name": "stdout",
          "text": [
            "Epoch 147, Train Loss: 0.7162317633628845, Train Acc: 53.370849609375, Test Loss: 1.1736040115356445, Test Acc: 59.353023529052734\n"
          ]
        },
        {
          "output_type": "stream",
          "name": "stderr",
          "text": [
            "100%|██████████| 134/134 [00:40<00:00,  3.27it/s]\n"
          ]
        },
        {
          "output_type": "stream",
          "name": "stdout",
          "text": [
            "Epoch 148, Train Loss: 0.7204858660697937, Train Acc: 53.07773208618164, Test Loss: 1.1804372072219849, Test Acc: 59.30613708496094\n"
          ]
        },
        {
          "output_type": "stream",
          "name": "stderr",
          "text": [
            "100%|██████████| 134/134 [00:40<00:00,  3.27it/s]\n"
          ]
        },
        {
          "output_type": "stream",
          "name": "stdout",
          "text": [
            "Epoch 149, Train Loss: 0.7115088105201721, Train Acc: 53.49982452392578, Test Loss: 1.1798404455184937, Test Acc: 59.21237564086914\n"
          ]
        },
        {
          "output_type": "stream",
          "name": "stderr",
          "text": [
            "100%|██████████| 134/134 [00:20<00:00,  6.41it/s]\n"
          ]
        },
        {
          "output_type": "stream",
          "name": "stdout",
          "text": [
            "Epoch 150, Train Loss: 0.71925288438797, Train Acc: 53.26532745361328, Test Loss: 1.1653281450271606, Test Acc: 59.25925827026367\n"
          ]
        },
        {
          "output_type": "stream",
          "name": "stderr",
          "text": [
            "100%|██████████| 134/134 [00:20<00:00,  6.45it/s]\n"
          ]
        },
        {
          "output_type": "stream",
          "name": "stdout",
          "text": [
            "Epoch 151, Train Loss: 0.7217714190483093, Train Acc: 53.42947769165039, Test Loss: 1.1696432828903198, Test Acc: 59.11861038208008\n"
          ]
        },
        {
          "output_type": "stream",
          "name": "stderr",
          "text": [
            "100%|██████████| 134/134 [00:20<00:00,  6.52it/s]\n"
          ]
        },
        {
          "output_type": "stream",
          "name": "stdout",
          "text": [
            "Epoch 152, Train Loss: 0.7017411589622498, Train Acc: 53.839839935302734, Test Loss: 1.163261890411377, Test Acc: 59.07173156738281\n"
          ]
        },
        {
          "output_type": "stream",
          "name": "stderr",
          "text": [
            "100%|██████████| 134/134 [00:40<00:00,  3.27it/s]\n"
          ]
        },
        {
          "output_type": "stream",
          "name": "stdout",
          "text": [
            "Epoch 153, Train Loss: 0.7141714692115784, Train Acc: 53.67569351196289, Test Loss: 1.1599317789077759, Test Acc: 59.21237564086914\n"
          ]
        },
        {
          "output_type": "stream",
          "name": "stderr",
          "text": [
            "100%|██████████| 134/134 [00:40<00:00,  3.27it/s]\n"
          ]
        },
        {
          "output_type": "stream",
          "name": "stdout",
          "text": [
            "Epoch 154, Train Loss: 0.7157502174377441, Train Acc: 53.171531677246094, Test Loss: 1.163208246231079, Test Acc: 59.21237564086914\n"
          ]
        },
        {
          "output_type": "stream",
          "name": "stderr",
          "text": [
            "100%|██████████| 134/134 [00:40<00:00,  3.27it/s]\n"
          ]
        },
        {
          "output_type": "stream",
          "name": "stdout",
          "text": [
            "Epoch 155, Train Loss: 0.7156673073768616, Train Acc: 53.300506591796875, Test Loss: 1.1629133224487305, Test Acc: 59.165496826171875\n"
          ]
        },
        {
          "output_type": "stream",
          "name": "stderr",
          "text": [
            "100%|██████████| 134/134 [00:20<00:00,  6.44it/s]\n"
          ]
        },
        {
          "output_type": "stream",
          "name": "stdout",
          "text": [
            "Epoch 156, Train Loss: 0.718105137348175, Train Acc: 53.03083801269531, Test Loss: 1.1667309999465942, Test Acc: 59.165496826171875\n"
          ]
        },
        {
          "output_type": "stream",
          "name": "stderr",
          "text": [
            "100%|██████████| 134/134 [00:40<00:00,  3.27it/s]\n"
          ]
        },
        {
          "output_type": "stream",
          "name": "stdout",
          "text": [
            "Epoch 157, Train Loss: 0.7042490243911743, Train Acc: 53.74604415893555, Test Loss: 1.1560803651809692, Test Acc: 59.07173156738281\n"
          ]
        },
        {
          "output_type": "stream",
          "name": "stderr",
          "text": [
            "100%|██████████| 134/134 [00:20<00:00,  6.47it/s]\n"
          ]
        },
        {
          "output_type": "stream",
          "name": "stdout",
          "text": [
            "Epoch 158, Train Loss: 0.7151588201522827, Train Acc: 53.886741638183594, Test Loss: 1.1558434963226318, Test Acc: 59.165496826171875\n"
          ]
        },
        {
          "output_type": "stream",
          "name": "stderr",
          "text": [
            "100%|██████████| 134/134 [00:20<00:00,  6.40it/s]\n"
          ]
        },
        {
          "output_type": "stream",
          "name": "stdout",
          "text": [
            "Epoch 159, Train Loss: 0.7125270962715149, Train Acc: 53.71086502075195, Test Loss: 1.1463582515716553, Test Acc: 59.25925827026367\n"
          ]
        },
        {
          "output_type": "stream",
          "name": "stderr",
          "text": [
            "100%|██████████| 134/134 [00:40<00:00,  3.27it/s]\n"
          ]
        },
        {
          "output_type": "stream",
          "name": "stdout",
          "text": [
            "Epoch 160, Train Loss: 0.7087590098381042, Train Acc: 53.8281135559082, Test Loss: 1.1524204015731812, Test Acc: 59.21237564086914\n"
          ]
        },
        {
          "output_type": "stream",
          "name": "stderr",
          "text": [
            "100%|██████████| 134/134 [00:40<00:00,  3.27it/s]\n"
          ]
        },
        {
          "output_type": "stream",
          "name": "stdout",
          "text": [
            "Epoch 161, Train Loss: 0.6995798945426941, Train Acc: 54.508148193359375, Test Loss: 1.158005714416504, Test Acc: 59.165496826171875\n"
          ]
        },
        {
          "output_type": "stream",
          "name": "stderr",
          "text": [
            "100%|██████████| 134/134 [00:40<00:00,  3.27it/s]\n"
          ]
        },
        {
          "output_type": "stream",
          "name": "stdout",
          "text": [
            "Epoch 162, Train Loss: 0.6932740807533264, Train Acc: 54.039161682128906, Test Loss: 1.1469565629959106, Test Acc: 59.25925827026367\n"
          ]
        },
        {
          "output_type": "stream",
          "name": "stderr",
          "text": [
            "100%|██████████| 134/134 [00:20<00:00,  6.46it/s]\n"
          ]
        },
        {
          "output_type": "stream",
          "name": "stdout",
          "text": [
            "Epoch 163, Train Loss: 0.706661581993103, Train Acc: 53.359127044677734, Test Loss: 1.1473618745803833, Test Acc: 59.165496826171875\n"
          ]
        },
        {
          "output_type": "stream",
          "name": "stderr",
          "text": [
            "100%|██████████| 134/134 [00:40<00:00,  3.27it/s]\n"
          ]
        },
        {
          "output_type": "stream",
          "name": "stdout",
          "text": [
            "Epoch 164, Train Loss: 0.7083988785743713, Train Acc: 54.12123107910156, Test Loss: 1.1413633823394775, Test Acc: 59.353023529052734\n"
          ]
        },
        {
          "output_type": "stream",
          "name": "stderr",
          "text": [
            "100%|██████████| 134/134 [00:40<00:00,  3.27it/s]\n"
          ]
        },
        {
          "output_type": "stream",
          "name": "stdout",
          "text": [
            "Epoch 165, Train Loss: 0.7002657651901245, Train Acc: 53.27705764770508, Test Loss: 1.1482775211334229, Test Acc: 59.21237564086914\n"
          ]
        },
        {
          "output_type": "stream",
          "name": "stderr",
          "text": [
            "100%|██████████| 134/134 [00:20<00:00,  6.44it/s]\n"
          ]
        },
        {
          "output_type": "stream",
          "name": "stdout",
          "text": [
            "Epoch 166, Train Loss: 0.7034865617752075, Train Acc: 54.132957458496094, Test Loss: 1.1432826519012451, Test Acc: 59.30613708496094\n"
          ]
        },
        {
          "output_type": "stream",
          "name": "stderr",
          "text": [
            "100%|██████████| 134/134 [00:40<00:00,  3.27it/s]\n"
          ]
        },
        {
          "output_type": "stream",
          "name": "stdout",
          "text": [
            "Epoch 167, Train Loss: 0.6944546103477478, Train Acc: 54.1095085144043, Test Loss: 1.1390876770019531, Test Acc: 59.353023529052734\n"
          ]
        },
        {
          "output_type": "stream",
          "name": "stderr",
          "text": [
            "100%|██████████| 134/134 [00:40<00:00,  3.27it/s]\n"
          ]
        },
        {
          "output_type": "stream",
          "name": "stdout",
          "text": [
            "Epoch 168, Train Loss: 0.704503059387207, Train Acc: 53.89846420288086, Test Loss: 1.1370093822479248, Test Acc: 59.540550231933594\n"
          ]
        },
        {
          "output_type": "stream",
          "name": "stderr",
          "text": [
            "100%|██████████| 134/134 [00:20<00:00,  6.41it/s]\n"
          ]
        },
        {
          "output_type": "stream",
          "name": "stdout",
          "text": [
            "Epoch 169, Train Loss: 0.6874974370002747, Train Acc: 53.93363952636719, Test Loss: 1.1390764713287354, Test Acc: 59.540550231933594\n"
          ]
        },
        {
          "output_type": "stream",
          "name": "stderr",
          "text": [
            "100%|██████████| 134/134 [00:40<00:00,  3.27it/s]\n"
          ]
        },
        {
          "output_type": "stream",
          "name": "stdout",
          "text": [
            "Epoch 170, Train Loss: 0.6927183270454407, Train Acc: 54.15640640258789, Test Loss: 1.1397193670272827, Test Acc: 59.49367141723633\n"
          ]
        },
        {
          "output_type": "stream",
          "name": "stderr",
          "text": [
            "100%|██████████| 134/134 [00:20<00:00,  6.48it/s]\n"
          ]
        },
        {
          "output_type": "stream",
          "name": "stdout",
          "text": [
            "Epoch 171, Train Loss: 0.7020611763000488, Train Acc: 53.69914245605469, Test Loss: 1.1370618343353271, Test Acc: 59.58743667602539\n"
          ]
        },
        {
          "output_type": "stream",
          "name": "stderr",
          "text": [
            "100%|██████████| 134/134 [00:20<00:00,  6.41it/s]\n"
          ]
        },
        {
          "output_type": "stream",
          "name": "stdout",
          "text": [
            "Epoch 172, Train Loss: 0.7072651386260986, Train Acc: 53.980533599853516, Test Loss: 1.1317529678344727, Test Acc: 59.58743667602539\n"
          ]
        },
        {
          "output_type": "stream",
          "name": "stderr",
          "text": [
            "100%|██████████| 134/134 [00:20<00:00,  6.49it/s]\n"
          ]
        },
        {
          "output_type": "stream",
          "name": "stdout",
          "text": [
            "Epoch 173, Train Loss: 0.6937222480773926, Train Acc: 53.74604415893555, Test Loss: 1.1325631141662598, Test Acc: 59.58743667602539\n"
          ]
        },
        {
          "output_type": "stream",
          "name": "stderr",
          "text": [
            "100%|██████████| 134/134 [00:40<00:00,  3.27it/s]\n"
          ]
        },
        {
          "output_type": "stream",
          "name": "stdout",
          "text": [
            "Epoch 174, Train Loss: 0.7032399773597717, Train Acc: 54.0860595703125, Test Loss: 1.1410778760910034, Test Acc: 59.58743667602539\n"
          ]
        },
        {
          "output_type": "stream",
          "name": "stderr",
          "text": [
            "100%|██████████| 134/134 [00:40<00:00,  3.27it/s]\n"
          ]
        },
        {
          "output_type": "stream",
          "name": "stdout",
          "text": [
            "Epoch 175, Train Loss: 0.6858906745910645, Train Acc: 53.99225997924805, Test Loss: 1.1362172365188599, Test Acc: 59.634315490722656\n"
          ]
        },
        {
          "output_type": "stream",
          "name": "stderr",
          "text": [
            "100%|██████████| 134/134 [00:40<00:00,  3.27it/s]\n"
          ]
        },
        {
          "output_type": "stream",
          "name": "stdout",
          "text": [
            "Epoch 176, Train Loss: 0.6906776428222656, Train Acc: 54.19158172607422, Test Loss: 1.1348412036895752, Test Acc: 59.68120193481445\n"
          ]
        },
        {
          "output_type": "stream",
          "name": "stderr",
          "text": [
            "100%|██████████| 134/134 [00:20<00:00,  6.57it/s]\n"
          ]
        },
        {
          "output_type": "stream",
          "name": "stdout",
          "text": [
            "Epoch 177, Train Loss: 0.7016677260398865, Train Acc: 53.687416076660156, Test Loss: 1.1310094594955444, Test Acc: 59.82184982299805\n"
          ]
        },
        {
          "output_type": "stream",
          "name": "stderr",
          "text": [
            "100%|██████████| 134/134 [00:20<00:00,  6.55it/s]\n"
          ]
        },
        {
          "output_type": "stream",
          "name": "stdout",
          "text": [
            "Epoch 178, Train Loss: 0.6917564868927002, Train Acc: 54.367454528808594, Test Loss: 1.1266902685165405, Test Acc: 59.68120193481445\n"
          ]
        },
        {
          "output_type": "stream",
          "name": "stderr",
          "text": [
            "100%|██████████| 134/134 [00:20<00:00,  6.54it/s]\n"
          ]
        },
        {
          "output_type": "stream",
          "name": "stdout",
          "text": [
            "Epoch 179, Train Loss: 0.6938072443008423, Train Acc: 53.99225997924805, Test Loss: 1.1348463296890259, Test Acc: 59.72808074951172\n"
          ]
        },
        {
          "output_type": "stream",
          "name": "stderr",
          "text": [
            "100%|██████████| 134/134 [00:20<00:00,  6.54it/s]\n"
          ]
        },
        {
          "output_type": "stream",
          "name": "stdout",
          "text": [
            "Epoch 180, Train Loss: 0.6919018626213074, Train Acc: 54.3088264465332, Test Loss: 1.122801661491394, Test Acc: 59.72808074951172\n"
          ]
        },
        {
          "output_type": "stream",
          "name": "stderr",
          "text": [
            "100%|██████████| 134/134 [00:20<00:00,  6.53it/s]\n"
          ]
        },
        {
          "output_type": "stream",
          "name": "stdout",
          "text": [
            "Epoch 181, Train Loss: 0.6872202157974243, Train Acc: 54.44952392578125, Test Loss: 1.1344318389892578, Test Acc: 59.68120193481445\n"
          ]
        },
        {
          "output_type": "stream",
          "name": "stderr",
          "text": [
            "100%|██████████| 134/134 [00:20<00:00,  6.54it/s]\n"
          ]
        },
        {
          "output_type": "stream",
          "name": "stdout",
          "text": [
            "Epoch 182, Train Loss: 0.6959074139595032, Train Acc: 54.7778205871582, Test Loss: 1.1235989332199097, Test Acc: 59.68120193481445\n"
          ]
        },
        {
          "output_type": "stream",
          "name": "stderr",
          "text": [
            "100%|██████████| 134/134 [00:20<00:00,  6.54it/s]\n"
          ]
        },
        {
          "output_type": "stream",
          "name": "stdout",
          "text": [
            "Epoch 183, Train Loss: 0.6829739809036255, Train Acc: 54.02743911743164, Test Loss: 1.127395510673523, Test Acc: 59.72808074951172\n"
          ]
        },
        {
          "output_type": "stream",
          "name": "stderr",
          "text": [
            "100%|██████████| 134/134 [00:20<00:00,  6.54it/s]\n"
          ]
        },
        {
          "output_type": "stream",
          "name": "stdout",
          "text": [
            "Epoch 184, Train Loss: 0.6983099579811096, Train Acc: 54.26192855834961, Test Loss: 1.126799464225769, Test Acc: 59.68120193481445\n"
          ]
        },
        {
          "output_type": "stream",
          "name": "stderr",
          "text": [
            "100%|██████████| 134/134 [00:20<00:00,  6.53it/s]\n"
          ]
        },
        {
          "output_type": "stream",
          "name": "stdout",
          "text": [
            "Epoch 185, Train Loss: 0.693494975566864, Train Acc: 53.980533599853516, Test Loss: 1.117502212524414, Test Acc: 59.68120193481445\n"
          ]
        },
        {
          "output_type": "stream",
          "name": "stderr",
          "text": [
            "100%|██████████| 134/134 [00:20<00:00,  6.53it/s]\n"
          ]
        },
        {
          "output_type": "stream",
          "name": "stdout",
          "text": [
            "Epoch 186, Train Loss: 0.6817263960838318, Train Acc: 53.74604415893555, Test Loss: 1.128212332725525, Test Acc: 59.72808074951172\n"
          ]
        },
        {
          "output_type": "stream",
          "name": "stderr",
          "text": [
            "100%|██████████| 134/134 [00:20<00:00,  6.53it/s]\n"
          ]
        },
        {
          "output_type": "stream",
          "name": "stdout",
          "text": [
            "Epoch 187, Train Loss: 0.6880632042884827, Train Acc: 54.332279205322266, Test Loss: 1.1171128749847412, Test Acc: 59.82184982299805\n"
          ]
        },
        {
          "output_type": "stream",
          "name": "stderr",
          "text": [
            "100%|██████████| 134/134 [00:20<00:00,  6.54it/s]\n"
          ]
        },
        {
          "output_type": "stream",
          "name": "stdout",
          "text": [
            "Epoch 188, Train Loss: 0.6811046600341797, Train Acc: 53.886741638183594, Test Loss: 1.1208815574645996, Test Acc: 59.82184982299805\n"
          ]
        },
        {
          "output_type": "stream",
          "name": "stderr",
          "text": [
            "100%|██████████| 134/134 [00:40<00:00,  3.27it/s]\n"
          ]
        },
        {
          "output_type": "stream",
          "name": "stdout",
          "text": [
            "Epoch 189, Train Loss: 0.6899394989013672, Train Acc: 54.250205993652344, Test Loss: 1.112027883529663, Test Acc: 59.962493896484375\n"
          ]
        },
        {
          "output_type": "stream",
          "name": "stderr",
          "text": [
            "100%|██████████| 134/134 [00:40<00:00,  3.27it/s]\n"
          ]
        },
        {
          "output_type": "stream",
          "name": "stdout",
          "text": [
            "Epoch 190, Train Loss: 0.682994544506073, Train Acc: 54.35572814941406, Test Loss: 1.1140154600143433, Test Acc: 60.009376525878906\n"
          ]
        },
        {
          "output_type": "stream",
          "name": "stderr",
          "text": [
            "100%|██████████| 134/134 [00:20<00:00,  6.42it/s]\n"
          ]
        },
        {
          "output_type": "stream",
          "name": "stdout",
          "text": [
            "Epoch 191, Train Loss: 0.6842974424362183, Train Acc: 54.5433235168457, Test Loss: 1.1114205121994019, Test Acc: 60.009376525878906\n"
          ]
        },
        {
          "output_type": "stream",
          "name": "stderr",
          "text": [
            "100%|██████████| 134/134 [00:40<00:00,  3.27it/s]\n"
          ]
        },
        {
          "output_type": "stream",
          "name": "stdout",
          "text": [
            "Epoch 192, Train Loss: 0.7041164636611938, Train Acc: 54.29710006713867, Test Loss: 1.1200979948043823, Test Acc: 59.962493896484375\n"
          ]
        },
        {
          "output_type": "stream",
          "name": "stderr",
          "text": [
            "100%|██████████| 134/134 [00:40<00:00,  3.27it/s]\n"
          ]
        },
        {
          "output_type": "stream",
          "name": "stdout",
          "text": [
            "Epoch 193, Train Loss: 0.6844002604484558, Train Acc: 54.5667724609375, Test Loss: 1.1115580797195435, Test Acc: 59.962493896484375\n"
          ]
        },
        {
          "output_type": "stream",
          "name": "stderr",
          "text": [
            "100%|██████████| 134/134 [00:20<00:00,  6.43it/s]\n"
          ]
        },
        {
          "output_type": "stream",
          "name": "stdout",
          "text": [
            "Epoch 194, Train Loss: 0.6812967658042908, Train Acc: 54.039161682128906, Test Loss: 1.1117511987686157, Test Acc: 59.962493896484375\n"
          ]
        },
        {
          "output_type": "stream",
          "name": "stderr",
          "text": [
            "100%|██████████| 134/134 [00:20<00:00,  6.49it/s]\n"
          ]
        },
        {
          "output_type": "stream",
          "name": "stdout",
          "text": [
            "Epoch 195, Train Loss: 0.6789284348487854, Train Acc: 54.05088806152344, Test Loss: 1.1127002239227295, Test Acc: 60.05625915527344\n"
          ]
        },
        {
          "output_type": "stream",
          "name": "stderr",
          "text": [
            "100%|██████████| 134/134 [00:40<00:00,  3.27it/s]\n"
          ]
        },
        {
          "output_type": "stream",
          "name": "stdout",
          "text": [
            "Epoch 196, Train Loss: 0.6853530406951904, Train Acc: 54.215030670166016, Test Loss: 1.1153990030288696, Test Acc: 60.05625915527344\n"
          ]
        },
        {
          "output_type": "stream",
          "name": "stderr",
          "text": [
            "100%|██████████| 134/134 [00:40<00:00,  3.27it/s]\n"
          ]
        },
        {
          "output_type": "stream",
          "name": "stdout",
          "text": [
            "Epoch 197, Train Loss: 0.6756274700164795, Train Acc: 54.55504608154297, Test Loss: 1.1108343601226807, Test Acc: 60.009376525878906\n"
          ]
        },
        {
          "output_type": "stream",
          "name": "stderr",
          "text": [
            "100%|██████████| 134/134 [00:20<00:00,  6.45it/s]\n"
          ]
        },
        {
          "output_type": "stream",
          "name": "stdout",
          "text": [
            "Epoch 198, Train Loss: 0.6847366690635681, Train Acc: 54.66057205200195, Test Loss: 1.113255500793457, Test Acc: 60.05625915527344\n"
          ]
        },
        {
          "output_type": "stream",
          "name": "stderr",
          "text": [
            "100%|██████████| 134/134 [00:40<00:00,  3.27it/s]\n"
          ]
        },
        {
          "output_type": "stream",
          "name": "stdout",
          "text": [
            "Epoch 199, Train Loss: 0.6824244260787964, Train Acc: 54.41434860229492, Test Loss: 1.1067109107971191, Test Acc: 60.009376525878906\n"
          ]
        },
        {
          "output_type": "stream",
          "name": "stderr",
          "text": [
            "100%|██████████| 134/134 [00:20<00:00,  6.50it/s]\n"
          ]
        },
        {
          "output_type": "stream",
          "name": "stdout",
          "text": [
            "Epoch 200, Train Loss: 0.674464762210846, Train Acc: 54.390899658203125, Test Loss: 1.1165598630905151, Test Acc: 60.05625915527344\n"
          ]
        },
        {
          "output_type": "stream",
          "name": "stderr",
          "text": [
            "100%|██████████| 134/134 [00:40<00:00,  3.27it/s]\n"
          ]
        },
        {
          "output_type": "stream",
          "name": "stdout",
          "text": [
            "Epoch 201, Train Loss: 0.6749184727668762, Train Acc: 54.84816360473633, Test Loss: 1.1055989265441895, Test Acc: 60.10314178466797\n"
          ]
        },
        {
          "output_type": "stream",
          "name": "stderr",
          "text": [
            "100%|██████████| 134/134 [00:40<00:00,  3.27it/s]\n"
          ]
        },
        {
          "output_type": "stream",
          "name": "stdout",
          "text": [
            "Epoch 202, Train Loss: 0.6719431281089783, Train Acc: 54.250205993652344, Test Loss: 1.1088558435440063, Test Acc: 60.05625915527344\n"
          ]
        },
        {
          "output_type": "stream",
          "name": "stderr",
          "text": [
            "100%|██████████| 134/134 [00:20<00:00,  6.41it/s]\n"
          ]
        },
        {
          "output_type": "stream",
          "name": "stdout",
          "text": [
            "Epoch 203, Train Loss: 0.6868287920951843, Train Acc: 53.921913146972656, Test Loss: 1.1064229011535645, Test Acc: 60.05625915527344\n"
          ]
        },
        {
          "output_type": "stream",
          "name": "stderr",
          "text": [
            "100%|██████████| 134/134 [00:20<00:00,  6.48it/s]\n"
          ]
        },
        {
          "output_type": "stream",
          "name": "stdout",
          "text": [
            "Epoch 204, Train Loss: 0.6880690455436707, Train Acc: 54.332279205322266, Test Loss: 1.1085125207901, Test Acc: 60.05625915527344\n"
          ]
        },
        {
          "output_type": "stream",
          "name": "stderr",
          "text": [
            "100%|██████████| 134/134 [00:20<00:00,  6.50it/s]\n"
          ]
        },
        {
          "output_type": "stream",
          "name": "stdout",
          "text": [
            "Epoch 205, Train Loss: 0.672592043876648, Train Acc: 54.02743911743164, Test Loss: 1.1072322130203247, Test Acc: 60.05625915527344\n"
          ]
        },
        {
          "output_type": "stream",
          "name": "stderr",
          "text": [
            "100%|██████████| 134/134 [00:20<00:00,  6.46it/s]\n"
          ]
        },
        {
          "output_type": "stream",
          "name": "stdout",
          "text": [
            "Epoch 206, Train Loss: 0.6739521026611328, Train Acc: 55.809593200683594, Test Loss: 1.1074025630950928, Test Acc: 60.10314178466797\n"
          ]
        },
        {
          "output_type": "stream",
          "name": "stderr",
          "text": [
            "100%|██████████| 134/134 [00:40<00:00,  3.27it/s]\n"
          ]
        },
        {
          "output_type": "stream",
          "name": "stdout",
          "text": [
            "Epoch 207, Train Loss: 0.6736372709274292, Train Acc: 54.625396728515625, Test Loss: 1.103109359741211, Test Acc: 60.10314178466797\n"
          ]
        },
        {
          "output_type": "stream",
          "name": "stderr",
          "text": [
            "100%|██████████| 134/134 [00:40<00:00,  3.27it/s]\n"
          ]
        },
        {
          "output_type": "stream",
          "name": "stdout",
          "text": [
            "Epoch 208, Train Loss: 0.6628267168998718, Train Acc: 54.883338928222656, Test Loss: 1.099487543106079, Test Acc: 60.10314178466797\n"
          ]
        },
        {
          "output_type": "stream",
          "name": "stderr",
          "text": [
            "100%|██████████| 134/134 [00:20<00:00,  6.43it/s]\n"
          ]
        },
        {
          "output_type": "stream",
          "name": "stdout",
          "text": [
            "Epoch 209, Train Loss: 0.6736243963241577, Train Acc: 55.3171501159668, Test Loss: 1.106925368309021, Test Acc: 60.10314178466797\n"
          ]
        },
        {
          "output_type": "stream",
          "name": "stderr",
          "text": [
            "100%|██████████| 134/134 [00:20<00:00,  6.48it/s]\n"
          ]
        },
        {
          "output_type": "stream",
          "name": "stdout",
          "text": [
            "Epoch 210, Train Loss: 0.6684115529060364, Train Acc: 54.61367416381836, Test Loss: 1.0953786373138428, Test Acc: 60.10314178466797\n"
          ]
        },
        {
          "output_type": "stream",
          "name": "stderr",
          "text": [
            "100%|██████████| 134/134 [00:20<00:00,  6.49it/s]\n"
          ]
        },
        {
          "output_type": "stream",
          "name": "stdout",
          "text": [
            "Epoch 211, Train Loss: 0.6838451027870178, Train Acc: 54.1095085144043, Test Loss: 1.1016454696655273, Test Acc: 60.10314178466797\n"
          ]
        },
        {
          "output_type": "stream",
          "name": "stderr",
          "text": [
            "100%|██████████| 134/134 [00:20<00:00,  6.47it/s]\n"
          ]
        },
        {
          "output_type": "stream",
          "name": "stdout",
          "text": [
            "Epoch 212, Train Loss: 0.677082896232605, Train Acc: 55.23508071899414, Test Loss: 1.0964903831481934, Test Acc: 60.10314178466797\n"
          ]
        },
        {
          "output_type": "stream",
          "name": "stderr",
          "text": [
            "100%|██████████| 134/134 [00:20<00:00,  6.47it/s]\n"
          ]
        },
        {
          "output_type": "stream",
          "name": "stdout",
          "text": [
            "Epoch 213, Train Loss: 0.6712397336959839, Train Acc: 55.25852966308594, Test Loss: 1.0972011089324951, Test Acc: 60.19690704345703\n"
          ]
        },
        {
          "output_type": "stream",
          "name": "stderr",
          "text": [
            "100%|██████████| 134/134 [00:20<00:00,  6.49it/s]\n"
          ]
        },
        {
          "output_type": "stream",
          "name": "stdout",
          "text": [
            "Epoch 214, Train Loss: 0.6682456731796265, Train Acc: 54.484703063964844, Test Loss: 1.1047251224517822, Test Acc: 60.19690704345703\n"
          ]
        },
        {
          "output_type": "stream",
          "name": "stderr",
          "text": [
            "100%|██████████| 134/134 [00:20<00:00,  6.48it/s]\n"
          ]
        },
        {
          "output_type": "stream",
          "name": "stdout",
          "text": [
            "Epoch 215, Train Loss: 0.673247218132019, Train Acc: 54.43779754638672, Test Loss: 1.0931735038757324, Test Acc: 60.150020599365234\n"
          ]
        },
        {
          "output_type": "stream",
          "name": "stderr",
          "text": [
            "100%|██████████| 134/134 [00:20<00:00,  6.47it/s]\n"
          ]
        },
        {
          "output_type": "stream",
          "name": "stdout",
          "text": [
            "Epoch 216, Train Loss: 0.6663455963134766, Train Acc: 55.50475311279297, Test Loss: 1.1007808446884155, Test Acc: 60.150020599365234\n"
          ]
        },
        {
          "output_type": "stream",
          "name": "stderr",
          "text": [
            "100%|██████████| 134/134 [00:40<00:00,  3.27it/s]\n"
          ]
        },
        {
          "output_type": "stream",
          "name": "stdout",
          "text": [
            "Epoch 217, Train Loss: 0.6710995435714722, Train Acc: 54.988861083984375, Test Loss: 1.092792272567749, Test Acc: 60.19690704345703\n"
          ]
        },
        {
          "output_type": "stream",
          "name": "stderr",
          "text": [
            "100%|██████████| 134/134 [00:20<00:00,  6.55it/s]\n"
          ]
        },
        {
          "output_type": "stream",
          "name": "stdout",
          "text": [
            "Epoch 218, Train Loss: 0.6640567183494568, Train Acc: 54.871612548828125, Test Loss: 1.0985437631607056, Test Acc: 60.19690704345703\n"
          ]
        },
        {
          "output_type": "stream",
          "name": "stderr",
          "text": [
            "100%|██████████| 134/134 [00:40<00:00,  3.27it/s]\n"
          ]
        },
        {
          "output_type": "stream",
          "name": "stdout",
          "text": [
            "Epoch 219, Train Loss: 0.6721863150596619, Train Acc: 55.07093811035156, Test Loss: 1.0961072444915771, Test Acc: 60.2437858581543\n"
          ]
        },
        {
          "output_type": "stream",
          "name": "stderr",
          "text": [
            "100%|██████████| 134/134 [00:20<00:00,  6.60it/s]\n"
          ]
        },
        {
          "output_type": "stream",
          "name": "stdout",
          "text": [
            "Epoch 220, Train Loss: 0.6731915473937988, Train Acc: 54.883338928222656, Test Loss: 1.0881052017211914, Test Acc: 60.19690704345703\n"
          ]
        }
      ]
    },
    {
      "cell_type": "code",
      "source": [
        "\n",
        "# Save the training loss values\n",
        "with open('/content/drive/MyDrive/ML/train_loss_2_EfficientNetB2.pkl', 'wb') as file:\n",
        "    dump(train_loss_dict_classifier, file)\n",
        "\n",
        "# Save the test loss values\n",
        "with open('/content/drive/MyDrive/ML/test_loss_2_EfficientNetB2.pkl', 'wb') as file:\n",
        "    dump(test_loss_dict_classifier, file)\n",
        "\n",
        "# Save the training acc values\n",
        "with open('/content/drive/MyDrive/ML/train_acc_2_EfficientNetB2.pkl', 'wb') as file:\n",
        "    dump(train_acc_dict, file)\n",
        "\n",
        "# Save the test acc values\n",
        "with open('/content/drive/MyDrive/ML/test_acc_2_EfficientNetB2.pkl', 'wb') as file:\n",
        "    dump(test_acc_dict, file)"
      ],
      "metadata": {
        "id": "0e-nTPNaC8Ou"
      },
      "execution_count": null,
      "outputs": []
    },
    {
      "cell_type": "code",
      "source": [
        "# Load the training and validation loss dictionaries\n",
        "train_loss_class = load(open('/content/drive/MyDrive/ML/train_loss_2_EfficientNetB2.pkl', 'rb'))\n",
        "test_loss_class = load(open('/content/drive/MyDrive/ML/test_loss_2_EfficientNetB2.pkl', 'rb'))\n",
        "\n",
        "# Retrieve each dictionary's values\n",
        "train_values_class = train_loss_class.values()\n",
        "test_values_class = test_loss_class.values()\n",
        "\n",
        "# Generate a sequence of integers to represent the epoch numbers\n",
        "epochs = range(220)\n",
        "\n",
        "# Plot and label the training and validation loss values\n",
        "plt.plot(epochs, np.array(list(train_values_class)).astype(float), label='Training Loss')\n",
        "plt.plot(epochs, np.array(list(test_values_class)).astype(float), label='Test Loss')\n",
        "\n",
        "# Add in a title and axes labels\n",
        "plt.title('Training and Test Loss')\n",
        "plt.xlabel('Epochs')\n",
        "plt.ylabel('Loss')\n",
        "\n",
        "# Set the tick locations\n",
        "plt.xticks(arange(0, 220, 20))\n",
        "\n",
        "# Display the plot\n",
        "plt.legend(loc='best')\n",
        "plt.show()"
      ],
      "metadata": {
        "id": "7hN_5v-fC81Q",
        "colab": {
          "base_uri": "https://localhost:8080/",
          "height": 295
        },
        "outputId": "7ccd65aa-b97c-4bb1-b8c5-85fedb117eef"
      },
      "execution_count": null,
      "outputs": [
        {
          "output_type": "display_data",
          "data": {
            "text/plain": [
              "<Figure size 432x288 with 1 Axes>"
            ],
            "image/png": "[encoded data removed]"
          },
          "metadata": {
            "needs_background": "light"
          }
        }
      ]
    },
    {
      "cell_type": "code",
      "source": [
        "# Load the training and validation loss dictionaries\n",
        "train_acc = load(open('/content/drive/MyDrive/ML/train_acc_2_EfficientNetB2.pkl', 'rb'))\n",
        "test_acc = load(open('/content/drive/MyDrive/ML/test_acc_2_EfficientNetB2.pkl', 'rb'))\n",
        "\n",
        "# Retrieve each dictionary's values\n",
        "train_values = train_acc.values()\n",
        "test_values = test_acc.values()\n",
        "\n",
        "# Generate a sequence of integers to represent the epoch numbers\n",
        "epochs = range(220)\n",
        "\n",
        "# Plot and label the training and validation loss values\n",
        "plt.plot(epochs, np.array(list(train_values)).astype(float), label='Training Accuracy')\n",
        "plt.plot(epochs, np.array(list(test_values)).astype(float), label='Test Accuracy')\n",
        "\n",
        "# Add in a title and axes labels\n",
        "plt.title('Training and Test Loss')\n",
        "plt.xlabel('Epochs')\n",
        "plt.ylabel('Loss')\n",
        "\n",
        "# Set the tick locations\n",
        "plt.xticks(arange(0, 220, 20))\n",
        "\n",
        "# Display the plot\n",
        "plt.legend(loc='best')\n",
        "plt.show()"
      ],
      "metadata": {
        "id": "6Nt7jahhC_f0",
        "colab": {
          "base_uri": "https://localhost:8080/",
          "height": 295
        },
        "outputId": "c93ab768-116b-4d25-a03f-e4fea81886d3"
      },
      "execution_count": null,
      "outputs": [
        {
          "output_type": "display_data",
          "data": {
            "text/plain": [
              "<Figure size 432x288 with 1 Axes>"
            ],
            "image/png": "[encoded data removed]"
          },
          "metadata": {
            "needs_background": "light"
          }
        }
      ]
    },
    {
      "cell_type": "code",
      "source": [
        "#model save\n",
        "dir = '/content/drive/MyDrive/Colab Notebooks/'\n",
        "filenames =os.path.join( dir, datetime.datetime.now().strftime(\"%Y%m%d-%H%M%S\") + \"EfficientNetB2_accuracy_simclr.h5\")  ##set your path then model name: /content/resnet.h5\n",
        "print(filenames)\n",
        "\n",
        "classifier.save_weights(filenames)"
      ],
      "metadata": {
        "colab": {
          "base_uri": "https://localhost:8080/"
        },
        "id": "gf5oS2GaABnc",
        "outputId": "32e0f496-7e10-4c08-f53b-dedc1371a13c"
      },
      "execution_count": null,
      "outputs": [
        {
          "output_type": "stream",
          "name": "stdout",
          "text": [
            "/content/drive/MyDrive/Colab Notebooks/20230323-082434EfficientNetB2_accuracy_simclr.h5\n"
          ]
        }
      ]
    },
    {
      "cell_type": "markdown",
      "source": [
        "##Prediction"
      ],
      "metadata": {
        "id": "PBFUwytzA8WS"
      }
    },
    {
      "cell_type": "code",
      "source": [
        "classifier.load_weights(filenames)"
      ],
      "metadata": {
        "id": "OwyfCFRuXhX-"
      },
      "execution_count": null,
      "outputs": []
    },
    {
      "cell_type": "code",
      "source": [
        "X = tf.reshape(x_test[50], [1, 224, 224, 3]) ##need to reshape\n",
        "classifier.predict(X)"
      ],
      "metadata": {
        "colab": {
          "base_uri": "https://localhost:8080/"
        },
        "id": "WRVDPSZu2ftJ",
        "outputId": "ff601273-4707-474b-f0a2-b381e8396293"
      },
      "execution_count": null,
      "outputs": [
        {
          "output_type": "stream",
          "name": "stdout",
          "text": [
            "1/1 [==============================] - 3s 3s/step\n"
          ]
        },
        {
          "output_type": "execute_result",
          "data": {
            "text/plain": [
              "array([[1.0602302e-03, 7.0440132e-05, 1.6126042e-03, 2.9580715e-05,\n",
              "        8.0971775e-04, 1.3724774e-04, 6.5107283e-04, 6.7809997e-05,\n",
              "        1.6768678e-03, 1.8288962e-04, 5.1410240e-04, 7.9268791e-02,\n",
              "        8.4602684e-01, 5.6763239e-02, 3.7857988e-03, 2.9939739e-03,\n",
              "        8.5641182e-04, 1.9991046e-03, 4.5100151e-04, 1.7333467e-04,\n",
              "        1.2608214e-04, 3.8419725e-04, 3.5883117e-04]], dtype=float32)"
            ]
          },
          "metadata": {},
          "execution_count": 41
        }
      ]
    },
    {
      "cell_type": "code",
      "source": [],
      "metadata": {
        "id": "RcJVvUqXDRpQ"
      },
      "execution_count": null,
      "outputs": []
    },
    {
      "cell_type": "code",
      "source": [
        "y_predict = np.argmax(classifier.predict(x_test), axis=-1)\n",
        "y_predict"
      ],
      "metadata": {
        "id": "bUQ3sgyZ2IKy"
      },
      "execution_count": null,
      "outputs": []
    },
    {
      "cell_type": "code",
      "source": [
        "#CONFUSIN MATRIX\n",
        "import matplotlib.pyplot as plt\n",
        "import numpy\n",
        "from sklearn import metrics"
      ],
      "metadata": {
        "id": "bzFp7pFBDWM4"
      },
      "execution_count": null,
      "outputs": []
    },
    {
      "cell_type": "code",
      "source": [
        "class_names = [\"cecum\", \"ileum\", \"retroflex_rectum\", \"hemorrhoids\", \"polyps\",\"ulcerative_colitis_grade_0_1\",\"ulcerative_colitis_grade_1\",\"ulcerative_colitis_grade_1_2\",\"ulcerative_colitis_grade_2\",\"ulcerative_colitis_grade_2_3\",\"ulcerative_colitis_grade_3\",\"bbps_0_1\" ,\"bbps_2_3\",\"impacted_stool\",\"dyed_lifted_polyps\",\"dyed_resection_margins\",\"pylorus\",\"retroflex_stomach\",\"z_line\",\"barretts\",\"barretts_short_segment\",\"esophagitis_a\" ,\"esophagitis_b_d\"]\n",
        "print(metrics.classification_report(y_test, y_predict, target_names=class_names))"
      ],
      "metadata": {
        "id": "BpH68J4oDY-v",
        "colab": {
          "base_uri": "https://localhost:8080/"
        },
        "outputId": "67feead7-5fc1-4428-b216-bc1607a90386"
      },
      "execution_count": null,
      "outputs": [
        {
          "output_type": "stream",
          "name": "stdout",
          "text": [
            "                              precision    recall  f1-score   support\n",
            "\n",
            "                       cecum       0.68      0.88      0.77       206\n",
            "                       ileum       0.00      0.00      0.00         1\n",
            "            retroflex_rectum       0.00      0.00      0.00        74\n",
            "                 hemorrhoids       0.00      0.00      0.00         1\n",
            "                      polyps       0.50      0.90      0.64       198\n",
            "ulcerative_colitis_grade_0_1       0.00      0.00      0.00         6\n",
            "  ulcerative_colitis_grade_1       0.00      0.00      0.00        41\n",
            "ulcerative_colitis_grade_1_2       0.00      0.00      0.00         2\n",
            "  ulcerative_colitis_grade_2       0.00      0.00      0.00        90\n",
            "ulcerative_colitis_grade_2_3       0.00      0.00      0.00         5\n",
            "  ulcerative_colitis_grade_3       0.00      0.00      0.00        18\n",
            "                    bbps_0_1       0.89      0.52      0.66       138\n",
            "                    bbps_2_3       0.77      0.98      0.86       237\n",
            "              impacted_stool       0.00      0.00      0.00        21\n",
            "          dyed_lifted_polyps       0.45      0.18      0.26       206\n",
            "      dyed_resection_margins       0.53      0.83      0.65       199\n",
            "                     pylorus       0.52      0.96      0.67       185\n",
            "           retroflex_stomach       0.67      0.21      0.32       159\n",
            "                      z_line       0.53      0.93      0.67       191\n",
            "                    barretts       0.00      0.00      0.00         7\n",
            "      barretts_short_segment       0.00      0.00      0.00        10\n",
            "               esophagitis_a       0.00      0.00      0.00        82\n",
            "             esophagitis_b_d       0.00      0.00      0.00        56\n",
            "\n",
            "                    accuracy                           0.59      2133\n",
            "                   macro avg       0.24      0.28      0.24      2133\n",
            "                weighted avg       0.49      0.59      0.50      2133\n",
            "\n"
          ]
        },
        {
          "output_type": "stream",
          "name": "stderr",
          "text": [
            "/usr/local/lib/python3.9/dist-packages/sklearn/metrics/_classification.py:1344: UndefinedMetricWarning: Precision and F-score are ill-defined and being set to 0.0 in labels with no predicted samples. Use `zero_division` parameter to control this behavior.\n",
            "  _warn_prf(average, modifier, msg_start, len(result))\n",
            "/usr/local/lib/python3.9/dist-packages/sklearn/metrics/_classification.py:1344: UndefinedMetricWarning: Precision and F-score are ill-defined and being set to 0.0 in labels with no predicted samples. Use `zero_division` parameter to control this behavior.\n",
            "  _warn_prf(average, modifier, msg_start, len(result))\n",
            "/usr/local/lib/python3.9/dist-packages/sklearn/metrics/_classification.py:1344: UndefinedMetricWarning: Precision and F-score are ill-defined and being set to 0.0 in labels with no predicted samples. Use `zero_division` parameter to control this behavior.\n",
            "  _warn_prf(average, modifier, msg_start, len(result))\n"
          ]
        }
      ]
    },
    {
      "cell_type": "code",
      "source": [
        "confusion_matrix = metrics.confusion_matrix(y_test, y_predict)\n",
        "\n",
        "cm_display = metrics.ConfusionMatrixDisplay(confusion_matrix = confusion_matrix,display_labels = class_names)\n",
        "\n",
        "plt.rcParams[\"figure.figsize\"] = [24,24]\n",
        "cm_display.plot(xticks_rotation = 'vertical')\n",
        "plt.show()"
      ],
      "metadata": {
        "id": "9Ge0kZ3SDZin",
        "colab": {
          "base_uri": "https://localhost:8080/",
          "height": 1000
        },
        "outputId": "935baf2e-b14d-4390-9145-cd33db6989a5"
      },
      "execution_count": null,
      "outputs": [
        {
          "output_type": "display_data",
          "data": {
            "text/plain": [
              "<Figure size 1728x1728 with 2 Axes>"
            ],
            "image/png": "[encoded data removed]"
          },
          "metadata": {
            "needs_background": "light"
          }
        }
      ]
    },
    {
      "cell_type": "code",
      "source": [
        "#check layers trainable\n",
        "for i, layer in enumerate(classifier.layers):\n",
        "    print(i, layer.name, layer.output_shape, layer.trainable)"
      ],
      "metadata": {
        "colab": {
          "base_uri": "https://localhost:8080/"
        },
        "id": "CsqiSD81LYa2",
        "outputId": "41420d8d-dc6b-4b6c-b84e-7648e9c9a56f"
      },
      "execution_count": null,
      "outputs": [
        {
          "output_type": "stream",
          "name": "stdout",
          "text": [
            "0 input_2 [(None, 224, 224, 3)] False\n",
            "1 rescaling_1 (None, 224, 224, 3) False\n",
            "2 normalization_1 (None, 224, 224, 3) False\n",
            "3 stem_conv_pad (None, 225, 225, 3) False\n",
            "4 stem_conv (None, 112, 112, 32) False\n",
            "5 stem_bn (None, 112, 112, 32) False\n",
            "6 stem_activation (None, 112, 112, 32) False\n",
            "7 block1a_dwconv (None, 112, 112, 32) False\n",
            "8 block1a_bn (None, 112, 112, 32) False\n",
            "9 block1a_activation (None, 112, 112, 32) False\n",
            "10 block1a_se_squeeze (None, 32) False\n",
            "11 block1a_se_reshape (None, 1, 1, 32) False\n",
            "12 block1a_se_reduce (None, 1, 1, 8) False\n",
            "13 block1a_se_expand (None, 1, 1, 32) False\n",
            "14 block1a_se_excite (None, 112, 112, 32) False\n",
            "15 block1a_project_conv (None, 112, 112, 16) False\n",
            "16 block1a_project_bn (None, 112, 112, 16) False\n",
            "17 block1b_dwconv (None, 112, 112, 16) False\n",
            "18 block1b_bn (None, 112, 112, 16) False\n",
            "19 block1b_activation (None, 112, 112, 16) False\n",
            "20 block1b_se_squeeze (None, 16) False\n",
            "21 block1b_se_reshape (None, 1, 1, 16) False\n",
            "22 block1b_se_reduce (None, 1, 1, 4) False\n",
            "23 block1b_se_expand (None, 1, 1, 16) False\n",
            "24 block1b_se_excite (None, 112, 112, 16) False\n",
            "25 block1b_project_conv (None, 112, 112, 16) False\n",
            "26 block1b_project_bn (None, 112, 112, 16) False\n",
            "27 block1b_drop (None, 112, 112, 16) False\n",
            "28 block1b_add (None, 112, 112, 16) False\n",
            "29 block2a_expand_conv (None, 112, 112, 96) False\n",
            "30 block2a_expand_bn (None, 112, 112, 96) False\n",
            "31 block2a_expand_activation (None, 112, 112, 96) False\n",
            "32 block2a_dwconv_pad (None, 113, 113, 96) False\n",
            "33 block2a_dwconv (None, 56, 56, 96) False\n",
            "34 block2a_bn (None, 56, 56, 96) False\n",
            "35 block2a_activation (None, 56, 56, 96) False\n",
            "36 block2a_se_squeeze (None, 96) False\n",
            "37 block2a_se_reshape (None, 1, 1, 96) False\n",
            "38 block2a_se_reduce (None, 1, 1, 4) False\n",
            "39 block2a_se_expand (None, 1, 1, 96) False\n",
            "40 block2a_se_excite (None, 56, 56, 96) False\n",
            "41 block2a_project_conv (None, 56, 56, 24) False\n",
            "42 block2a_project_bn (None, 56, 56, 24) False\n",
            "43 block2b_expand_conv (None, 56, 56, 144) False\n",
            "44 block2b_expand_bn (None, 56, 56, 144) False\n",
            "45 block2b_expand_activation (None, 56, 56, 144) False\n",
            "46 block2b_dwconv (None, 56, 56, 144) False\n",
            "47 block2b_bn (None, 56, 56, 144) False\n",
            "48 block2b_activation (None, 56, 56, 144) False\n",
            "49 block2b_se_squeeze (None, 144) False\n",
            "50 block2b_se_reshape (None, 1, 1, 144) False\n",
            "51 block2b_se_reduce (None, 1, 1, 6) False\n",
            "52 block2b_se_expand (None, 1, 1, 144) False\n",
            "53 block2b_se_excite (None, 56, 56, 144) False\n",
            "54 block2b_project_conv (None, 56, 56, 24) False\n",
            "55 block2b_project_bn (None, 56, 56, 24) False\n",
            "56 block2b_drop (None, 56, 56, 24) False\n",
            "57 block2b_add (None, 56, 56, 24) False\n",
            "58 block2c_expand_conv (None, 56, 56, 144) False\n",
            "59 block2c_expand_bn (None, 56, 56, 144) False\n",
            "60 block2c_expand_activation (None, 56, 56, 144) False\n",
            "61 block2c_dwconv (None, 56, 56, 144) False\n",
            "62 block2c_bn (None, 56, 56, 144) False\n",
            "63 block2c_activation (None, 56, 56, 144) False\n",
            "64 block2c_se_squeeze (None, 144) False\n",
            "65 block2c_se_reshape (None, 1, 1, 144) False\n",
            "66 block2c_se_reduce (None, 1, 1, 6) False\n",
            "67 block2c_se_expand (None, 1, 1, 144) False\n",
            "68 block2c_se_excite (None, 56, 56, 144) False\n",
            "69 block2c_project_conv (None, 56, 56, 24) False\n",
            "70 block2c_project_bn (None, 56, 56, 24) False\n",
            "71 block2c_drop (None, 56, 56, 24) False\n",
            "72 block2c_add (None, 56, 56, 24) False\n",
            "73 block3a_expand_conv (None, 56, 56, 144) False\n",
            "74 block3a_expand_bn (None, 56, 56, 144) False\n",
            "75 block3a_expand_activation (None, 56, 56, 144) False\n",
            "76 block3a_dwconv_pad (None, 59, 59, 144) False\n",
            "77 block3a_dwconv (None, 28, 28, 144) False\n",
            "78 block3a_bn (None, 28, 28, 144) False\n",
            "79 block3a_activation (None, 28, 28, 144) False\n",
            "80 block3a_se_squeeze (None, 144) False\n",
            "81 block3a_se_reshape (None, 1, 1, 144) False\n",
            "82 block3a_se_reduce (None, 1, 1, 6) False\n",
            "83 block3a_se_expand (None, 1, 1, 144) False\n",
            "84 block3a_se_excite (None, 28, 28, 144) False\n",
            "85 block3a_project_conv (None, 28, 28, 48) False\n",
            "86 block3a_project_bn (None, 28, 28, 48) False\n",
            "87 block3b_expand_conv (None, 28, 28, 288) False\n",
            "88 block3b_expand_bn (None, 28, 28, 288) False\n",
            "89 block3b_expand_activation (None, 28, 28, 288) False\n",
            "90 block3b_dwconv (None, 28, 28, 288) False\n",
            "91 block3b_bn (None, 28, 28, 288) False\n",
            "92 block3b_activation (None, 28, 28, 288) False\n",
            "93 block3b_se_squeeze (None, 288) False\n",
            "94 block3b_se_reshape (None, 1, 1, 288) False\n",
            "95 block3b_se_reduce (None, 1, 1, 12) False\n",
            "96 block3b_se_expand (None, 1, 1, 288) False\n",
            "97 block3b_se_excite (None, 28, 28, 288) False\n",
            "98 block3b_project_conv (None, 28, 28, 48) False\n",
            "99 block3b_project_bn (None, 28, 28, 48) False\n",
            "100 block3b_drop (None, 28, 28, 48) False\n",
            "101 block3b_add (None, 28, 28, 48) False\n",
            "102 block3c_expand_conv (None, 28, 28, 288) False\n",
            "103 block3c_expand_bn (None, 28, 28, 288) False\n",
            "104 block3c_expand_activation (None, 28, 28, 288) False\n",
            "105 block3c_dwconv (None, 28, 28, 288) False\n",
            "106 block3c_bn (None, 28, 28, 288) False\n",
            "107 block3c_activation (None, 28, 28, 288) False\n",
            "108 block3c_se_squeeze (None, 288) False\n",
            "109 block3c_se_reshape (None, 1, 1, 288) False\n",
            "110 block3c_se_reduce (None, 1, 1, 12) False\n",
            "111 block3c_se_expand (None, 1, 1, 288) False\n",
            "112 block3c_se_excite (None, 28, 28, 288) False\n",
            "113 block3c_project_conv (None, 28, 28, 48) False\n",
            "114 block3c_project_bn (None, 28, 28, 48) False\n",
            "115 block3c_drop (None, 28, 28, 48) False\n",
            "116 block3c_add (None, 28, 28, 48) False\n",
            "117 block4a_expand_conv (None, 28, 28, 288) False\n",
            "118 block4a_expand_bn (None, 28, 28, 288) False\n",
            "119 block4a_expand_activation (None, 28, 28, 288) False\n",
            "120 block4a_dwconv_pad (None, 29, 29, 288) False\n",
            "121 block4a_dwconv (None, 14, 14, 288) False\n",
            "122 block4a_bn (None, 14, 14, 288) False\n",
            "123 block4a_activation (None, 14, 14, 288) False\n",
            "124 block4a_se_squeeze (None, 288) False\n",
            "125 block4a_se_reshape (None, 1, 1, 288) False\n",
            "126 block4a_se_reduce (None, 1, 1, 12) False\n",
            "127 block4a_se_expand (None, 1, 1, 288) False\n",
            "128 block4a_se_excite (None, 14, 14, 288) False\n",
            "129 block4a_project_conv (None, 14, 14, 88) False\n",
            "130 block4a_project_bn (None, 14, 14, 88) False\n",
            "131 block4b_expand_conv (None, 14, 14, 528) False\n",
            "132 block4b_expand_bn (None, 14, 14, 528) False\n",
            "133 block4b_expand_activation (None, 14, 14, 528) False\n",
            "134 block4b_dwconv (None, 14, 14, 528) False\n",
            "135 block4b_bn (None, 14, 14, 528) False\n",
            "136 block4b_activation (None, 14, 14, 528) False\n",
            "137 block4b_se_squeeze (None, 528) False\n",
            "138 block4b_se_reshape (None, 1, 1, 528) False\n",
            "139 block4b_se_reduce (None, 1, 1, 22) False\n",
            "140 block4b_se_expand (None, 1, 1, 528) False\n",
            "141 block4b_se_excite (None, 14, 14, 528) False\n",
            "142 block4b_project_conv (None, 14, 14, 88) False\n",
            "143 block4b_project_bn (None, 14, 14, 88) False\n",
            "144 block4b_drop (None, 14, 14, 88) False\n",
            "145 block4b_add (None, 14, 14, 88) False\n",
            "146 block4c_expand_conv (None, 14, 14, 528) False\n",
            "147 block4c_expand_bn (None, 14, 14, 528) False\n",
            "148 block4c_expand_activation (None, 14, 14, 528) False\n",
            "149 block4c_dwconv (None, 14, 14, 528) False\n",
            "150 block4c_bn (None, 14, 14, 528) False\n",
            "151 block4c_activation (None, 14, 14, 528) False\n",
            "152 block4c_se_squeeze (None, 528) False\n",
            "153 block4c_se_reshape (None, 1, 1, 528) False\n",
            "154 block4c_se_reduce (None, 1, 1, 22) False\n",
            "155 block4c_se_expand (None, 1, 1, 528) False\n",
            "156 block4c_se_excite (None, 14, 14, 528) False\n",
            "157 block4c_project_conv (None, 14, 14, 88) False\n",
            "158 block4c_project_bn (None, 14, 14, 88) False\n",
            "159 block4c_drop (None, 14, 14, 88) False\n",
            "160 block4c_add (None, 14, 14, 88) False\n",
            "161 block4d_expand_conv (None, 14, 14, 528) False\n",
            "162 block4d_expand_bn (None, 14, 14, 528) False\n",
            "163 block4d_expand_activation (None, 14, 14, 528) False\n",
            "164 block4d_dwconv (None, 14, 14, 528) False\n",
            "165 block4d_bn (None, 14, 14, 528) False\n",
            "166 block4d_activation (None, 14, 14, 528) False\n",
            "167 block4d_se_squeeze (None, 528) False\n",
            "168 block4d_se_reshape (None, 1, 1, 528) False\n",
            "169 block4d_se_reduce (None, 1, 1, 22) False\n",
            "170 block4d_se_expand (None, 1, 1, 528) False\n",
            "171 block4d_se_excite (None, 14, 14, 528) False\n",
            "172 block4d_project_conv (None, 14, 14, 88) False\n",
            "173 block4d_project_bn (None, 14, 14, 88) False\n",
            "174 block4d_drop (None, 14, 14, 88) False\n",
            "175 block4d_add (None, 14, 14, 88) False\n",
            "176 block5a_expand_conv (None, 14, 14, 528) False\n",
            "177 block5a_expand_bn (None, 14, 14, 528) False\n",
            "178 block5a_expand_activation (None, 14, 14, 528) False\n",
            "179 block5a_dwconv (None, 14, 14, 528) False\n",
            "180 block5a_bn (None, 14, 14, 528) False\n",
            "181 block5a_activation (None, 14, 14, 528) False\n",
            "182 block5a_se_squeeze (None, 528) False\n",
            "183 block5a_se_reshape (None, 1, 1, 528) False\n",
            "184 block5a_se_reduce (None, 1, 1, 22) False\n",
            "185 block5a_se_expand (None, 1, 1, 528) False\n",
            "186 block5a_se_excite (None, 14, 14, 528) False\n",
            "187 block5a_project_conv (None, 14, 14, 120) False\n",
            "188 block5a_project_bn (None, 14, 14, 120) False\n",
            "189 block5b_expand_conv (None, 14, 14, 720) False\n",
            "190 block5b_expand_bn (None, 14, 14, 720) False\n",
            "191 block5b_expand_activation (None, 14, 14, 720) False\n",
            "192 block5b_dwconv (None, 14, 14, 720) False\n",
            "193 block5b_bn (None, 14, 14, 720) False\n",
            "194 block5b_activation (None, 14, 14, 720) False\n",
            "195 block5b_se_squeeze (None, 720) False\n",
            "196 block5b_se_reshape (None, 1, 1, 720) False\n",
            "197 block5b_se_reduce (None, 1, 1, 30) False\n",
            "198 block5b_se_expand (None, 1, 1, 720) False\n",
            "199 block5b_se_excite (None, 14, 14, 720) False\n",
            "200 block5b_project_conv (None, 14, 14, 120) False\n",
            "201 block5b_project_bn (None, 14, 14, 120) False\n",
            "202 block5b_drop (None, 14, 14, 120) False\n",
            "203 block5b_add (None, 14, 14, 120) False\n",
            "204 block5c_expand_conv (None, 14, 14, 720) False\n",
            "205 block5c_expand_bn (None, 14, 14, 720) False\n",
            "206 block5c_expand_activation (None, 14, 14, 720) False\n",
            "207 block5c_dwconv (None, 14, 14, 720) False\n",
            "208 block5c_bn (None, 14, 14, 720) False\n",
            "209 block5c_activation (None, 14, 14, 720) False\n",
            "210 block5c_se_squeeze (None, 720) False\n",
            "211 block5c_se_reshape (None, 1, 1, 720) False\n",
            "212 block5c_se_reduce (None, 1, 1, 30) False\n",
            "213 block5c_se_expand (None, 1, 1, 720) False\n",
            "214 block5c_se_excite (None, 14, 14, 720) False\n",
            "215 block5c_project_conv (None, 14, 14, 120) False\n",
            "216 block5c_project_bn (None, 14, 14, 120) False\n",
            "217 block5c_drop (None, 14, 14, 120) False\n",
            "218 block5c_add (None, 14, 14, 120) False\n",
            "219 block5d_expand_conv (None, 14, 14, 720) False\n",
            "220 block5d_expand_bn (None, 14, 14, 720) False\n",
            "221 block5d_expand_activation (None, 14, 14, 720) False\n",
            "222 block5d_dwconv (None, 14, 14, 720) False\n",
            "223 block5d_bn (None, 14, 14, 720) False\n",
            "224 block5d_activation (None, 14, 14, 720) False\n",
            "225 block5d_se_squeeze (None, 720) False\n",
            "226 block5d_se_reshape (None, 1, 1, 720) False\n",
            "227 block5d_se_reduce (None, 1, 1, 30) False\n",
            "228 block5d_se_expand (None, 1, 1, 720) False\n",
            "229 block5d_se_excite (None, 14, 14, 720) False\n",
            "230 block5d_project_conv (None, 14, 14, 120) False\n",
            "231 block5d_project_bn (None, 14, 14, 120) False\n",
            "232 block5d_drop (None, 14, 14, 120) False\n",
            "233 block5d_add (None, 14, 14, 120) False\n",
            "234 block6a_expand_conv (None, 14, 14, 720) False\n",
            "235 block6a_expand_bn (None, 14, 14, 720) False\n",
            "236 block6a_expand_activation (None, 14, 14, 720) False\n",
            "237 block6a_dwconv_pad (None, 17, 17, 720) False\n",
            "238 block6a_dwconv (None, 7, 7, 720) False\n",
            "239 block6a_bn (None, 7, 7, 720) False\n",
            "240 block6a_activation (None, 7, 7, 720) False\n",
            "241 block6a_se_squeeze (None, 720) False\n",
            "242 block6a_se_reshape (None, 1, 1, 720) False\n",
            "243 block6a_se_reduce (None, 1, 1, 30) False\n",
            "244 block6a_se_expand (None, 1, 1, 720) False\n",
            "245 block6a_se_excite (None, 7, 7, 720) False\n",
            "246 block6a_project_conv (None, 7, 7, 208) False\n",
            "247 block6a_project_bn (None, 7, 7, 208) False\n",
            "248 block6b_expand_conv (None, 7, 7, 1248) False\n",
            "249 block6b_expand_bn (None, 7, 7, 1248) False\n",
            "250 block6b_expand_activation (None, 7, 7, 1248) False\n",
            "251 block6b_dwconv (None, 7, 7, 1248) False\n",
            "252 block6b_bn (None, 7, 7, 1248) False\n",
            "253 block6b_activation (None, 7, 7, 1248) False\n",
            "254 block6b_se_squeeze (None, 1248) False\n",
            "255 block6b_se_reshape (None, 1, 1, 1248) False\n",
            "256 block6b_se_reduce (None, 1, 1, 52) False\n",
            "257 block6b_se_expand (None, 1, 1, 1248) False\n",
            "258 block6b_se_excite (None, 7, 7, 1248) False\n",
            "259 block6b_project_conv (None, 7, 7, 208) False\n",
            "260 block6b_project_bn (None, 7, 7, 208) False\n",
            "261 block6b_drop (None, 7, 7, 208) False\n",
            "262 block6b_add (None, 7, 7, 208) False\n",
            "263 block6c_expand_conv (None, 7, 7, 1248) False\n",
            "264 block6c_expand_bn (None, 7, 7, 1248) False\n",
            "265 block6c_expand_activation (None, 7, 7, 1248) False\n",
            "266 block6c_dwconv (None, 7, 7, 1248) False\n",
            "267 block6c_bn (None, 7, 7, 1248) False\n",
            "268 block6c_activation (None, 7, 7, 1248) False\n",
            "269 block6c_se_squeeze (None, 1248) False\n",
            "270 block6c_se_reshape (None, 1, 1, 1248) False\n",
            "271 block6c_se_reduce (None, 1, 1, 52) False\n",
            "272 block6c_se_expand (None, 1, 1, 1248) False\n",
            "273 block6c_se_excite (None, 7, 7, 1248) False\n",
            "274 block6c_project_conv (None, 7, 7, 208) False\n",
            "275 block6c_project_bn (None, 7, 7, 208) False\n",
            "276 block6c_drop (None, 7, 7, 208) False\n",
            "277 block6c_add (None, 7, 7, 208) False\n",
            "278 block6d_expand_conv (None, 7, 7, 1248) False\n",
            "279 block6d_expand_bn (None, 7, 7, 1248) False\n",
            "280 block6d_expand_activation (None, 7, 7, 1248) False\n",
            "281 block6d_dwconv (None, 7, 7, 1248) False\n",
            "282 block6d_bn (None, 7, 7, 1248) False\n",
            "283 block6d_activation (None, 7, 7, 1248) False\n",
            "284 block6d_se_squeeze (None, 1248) False\n",
            "285 block6d_se_reshape (None, 1, 1, 1248) False\n",
            "286 block6d_se_reduce (None, 1, 1, 52) False\n",
            "287 block6d_se_expand (None, 1, 1, 1248) False\n",
            "288 block6d_se_excite (None, 7, 7, 1248) False\n",
            "289 block6d_project_conv (None, 7, 7, 208) False\n",
            "290 block6d_project_bn (None, 7, 7, 208) False\n",
            "291 block6d_drop (None, 7, 7, 208) False\n",
            "292 block6d_add (None, 7, 7, 208) False\n",
            "293 block6e_expand_conv (None, 7, 7, 1248) False\n",
            "294 block6e_expand_bn (None, 7, 7, 1248) False\n",
            "295 block6e_expand_activation (None, 7, 7, 1248) False\n",
            "296 block6e_dwconv (None, 7, 7, 1248) False\n",
            "297 block6e_bn (None, 7, 7, 1248) False\n",
            "298 block6e_activation (None, 7, 7, 1248) False\n",
            "299 block6e_se_squeeze (None, 1248) False\n",
            "300 block6e_se_reshape (None, 1, 1, 1248) False\n",
            "301 block6e_se_reduce (None, 1, 1, 52) False\n",
            "302 block6e_se_expand (None, 1, 1, 1248) False\n",
            "303 block6e_se_excite (None, 7, 7, 1248) False\n",
            "304 block6e_project_conv (None, 7, 7, 208) False\n",
            "305 block6e_project_bn (None, 7, 7, 208) False\n",
            "306 block6e_drop (None, 7, 7, 208) False\n",
            "307 block6e_add (None, 7, 7, 208) False\n",
            "308 block7a_expand_conv (None, 7, 7, 1248) False\n",
            "309 block7a_expand_bn (None, 7, 7, 1248) False\n",
            "310 block7a_expand_activation (None, 7, 7, 1248) False\n",
            "311 block7a_dwconv (None, 7, 7, 1248) False\n",
            "312 block7a_bn (None, 7, 7, 1248) False\n",
            "313 block7a_activation (None, 7, 7, 1248) False\n",
            "314 block7a_se_squeeze (None, 1248) False\n",
            "315 block7a_se_reshape (None, 1, 1, 1248) False\n",
            "316 block7a_se_reduce (None, 1, 1, 52) False\n",
            "317 block7a_se_expand (None, 1, 1, 1248) False\n",
            "318 block7a_se_excite (None, 7, 7, 1248) False\n",
            "319 block7a_project_conv (None, 7, 7, 352) False\n",
            "320 block7a_project_bn (None, 7, 7, 352) False\n",
            "321 block7b_expand_conv (None, 7, 7, 2112) False\n",
            "322 block7b_expand_bn (None, 7, 7, 2112) False\n",
            "323 block7b_expand_activation (None, 7, 7, 2112) False\n",
            "324 block7b_dwconv (None, 7, 7, 2112) False\n",
            "325 block7b_bn (None, 7, 7, 2112) False\n",
            "326 block7b_activation (None, 7, 7, 2112) False\n",
            "327 block7b_se_squeeze (None, 2112) False\n",
            "328 block7b_se_reshape (None, 1, 1, 2112) False\n",
            "329 block7b_se_reduce (None, 1, 1, 88) False\n",
            "330 block7b_se_expand (None, 1, 1, 2112) False\n",
            "331 block7b_se_excite (None, 7, 7, 2112) False\n",
            "332 block7b_project_conv (None, 7, 7, 352) False\n",
            "333 block7b_project_bn (None, 7, 7, 352) False\n",
            "334 block7b_drop (None, 7, 7, 352) False\n",
            "335 block7b_add (None, 7, 7, 352) False\n",
            "336 top_conv (None, 7, 7, 1408) False\n",
            "337 top_bn (None, 7, 7, 1408) False\n",
            "338 top_activation (None, 7, 7, 1408) False\n",
            "339 global_average_pooling2d_1 (None, 1408) False\n",
            "340 dense_3 (None, 512) False\n",
            "341 activation_2 (None, 512) False\n",
            "342 dense_4 (None, 256) False\n",
            "343 activation_3 (None, 256) False\n",
            "344 dense_5 (None, 128) False\n",
            "345 unit_norm_layer_1 (None, 128) False\n",
            "346 dropout (None, 128) True\n",
            "347 dense_6 (None, 64) True\n",
            "348 dropout_1 (None, 64) True\n",
            "349 dense_7 (None, 23) True\n"
          ]
        }
      ]
    },
    {
      "cell_type": "markdown",
      "metadata": {
        "id": "iAISUwZ7oH6U"
      },
      "source": [
        "#XAI"
      ]
    },
    {
      "cell_type": "code",
      "source": [
        "##check if any error occurs here, if occurs, most likely graph not connected\n",
        "def flatten_model(model):\n",
        "    if not any(hasattr(layer, 'layers') for layer in model.layers):\n",
        "        return model  # No sub-model defined within this model\n",
        "    inputs = None\n",
        "    outputs = None\n",
        "    for layer in model.layers:\n",
        "        if inputs is None:\n",
        "            inputs = layer.input\n",
        "        if hasattr(layer, 'layers'):\n",
        "            submodel = layer\n",
        "            last_layer = submodel.layers[-1]\n",
        "            outputs = submodel.output\n",
        "\n",
        "        if outputs is None:\n",
        "            outputs = layer\n",
        "        else:\n",
        "            outputs = layer(outputs)\n",
        "    return keras.Model(inputs=inputs, outputs=outputs)\n",
        "\n",
        "flat_model = flatten_model(classifier)"
      ],
      "metadata": {
        "id": "On8VGycJ3B69"
      },
      "execution_count": null,
      "outputs": []
    },
    {
      "cell_type": "code",
      "source": [
        "from tf_keras_vis.utils.model_modifiers import ReplaceToLinear\n",
        "from tf_keras_vis.utils.scores import CategoricalScore\n",
        "\n",
        "replace2linear = ReplaceToLinear()\n",
        "X = tf.convert_to_tensor(x_test[50], dtype=tf.float32)    ##need to convert the input data to tensor\n",
        "y = y_test[50].item()   ##just a single integer value, no numpy array\n",
        "score = CategoricalScore(y)"
      ],
      "metadata": {
        "id": "p-Bf-T_iowWW"
      },
      "execution_count": null,
      "outputs": []
    },
    {
      "cell_type": "code",
      "source": [
        "image_titles = ['Image']\n",
        "from matplotlib import cm"
      ],
      "metadata": {
        "id": "q2cn3-quDgE5"
      },
      "execution_count": null,
      "outputs": []
    },
    {
      "cell_type": "code",
      "source": [
        "from tf_keras_vis.gradcam import Gradcam\n",
        "\n",
        "gradcam = Gradcam(classifier,\n",
        "                  model_modifier=replace2linear,\n",
        "                  clone=False)\n",
        "\n",
        "grad_cam = gradcam(score, X, penultimate_layer=-1)\n",
        "f, ax = plt.subplots(nrows=1, ncols=3, figsize=(12, 4))\n",
        "for i, title in enumerate(image_titles):\n",
        "    heatmap1 = np.uint8(cm.jet(grad_cam[i])[..., :3] * 255)\n",
        "    ax[i].set_title(title, fontsize=16)\n",
        "    ax[i].imshow(x_test[50])\n",
        "    ax[i].imshow(heatmap1, cmap='jet', alpha=0.5) # overlay\n",
        "    ax[i].axis('off')\n",
        "plt.tight_layout()\n",
        "plt.show()"
      ],
      "metadata": {
        "id": "SIUpp5bbowbG",
        "colab": {
          "base_uri": "https://localhost:8080/",
          "height": 308
        },
        "outputId": "dee0cf97-b563-4bdb-9d03-00e1590a6991"
      },
      "execution_count": null,
      "outputs": [
        {
          "output_type": "display_data",
          "data": {
            "text/plain": [
              "<Figure size 864x288 with 3 Axes>"
            ],
            "image/png": "[encoded data removed]"
          },
          "metadata": {
            "needs_background": "light"
          }
        }
      ]
    },
    {
      "cell_type": "code",
      "source": [
        "from tf_keras_vis.gradcam_plus_plus import GradcamPlusPlus\n",
        "\n",
        "# Create GradCAM++ object\n",
        "gradcam = GradcamPlusPlus(classifier, model_modifier=replace2linear,clone=False)\n",
        "\n",
        "# Generate heatmap with GradCAM++\n",
        "grad_cam = gradcam(score, X, penultimate_layer=-1)\n",
        "# Render\n",
        "#for i, title in enumerate(image_titles):\n",
        "#    heatmap2 = np.uint8(cm.jet(grad_cam[i])[..., :3] * 255)\n",
        "f, ax = plt.subplots(nrows=1, ncols=3, figsize=(12, 4))\n",
        "for i, title in enumerate(image_titles):\n",
        "    heatmap2 = np.uint8(cm.jet(grad_cam[i])[..., :3] * 255)\n",
        "    ax[i].set_title(title, fontsize=16)\n",
        "    ax[i].imshow(x_test[50])\n",
        "    ax[i].imshow(heatmap2, cmap='jet', alpha=0.5) # overlay\n",
        "    ax[i].axis('off')\n",
        "plt.tight_layout()\n",
        "plt.show()"
      ],
      "metadata": {
        "colab": {
          "base_uri": "https://localhost:8080/",
          "height": 308
        },
        "id": "ltloxNTNaAo5",
        "outputId": "62e12877-4bfd-484e-88c9-7abbcbd6992d"
      },
      "execution_count": null,
      "outputs": [
        {
          "output_type": "display_data",
          "data": {
            "text/plain": [
              "<Figure size 864x288 with 3 Axes>"
            ],
            "image/png": "[encoded data removed]"
          },
          "metadata": {
            "needs_background": "light"
          }
        }
      ]
    },
    {
      "cell_type": "code",
      "source": [],
      "metadata": {
        "id": "9ahVUZFRDe__"
      },
      "execution_count": null,
      "outputs": []
    },
    {
      "cell_type": "code",
      "source": [
        "from tf_keras_vis.scorecam import Scorecam\n",
        "from tf_keras_vis.utils import num_of_gpus\n",
        "\n",
        "# Create ScoreCAM object\n",
        "scorecam = Scorecam(classifier)\n",
        "\n",
        "# Generate heatmap with ScoreCAM\n",
        "grad_cam = scorecam(score, X, penultimate_layer=-1, max_N=-1)\n",
        "\n",
        "# Render\n",
        "f, ax = plt.subplots(nrows=1, ncols=3, figsize=(12, 4))\n",
        "for i, title in enumerate(image_titles):\n",
        "    heatmap3 = np.uint8(cm.jet(grad_cam[i])[..., :3] * 255)\n",
        "    ax[i].set_title(title, fontsize=16)\n",
        "    ax[i].imshow(x_test[50])\n",
        "    ax[i].imshow(heatmap3, cmap='jet', alpha=0.5) # overlay\n",
        "    ax[i].axis('off')\n",
        "plt.tight_layout()\n",
        "plt.show()"
      ],
      "metadata": {
        "id": "oQ7jOaRJtMxM"
      },
      "execution_count": null,
      "outputs": []
    },
    {
      "cell_type": "code",
      "source": [
        "# Create ScoreCAM object\n",
        "scorecam = Scorecam(classifier)\n",
        "\n",
        "# Generate heatmap with Faster-ScoreCAM\n",
        "grad_cam = scorecam(score,X,penultimate_layer=-1,max_N=10)\n",
        "\n",
        "# Render\n",
        "f, ax = plt.subplots(nrows=1, ncols=3, figsize=(12, 4))\n",
        "for i, title in enumerate(image_titles):\n",
        "    heatmap4 = np.uint8(cm.jet(grad_cam[i])[..., :3] * 255)\n",
        "    ax[i].set_title(title, fontsize=16)\n",
        "    ax[i].imshow(x_test[50])\n",
        "    ax[i].imshow(heatmap4, cmap='jet', alpha=0.5) # overlay\n",
        "    ax[i].axis('off')\n",
        "plt.tight_layout()\n",
        "plt.show()"
      ],
      "metadata": {
        "id": "W_hLSoRotQw_"
      },
      "execution_count": null,
      "outputs": []
    },
    {
      "cell_type": "code",
      "source": [
        "from tf_keras_vis.layercam import Layercam\n",
        "\n",
        "layercam = Layercam(classifier, model_modifier=replace2linear,clone = False)\n",
        "\n",
        "# Generate heatmap with Faster-ScoreCAM\n",
        "grad_cam = layercam(score,X,penultimate_layer=-1)\n",
        "\n",
        "# Render\n",
        "f, ax = plt.subplots(nrows=1, ncols=3, figsize=(12, 4))\n",
        "for i, title in enumerate(image_titles):\n",
        "    heatmap5 = np.uint8(cm.jet(grad_cam[i])[..., :3] * 255)\n",
        "    ax[i].set_title(title, fontsize=16)\n",
        "    ax[i].imshow(x_test[50])\n",
        "    ax[i].imshow(heatmap5, cmap='jet', alpha=0.5) # overlay\n",
        "    ax[i].axis('off')\n",
        "plt.tight_layout()\n",
        "plt.show()"
      ],
      "metadata": {
        "id": "xiJAdOSDtVBw"
      },
      "execution_count": null,
      "outputs": []
    },
    {
      "cell_type": "code",
      "source": [
        "from tf_keras_vis.saliency import Saliency\n",
        "\n",
        "saliency = Saliency(classifier, model_modifier=replace2linear,clone=False)\n",
        "\n",
        "# Generate saliency map\n",
        "saliency_map_van = saliency(score, X)\n",
        "f, ax = plt.subplots(nrows=1, ncols=3, figsize=(12, 4))\n",
        "for i, title in enumerate(image_titles):\n",
        "    heatmap6 = np.uint8(cm.jet(saliency_map_van[i])[..., :3] * 255)\n",
        "    ax[i].set_title(title, fontsize=16)\n",
        "    ax[i].imshow(x_test[50])\n",
        "    ax[i].imshow(heatmap6, cmap='jet', alpha=0.5) # overlay\n",
        "    ax[i].axis('off')\n",
        "plt.tight_layout()\n",
        "plt.show()"
      ],
      "metadata": {
        "id": "M9RO-GpTtnNj"
      },
      "execution_count": null,
      "outputs": []
    },
    {
      "cell_type": "code",
      "source": [
        "# Generate saliency map with smoothing that reduce noise by adding noise\n",
        "saliency_map_smooth = saliency(score,X,\n",
        "                        smooth_samples=20, # The number of calculating gradients iterations.\n",
        "                        smooth_noise=0.20) # noise spread level.\n",
        "f, ax = plt.subplots(nrows=1, ncols=3, figsize=(12, 4))\n",
        "for i, title in enumerate(image_titles):\n",
        "    heatmap7 = np.uint8(cm.jet(saliency_map_smooth[i])[..., :3] * 255)\n",
        "    ax[i].set_title(title, fontsize=16)\n",
        "    ax[i].imshow(x_test[50])\n",
        "    ax[i].imshow(heatmap7, cmap='jet', alpha=0.5) # overlay\n",
        "    ax[i].axis('off')\n",
        "plt.tight_layout()\n",
        "plt.show()"
      ],
      "metadata": {
        "id": "J20X_t_Ctp5a"
      },
      "execution_count": null,
      "outputs": []
    },
    {
      "cell_type": "code",
      "source": [
        "# Render\n",
        "f, ax = plt.subplots(nrows=2, ncols=4, figsize=(24, 12))\n",
        "\n",
        "ax[0][0].set_title(\"Original\", fontsize=12)\n",
        "ax[0][0].imshow(x_test[50])\n",
        "ax[0][0].axis('off')\n",
        "\n",
        "ax[0][1].set_title(\"GradCAM\", fontsize=12)\n",
        "ax[0][1].imshow(x_test[50])\n",
        "ax[0][1].imshow(heatmap1, cmap='jet', alpha=0.5)\n",
        "ax[0][1].axis('off')\n",
        "\n",
        "ax[0][2].set_title(\"GradCAM++\", fontsize=12)\n",
        "ax[0][2].imshow(x_test[50])\n",
        "ax[0][2].imshow(heatmap2, cmap='jet', alpha=0.5)\n",
        "ax[0][2].axis('off')\n",
        "\n",
        "ax[0][3].set_title(\"ScoreCAM\", fontsize=12)\n",
        "ax[0][3].imshow(x_test[50])\n",
        "ax[0][3].imshow(heatmap3, cmap='jet', alpha=0.5)\n",
        "ax[0][3].axis('off')\n",
        "\n",
        "ax[1][0].set_title(\"ScoreCAM++\", fontsize=12)\n",
        "ax[1][0].imshow(x_test[50])\n",
        "ax[1][0].imshow(heatmap4, cmap='jet', alpha=0.5)\n",
        "ax[1][0].axis('off')\n",
        "\n",
        "ax[1][1].set_title(\"LayerCAM\", fontsize=12)\n",
        "ax[1][1].imshow(x_test[50])\n",
        "ax[1][1].imshow(heatmap5, cmap='jet', alpha=0.5)\n",
        "ax[1][1].axis('off')\n",
        "\n",
        "ax[1][2].set_title(\"Vanilla Saliency\", fontsize=12)\n",
        "ax[1][2].imshow(saliency_map_van[0], cmap='jet')\n",
        "ax[1][2].axis('off')\n",
        "\n",
        "ax[1][3].set_title(\"Smooth Grad\", fontsize=12)\n",
        "ax[1][3].imshow(saliency_map_smooth[0], cmap='jet')\n",
        "ax[1][3].axis('off')\n",
        "\n",
        "plt.show()"
      ],
      "metadata": {
        "id": "Y8GYTe2VtsY3"
      },
      "execution_count": null,
      "outputs": []
    }
  ],
  "metadata": {
    "accelerator": "GPU",
    "colab": {
      "provenance": []
    },
    "kernelspec": {
      "display_name": "Python 3",
      "language": "python",
      "name": "python3"
    },
    "language_info": {
      "codemirror_mode": {
        "name": "ipython",
        "version": 3
      },
      "file_extension": ".py",
      "mimetype": "text/x-python",
      "name": "python",
      "nbconvert_exporter": "python",
      "pygments_lexer": "ipython3",
      "version": "3.7.0"
    },
    "gpuClass": "standard"
  },
  "nbformat": 4,
  "nbformat_minor": 0
}